{
 "cells": [
  {
   "cell_type": "code",
   "execution_count": 47,
   "id": "6a3900ec-9525-487f-9cb3-e3f2e7b33070",
   "metadata": {},
   "outputs": [],
   "source": [
    "import pandas as pd\n",
    "import numpy as np\n",
    "from sklearn.impute import SimpleImputer\n",
    "from sklearn.preprocessing import StandardScaler\n",
    "from sklearn.decomposition import PCA\n",
    "from sklearn.cluster import KMeans\n",
    "import matplotlib.pyplot as plt\n",
    "import seaborn as sns"
   ]
  },
  {
   "cell_type": "code",
   "execution_count": 48,
   "id": "20c6eb21-724d-4294-add2-4e513c941087",
   "metadata": {},
   "outputs": [],
   "source": [
    "file_path = 'C:/Users/Katerina/Team2 Project/Team-2-Project/data/df_cleaned.csv'\n",
    "df = pd.read_csv(file_path)"
   ]
  },
  {
   "cell_type": "code",
   "execution_count": 49,
   "id": "d24422ee-3937-4c2c-a175-a680cb48698f",
   "metadata": {},
   "outputs": [
    {
     "data": {
      "text/html": [
       "<div>\n",
       "<style scoped>\n",
       "    .dataframe tbody tr th:only-of-type {\n",
       "        vertical-align: middle;\n",
       "    }\n",
       "\n",
       "    .dataframe tbody tr th {\n",
       "        vertical-align: top;\n",
       "    }\n",
       "\n",
       "    .dataframe thead th {\n",
       "        text-align: right;\n",
       "    }\n",
       "</style>\n",
       "<table border=\"1\" class=\"dataframe\">\n",
       "  <thead>\n",
       "    <tr style=\"text-align: right;\">\n",
       "      <th></th>\n",
       "      <th>mpg</th>\n",
       "      <th>cylinders</th>\n",
       "      <th>displayments</th>\n",
       "      <th>horsepower</th>\n",
       "      <th>weight</th>\n",
       "      <th>acceleration</th>\n",
       "      <th>model year</th>\n",
       "      <th>origin</th>\n",
       "      <th>car name</th>\n",
       "      <th>outlier</th>\n",
       "      <th>car brand</th>\n",
       "      <th>model</th>\n",
       "      <th>anomaly_score</th>\n",
       "      <th>multivariate_outlier</th>\n",
       "      <th>car_name_encoded</th>\n",
       "    </tr>\n",
       "  </thead>\n",
       "  <tbody>\n",
       "    <tr>\n",
       "      <th>0</th>\n",
       "      <td>18.0</td>\n",
       "      <td>8.0</td>\n",
       "      <td>307.0</td>\n",
       "      <td>130.0</td>\n",
       "      <td>3504.0</td>\n",
       "      <td>12.0</td>\n",
       "      <td>70</td>\n",
       "      <td>1</td>\n",
       "      <td>chevrolet chevelle malibu</td>\n",
       "      <td>Normal</td>\n",
       "      <td>chevrolet</td>\n",
       "      <td>chevelle malibu</td>\n",
       "      <td>1</td>\n",
       "      <td>Normal</td>\n",
       "      <td>5</td>\n",
       "    </tr>\n",
       "    <tr>\n",
       "      <th>1</th>\n",
       "      <td>15.0</td>\n",
       "      <td>8.0</td>\n",
       "      <td>350.0</td>\n",
       "      <td>165.0</td>\n",
       "      <td>3693.0</td>\n",
       "      <td>11.5</td>\n",
       "      <td>70</td>\n",
       "      <td>1</td>\n",
       "      <td>buick skylark 320</td>\n",
       "      <td>Normal</td>\n",
       "      <td>buick</td>\n",
       "      <td>skylark 320</td>\n",
       "      <td>1</td>\n",
       "      <td>Normal</td>\n",
       "      <td>3</td>\n",
       "    </tr>\n",
       "    <tr>\n",
       "      <th>2</th>\n",
       "      <td>18.0</td>\n",
       "      <td>8.0</td>\n",
       "      <td>318.0</td>\n",
       "      <td>150.0</td>\n",
       "      <td>3436.0</td>\n",
       "      <td>11.0</td>\n",
       "      <td>70</td>\n",
       "      <td>1</td>\n",
       "      <td>plymouth satellite</td>\n",
       "      <td>Normal</td>\n",
       "      <td>plymouth</td>\n",
       "      <td>satellite</td>\n",
       "      <td>1</td>\n",
       "      <td>Normal</td>\n",
       "      <td>19</td>\n",
       "    </tr>\n",
       "    <tr>\n",
       "      <th>3</th>\n",
       "      <td>16.0</td>\n",
       "      <td>8.0</td>\n",
       "      <td>304.0</td>\n",
       "      <td>150.0</td>\n",
       "      <td>3433.0</td>\n",
       "      <td>12.0</td>\n",
       "      <td>70</td>\n",
       "      <td>1</td>\n",
       "      <td>amc rebel sst</td>\n",
       "      <td>Normal</td>\n",
       "      <td>amc</td>\n",
       "      <td>rebel sst</td>\n",
       "      <td>1</td>\n",
       "      <td>Normal</td>\n",
       "      <td>0</td>\n",
       "    </tr>\n",
       "    <tr>\n",
       "      <th>4</th>\n",
       "      <td>17.0</td>\n",
       "      <td>8.0</td>\n",
       "      <td>302.0</td>\n",
       "      <td>140.0</td>\n",
       "      <td>3449.0</td>\n",
       "      <td>10.5</td>\n",
       "      <td>70</td>\n",
       "      <td>1</td>\n",
       "      <td>ford torino</td>\n",
       "      <td>Normal</td>\n",
       "      <td>ford</td>\n",
       "      <td>torino</td>\n",
       "      <td>1</td>\n",
       "      <td>Normal</td>\n",
       "      <td>10</td>\n",
       "    </tr>\n",
       "    <tr>\n",
       "      <th>...</th>\n",
       "      <td>...</td>\n",
       "      <td>...</td>\n",
       "      <td>...</td>\n",
       "      <td>...</td>\n",
       "      <td>...</td>\n",
       "      <td>...</td>\n",
       "      <td>...</td>\n",
       "      <td>...</td>\n",
       "      <td>...</td>\n",
       "      <td>...</td>\n",
       "      <td>...</td>\n",
       "      <td>...</td>\n",
       "      <td>...</td>\n",
       "      <td>...</td>\n",
       "      <td>...</td>\n",
       "    </tr>\n",
       "    <tr>\n",
       "      <th>373</th>\n",
       "      <td>27.0</td>\n",
       "      <td>4.0</td>\n",
       "      <td>151.0</td>\n",
       "      <td>90.0</td>\n",
       "      <td>2950.0</td>\n",
       "      <td>17.3</td>\n",
       "      <td>82</td>\n",
       "      <td>1</td>\n",
       "      <td>chevrolet camaro</td>\n",
       "      <td>Normal</td>\n",
       "      <td>chevrolet</td>\n",
       "      <td>camaro</td>\n",
       "      <td>1</td>\n",
       "      <td>Normal</td>\n",
       "      <td>5</td>\n",
       "    </tr>\n",
       "    <tr>\n",
       "      <th>374</th>\n",
       "      <td>27.0</td>\n",
       "      <td>4.0</td>\n",
       "      <td>140.0</td>\n",
       "      <td>86.0</td>\n",
       "      <td>2790.0</td>\n",
       "      <td>15.6</td>\n",
       "      <td>82</td>\n",
       "      <td>1</td>\n",
       "      <td>ford mustang gl</td>\n",
       "      <td>Normal</td>\n",
       "      <td>ford</td>\n",
       "      <td>mustang gl</td>\n",
       "      <td>1</td>\n",
       "      <td>Normal</td>\n",
       "      <td>10</td>\n",
       "    </tr>\n",
       "    <tr>\n",
       "      <th>375</th>\n",
       "      <td>32.0</td>\n",
       "      <td>4.0</td>\n",
       "      <td>135.0</td>\n",
       "      <td>84.0</td>\n",
       "      <td>2295.0</td>\n",
       "      <td>11.6</td>\n",
       "      <td>82</td>\n",
       "      <td>1</td>\n",
       "      <td>dodge rampage</td>\n",
       "      <td>Normal</td>\n",
       "      <td>dodge</td>\n",
       "      <td>rampage</td>\n",
       "      <td>1</td>\n",
       "      <td>Normal</td>\n",
       "      <td>8</td>\n",
       "    </tr>\n",
       "    <tr>\n",
       "      <th>376</th>\n",
       "      <td>28.0</td>\n",
       "      <td>4.0</td>\n",
       "      <td>120.0</td>\n",
       "      <td>79.0</td>\n",
       "      <td>2625.0</td>\n",
       "      <td>18.6</td>\n",
       "      <td>82</td>\n",
       "      <td>1</td>\n",
       "      <td>ford ranger</td>\n",
       "      <td>Normal</td>\n",
       "      <td>ford</td>\n",
       "      <td>ranger</td>\n",
       "      <td>1</td>\n",
       "      <td>Normal</td>\n",
       "      <td>10</td>\n",
       "    </tr>\n",
       "    <tr>\n",
       "      <th>377</th>\n",
       "      <td>31.0</td>\n",
       "      <td>4.0</td>\n",
       "      <td>119.0</td>\n",
       "      <td>82.0</td>\n",
       "      <td>2720.0</td>\n",
       "      <td>19.4</td>\n",
       "      <td>82</td>\n",
       "      <td>1</td>\n",
       "      <td>chevy s-10</td>\n",
       "      <td>Normal</td>\n",
       "      <td>chevrolet</td>\n",
       "      <td>s-10</td>\n",
       "      <td>1</td>\n",
       "      <td>Normal</td>\n",
       "      <td>5</td>\n",
       "    </tr>\n",
       "  </tbody>\n",
       "</table>\n",
       "<p>378 rows × 15 columns</p>\n",
       "</div>"
      ],
      "text/plain": [
       "      mpg  cylinders  displayments  horsepower  weight  acceleration  \\\n",
       "0    18.0        8.0         307.0       130.0  3504.0          12.0   \n",
       "1    15.0        8.0         350.0       165.0  3693.0          11.5   \n",
       "2    18.0        8.0         318.0       150.0  3436.0          11.0   \n",
       "3    16.0        8.0         304.0       150.0  3433.0          12.0   \n",
       "4    17.0        8.0         302.0       140.0  3449.0          10.5   \n",
       "..    ...        ...           ...         ...     ...           ...   \n",
       "373  27.0        4.0         151.0        90.0  2950.0          17.3   \n",
       "374  27.0        4.0         140.0        86.0  2790.0          15.6   \n",
       "375  32.0        4.0         135.0        84.0  2295.0          11.6   \n",
       "376  28.0        4.0         120.0        79.0  2625.0          18.6   \n",
       "377  31.0        4.0         119.0        82.0  2720.0          19.4   \n",
       "\n",
       "     model year  origin                   car name outlier  car brand  \\\n",
       "0            70       1  chevrolet chevelle malibu  Normal  chevrolet   \n",
       "1            70       1          buick skylark 320  Normal      buick   \n",
       "2            70       1         plymouth satellite  Normal   plymouth   \n",
       "3            70       1              amc rebel sst  Normal        amc   \n",
       "4            70       1                ford torino  Normal       ford   \n",
       "..          ...     ...                        ...     ...        ...   \n",
       "373          82       1           chevrolet camaro  Normal  chevrolet   \n",
       "374          82       1            ford mustang gl  Normal       ford   \n",
       "375          82       1              dodge rampage  Normal      dodge   \n",
       "376          82       1                ford ranger  Normal       ford   \n",
       "377          82       1                 chevy s-10  Normal  chevrolet   \n",
       "\n",
       "               model  anomaly_score multivariate_outlier  car_name_encoded  \n",
       "0    chevelle malibu              1               Normal                 5  \n",
       "1        skylark 320              1               Normal                 3  \n",
       "2          satellite              1               Normal                19  \n",
       "3          rebel sst              1               Normal                 0  \n",
       "4             torino              1               Normal                10  \n",
       "..               ...            ...                  ...               ...  \n",
       "373           camaro              1               Normal                 5  \n",
       "374       mustang gl              1               Normal                10  \n",
       "375          rampage              1               Normal                 8  \n",
       "376           ranger              1               Normal                10  \n",
       "377             s-10              1               Normal                 5  \n",
       "\n",
       "[378 rows x 15 columns]"
      ]
     },
     "execution_count": 49,
     "metadata": {},
     "output_type": "execute_result"
    }
   ],
   "source": [
    "df"
   ]
  },
  {
   "cell_type": "code",
   "execution_count": 50,
   "id": "57617fcf-aebb-47db-9b64-25d1147bc92e",
   "metadata": {},
   "outputs": [
    {
     "data": {
      "image/png": "[encoded data removed]",
      "text/plain": [
       "<Figure size 800x600 with 1 Axes>"
      ]
     },
     "metadata": {},
     "output_type": "display_data"
    },
    {
     "name": "stdout",
     "output_type": "stream",
     "text": [
      "Component 1: 81.71% cumulative explained variance\n",
      "Component 2: 95.67% cumulative explained variance\n",
      "Component 3: 98.23% cumulative explained variance\n",
      "Component 4: 99.39% cumulative explained variance\n",
      "Component 5: 100.00% cumulative explained variance\n"
     ]
    }
   ],
   "source": [
    "from sklearn.decomposition import PCA\n",
    "import matplotlib.pyplot as plt\n",
    "\n",
    "\n",
    "# Selecting numerical features excluding categorical/text columns\n",
    "numerical_features = ['cylinders', 'displayments', 'horsepower', 'weight','acceleration']\n",
    "\n",
    "\n",
    "# Extract the numerical columns from the dataframe\n",
    "X = df[numerical_features]\n",
    "\n",
    "# Step 4: Scale the features using StandardScaler\n",
    "scaler = StandardScaler()\n",
    "X_scaled = scaler.fit_transform(X)\n",
    "\n",
    "# Perform PCA\n",
    "pca = PCA()\n",
    "pca_result = pca.fit_transform(X_scaled)\n",
    "\n",
    "# Calculate explained variance ratio for each component\n",
    "explained_variance_ratio = pca.explained_variance_ratio_\n",
    "\n",
    "# Elbow Method: Plot cumulative explained variance\n",
    "cumulative_variance = explained_variance_ratio.cumsum()\n",
    "plt.figure(figsize=(8, 6))\n",
    "plt.plot(range(1, len(cumulative_variance) + 1), cumulative_variance, marker='o', linestyle='--')\n",
    "plt.title('Explained Variance by Components (Elbow Method)')\n",
    "plt.xlabel('Number of Principal Components')\n",
    "plt.ylabel('Cumulative Explained Variance')\n",
    "plt.grid()\n",
    "plt.show()\n",
    "\n",
    "# Display explained variance ratios for the components\n",
    "for i, var in enumerate(cumulative_variance, 1):\n",
    "    print(f\"Component {i}: {var:.2%} cumulative explained variance\")\n"
   ]
  },
  {
   "cell_type": "code",
   "execution_count": 51,
   "id": "72f47e90-b60d-44ef-a2c3-4665bd2c100c",
   "metadata": {},
   "outputs": [
    {
     "data": {
      "application/vnd.plotly.v1+json": {
       "config": {
        "plotlyServerURL": "https://plot.ly"
       },
       "data": [
        {
         "hovertemplate": "PC1=%{x}<br>PC2=%{y}<br>PC3=%{z}<extra></extra>",
         "legendgroup": "",
         "marker": {
          "color": "#636efa",
          "opacity": 0.7,
          "size": 3,
          "symbol": "circle"
         },
         "mode": "markers",
         "name": "",
         "scene": "scene",
         "showlegend": false,
         "type": "scatter3d",
         "x": [
          2.539196325037161,
          3.4182793282806507,
          2.9678725531635965,
          2.7677373099983464,
          2.819657246594083,
          4.835159107268003,
          4.4468390840377445,
          3.772277469274207,
          3.7044145229454712,
          3.74918226529349,
          -1.076653132533449,
          0.10566755728658116,
          0.10556455579258817,
          -0.23013221091571076,
          -1.3265475272991658,
          -2.86627094231823,
          -1.3591733958825316,
          -1.079403357965869,
          -1.4432386908240615,
          -0.5362284116213248,
          -7.994171224600302e-05,
          4.0290798399547905,
          -1.3265475272991658,
          -1.1406596822169417,
          -1.02846540211699,
          -2.349211951870141,
          0.555179591599222,
          0.7227916362789389,
          0.7126298695591706,
          0.5272998768526087,
          0.6009582364983453,
          3.6452538273495656,
          4.241773063329931,
          3.254583698757858,
          3.081851667806123,
          4.506706358998874,
          4.265568447999188,
          4.559222648624844,
          0.9453795880297902,
          -1.7679791655419312,
          0.7508604669902125,
          0.5647436907797306,
          -1.1162922017500267,
          -1.1439510795443677,
          -2.349871222651852,
          -1.5776090490921089,
          -2.565456855272234,
          -2.464713226608877,
          -2.474007407353778,
          -2.48778578124202,
          -1.1946148997011514,
          -1.7637645726579807,
          -2.904810353052854,
          -1.5776933366929726,
          -1.436937656066195,
          3.682009331128877,
          4.132293335495916,
          3.0390973160637818,
          3.305254620544974,
          2.9676921240583596,
          3.474794765382868,
          3.519642478887029,
          4.300985947558154,
          -1.3733176442580795,
          2.9624800595992498,
          2.6158544666114643,
          2.5845946016159194,
          2.941492443296929,
          -0.41436785487003785,
          -1.6168364385783827,
          -1.3956452778842163,
          -2.0210197265747336,
          -1.2765656922300561,
          -1.5045542090653277,
          -0.8733171098522657,
          -1.4805881405224968,
          -1.602742222006255,
          3.5957209684265172,
          2.9676921240583596,
          3.107232603303507,
          2.594003722363277,
          2.9662746186529687,
          3.8226689053493255,
          3.5084337349446315,
          2.967159875512998,
          3.7463453152015447,
          0.41335709438491075,
          0.3597526657749906,
          0.3421946163914336,
          0.23878769864834257,
          0.0810082227894391,
          -2.866049628103223,
          3.864833420299967,
          4.248720299738776,
          3.887291316031797,
          3.9570101695066646,
          0.3835967153409429,
          -1.8255614893405632,
          -1.8367451045742471,
          -1.3058695008706227,
          -1.6628407119960877,
          0.054631879854730094,
          -1.3465647947639936,
          3.160386716461281,
          -2.8186080573681913,
          -1.5311605188446225,
          -0.8800607482430881,
          -0.5807386666692069,
          2.9469501894738346,
          -0.5322770370508724,
          0.5263656142669375,
          3.6792662752945238,
          0.12816348798418295,
          -0.15437678325229054,
          0.31731396767928427,
          0.5221651925517721,
          -2.397697340943553,
          -1.3947382270138478,
          -2.7890629061104626,
          -1.3904600843114623,
          0.7737990261178289,
          0.7409751255117988,
          0.6915679845298545,
          2.7573084164520236,
          3.385717606484635,
          3.221178427093603,
          2.7791160370018146,
          2.7800304259927358,
          -1.6013947111856146,
          -1.9366926621181901,
          -1.3721363497723134,
          -2.4711911279415433,
          -2.4330947646473953,
          -1.5480208194478073,
          -1.6872491053791772,
          -1.2869762593905378,
          -0.9477377417737065,
          -1.1836404215426428,
          -1.9805779524383569,
          0.41730825512105446,
          0.7921925239020008,
          -0.3388230722392161,
          -0.2993386953714516,
          4.286269497473943,
          3.2332094138720944,
          3.114747359919157,
          3.4681554502867034,
          0.37490216758004086,
          0.715829802396027,
          0.6667758078053652,
          0.32307183058488836,
          0.6617666729231458,
          1.6800898705300664,
          2.3110124219217028,
          -1.6820204305482918,
          -1.2222346820163346,
          0.3246650684351466,
          -1.5140940014191426,
          -0.5782181540857332,
          -1.8085228858094065,
          -1.1802180438685115,
          0.2162813599267583,
          -1.6603806925475617,
          0.2212755376340273,
          -0.8847400890352488,
          -1.0698754720318209,
          -0.605988265626667,
          -0.390389920068771,
          -2.430336566108506,
          -1.2464801507980103,
          -1.5925316932068858,
          -0.8603822361023272,
          -1.7932636270439022,
          -1.4407214207707295,
          2.943516350553973,
          3.135005780963897,
          2.395445673830512,
          3.365636180836592,
          0.548407192770817,
          0.926675741307063,
          -0.2538796965949838,
          0.07225722241913933,
          -2.947483542026803,
          -2.684294030640025,
          -1.686303754151533,
          -2.4173750353065198,
          0.48665814709056504,
          -0.1734952722606806,
          0.9423060508298874,
          0.30607926690078224,
          -1.4418220746718629,
          -2.04383657546572,
          -1.742914062378834,
          -0.9792778238754412,
          -0.544674294280421,
          2.967715397131804,
          -1.5279985938995129,
          0.13828167853987997,
          0.7150648927643652,
          3.9415654473340216,
          3.2747343536805014,
          2.3327323295486115,
          2.759411332267108,
          -2.171594885878508,
          -1.3958467414742726,
          -2.544081620279115,
          -1.1237590190785431,
          -2.0433596318628107,
          2.8897510935723543,
          1.431802477350049,
          2.9451423001102373,
          2.5860183081384043,
          0.845699328111855,
          0.5629094324115018,
          0.4747832920234028,
          0.34146455179886354,
          4.226503980837362,
          3.769001664243466,
          4.285020018939601,
          3.1706308913958527,
          -1.575705293780809,
          -0.9105720464460946,
          -1.9140199950342036,
          -0.9160707139256948,
          -2.0446384089093828,
          -1.6050531039770985,
          -1.9524187227645735,
          -1.3824918483447441,
          -0.0021821057541927167,
          -0.410666824761793,
          -0.9193907771755612,
          -2.917133900322888,
          -1.8070558190983066,
          -2.647245907656154,
          -2.205983525184493,
          -2.185729359730311,
          1.4924548996253708,
          2.710075591316474,
          2.5757919619479948,
          0.32699584574620366,
          -0.05238073086883329,
          0.009538241897180803,
          -0.898187875988516,
          0.42649708825083393,
          0.19478700674114346,
          0.6800401532322827,
          -0.04774125998487944,
          0.4812318927026912,
          1.1330439382190836,
          2.5417318515032727,
          1.8781840057888761,
          2.576780164326709,
          2.840354841981353,
          -1.8501626480584197,
          -0.7634173688840333,
          -1.0206428112063988,
          -1.414907050599152,
          -0.86663267169701,
          -0.7329739617444242,
          -1.0954431515294116,
          -0.9871915974745593,
          -0.4481647660757797,
          0.7786327007886187,
          -0.6054254058873088,
          0.7595306124219205,
          -1.737808703528434,
          -1.8744335646386554,
          0.7972665240253105,
          -0.28740176512766435,
          -1.0483271821111222,
          0.09627250961147298,
          0.6064020244271445,
          2.2786700263758624,
          2.443951915329245,
          2.968362000287825,
          2.4337052569293096,
          3.213036695129494,
          2.938454061703625,
          1.93996484899603,
          3.2001090405717396,
          -1.6579104300898742,
          -1.8849543949236098,
          -1.5436208086497918,
          -1.0813934569464168,
          -0.7095586774720827,
          2.2037267474152955,
          -1.3342305296348471,
          -1.582850017714229,
          -2.382885475236167,
          -1.6512317293259893,
          -0.9218111763523147,
          0.6760082075306104,
          0.5279979900346499,
          -0.6233518128327377,
          -1.5097003745300974,
          -2.41163919090905,
          -1.7119950448328454,
          -2.0156121158352893,
          -0.9820950760509435,
          -1.1633288143052578,
          -1.2649326660258717,
          0.06264752947606543,
          -1.6039688105563268,
          -0.9173907074781977,
          -1.5535870630051836,
          -1.0546138196922183,
          -1.471098442398546,
          -2.158577372574039,
          -0.4037579424085656,
          -2.331993239234043,
          -2.88651003303561,
          -1.458116311545381,
          -1.6961403901222152,
          -1.7212530733212685,
          -2.3404312295590377,
          -2.0693281293703474,
          -1.9991946150581315,
          -1.072193919358719,
          -0.5092806171295922,
          -1.737700811322148,
          -1.1483976766506017,
          -1.0784798856251567,
          -0.6897765964775652,
          0.5101600138692841,
          -0.8448490895308123,
          -2.363318446869231,
          -2.1112115535975144,
          -2.2186232012227496,
          -2.088642610879375,
          -2.4342546548412,
          -2.1425040268707862,
          -1.9158965368029417,
          -1.645297535046707,
          -1.9159952579093171,
          -2.309831932212992,
          -1.4128130899085212,
          -1.5145789657173097,
          -1.4034229731070367,
          -1.6304180456727566,
          -0.8129659355244703,
          -1.6188625257110352,
          -1.3663339937788608,
          -0.7706583015502151,
          0.6695684692109837,
          0.47953036173766583,
          0.7706908791383552,
          -0.0627264956054663,
          0.3114797957922791,
          -1.6452481924541624,
          -1.495841459322368,
          -1.556612250294013,
          -1.2640358043305029,
          -1.1674908439446219,
          -1.1442862886127176,
          -0.8891226964807543,
          -1.2986837719886148,
          -1.674138479401987,
          -2.178431442890128,
          -2.1317630689684006,
          -1.6702667094448593,
          -1.942475252824026,
          -1.1965162252454298,
          -1.4192118503535849,
          -1.7736131526046883,
          -1.8117624747201613,
          -1.9024931903340614,
          -1.9503367656766155,
          0.18135281682809062,
          0.18706324323873325,
          -0.7225295523914879,
          0.6185552169427994,
          -0.6018269786415418,
          -0.8662926596664853,
          -0.9319796758826329,
          -0.9128718076862675,
          -0.7272414251071215,
          -1.592542510211982,
          -1.6049155599388896
         ],
         "y": [
          -0.5864433012356629,
          -0.7088062964228754,
          -1.0094071612034354,
          -0.6852293905256757,
          -1.1801739137908416,
          -0.9130601296605073,
          -1.7012095851208586,
          -1.2442418592131883,
          -1.9830873852421336,
          -1.2407445213101171,
          -0.7425688370769695,
          0.028258174333292037,
          -0.0010415898170171782,
          0.13591462572750543,
          -1.0306798666469459,
          1.093473340033036,
          0.28573748528226,
          -0.8904533066772069,
          0.12316697152421505,
          -1.7239762498547402,
          -0.2087715959489513,
          0.08438015224451631,
          -1.0306798666469459,
          -0.5433381322875098,
          -1.1563351383399345,
          0.6114708276149046,
          -0.887248768030685,
          0.3060784840955381,
          0.32413794689518,
          0.3504353531653807,
          0.27158478100835387,
          -0.31402688262322187,
          -0.31617884758678694,
          0.23161735680134185,
          -0.024447959806875558,
          -0.15735749911038224,
          -0.004707705095067821,
          0.1463109313185141,
          -0.552617419351588,
          0.8090808962178287,
          0.12783454081145487,
          -0.07137155395387976,
          -1.1138268163946308,
          -1.179184863643357,
          0.7311392796496533,
          -1.0380648645035884,
          0.4274183022515635,
          -0.003737857603197475,
          0.519798905803894,
          1.057074924822546,
          -0.6059351902425961,
          -0.12417832982734814,
          2.3041217564025778,
          0.9289090869791019,
          -0.22922024603346317,
          -0.2865195467990528,
          -0.17319735402375916,
          0.168469928021567,
          0.04462412591964346,
          -0.7605005189830562,
          0.37064445779646704,
          0.3354595901695189,
          -0.02828025873636056,
          -1.4965098838135062,
          -0.314571794294909,
          0.3705853745548171,
          1.1179698015967106,
          0.32033840700471106,
          -0.719369019431864,
          0.45010988808491537,
          1.1408675741247651,
          0.2869559698818046,
          -0.3341146592245644,
          -0.09432295956267292,
          -0.8548723313763648,
          -0.8127732194275074,
          -0.33772161476849005,
          -0.03876387150171082,
          -0.7605005189830562,
          0.008147698878782833,
          0.4915164001489375,
          -0.33585898657020097,
          -0.0611746729574735,
          0.12793239722757796,
          0.5644622584442994,
          -0.8429308855301679,
          0.5243311061159465,
          1.1846226996874605,
          0.30284417214706366,
          0.58434599711647,
          0.23471813518286413,
          1.3185536512866614,
          0.8700394261364788,
          0.248847028939965,
          0.2309582857959472,
          -0.06204277251251847,
          -0.1160004064988247,
          0.6200967878631584,
          0.9825320540783978,
          -0.2170008623000991,
          0.5151252685145811,
          -0.7755719122991306,
          -0.6250538404387753,
          0.047927538378350704,
          0.6880426044560269,
          -0.5879783492974497,
          -0.991995757370402,
          -0.394049382588151,
          -1.0250651831341162,
          -1.005026061163686,
          -0.8554155466243182,
          -0.9446466994094388,
          0.49492319833504383,
          0.6011893729901082,
          0.28422382174301064,
          0.8563407343703754,
          0.51168114295428,
          -0.11514077991275731,
          1.1597332038476766,
          0.15070349906259914,
          1.0446601873204568,
          1.31864111153378,
          0.7325404788158117,
          0.3475678196286709,
          0.822557955159752,
          0.30473703779668215,
          1.2635470865738523,
          0.8983733941059957,
          -0.2696882050160625,
          -0.7177117942184741,
          -0.9273013284040466,
          -0.45647906423128504,
          0.5607947187705271,
          -1.0056184739650997,
          -0.6599857275896923,
          -1.0799781074911672,
          -0.6856530713348987,
          -0.561605930053243,
          -0.5256402859538519,
          0.43987003391332646,
          0.539847967218385,
          2.39629641499611,
          1.7511019557508654,
          -0.21412999441801187,
          0.5522564529701186,
          0.6749147915228867,
          0.4601999547612948,
          2.4406956423200024,
          1.6072725233648,
          1.7129406828288714,
          1.718832828292237,
          -0.04359492438542778,
          -0.20209896194941504,
          -0.734846690873937,
          -0.44322146867320666,
          0.16660388765337866,
          0.28972528890784455,
          0.6916725645644927,
          -1.0942308466136224,
          -0.2459174198748665,
          0.041743813741814434,
          -0.3197579735725212,
          -1.2458735016391018,
          0.7996759021212335,
          -0.6023903512097982,
          0.2463463397212182,
          -0.6702799566035319,
          -1.1925025975556887,
          -0.015674690245894768,
          -0.510663371297115,
          -0.08664458627486607,
          -0.6309791181234979,
          0.1815135044614263,
          -0.6944077343719118,
          0.03192395496023456,
          0.01533187969269209,
          0.3033180781282938,
          0.013596680162167502,
          0.19933682941430356,
          -0.03425060866592969,
          0.8928679494352526,
          0.958050173201266,
          1.7355871282072697,
          1.755170837150755,
          -1.1753081071055256,
          -0.050957387512683444,
          1.1877321953889357,
          2.4375275988364824,
          0.6734085235282018,
          1.1094498157188075,
          -1.9178131192248622,
          -0.1747419654243493,
          -0.3088617161166189,
          -1.0297439604288194,
          -0.15510700182347054,
          -0.019900171251305526,
          2.107656907531763,
          -0.05369847266817878,
          0.7320775266039999,
          -0.2535331456269968,
          -0.31632555840110965,
          0.6171466367170121,
          0.1840712972295959,
          0.4094851312445341,
          -0.8617233773999123,
          0.34594427893467483,
          -0.5821674501581325,
          -0.26435090014388885,
          -0.3019762459727301,
          2.089594238654619,
          0.2568694091237692,
          0.7617195967620994,
          0.6910751953229909,
          0.8058457171599965,
          1.1788452099688196,
          1.6482648035508154,
          -0.5762860810991263,
          -0.5600615542870786,
          -0.17517775938202398,
          0.6736161901222472,
          -1.0796496498917532,
          -0.13768648619433035,
          0.37277771069570187,
          -0.22656023003737494,
          -0.10149805140675308,
          -0.5423237172118742,
          -0.35565495878685,
          -1.1149829934813322,
          -0.4401692478660611,
          -1.4538098152797625,
          -1.3527761463218047,
          1.4898017086016369,
          -1.1344996981981759,
          0.7128222993194883,
          0.4236363733970866,
          -0.4236738039937184,
          0.560582935889376,
          -0.0752178012247671,
          -0.31432228551175134,
          1.6638986303062584,
          1.121069486403745,
          0.22531496875602092,
          -0.37935903393957343,
          0.9177937672528195,
          0.8698181068728994,
          0.3986925070393636,
          0.5872941712576955,
          1.49600400949945,
          0.1700584838946869,
          -0.24754871587439722,
          -0.6092025434482783,
          -1.0333097121776214,
          0.24719615986822593,
          -0.24961793808109792,
          -0.9042012872455519,
          -0.8734397199623375,
          -0.9318482261740987,
          -0.7115486438307854,
          0.06774511577202527,
          0.4849343775894104,
          -0.7584393983281797,
          -0.10460550113532793,
          -0.6749517182546504,
          -0.36380772472947104,
          0.19037984247595163,
          -0.910999483374605,
          -0.22279903645251517,
          0.16899482209617167,
          1.082679447706695,
          0.3629544770541533,
          1.2459205175458476,
          0.6450380236002212,
          0.7514487964649402,
          -0.005595410396777384,
          0.08870891137805156,
          0.6863573110515498,
          0.8045092705002402,
          0.5061398595945822,
          0.4522704005588784,
          -0.008326667851705799,
          -1.2560510945998682,
          -0.7985045372500897,
          -1.1298436587239005,
          -0.553658364722254,
          1.8569307256276277,
          1.5862182284456563,
          -1.3875008464405805,
          -0.8088544820006948,
          0.6298912055613747,
          -0.9121196772850545,
          -0.17359702599168084,
          -1.6660990307534613,
          -1.0571409473842688,
          -1.2097561845995253,
          -0.9145105967388186,
          0.4902954376780734,
          -0.6235438081794704,
          -0.35649181964457816,
          0.006201978597542651,
          0.6367522595502535,
          1.4139157593227654,
          1.4577342022591873,
          -0.5160235195097526,
          -0.36590642804977574,
          0.28800322447598026,
          -0.6951660597269184,
          -0.664190638801637,
          0.21125890951108214,
          -0.7204814833590373,
          0.6679782859333013,
          1.6026860813262427,
          1.451098874050492,
          2.18077448199161,
          -1.341869836557401,
          -0.09676475943830146,
          0.2765785625874093,
          -0.8029385648981106,
          -0.6135112625887073,
          -0.7206148695389881,
          -0.011047148902274567,
          -0.3680485220814575,
          -0.028416114100499407,
          -0.7557884861892968,
          -1.136691156977802,
          -1.4003989726521087,
          -0.28348485933444667,
          -0.41428752070784575,
          -0.5660063675307739,
          0.17215798550100966,
          0.6814130599089877,
          -0.010530714270735403,
          -0.5116635036619853,
          -0.7593417534538213,
          -0.39258602329615067,
          1.3369039306492683,
          -1.0514802817190607,
          -0.4542954041595095,
          -0.9716833429870366,
          -0.06369635107064978,
          -0.7142831239892503,
          0.6127650798597586,
          1.6277073264746351,
          1.5693092776212754,
          -1.0912731505645297,
          -0.710784737045637,
          0.3977860117471494,
          0.7147621799103016,
          0.7680636389961747,
          0.9990881610570644,
          0.6610728307560427,
          0.3456951505872904,
          -0.2037883568756001,
          -0.24738878791423227,
          0.5595642551682529,
          0.02225594697804148,
          1.568588621411047,
          -0.7522404659855515,
          0.2814834274837671,
          0.046511805877972295,
          -0.8679942283593246,
          0.013660691532269426,
          -0.9730033481309929,
          -0.9385165946298,
          -0.057130443245368895,
          -0.8698106444362587,
          -0.6228317635687413,
          -0.4337225837774913,
          0.31279859554863937,
          0.7911194839067299,
          -0.7353174312893691,
          -0.24010529871309477,
          -0.9492011990168703,
          -1.371464122113975,
          0.40357117741144916,
          -0.27288309960864676,
          -1.8971611174922824,
          0.6986631361819463,
          1.0097411729562564
         ],
         "z": [
          0.7032675302057669,
          0.13433590902389972,
          0.4614897015788909,
          0.38594194082267586,
          0.6089233331763622,
          -0.4949286754559572,
          -0.14815353891276548,
          0.25759978747164525,
          0.38508432719658464,
          0.5681570266593803,
          -0.3302743626770169,
          0.4257831595181658,
          0.4228886647805997,
          0.7034614031894262,
          -0.10874999774103512,
          0.5075693122664418,
          -0.4534409513667019,
          -0.26643791394546074,
          -0.4597540440145863,
          -0.4470822071430542,
          0.6269099204857073,
          -1.1456801953207434,
          -0.10874999774103512,
          -0.14483079092962217,
          -0.21695987334424835,
          0.22788924208416145,
          0.6278370408405692,
          0.021358346205844692,
          0.22395139356005458,
          0.44421986406352315,
          0.19947953505009175,
          -0.1414085785390793,
          -0.2943861042693592,
          0.031770947372021886,
          0.0513011410270175,
          -0.6651117410489165,
          -0.3684383612054055,
          -0.649080949632913,
          0.33697539678971206,
          -0.0533748021060868,
          0.2682726448200991,
          0.56690970838511,
          -0.03545171338757339,
          -0.07147088741130223,
          -0.0266977003315186,
          0.10791773889188981,
          0.20931662619325947,
          0.26402777919212045,
          0.330014972409014,
          0.01956438610131415,
          -0.305020611125305,
          -0.07321867844644701,
          0.03607682908968494,
          -0.3849227821991449,
          -0.1440602700857234,
          -0.17348216139556272,
          -0.2765339487614511,
          0.010927407657001823,
          0.06523652443448742,
          0.2891394275141931,
          -0.17692050754257407,
          -0.24044961201850104,
          -0.5746027996897367,
          -0.7842252347359876,
          0.13832351822615155,
          0.32564599224663066,
          -0.0404586641753054,
          0.018417328703584392,
          -0.859269450940099,
          -0.1781081749600982,
          -0.6646103474119684,
          0.039410341371865186,
          -0.20632200185645472,
          -0.36134326022460506,
          -0.3923721802899472,
          -0.006209306919126284,
          -0.17846514027793017,
          -0.3023374792868737,
          0.2891394275141931,
          0.2702917652350827,
          0.1990132997351323,
          0.22983800054803896,
          0.11562097379247684,
          -0.13645570619244535,
          -0.08166261275311588,
          -0.055314520638529784,
          0.13601301502223553,
          0.14346890182835934,
          0.3475997809289481,
          0.5406172626385312,
          0.36961935458803513,
          0.42969415894115315,
          -0.23190074025519022,
          -0.4167819032559504,
          -0.46464082321868216,
          -0.5643176827395235,
          0.4668355470967598,
          -0.37243877134795145,
          -0.07105030760843735,
          -0.3922891941349952,
          -0.2527820760868094,
          0.35356782593038527,
          -0.24963096862404946,
          0.22390843002724486,
          0.410280689546065,
          0.10655196788222203,
          -0.3201721803422371,
          -0.869455035395867,
          0.4797469718202738,
          -0.6689398863493059,
          -0.046803405328310475,
          -0.08890675199939736,
          0.2507887031536982,
          0.467355192429985,
          0.36931112932410615,
          0.1571085644379024,
          0.10735481002620785,
          -0.15161141193047079,
          0.09371158818478038,
          -0.08671379154572072,
          -0.06247211819494591,
          -0.18379547940532567,
          -0.10675933521453164,
          0.11955595009599687,
          -0.23015997055319057,
          -0.14796018741665487,
          -0.21020193344654103,
          -0.16855948744316354,
          -0.14847364278760636,
          0.248847179047791,
          -0.02018008821696111,
          0.6127596046672178,
          0.19460927786071375,
          0.10052380870721066,
          0.06665311691127039,
          0.12651802206028304,
          -0.4051132884297618,
          -0.33870583718906844,
          0.2094603251502824,
          0.25903538108128227,
          0.05244731184736963,
          0.42357474163266917,
          0.6221659803345303,
          -0.3088204781214996,
          0.004997837136207629,
          -0.21045038391530344,
          -0.13020190761994235,
          -0.5133232403563578,
          -0.2693272109123321,
          -0.2744117408704291,
          -0.12482422344359316,
          0.16853745458526817,
          1.0126743347306253,
          0.8733978395148939,
          0.03182128619753062,
          -0.2725411777120669,
          0.3628964127528094,
          -0.2265109287329328,
          -0.3948128221619567,
          0.03663024580472972,
          -0.5197477420453746,
          0.2919876621741476,
          0.30064739512260397,
          0.34654030846042594,
          -0.4841949702288557,
          -0.5653522214024793,
          -0.6237541972130836,
          -0.739465472135562,
          0.518465175806857,
          -0.25649216641546035,
          -0.08667692881496332,
          -0.3059456622458145,
          -0.14796660819256335,
          -0.08192368521386692,
          0.13275105820820915,
          0.004917805819179953,
          0.5619838965128022,
          0.04849800704784717,
          0.21346018094890212,
          0.1681406748586274,
          0.4951167134569213,
          0.38335821484102767,
          0.2037660566416787,
          0.03865993453825831,
          0.2921955616601537,
          0.5226910925380822,
          -0.08999371362327739,
          0.2500335002723484,
          -0.134011644901841,
          0.2999583953032284,
          0.43211813660270254,
          0.13530011835986505,
          0.022812655052687533,
          0.09735466278825677,
          -0.8222507659464654,
          0.11982590642012762,
          -0.9268687786798853,
          0.04942170305005358,
          -0.6175943354840594,
          -0.4886946872004455,
          0.2794904702183433,
          0.38347361599565355,
          0.17730492377724097,
          0.11154853372679295,
          0.038968903061421804,
          0.34114764220127375,
          -0.31077030794342253,
          0.16595673995372687,
          0.2329556211656957,
          0.3612859882746613,
          0.08623570785687586,
          0.17798764481910212,
          -0.08078351133259226,
          -0.015995369158303487,
          -0.07963147916195194,
          0.013821052598907766,
          -0.24331047404217465,
          -0.18056906210016274,
          -0.5140613950794628,
          -0.030818946327255525,
          0.15745821683433195,
          -0.3390283247350227,
          -0.10753221709726003,
          -0.38254198515509263,
          0.2582039786212408,
          -0.052062820379738355,
          0.24466114196554586,
          0.05100194969583457,
          0.3132916335782822,
          -0.5886225013993887,
          -1.1760228583591392,
          0.3394187952523525,
          0.4401947880265905,
          0.3293792556022998,
          0.028210271759975408,
          0.44176479588803635,
          0.8521336905637874,
          0.3934357170392986,
          0.46926650674021775,
          -0.16746982496437682,
          0.15776280022324832,
          0.5253930163480188,
          -0.33112246099259796,
          0.04018605174489213,
          0.3385819147342293,
          0.052694503016584536,
          0.43554859346036545,
          -0.2894109137988521,
          -0.12415493743868394,
          0.4278892840425041,
          -0.9126850664136037,
          0.716986678172381,
          0.20206942437568365,
          0.14178849736340057,
          -0.3370803302638042,
          -0.30165892184506643,
          0.085965042814217,
          -0.3402310425197435,
          -0.6518324016985362,
          -0.4116521626976326,
          -0.3619219276141439,
          -0.29078092922209686,
          -0.2496966973117747,
          -0.8936221675179604,
          -0.6138593259369454,
          0.2167328782905099,
          0.1474313753572473,
          -0.03624213035146467,
          0.41163502139227576,
          -0.49529963404898614,
          0.2691835619280304,
          -0.07237233101719041,
          0.38882362244108754,
          0.5398825119207449,
          0.40132520211093914,
          0.348267939814297,
          -0.16601489923171597,
          0.23700771830348313,
          0.5135401968146364,
          0.23258447784075176,
          0.28683971172801964,
          0.30747904167022255,
          0.14201268779536888,
          -0.19876945696253911,
          -0.23615344355712414,
          0.4726834552258621,
          0.2419324847513439,
          0.19476388713319615,
          0.11375409052889661,
          0.19556106913671212,
          -0.33897847613470816,
          0.3137136460608846,
          0.19428780605465526,
          -0.16440067772749486,
          0.08531910387449489,
          0.25247793112621175,
          0.16682712250709072,
          0.23505669250036285,
          -0.3640555776808626,
          -0.5192381731737155,
          -0.676556494287385,
          0.1734305125401257,
          -0.01985175526248562,
          -0.38029931560043106,
          -0.15751325042002443,
          -0.2942302643531309,
          0.04656371620949199,
          0.12676492553290894,
          -0.5817755023743056,
          0.0693445142660734,
          0.281622988164543,
          0.07697148844324252,
          -0.4860484335968692,
          0.4062483788061808,
          0.40605112491011797,
          0.09809611646536895,
          0.42658717134084645,
          -0.2545908565194925,
          -0.5483783928432207,
          0.007414127286346116,
          -0.17374467477761787,
          -0.2351389534784222,
          -0.26876528575531894,
          0.2808568951855833,
          -0.003607833996686909,
          0.4475290081698525,
          0.32335748098959843,
          0.4493451979227665,
          0.14602312882810645,
          0.12750704519785802,
          0.24091369078435734,
          0.2294183798562746,
          0.2834085695577419,
          0.26048101795112655,
          -0.0949875465989579,
          0.13562584892675458,
          -0.07753531916523299,
          0.10502674179233167,
          -0.0629933290716656,
          -0.5130547549023284,
          -0.2199650132726911,
          -0.6536253375325299,
          0.28720447336049,
          0.07861467372434944,
          -0.11051824775282965,
          -0.05080322009588346,
          0.3718429244918453,
          0.30695315839414405,
          -0.5214032193403398,
          -0.4964144427969642,
          -0.35016620702748325,
          -0.311182458984922,
          -0.20369281574016904,
          -0.4555703936156944,
          -0.5139122559364938,
          -0.7092502327724004,
          0.19276310949653228,
          0.11671062231917788,
          0.16920530820047622,
          0.33626997928301544,
          0.08829342266377024,
          -0.06643283332773832,
          0.10326802374237447,
          0.07081925884732886,
          0.2987918083623163,
          0.2692103912437403,
          0.23327761550000684,
          0.031583267510509085,
          0.6039866419369891,
          -0.2557208117176683,
          0.24986947179814833,
          -0.36862428123638546,
          -0.0004321546841081678,
          -0.5320785197916408,
          -0.3396241430553627,
          0.09573865977206321,
          -0.3139356984474229,
          -0.4488397004083794
         ]
        }
       ],
       "layout": {
        "height": 900,
        "legend": {
         "tracegroupgap": 0
        },
        "scene": {
         "aspectmode": "auto",
         "aspectratio": {
          "x": 1.8425738081289662,
          "y": 1.0473494809851043,
          "z": 0.518183386240663
         },
         "domain": {
          "x": [
           0,
           1
          ],
          "y": [
           0,
           1
          ]
         },
         "xaxis": {
          "title": {
           "text": "PC1"
          },
          "type": "linear"
         },
         "yaxis": {
          "title": {
           "text": "PC2"
          },
          "type": "linear"
         },
         "zaxis": {
          "title": {
           "text": "PC3"
          },
          "type": "linear"
         }
        },
        "template": {
         "data": {
          "bar": [
           {
            "error_x": {
             "color": "#2a3f5f"
            },
            "error_y": {
             "color": "#2a3f5f"
            },
            "marker": {
             "line": {
              "color": "#E5ECF6",
              "width": 0.5
             },
             "pattern": {
              "fillmode": "overlay",
              "size": 10,
              "solidity": 0.2
             }
            },
            "type": "bar"
           }
          ],
          "barpolar": [
           {
            "marker": {
             "line": {
              "color": "#E5ECF6",
              "width": 0.5
             },
             "pattern": {
              "fillmode": "overlay",
              "size": 10,
              "solidity": 0.2
             }
            },
            "type": "barpolar"
           }
          ],
          "carpet": [
           {
            "aaxis": {
             "endlinecolor": "#2a3f5f",
             "gridcolor": "white",
             "linecolor": "white",
             "minorgridcolor": "white",
             "startlinecolor": "#2a3f5f"
            },
            "baxis": {
             "endlinecolor": "#2a3f5f",
             "gridcolor": "white",
             "linecolor": "white",
             "minorgridcolor": "white",
             "startlinecolor": "#2a3f5f"
            },
            "type": "carpet"
           }
          ],
          "choropleth": [
           {
            "colorbar": {
             "outlinewidth": 0,
             "ticks": ""
            },
            "type": "choropleth"
           }
          ],
          "contour": [
           {
            "colorbar": {
             "outlinewidth": 0,
             "ticks": ""
            },
            "colorscale": [
             [
              0,
              "#0d0887"
             ],
             [
              0.1111111111111111,
              "#46039f"
             ],
             [
              0.2222222222222222,
              "#7201a8"
             ],
             [
              0.3333333333333333,
              "#9c179e"
             ],
             [
              0.4444444444444444,
              "#bd3786"
             ],
             [
              0.5555555555555556,
              "#d8576b"
             ],
             [
              0.6666666666666666,
              "#ed7953"
             ],
             [
              0.7777777777777778,
              "#fb9f3a"
             ],
             [
              0.8888888888888888,
              "#fdca26"
             ],
             [
              1,
              "#f0f921"
             ]
            ],
            "type": "contour"
           }
          ],
          "contourcarpet": [
           {
            "colorbar": {
             "outlinewidth": 0,
             "ticks": ""
            },
            "type": "contourcarpet"
           }
          ],
          "heatmap": [
           {
            "colorbar": {
             "outlinewidth": 0,
             "ticks": ""
            },
            "colorscale": [
             [
              0,
              "#0d0887"
             ],
             [
              0.1111111111111111,
              "#46039f"
             ],
             [
              0.2222222222222222,
              "#7201a8"
             ],
             [
              0.3333333333333333,
              "#9c179e"
             ],
             [
              0.4444444444444444,
              "#bd3786"
             ],
             [
              0.5555555555555556,
              "#d8576b"
             ],
             [
              0.6666666666666666,
              "#ed7953"
             ],
             [
              0.7777777777777778,
              "#fb9f3a"
             ],
             [
              0.8888888888888888,
              "#fdca26"
             ],
             [
              1,
              "#f0f921"
             ]
            ],
            "type": "heatmap"
           }
          ],
          "heatmapgl": [
           {
            "colorbar": {
             "outlinewidth": 0,
             "ticks": ""
            },
            "colorscale": [
             [
              0,
              "#0d0887"
             ],
             [
              0.1111111111111111,
              "#46039f"
             ],
             [
              0.2222222222222222,
              "#7201a8"
             ],
             [
              0.3333333333333333,
              "#9c179e"
             ],
             [
              0.4444444444444444,
              "#bd3786"
             ],
             [
              0.5555555555555556,
              "#d8576b"
             ],
             [
              0.6666666666666666,
              "#ed7953"
             ],
             [
              0.7777777777777778,
              "#fb9f3a"
             ],
             [
              0.8888888888888888,
              "#fdca26"
             ],
             [
              1,
              "#f0f921"
             ]
            ],
            "type": "heatmapgl"
           }
          ],
          "histogram": [
           {
            "marker": {
             "pattern": {
              "fillmode": "overlay",
              "size": 10,
              "solidity": 0.2
             }
            },
            "type": "histogram"
           }
          ],
          "histogram2d": [
           {
            "colorbar": {
             "outlinewidth": 0,
             "ticks": ""
            },
            "colorscale": [
             [
              0,
              "#0d0887"
             ],
             [
              0.1111111111111111,
              "#46039f"
             ],
             [
              0.2222222222222222,
              "#7201a8"
             ],
             [
              0.3333333333333333,
              "#9c179e"
             ],
             [
              0.4444444444444444,
              "#bd3786"
             ],
             [
              0.5555555555555556,
              "#d8576b"
             ],
             [
              0.6666666666666666,
              "#ed7953"
             ],
             [
              0.7777777777777778,
              "#fb9f3a"
             ],
             [
              0.8888888888888888,
              "#fdca26"
             ],
             [
              1,
              "#f0f921"
             ]
            ],
            "type": "histogram2d"
           }
          ],
          "histogram2dcontour": [
           {
            "colorbar": {
             "outlinewidth": 0,
             "ticks": ""
            },
            "colorscale": [
             [
              0,
              "#0d0887"
             ],
             [
              0.1111111111111111,
              "#46039f"
             ],
             [
              0.2222222222222222,
              "#7201a8"
             ],
             [
              0.3333333333333333,
              "#9c179e"
             ],
             [
              0.4444444444444444,
              "#bd3786"
             ],
             [
              0.5555555555555556,
              "#d8576b"
             ],
             [
              0.6666666666666666,
              "#ed7953"
             ],
             [
              0.7777777777777778,
              "#fb9f3a"
             ],
             [
              0.8888888888888888,
              "#fdca26"
             ],
             [
              1,
              "#f0f921"
             ]
            ],
            "type": "histogram2dcontour"
           }
          ],
          "mesh3d": [
           {
            "colorbar": {
             "outlinewidth": 0,
             "ticks": ""
            },
            "type": "mesh3d"
           }
          ],
          "parcoords": [
           {
            "line": {
             "colorbar": {
              "outlinewidth": 0,
              "ticks": ""
             }
            },
            "type": "parcoords"
           }
          ],
          "pie": [
           {
            "automargin": true,
            "type": "pie"
           }
          ],
          "scatter": [
           {
            "fillpattern": {
             "fillmode": "overlay",
             "size": 10,
             "solidity": 0.2
            },
            "type": "scatter"
           }
          ],
          "scatter3d": [
           {
            "line": {
             "colorbar": {
              "outlinewidth": 0,
              "ticks": ""
             }
            },
            "marker": {
             "colorbar": {
              "outlinewidth": 0,
              "ticks": ""
             }
            },
            "type": "scatter3d"
           }
          ],
          "scattercarpet": [
           {
            "marker": {
             "colorbar": {
              "outlinewidth": 0,
              "ticks": ""
             }
            },
            "type": "scattercarpet"
           }
          ],
          "scattergeo": [
           {
            "marker": {
             "colorbar": {
              "outlinewidth": 0,
              "ticks": ""
             }
            },
            "type": "scattergeo"
           }
          ],
          "scattergl": [
           {
            "marker": {
             "colorbar": {
              "outlinewidth": 0,
              "ticks": ""
             }
            },
            "type": "scattergl"
           }
          ],
          "scattermapbox": [
           {
            "marker": {
             "colorbar": {
              "outlinewidth": 0,
              "ticks": ""
             }
            },
            "type": "scattermapbox"
           }
          ],
          "scatterpolar": [
           {
            "marker": {
             "colorbar": {
              "outlinewidth": 0,
              "ticks": ""
             }
            },
            "type": "scatterpolar"
           }
          ],
          "scatterpolargl": [
           {
            "marker": {
             "colorbar": {
              "outlinewidth": 0,
              "ticks": ""
             }
            },
            "type": "scatterpolargl"
           }
          ],
          "scatterternary": [
           {
            "marker": {
             "colorbar": {
              "outlinewidth": 0,
              "ticks": ""
             }
            },
            "type": "scatterternary"
           }
          ],
          "surface": [
           {
            "colorbar": {
             "outlinewidth": 0,
             "ticks": ""
            },
            "colorscale": [
             [
              0,
              "#0d0887"
             ],
             [
              0.1111111111111111,
              "#46039f"
             ],
             [
              0.2222222222222222,
              "#7201a8"
             ],
             [
              0.3333333333333333,
              "#9c179e"
             ],
             [
              0.4444444444444444,
              "#bd3786"
             ],
             [
              0.5555555555555556,
              "#d8576b"
             ],
             [
              0.6666666666666666,
              "#ed7953"
             ],
             [
              0.7777777777777778,
              "#fb9f3a"
             ],
             [
              0.8888888888888888,
              "#fdca26"
             ],
             [
              1,
              "#f0f921"
             ]
            ],
            "type": "surface"
           }
          ],
          "table": [
           {
            "cells": {
             "fill": {
              "color": "#EBF0F8"
             },
             "line": {
              "color": "white"
             }
            },
            "header": {
             "fill": {
              "color": "#C8D4E3"
             },
             "line": {
              "color": "white"
             }
            },
            "type": "table"
           }
          ]
         },
         "layout": {
          "annotationdefaults": {
           "arrowcolor": "#2a3f5f",
           "arrowhead": 0,
           "arrowwidth": 1
          },
          "autotypenumbers": "strict",
          "coloraxis": {
           "colorbar": {
            "outlinewidth": 0,
            "ticks": ""
           }
          },
          "colorscale": {
           "diverging": [
            [
             0,
             "#8e0152"
            ],
            [
             0.1,
             "#c51b7d"
            ],
            [
             0.2,
             "#de77ae"
            ],
            [
             0.3,
             "#f1b6da"
            ],
            [
             0.4,
             "#fde0ef"
            ],
            [
             0.5,
             "#f7f7f7"
            ],
            [
             0.6,
             "#e6f5d0"
            ],
            [
             0.7,
             "#b8e186"
            ],
            [
             0.8,
             "#7fbc41"
            ],
            [
             0.9,
             "#4d9221"
            ],
            [
             1,
             "#276419"
            ]
           ],
           "sequential": [
            [
             0,
             "#0d0887"
            ],
            [
             0.1111111111111111,
             "#46039f"
            ],
            [
             0.2222222222222222,
             "#7201a8"
            ],
            [
             0.3333333333333333,
             "#9c179e"
            ],
            [
             0.4444444444444444,
             "#bd3786"
            ],
            [
             0.5555555555555556,
             "#d8576b"
            ],
            [
             0.6666666666666666,
             "#ed7953"
            ],
            [
             0.7777777777777778,
             "#fb9f3a"
            ],
            [
             0.8888888888888888,
             "#fdca26"
            ],
            [
             1,
             "#f0f921"
            ]
           ],
           "sequentialminus": [
            [
             0,
             "#0d0887"
            ],
            [
             0.1111111111111111,
             "#46039f"
            ],
            [
             0.2222222222222222,
             "#7201a8"
            ],
            [
             0.3333333333333333,
             "#9c179e"
            ],
            [
             0.4444444444444444,
             "#bd3786"
            ],
            [
             0.5555555555555556,
             "#d8576b"
            ],
            [
             0.6666666666666666,
             "#ed7953"
            ],
            [
             0.7777777777777778,
             "#fb9f3a"
            ],
            [
             0.8888888888888888,
             "#fdca26"
            ],
            [
             1,
             "#f0f921"
            ]
           ]
          },
          "colorway": [
           "#636efa",
           "#EF553B",
           "#00cc96",
           "#ab63fa",
           "#FFA15A",
           "#19d3f3",
           "#FF6692",
           "#B6E880",
           "#FF97FF",
           "#FECB52"
          ],
          "font": {
           "color": "#2a3f5f"
          },
          "geo": {
           "bgcolor": "white",
           "lakecolor": "white",
           "landcolor": "#E5ECF6",
           "showlakes": true,
           "showland": true,
           "subunitcolor": "white"
          },
          "hoverlabel": {
           "align": "left"
          },
          "hovermode": "closest",
          "mapbox": {
           "style": "light"
          },
          "paper_bgcolor": "white",
          "plot_bgcolor": "#E5ECF6",
          "polar": {
           "angularaxis": {
            "gridcolor": "white",
            "linecolor": "white",
            "ticks": ""
           },
           "bgcolor": "#E5ECF6",
           "radialaxis": {
            "gridcolor": "white",
            "linecolor": "white",
            "ticks": ""
           }
          },
          "scene": {
           "xaxis": {
            "backgroundcolor": "#E5ECF6",
            "gridcolor": "white",
            "gridwidth": 2,
            "linecolor": "white",
            "showbackground": true,
            "ticks": "",
            "zerolinecolor": "white"
           },
           "yaxis": {
            "backgroundcolor": "#E5ECF6",
            "gridcolor": "white",
            "gridwidth": 2,
            "linecolor": "white",
            "showbackground": true,
            "ticks": "",
            "zerolinecolor": "white"
           },
           "zaxis": {
            "backgroundcolor": "#E5ECF6",
            "gridcolor": "white",
            "gridwidth": 2,
            "linecolor": "white",
            "showbackground": true,
            "ticks": "",
            "zerolinecolor": "white"
           }
          },
          "shapedefaults": {
           "line": {
            "color": "#2a3f5f"
           }
          },
          "ternary": {
           "aaxis": {
            "gridcolor": "white",
            "linecolor": "white",
            "ticks": ""
           },
           "baxis": {
            "gridcolor": "white",
            "linecolor": "white",
            "ticks": ""
           },
           "bgcolor": "#E5ECF6",
           "caxis": {
            "gridcolor": "white",
            "linecolor": "white",
            "ticks": ""
           }
          },
          "title": {
           "x": 0.05
          },
          "xaxis": {
           "automargin": true,
           "gridcolor": "white",
           "linecolor": "white",
           "ticks": "",
           "title": {
            "standoff": 15
           },
           "zerolinecolor": "white",
           "zerolinewidth": 2
          },
          "yaxis": {
           "automargin": true,
           "gridcolor": "white",
           "linecolor": "white",
           "ticks": "",
           "title": {
            "standoff": 15
           },
           "zerolinecolor": "white",
           "zerolinewidth": 2
          }
         }
        },
        "title": {
         "font": {
          "size": 20
         },
         "text": "Interactive 3D Projection of the First Three Principal Components"
        },
        "width": 1200
       }
      },
      "text/html": [
       "<div>                            <div id=\"490f4790-f1ea-4db5-bf81-cb1301fa5a1d\" class=\"plotly-graph-div\" style=\"height:900px; width:1200px;\"></div>            <script type=\"text/javascript\">                require([\"plotly\"], function(Plotly) {                    window.PLOTLYENV=window.PLOTLYENV || {};                                    if (document.getElementById(\"490f4790-f1ea-4db5-bf81-cb1301fa5a1d\")) {                    Plotly.newPlot(                        \"490f4790-f1ea-4db5-bf81-cb1301fa5a1d\",                        [{\"hovertemplate\":\"PC1=%{x}\\u003cbr\\u003ePC2=%{y}\\u003cbr\\u003ePC3=%{z}\\u003cextra\\u003e\\u003c\\u002fextra\\u003e\",\"legendgroup\":\"\",\"marker\":{\"color\":\"#636efa\",\"opacity\":0.7,\"symbol\":\"circle\",\"size\":3},\"mode\":\"markers\",\"name\":\"\",\"scene\":\"scene\",\"showlegend\":false,\"x\":[2.539196325037161,3.4182793282806507,2.9678725531635965,2.7677373099983464,2.819657246594083,4.835159107268003,4.4468390840377445,3.772277469274207,3.7044145229454712,3.74918226529349,-1.076653132533449,0.10566755728658116,0.10556455579258817,-0.23013221091571076,-1.3265475272991658,-2.86627094231823,-1.3591733958825316,-1.079403357965869,-1.4432386908240615,-0.5362284116213248,-7.994171224600302e-05,4.0290798399547905,-1.3265475272991658,-1.1406596822169417,-1.02846540211699,-2.349211951870141,0.555179591599222,0.7227916362789389,0.7126298695591706,0.5272998768526087,0.6009582364983453,3.6452538273495656,4.241773063329931,3.254583698757858,3.081851667806123,4.506706358998874,4.265568447999188,4.559222648624844,0.9453795880297902,-1.7679791655419312,0.7508604669902125,0.5647436907797306,-1.1162922017500267,-1.1439510795443677,-2.349871222651852,-1.5776090490921089,-2.565456855272234,-2.464713226608877,-2.474007407353778,-2.48778578124202,-1.1946148997011514,-1.7637645726579807,-2.904810353052854,-1.5776933366929726,-1.436937656066195,3.682009331128877,4.132293335495916,3.0390973160637818,3.305254620544974,2.9676921240583596,3.474794765382868,3.519642478887029,4.300985947558154,-1.3733176442580795,2.9624800595992498,2.6158544666114643,2.5845946016159194,2.941492443296929,-0.41436785487003785,-1.6168364385783827,-1.3956452778842163,-2.0210197265747336,-1.2765656922300561,-1.5045542090653277,-0.8733171098522657,-1.4805881405224968,-1.602742222006255,3.5957209684265172,2.9676921240583596,3.107232603303507,2.594003722363277,2.9662746186529687,3.8226689053493255,3.5084337349446315,2.967159875512998,3.7463453152015447,0.41335709438491075,0.3597526657749906,0.3421946163914336,0.23878769864834257,0.0810082227894391,-2.866049628103223,3.864833420299967,4.248720299738776,3.887291316031797,3.9570101695066646,0.3835967153409429,-1.8255614893405632,-1.8367451045742471,-1.3058695008706227,-1.6628407119960877,0.054631879854730094,-1.3465647947639936,3.160386716461281,-2.8186080573681913,-1.5311605188446225,-0.8800607482430881,-0.5807386666692069,2.9469501894738346,-0.5322770370508724,0.5263656142669375,3.6792662752945238,0.12816348798418295,-0.15437678325229054,0.31731396767928427,0.5221651925517721,-2.397697340943553,-1.3947382270138478,-2.7890629061104626,-1.3904600843114623,0.7737990261178289,0.7409751255117988,0.6915679845298545,2.7573084164520236,3.385717606484635,3.221178427093603,2.7791160370018146,2.7800304259927358,-1.6013947111856146,-1.9366926621181901,-1.3721363497723134,-2.4711911279415433,-2.4330947646473953,-1.5480208194478073,-1.6872491053791772,-1.2869762593905378,-0.9477377417737065,-1.1836404215426428,-1.9805779524383569,0.41730825512105446,0.7921925239020008,-0.3388230722392161,-0.2993386953714516,4.286269497473943,3.2332094138720944,3.114747359919157,3.4681554502867034,0.37490216758004086,0.715829802396027,0.6667758078053652,0.32307183058488836,0.6617666729231458,1.6800898705300664,2.3110124219217028,-1.6820204305482918,-1.2222346820163346,0.3246650684351466,-1.5140940014191426,-0.5782181540857332,-1.8085228858094065,-1.1802180438685115,0.2162813599267583,-1.6603806925475617,0.2212755376340273,-0.8847400890352488,-1.0698754720318209,-0.605988265626667,-0.390389920068771,-2.430336566108506,-1.2464801507980103,-1.5925316932068858,-0.8603822361023272,-1.7932636270439022,-1.4407214207707295,2.943516350553973,3.135005780963897,2.395445673830512,3.365636180836592,0.548407192770817,0.926675741307063,-0.2538796965949838,0.07225722241913933,-2.947483542026803,-2.684294030640025,-1.686303754151533,-2.4173750353065198,0.48665814709056504,-0.1734952722606806,0.9423060508298874,0.30607926690078224,-1.4418220746718629,-2.04383657546572,-1.742914062378834,-0.9792778238754412,-0.544674294280421,2.967715397131804,-1.5279985938995129,0.13828167853987997,0.7150648927643652,3.9415654473340216,3.2747343536805014,2.3327323295486115,2.759411332267108,-2.171594885878508,-1.3958467414742726,-2.544081620279115,-1.1237590190785431,-2.0433596318628107,2.8897510935723543,1.431802477350049,2.9451423001102373,2.5860183081384043,0.845699328111855,0.5629094324115018,0.4747832920234028,0.34146455179886354,4.226503980837362,3.769001664243466,4.285020018939601,3.1706308913958527,-1.575705293780809,-0.9105720464460946,-1.9140199950342036,-0.9160707139256948,-2.0446384089093828,-1.6050531039770985,-1.9524187227645735,-1.3824918483447441,-0.0021821057541927167,-0.410666824761793,-0.9193907771755612,-2.917133900322888,-1.8070558190983066,-2.647245907656154,-2.205983525184493,-2.185729359730311,1.4924548996253708,2.710075591316474,2.5757919619479948,0.32699584574620366,-0.05238073086883329,0.009538241897180803,-0.898187875988516,0.42649708825083393,0.19478700674114346,0.6800401532322827,-0.04774125998487944,0.4812318927026912,1.1330439382190836,2.5417318515032727,1.8781840057888761,2.576780164326709,2.840354841981353,-1.8501626480584197,-0.7634173688840333,-1.0206428112063988,-1.414907050599152,-0.86663267169701,-0.7329739617444242,-1.0954431515294116,-0.9871915974745593,-0.4481647660757797,0.7786327007886187,-0.6054254058873088,0.7595306124219205,-1.737808703528434,-1.8744335646386554,0.7972665240253105,-0.28740176512766435,-1.0483271821111222,0.09627250961147298,0.6064020244271445,2.2786700263758624,2.443951915329245,2.968362000287825,2.4337052569293096,3.213036695129494,2.938454061703625,1.93996484899603,3.2001090405717396,-1.6579104300898742,-1.8849543949236098,-1.5436208086497918,-1.0813934569464168,-0.7095586774720827,2.2037267474152955,-1.3342305296348471,-1.582850017714229,-2.382885475236167,-1.6512317293259893,-0.9218111763523147,0.6760082075306104,0.5279979900346499,-0.6233518128327377,-1.5097003745300974,-2.41163919090905,-1.7119950448328454,-2.0156121158352893,-0.9820950760509435,-1.1633288143052578,-1.2649326660258717,0.06264752947606543,-1.6039688105563268,-0.9173907074781977,-1.5535870630051836,-1.0546138196922183,-1.471098442398546,-2.158577372574039,-0.4037579424085656,-2.331993239234043,-2.88651003303561,-1.458116311545381,-1.6961403901222152,-1.7212530733212685,-2.3404312295590377,-2.0693281293703474,-1.9991946150581315,-1.072193919358719,-0.5092806171295922,-1.737700811322148,-1.1483976766506017,-1.0784798856251567,-0.6897765964775652,0.5101600138692841,-0.8448490895308123,-2.363318446869231,-2.1112115535975144,-2.2186232012227496,-2.088642610879375,-2.4342546548412,-2.1425040268707862,-1.9158965368029417,-1.645297535046707,-1.9159952579093171,-2.309831932212992,-1.4128130899085212,-1.5145789657173097,-1.4034229731070367,-1.6304180456727566,-0.8129659355244703,-1.6188625257110352,-1.3663339937788608,-0.7706583015502151,0.6695684692109837,0.47953036173766583,0.7706908791383552,-0.0627264956054663,0.3114797957922791,-1.6452481924541624,-1.495841459322368,-1.556612250294013,-1.2640358043305029,-1.1674908439446219,-1.1442862886127176,-0.8891226964807543,-1.2986837719886148,-1.674138479401987,-2.178431442890128,-2.1317630689684006,-1.6702667094448593,-1.942475252824026,-1.1965162252454298,-1.4192118503535849,-1.7736131526046883,-1.8117624747201613,-1.9024931903340614,-1.9503367656766155,0.18135281682809062,0.18706324323873325,-0.7225295523914879,0.6185552169427994,-0.6018269786415418,-0.8662926596664853,-0.9319796758826329,-0.9128718076862675,-0.7272414251071215,-1.592542510211982,-1.6049155599388896],\"y\":[-0.5864433012356629,-0.7088062964228754,-1.0094071612034354,-0.6852293905256757,-1.1801739137908416,-0.9130601296605073,-1.7012095851208586,-1.2442418592131883,-1.9830873852421336,-1.2407445213101171,-0.7425688370769695,0.028258174333292037,-0.0010415898170171782,0.13591462572750543,-1.0306798666469459,1.093473340033036,0.28573748528226,-0.8904533066772069,0.12316697152421505,-1.7239762498547402,-0.2087715959489513,0.08438015224451631,-1.0306798666469459,-0.5433381322875098,-1.1563351383399345,0.6114708276149046,-0.887248768030685,0.3060784840955381,0.32413794689518,0.3504353531653807,0.27158478100835387,-0.31402688262322187,-0.31617884758678694,0.23161735680134185,-0.024447959806875558,-0.15735749911038224,-0.004707705095067821,0.1463109313185141,-0.552617419351588,0.8090808962178287,0.12783454081145487,-0.07137155395387976,-1.1138268163946308,-1.179184863643357,0.7311392796496533,-1.0380648645035884,0.4274183022515635,-0.003737857603197475,0.519798905803894,1.057074924822546,-0.6059351902425961,-0.12417832982734814,2.3041217564025778,0.9289090869791019,-0.22922024603346317,-0.2865195467990528,-0.17319735402375916,0.168469928021567,0.04462412591964346,-0.7605005189830562,0.37064445779646704,0.3354595901695189,-0.02828025873636056,-1.4965098838135062,-0.314571794294909,0.3705853745548171,1.1179698015967106,0.32033840700471106,-0.719369019431864,0.45010988808491537,1.1408675741247651,0.2869559698818046,-0.3341146592245644,-0.09432295956267292,-0.8548723313763648,-0.8127732194275074,-0.33772161476849005,-0.03876387150171082,-0.7605005189830562,0.008147698878782833,0.4915164001489375,-0.33585898657020097,-0.0611746729574735,0.12793239722757796,0.5644622584442994,-0.8429308855301679,0.5243311061159465,1.1846226996874605,0.30284417214706366,0.58434599711647,0.23471813518286413,1.3185536512866614,0.8700394261364788,0.248847028939965,0.2309582857959472,-0.06204277251251847,-0.1160004064988247,0.6200967878631584,0.9825320540783978,-0.2170008623000991,0.5151252685145811,-0.7755719122991306,-0.6250538404387753,0.047927538378350704,0.6880426044560269,-0.5879783492974497,-0.991995757370402,-0.394049382588151,-1.0250651831341162,-1.005026061163686,-0.8554155466243182,-0.9446466994094388,0.49492319833504383,0.6011893729901082,0.28422382174301064,0.8563407343703754,0.51168114295428,-0.11514077991275731,1.1597332038476766,0.15070349906259914,1.0446601873204568,1.31864111153378,0.7325404788158117,0.3475678196286709,0.822557955159752,0.30473703779668215,1.2635470865738523,0.8983733941059957,-0.2696882050160625,-0.7177117942184741,-0.9273013284040466,-0.45647906423128504,0.5607947187705271,-1.0056184739650997,-0.6599857275896923,-1.0799781074911672,-0.6856530713348987,-0.561605930053243,-0.5256402859538519,0.43987003391332646,0.539847967218385,2.39629641499611,1.7511019557508654,-0.21412999441801187,0.5522564529701186,0.6749147915228867,0.4601999547612948,2.4406956423200024,1.6072725233648,1.7129406828288714,1.718832828292237,-0.04359492438542778,-0.20209896194941504,-0.734846690873937,-0.44322146867320666,0.16660388765337866,0.28972528890784455,0.6916725645644927,-1.0942308466136224,-0.2459174198748665,0.041743813741814434,-0.3197579735725212,-1.2458735016391018,0.7996759021212335,-0.6023903512097982,0.2463463397212182,-0.6702799566035319,-1.1925025975556887,-0.015674690245894768,-0.510663371297115,-0.08664458627486607,-0.6309791181234979,0.1815135044614263,-0.6944077343719118,0.03192395496023456,0.01533187969269209,0.3033180781282938,0.013596680162167502,0.19933682941430356,-0.03425060866592969,0.8928679494352526,0.958050173201266,1.7355871282072697,1.755170837150755,-1.1753081071055256,-0.050957387512683444,1.1877321953889357,2.4375275988364824,0.6734085235282018,1.1094498157188075,-1.9178131192248622,-0.1747419654243493,-0.3088617161166189,-1.0297439604288194,-0.15510700182347054,-0.019900171251305526,2.107656907531763,-0.05369847266817878,0.7320775266039999,-0.2535331456269968,-0.31632555840110965,0.6171466367170121,0.1840712972295959,0.4094851312445341,-0.8617233773999123,0.34594427893467483,-0.5821674501581325,-0.26435090014388885,-0.3019762459727301,2.089594238654619,0.2568694091237692,0.7617195967620994,0.6910751953229909,0.8058457171599965,1.1788452099688196,1.6482648035508154,-0.5762860810991263,-0.5600615542870786,-0.17517775938202398,0.6736161901222472,-1.0796496498917532,-0.13768648619433035,0.37277771069570187,-0.22656023003737494,-0.10149805140675308,-0.5423237172118742,-0.35565495878685,-1.1149829934813322,-0.4401692478660611,-1.4538098152797625,-1.3527761463218047,1.4898017086016369,-1.1344996981981759,0.7128222993194883,0.4236363733970866,-0.4236738039937184,0.560582935889376,-0.0752178012247671,-0.31432228551175134,1.6638986303062584,1.121069486403745,0.22531496875602092,-0.37935903393957343,0.9177937672528195,0.8698181068728994,0.3986925070393636,0.5872941712576955,1.49600400949945,0.1700584838946869,-0.24754871587439722,-0.6092025434482783,-1.0333097121776214,0.24719615986822593,-0.24961793808109792,-0.9042012872455519,-0.8734397199623375,-0.9318482261740987,-0.7115486438307854,0.06774511577202527,0.4849343775894104,-0.7584393983281797,-0.10460550113532793,-0.6749517182546504,-0.36380772472947104,0.19037984247595163,-0.910999483374605,-0.22279903645251517,0.16899482209617167,1.082679447706695,0.3629544770541533,1.2459205175458476,0.6450380236002212,0.7514487964649402,-0.005595410396777384,0.08870891137805156,0.6863573110515498,0.8045092705002402,0.5061398595945822,0.4522704005588784,-0.008326667851705799,-1.2560510945998682,-0.7985045372500897,-1.1298436587239005,-0.553658364722254,1.8569307256276277,1.5862182284456563,-1.3875008464405805,-0.8088544820006948,0.6298912055613747,-0.9121196772850545,-0.17359702599168084,-1.6660990307534613,-1.0571409473842688,-1.2097561845995253,-0.9145105967388186,0.4902954376780734,-0.6235438081794704,-0.35649181964457816,0.006201978597542651,0.6367522595502535,1.4139157593227654,1.4577342022591873,-0.5160235195097526,-0.36590642804977574,0.28800322447598026,-0.6951660597269184,-0.664190638801637,0.21125890951108214,-0.7204814833590373,0.6679782859333013,1.6026860813262427,1.451098874050492,2.18077448199161,-1.341869836557401,-0.09676475943830146,0.2765785625874093,-0.8029385648981106,-0.6135112625887073,-0.7206148695389881,-0.011047148902274567,-0.3680485220814575,-0.028416114100499407,-0.7557884861892968,-1.136691156977802,-1.4003989726521087,-0.28348485933444667,-0.41428752070784575,-0.5660063675307739,0.17215798550100966,0.6814130599089877,-0.010530714270735403,-0.5116635036619853,-0.7593417534538213,-0.39258602329615067,1.3369039306492683,-1.0514802817190607,-0.4542954041595095,-0.9716833429870366,-0.06369635107064978,-0.7142831239892503,0.6127650798597586,1.6277073264746351,1.5693092776212754,-1.0912731505645297,-0.710784737045637,0.3977860117471494,0.7147621799103016,0.7680636389961747,0.9990881610570644,0.6610728307560427,0.3456951505872904,-0.2037883568756001,-0.24738878791423227,0.5595642551682529,0.02225594697804148,1.568588621411047,-0.7522404659855515,0.2814834274837671,0.046511805877972295,-0.8679942283593246,0.013660691532269426,-0.9730033481309929,-0.9385165946298,-0.057130443245368895,-0.8698106444362587,-0.6228317635687413,-0.4337225837774913,0.31279859554863937,0.7911194839067299,-0.7353174312893691,-0.24010529871309477,-0.9492011990168703,-1.371464122113975,0.40357117741144916,-0.27288309960864676,-1.8971611174922824,0.6986631361819463,1.0097411729562564],\"z\":[0.7032675302057669,0.13433590902389972,0.4614897015788909,0.38594194082267586,0.6089233331763622,-0.4949286754559572,-0.14815353891276548,0.25759978747164525,0.38508432719658464,0.5681570266593803,-0.3302743626770169,0.4257831595181658,0.4228886647805997,0.7034614031894262,-0.10874999774103512,0.5075693122664418,-0.4534409513667019,-0.26643791394546074,-0.4597540440145863,-0.4470822071430542,0.6269099204857073,-1.1456801953207434,-0.10874999774103512,-0.14483079092962217,-0.21695987334424835,0.22788924208416145,0.6278370408405692,0.021358346205844692,0.22395139356005458,0.44421986406352315,0.19947953505009175,-0.1414085785390793,-0.2943861042693592,0.031770947372021886,0.0513011410270175,-0.6651117410489165,-0.3684383612054055,-0.649080949632913,0.33697539678971206,-0.0533748021060868,0.2682726448200991,0.56690970838511,-0.03545171338757339,-0.07147088741130223,-0.0266977003315186,0.10791773889188981,0.20931662619325947,0.26402777919212045,0.330014972409014,0.01956438610131415,-0.305020611125305,-0.07321867844644701,0.03607682908968494,-0.3849227821991449,-0.1440602700857234,-0.17348216139556272,-0.2765339487614511,0.010927407657001823,0.06523652443448742,0.2891394275141931,-0.17692050754257407,-0.24044961201850104,-0.5746027996897367,-0.7842252347359876,0.13832351822615155,0.32564599224663066,-0.0404586641753054,0.018417328703584392,-0.859269450940099,-0.1781081749600982,-0.6646103474119684,0.039410341371865186,-0.20632200185645472,-0.36134326022460506,-0.3923721802899472,-0.006209306919126284,-0.17846514027793017,-0.3023374792868737,0.2891394275141931,0.2702917652350827,0.1990132997351323,0.22983800054803896,0.11562097379247684,-0.13645570619244535,-0.08166261275311588,-0.055314520638529784,0.13601301502223553,0.14346890182835934,0.3475997809289481,0.5406172626385312,0.36961935458803513,0.42969415894115315,-0.23190074025519022,-0.4167819032559504,-0.46464082321868216,-0.5643176827395235,0.4668355470967598,-0.37243877134795145,-0.07105030760843735,-0.3922891941349952,-0.2527820760868094,0.35356782593038527,-0.24963096862404946,0.22390843002724486,0.410280689546065,0.10655196788222203,-0.3201721803422371,-0.869455035395867,0.4797469718202738,-0.6689398863493059,-0.046803405328310475,-0.08890675199939736,0.2507887031536982,0.467355192429985,0.36931112932410615,0.1571085644379024,0.10735481002620785,-0.15161141193047079,0.09371158818478038,-0.08671379154572072,-0.06247211819494591,-0.18379547940532567,-0.10675933521453164,0.11955595009599687,-0.23015997055319057,-0.14796018741665487,-0.21020193344654103,-0.16855948744316354,-0.14847364278760636,0.248847179047791,-0.02018008821696111,0.6127596046672178,0.19460927786071375,0.10052380870721066,0.06665311691127039,0.12651802206028304,-0.4051132884297618,-0.33870583718906844,0.2094603251502824,0.25903538108128227,0.05244731184736963,0.42357474163266917,0.6221659803345303,-0.3088204781214996,0.004997837136207629,-0.21045038391530344,-0.13020190761994235,-0.5133232403563578,-0.2693272109123321,-0.2744117408704291,-0.12482422344359316,0.16853745458526817,1.0126743347306253,0.8733978395148939,0.03182128619753062,-0.2725411777120669,0.3628964127528094,-0.2265109287329328,-0.3948128221619567,0.03663024580472972,-0.5197477420453746,0.2919876621741476,0.30064739512260397,0.34654030846042594,-0.4841949702288557,-0.5653522214024793,-0.6237541972130836,-0.739465472135562,0.518465175806857,-0.25649216641546035,-0.08667692881496332,-0.3059456622458145,-0.14796660819256335,-0.08192368521386692,0.13275105820820915,0.004917805819179953,0.5619838965128022,0.04849800704784717,0.21346018094890212,0.1681406748586274,0.4951167134569213,0.38335821484102767,0.2037660566416787,0.03865993453825831,0.2921955616601537,0.5226910925380822,-0.08999371362327739,0.2500335002723484,-0.134011644901841,0.2999583953032284,0.43211813660270254,0.13530011835986505,0.022812655052687533,0.09735466278825677,-0.8222507659464654,0.11982590642012762,-0.9268687786798853,0.04942170305005358,-0.6175943354840594,-0.4886946872004455,0.2794904702183433,0.38347361599565355,0.17730492377724097,0.11154853372679295,0.038968903061421804,0.34114764220127375,-0.31077030794342253,0.16595673995372687,0.2329556211656957,0.3612859882746613,0.08623570785687586,0.17798764481910212,-0.08078351133259226,-0.015995369158303487,-0.07963147916195194,0.013821052598907766,-0.24331047404217465,-0.18056906210016274,-0.5140613950794628,-0.030818946327255525,0.15745821683433195,-0.3390283247350227,-0.10753221709726003,-0.38254198515509263,0.2582039786212408,-0.052062820379738355,0.24466114196554586,0.05100194969583457,0.3132916335782822,-0.5886225013993887,-1.1760228583591392,0.3394187952523525,0.4401947880265905,0.3293792556022998,0.028210271759975408,0.44176479588803635,0.8521336905637874,0.3934357170392986,0.46926650674021775,-0.16746982496437682,0.15776280022324832,0.5253930163480188,-0.33112246099259796,0.04018605174489213,0.3385819147342293,0.052694503016584536,0.43554859346036545,-0.2894109137988521,-0.12415493743868394,0.4278892840425041,-0.9126850664136037,0.716986678172381,0.20206942437568365,0.14178849736340057,-0.3370803302638042,-0.30165892184506643,0.085965042814217,-0.3402310425197435,-0.6518324016985362,-0.4116521626976326,-0.3619219276141439,-0.29078092922209686,-0.2496966973117747,-0.8936221675179604,-0.6138593259369454,0.2167328782905099,0.1474313753572473,-0.03624213035146467,0.41163502139227576,-0.49529963404898614,0.2691835619280304,-0.07237233101719041,0.38882362244108754,0.5398825119207449,0.40132520211093914,0.348267939814297,-0.16601489923171597,0.23700771830348313,0.5135401968146364,0.23258447784075176,0.28683971172801964,0.30747904167022255,0.14201268779536888,-0.19876945696253911,-0.23615344355712414,0.4726834552258621,0.2419324847513439,0.19476388713319615,0.11375409052889661,0.19556106913671212,-0.33897847613470816,0.3137136460608846,0.19428780605465526,-0.16440067772749486,0.08531910387449489,0.25247793112621175,0.16682712250709072,0.23505669250036285,-0.3640555776808626,-0.5192381731737155,-0.676556494287385,0.1734305125401257,-0.01985175526248562,-0.38029931560043106,-0.15751325042002443,-0.2942302643531309,0.04656371620949199,0.12676492553290894,-0.5817755023743056,0.0693445142660734,0.281622988164543,0.07697148844324252,-0.4860484335968692,0.4062483788061808,0.40605112491011797,0.09809611646536895,0.42658717134084645,-0.2545908565194925,-0.5483783928432207,0.007414127286346116,-0.17374467477761787,-0.2351389534784222,-0.26876528575531894,0.2808568951855833,-0.003607833996686909,0.4475290081698525,0.32335748098959843,0.4493451979227665,0.14602312882810645,0.12750704519785802,0.24091369078435734,0.2294183798562746,0.2834085695577419,0.26048101795112655,-0.0949875465989579,0.13562584892675458,-0.07753531916523299,0.10502674179233167,-0.0629933290716656,-0.5130547549023284,-0.2199650132726911,-0.6536253375325299,0.28720447336049,0.07861467372434944,-0.11051824775282965,-0.05080322009588346,0.3718429244918453,0.30695315839414405,-0.5214032193403398,-0.4964144427969642,-0.35016620702748325,-0.311182458984922,-0.20369281574016904,-0.4555703936156944,-0.5139122559364938,-0.7092502327724004,0.19276310949653228,0.11671062231917788,0.16920530820047622,0.33626997928301544,0.08829342266377024,-0.06643283332773832,0.10326802374237447,0.07081925884732886,0.2987918083623163,0.2692103912437403,0.23327761550000684,0.031583267510509085,0.6039866419369891,-0.2557208117176683,0.24986947179814833,-0.36862428123638546,-0.0004321546841081678,-0.5320785197916408,-0.3396241430553627,0.09573865977206321,-0.3139356984474229,-0.4488397004083794],\"type\":\"scatter3d\"}],                        {\"template\":{\"data\":{\"histogram2dcontour\":[{\"type\":\"histogram2dcontour\",\"colorbar\":{\"outlinewidth\":0,\"ticks\":\"\"},\"colorscale\":[[0.0,\"#0d0887\"],[0.1111111111111111,\"#46039f\"],[0.2222222222222222,\"#7201a8\"],[0.3333333333333333,\"#9c179e\"],[0.4444444444444444,\"#bd3786\"],[0.5555555555555556,\"#d8576b\"],[0.6666666666666666,\"#ed7953\"],[0.7777777777777778,\"#fb9f3a\"],[0.8888888888888888,\"#fdca26\"],[1.0,\"#f0f921\"]]}],\"choropleth\":[{\"type\":\"choropleth\",\"colorbar\":{\"outlinewidth\":0,\"ticks\":\"\"}}],\"histogram2d\":[{\"type\":\"histogram2d\",\"colorbar\":{\"outlinewidth\":0,\"ticks\":\"\"},\"colorscale\":[[0.0,\"#0d0887\"],[0.1111111111111111,\"#46039f\"],[0.2222222222222222,\"#7201a8\"],[0.3333333333333333,\"#9c179e\"],[0.4444444444444444,\"#bd3786\"],[0.5555555555555556,\"#d8576b\"],[0.6666666666666666,\"#ed7953\"],[0.7777777777777778,\"#fb9f3a\"],[0.8888888888888888,\"#fdca26\"],[1.0,\"#f0f921\"]]}],\"heatmap\":[{\"type\":\"heatmap\",\"colorbar\":{\"outlinewidth\":0,\"ticks\":\"\"},\"colorscale\":[[0.0,\"#0d0887\"],[0.1111111111111111,\"#46039f\"],[0.2222222222222222,\"#7201a8\"],[0.3333333333333333,\"#9c179e\"],[0.4444444444444444,\"#bd3786\"],[0.5555555555555556,\"#d8576b\"],[0.6666666666666666,\"#ed7953\"],[0.7777777777777778,\"#fb9f3a\"],[0.8888888888888888,\"#fdca26\"],[1.0,\"#f0f921\"]]}],\"heatmapgl\":[{\"type\":\"heatmapgl\",\"colorbar\":{\"outlinewidth\":0,\"ticks\":\"\"},\"colorscale\":[[0.0,\"#0d0887\"],[0.1111111111111111,\"#46039f\"],[0.2222222222222222,\"#7201a8\"],[0.3333333333333333,\"#9c179e\"],[0.4444444444444444,\"#bd3786\"],[0.5555555555555556,\"#d8576b\"],[0.6666666666666666,\"#ed7953\"],[0.7777777777777778,\"#fb9f3a\"],[0.8888888888888888,\"#fdca26\"],[1.0,\"#f0f921\"]]}],\"contourcarpet\":[{\"type\":\"contourcarpet\",\"colorbar\":{\"outlinewidth\":0,\"ticks\":\"\"}}],\"contour\":[{\"type\":\"contour\",\"colorbar\":{\"outlinewidth\":0,\"ticks\":\"\"},\"colorscale\":[[0.0,\"#0d0887\"],[0.1111111111111111,\"#46039f\"],[0.2222222222222222,\"#7201a8\"],[0.3333333333333333,\"#9c179e\"],[0.4444444444444444,\"#bd3786\"],[0.5555555555555556,\"#d8576b\"],[0.6666666666666666,\"#ed7953\"],[0.7777777777777778,\"#fb9f3a\"],[0.8888888888888888,\"#fdca26\"],[1.0,\"#f0f921\"]]}],\"surface\":[{\"type\":\"surface\",\"colorbar\":{\"outlinewidth\":0,\"ticks\":\"\"},\"colorscale\":[[0.0,\"#0d0887\"],[0.1111111111111111,\"#46039f\"],[0.2222222222222222,\"#7201a8\"],[0.3333333333333333,\"#9c179e\"],[0.4444444444444444,\"#bd3786\"],[0.5555555555555556,\"#d8576b\"],[0.6666666666666666,\"#ed7953\"],[0.7777777777777778,\"#fb9f3a\"],[0.8888888888888888,\"#fdca26\"],[1.0,\"#f0f921\"]]}],\"mesh3d\":[{\"type\":\"mesh3d\",\"colorbar\":{\"outlinewidth\":0,\"ticks\":\"\"}}],\"scatter\":[{\"fillpattern\":{\"fillmode\":\"overlay\",\"size\":10,\"solidity\":0.2},\"type\":\"scatter\"}],\"parcoords\":[{\"type\":\"parcoords\",\"line\":{\"colorbar\":{\"outlinewidth\":0,\"ticks\":\"\"}}}],\"scatterpolargl\":[{\"type\":\"scatterpolargl\",\"marker\":{\"colorbar\":{\"outlinewidth\":0,\"ticks\":\"\"}}}],\"bar\":[{\"error_x\":{\"color\":\"#2a3f5f\"},\"error_y\":{\"color\":\"#2a3f5f\"},\"marker\":{\"line\":{\"color\":\"#E5ECF6\",\"width\":0.5},\"pattern\":{\"fillmode\":\"overlay\",\"size\":10,\"solidity\":0.2}},\"type\":\"bar\"}],\"scattergeo\":[{\"type\":\"scattergeo\",\"marker\":{\"colorbar\":{\"outlinewidth\":0,\"ticks\":\"\"}}}],\"scatterpolar\":[{\"type\":\"scatterpolar\",\"marker\":{\"colorbar\":{\"outlinewidth\":0,\"ticks\":\"\"}}}],\"histogram\":[{\"marker\":{\"pattern\":{\"fillmode\":\"overlay\",\"size\":10,\"solidity\":0.2}},\"type\":\"histogram\"}],\"scattergl\":[{\"type\":\"scattergl\",\"marker\":{\"colorbar\":{\"outlinewidth\":0,\"ticks\":\"\"}}}],\"scatter3d\":[{\"type\":\"scatter3d\",\"line\":{\"colorbar\":{\"outlinewidth\":0,\"ticks\":\"\"}},\"marker\":{\"colorbar\":{\"outlinewidth\":0,\"ticks\":\"\"}}}],\"scattermapbox\":[{\"type\":\"scattermapbox\",\"marker\":{\"colorbar\":{\"outlinewidth\":0,\"ticks\":\"\"}}}],\"scatterternary\":[{\"type\":\"scatterternary\",\"marker\":{\"colorbar\":{\"outlinewidth\":0,\"ticks\":\"\"}}}],\"scattercarpet\":[{\"type\":\"scattercarpet\",\"marker\":{\"colorbar\":{\"outlinewidth\":0,\"ticks\":\"\"}}}],\"carpet\":[{\"aaxis\":{\"endlinecolor\":\"#2a3f5f\",\"gridcolor\":\"white\",\"linecolor\":\"white\",\"minorgridcolor\":\"white\",\"startlinecolor\":\"#2a3f5f\"},\"baxis\":{\"endlinecolor\":\"#2a3f5f\",\"gridcolor\":\"white\",\"linecolor\":\"white\",\"minorgridcolor\":\"white\",\"startlinecolor\":\"#2a3f5f\"},\"type\":\"carpet\"}],\"table\":[{\"cells\":{\"fill\":{\"color\":\"#EBF0F8\"},\"line\":{\"color\":\"white\"}},\"header\":{\"fill\":{\"color\":\"#C8D4E3\"},\"line\":{\"color\":\"white\"}},\"type\":\"table\"}],\"barpolar\":[{\"marker\":{\"line\":{\"color\":\"#E5ECF6\",\"width\":0.5},\"pattern\":{\"fillmode\":\"overlay\",\"size\":10,\"solidity\":0.2}},\"type\":\"barpolar\"}],\"pie\":[{\"automargin\":true,\"type\":\"pie\"}]},\"layout\":{\"autotypenumbers\":\"strict\",\"colorway\":[\"#636efa\",\"#EF553B\",\"#00cc96\",\"#ab63fa\",\"#FFA15A\",\"#19d3f3\",\"#FF6692\",\"#B6E880\",\"#FF97FF\",\"#FECB52\"],\"font\":{\"color\":\"#2a3f5f\"},\"hovermode\":\"closest\",\"hoverlabel\":{\"align\":\"left\"},\"paper_bgcolor\":\"white\",\"plot_bgcolor\":\"#E5ECF6\",\"polar\":{\"bgcolor\":\"#E5ECF6\",\"angularaxis\":{\"gridcolor\":\"white\",\"linecolor\":\"white\",\"ticks\":\"\"},\"radialaxis\":{\"gridcolor\":\"white\",\"linecolor\":\"white\",\"ticks\":\"\"}},\"ternary\":{\"bgcolor\":\"#E5ECF6\",\"aaxis\":{\"gridcolor\":\"white\",\"linecolor\":\"white\",\"ticks\":\"\"},\"baxis\":{\"gridcolor\":\"white\",\"linecolor\":\"white\",\"ticks\":\"\"},\"caxis\":{\"gridcolor\":\"white\",\"linecolor\":\"white\",\"ticks\":\"\"}},\"coloraxis\":{\"colorbar\":{\"outlinewidth\":0,\"ticks\":\"\"}},\"colorscale\":{\"sequential\":[[0.0,\"#0d0887\"],[0.1111111111111111,\"#46039f\"],[0.2222222222222222,\"#7201a8\"],[0.3333333333333333,\"#9c179e\"],[0.4444444444444444,\"#bd3786\"],[0.5555555555555556,\"#d8576b\"],[0.6666666666666666,\"#ed7953\"],[0.7777777777777778,\"#fb9f3a\"],[0.8888888888888888,\"#fdca26\"],[1.0,\"#f0f921\"]],\"sequentialminus\":[[0.0,\"#0d0887\"],[0.1111111111111111,\"#46039f\"],[0.2222222222222222,\"#7201a8\"],[0.3333333333333333,\"#9c179e\"],[0.4444444444444444,\"#bd3786\"],[0.5555555555555556,\"#d8576b\"],[0.6666666666666666,\"#ed7953\"],[0.7777777777777778,\"#fb9f3a\"],[0.8888888888888888,\"#fdca26\"],[1.0,\"#f0f921\"]],\"diverging\":[[0,\"#8e0152\"],[0.1,\"#c51b7d\"],[0.2,\"#de77ae\"],[0.3,\"#f1b6da\"],[0.4,\"#fde0ef\"],[0.5,\"#f7f7f7\"],[0.6,\"#e6f5d0\"],[0.7,\"#b8e186\"],[0.8,\"#7fbc41\"],[0.9,\"#4d9221\"],[1,\"#276419\"]]},\"xaxis\":{\"gridcolor\":\"white\",\"linecolor\":\"white\",\"ticks\":\"\",\"title\":{\"standoff\":15},\"zerolinecolor\":\"white\",\"automargin\":true,\"zerolinewidth\":2},\"yaxis\":{\"gridcolor\":\"white\",\"linecolor\":\"white\",\"ticks\":\"\",\"title\":{\"standoff\":15},\"zerolinecolor\":\"white\",\"automargin\":true,\"zerolinewidth\":2},\"scene\":{\"xaxis\":{\"backgroundcolor\":\"#E5ECF6\",\"gridcolor\":\"white\",\"linecolor\":\"white\",\"showbackground\":true,\"ticks\":\"\",\"zerolinecolor\":\"white\",\"gridwidth\":2},\"yaxis\":{\"backgroundcolor\":\"#E5ECF6\",\"gridcolor\":\"white\",\"linecolor\":\"white\",\"showbackground\":true,\"ticks\":\"\",\"zerolinecolor\":\"white\",\"gridwidth\":2},\"zaxis\":{\"backgroundcolor\":\"#E5ECF6\",\"gridcolor\":\"white\",\"linecolor\":\"white\",\"showbackground\":true,\"ticks\":\"\",\"zerolinecolor\":\"white\",\"gridwidth\":2}},\"shapedefaults\":{\"line\":{\"color\":\"#2a3f5f\"}},\"annotationdefaults\":{\"arrowcolor\":\"#2a3f5f\",\"arrowhead\":0,\"arrowwidth\":1},\"geo\":{\"bgcolor\":\"white\",\"landcolor\":\"#E5ECF6\",\"subunitcolor\":\"white\",\"showland\":true,\"showlakes\":true,\"lakecolor\":\"white\"},\"title\":{\"x\":0.05},\"mapbox\":{\"style\":\"light\"}}},\"scene\":{\"domain\":{\"x\":[0.0,1.0],\"y\":[0.0,1.0]},\"xaxis\":{\"title\":{\"text\":\"PC1\"}},\"yaxis\":{\"title\":{\"text\":\"PC2\"}},\"zaxis\":{\"title\":{\"text\":\"PC3\"}}},\"legend\":{\"tracegroupgap\":0},\"title\":{\"text\":\"Interactive 3D Projection of the First Three Principal Components\",\"font\":{\"size\":20}},\"width\":1200,\"height\":900},                        {\"responsive\": true}                    ).then(function(){\n",
       "                            \n",
       "var gd = document.getElementById('490f4790-f1ea-4db5-bf81-cb1301fa5a1d');\n",
       "var x = new MutationObserver(function (mutations, observer) {{\n",
       "        var display = window.getComputedStyle(gd).display;\n",
       "        if (!display || display === 'none') {{\n",
       "            console.log([gd, 'removed!']);\n",
       "            Plotly.purge(gd);\n",
       "            observer.disconnect();\n",
       "        }}\n",
       "}});\n",
       "\n",
       "// Listen for the removal of the full notebook cells\n",
       "var notebookContainer = gd.closest('#notebook-container');\n",
       "if (notebookContainer) {{\n",
       "    x.observe(notebookContainer, {childList: true});\n",
       "}}\n",
       "\n",
       "// Listen for the clearing of the current output cell\n",
       "var outputEl = gd.closest('.output');\n",
       "if (outputEl) {{\n",
       "    x.observe(outputEl, {childList: true});\n",
       "}}\n",
       "\n",
       "                        })                };                });            </script>        </div>"
      ]
     },
     "metadata": {},
     "output_type": "display_data"
    }
   ],
   "source": [
    "import plotly.express as px\n",
    "import pandas as pd\n",
    "\n",
    "# Create a DataFrame for the first three principal components\n",
    "projected_3d_df = pd.DataFrame(pca_result[:, :3], columns=['PC1', 'PC2', 'PC3'])\n",
    "\n",
    "# Create an interactive 3D scatter plot\n",
    "fig = px.scatter_3d(\n",
    "    projected_3d_df,\n",
    "    x='PC1',\n",
    "    y='PC2',\n",
    "    z='PC3',\n",
    "    title='Interactive 3D Projection of the First Three Principal Components',\n",
    "    opacity=0.7\n",
    ")\n",
    "# Customize the layout for a larger figure\n",
    "fig.update_layout(\n",
    "    width=1200,  # Increase width\n",
    "    height=900,  # Increase height\n",
    "    title_font=dict(size=20),\n",
    ")\n",
    "\n",
    "# Reduce marker size for smaller data points\n",
    "fig.update_traces(marker=dict(size=3))  # Adjust the size of the data points\n",
    "\n",
    "# Show the interactive plot\n",
    "fig.show()\n"
   ]
  },
  {
   "cell_type": "code",
   "execution_count": 52,
   "id": "8b30f190-4cc7-424b-830a-49f2c91db2ed",
   "metadata": {},
   "outputs": [
    {
     "name": "stderr",
     "output_type": "stream",
     "text": [
      "C:\\Users\\Katerina\\anaconda3\\Lib\\site-packages\\sklearn\\cluster\\_kmeans.py:1429: UserWarning:\n",
      "\n",
      "KMeans is known to have a memory leak on Windows with MKL, when there are less chunks than available threads. You can avoid it by setting the environment variable OMP_NUM_THREADS=2.\n",
      "\n"
     ]
    },
    {
     "data": {
      "image/png": "[encoded data removed]",
      "text/plain": [
       "<Figure size 800x600 with 2 Axes>"
      ]
     },
     "metadata": {},
     "output_type": "display_data"
    },
    {
     "name": "stdout",
     "output_type": "stream",
     "text": [
      "Cluster Centers (in PCA space):\n",
      "Cluster 1: [ 0.40402646  0.53582964  0.1858504  -0.07133396 -0.03323612]\n",
      "Cluster 2: [-1.54616872e+00 -2.04962152e-01 -9.31655197e-02  6.78562734e-04\n",
      "  1.43447447e-02]\n",
      "Cluster 3: [ 3.24388864e+00 -4.67138796e-02  3.58137563e-02  6.89151218e-02\n",
      " -9.46740458e-04]\n",
      "\n",
      "Cluster Sizes:\n",
      "Cluster 0: 86 samples\n",
      "Cluster 1: 205 samples\n",
      "Cluster 2: 87 samples\n"
     ]
    },
    {
     "data": {
      "application/vnd.plotly.v1+json": {
       "config": {
        "plotlyServerURL": "https://plot.ly"
       },
       "data": [
        {
         "hovertemplate": "color=2<br>Principal Component 1=%{x}<br>Principal Component 2=%{y}<br>Principal Component 3=%{z}<extra></extra>",
         "legendgroup": "2",
         "marker": {
          "color": "#636efa",
          "symbol": "circle"
         },
         "mode": "markers",
         "name": "2",
         "scene": "scene",
         "showlegend": true,
         "type": "scatter3d",
         "x": [
          2.539196325037161,
          3.4182793282806507,
          2.9678725531635965,
          2.7677373099983464,
          2.819657246594083,
          4.835159107268003,
          4.4468390840377445,
          3.772277469274207,
          3.7044145229454712,
          3.74918226529349,
          4.0290798399547905,
          3.6452538273495656,
          4.241773063329931,
          3.254583698757858,
          3.081851667806123,
          4.506706358998874,
          4.265568447999188,
          4.559222648624844,
          3.682009331128877,
          4.132293335495916,
          3.0390973160637818,
          3.305254620544974,
          2.9676921240583596,
          3.474794765382868,
          3.519642478887029,
          4.300985947558154,
          2.9624800595992498,
          2.6158544666114643,
          2.5845946016159194,
          2.941492443296929,
          3.5957209684265172,
          2.9676921240583596,
          3.107232603303507,
          2.594003722363277,
          2.9662746186529687,
          3.8226689053493255,
          3.5084337349446315,
          2.967159875512998,
          3.7463453152015447,
          3.864833420299967,
          4.248720299738776,
          3.887291316031797,
          3.9570101695066646,
          3.160386716461281,
          2.9469501894738346,
          3.6792662752945238,
          2.7573084164520236,
          3.385717606484635,
          3.221178427093603,
          2.7791160370018146,
          2.7800304259927358,
          4.286269497473943,
          3.2332094138720944,
          3.114747359919157,
          3.4681554502867034,
          2.3110124219217028,
          2.943516350553973,
          3.135005780963897,
          2.395445673830512,
          3.365636180836592,
          2.967715397131804,
          3.9415654473340216,
          3.2747343536805014,
          2.3327323295486115,
          2.759411332267108,
          2.8897510935723543,
          2.9451423001102373,
          2.5860183081384043,
          4.226503980837362,
          3.769001664243466,
          4.285020018939601,
          3.1706308913958527,
          2.710075591316474,
          2.5757919619479948,
          2.5417318515032727,
          1.8781840057888761,
          2.576780164326709,
          2.840354841981353,
          2.2786700263758624,
          2.443951915329245,
          2.968362000287825,
          2.4337052569293096,
          3.213036695129494,
          2.938454061703625,
          1.93996484899603,
          3.2001090405717396,
          2.2037267474152955
         ],
         "y": [
          -0.5864433012356629,
          -0.7088062964228754,
          -1.0094071612034354,
          -0.6852293905256757,
          -1.1801739137908416,
          -0.9130601296605073,
          -1.7012095851208586,
          -1.2442418592131883,
          -1.9830873852421336,
          -1.2407445213101171,
          0.08438015224451631,
          -0.31402688262322187,
          -0.31617884758678694,
          0.23161735680134185,
          -0.024447959806875558,
          -0.15735749911038224,
          -0.004707705095067821,
          0.1463109313185141,
          -0.2865195467990528,
          -0.17319735402375916,
          0.168469928021567,
          0.04462412591964346,
          -0.7605005189830562,
          0.37064445779646704,
          0.3354595901695189,
          -0.02828025873636056,
          -0.314571794294909,
          0.3705853745548171,
          1.1179698015967106,
          0.32033840700471106,
          -0.03876387150171082,
          -0.7605005189830562,
          0.008147698878782833,
          0.4915164001489375,
          -0.33585898657020097,
          -0.0611746729574735,
          0.12793239722757796,
          0.5644622584442994,
          -0.8429308855301679,
          0.8700394261364788,
          0.248847028939965,
          0.2309582857959472,
          -0.06204277251251847,
          0.047927538378350704,
          -1.0250651831341162,
          -0.9446466994094388,
          0.3475678196286709,
          0.822557955159752,
          0.30473703779668215,
          1.2635470865738523,
          0.8983733941059957,
          -0.21412999441801187,
          0.5522564529701186,
          0.6749147915228867,
          0.4601999547612948,
          -0.734846690873937,
          0.03192395496023456,
          0.01533187969269209,
          0.3033180781282938,
          0.013596680162167502,
          -0.019900171251305526,
          -0.2535331456269968,
          -0.31632555840110965,
          0.6171466367170121,
          0.1840712972295959,
          -0.3019762459727301,
          0.2568694091237692,
          0.7617195967620994,
          -0.5762860810991263,
          -0.5600615542870786,
          -0.17517775938202398,
          0.6736161901222472,
          -0.0752178012247671,
          -0.31432228551175134,
          -0.24754871587439722,
          -0.6092025434482783,
          -1.0333097121776214,
          0.24719615986822593,
          0.7514487964649402,
          -0.005595410396777384,
          0.08870891137805156,
          0.6863573110515498,
          0.8045092705002402,
          0.5061398595945822,
          0.4522704005588784,
          -0.008326667851705799,
          1.5862182284456563
         ],
         "z": [
          0.7032675302057669,
          0.13433590902389972,
          0.4614897015788909,
          0.38594194082267586,
          0.6089233331763622,
          -0.4949286754559572,
          -0.14815353891276548,
          0.25759978747164525,
          0.38508432719658464,
          0.5681570266593803,
          -1.1456801953207434,
          -0.1414085785390793,
          -0.2943861042693592,
          0.031770947372021886,
          0.0513011410270175,
          -0.6651117410489165,
          -0.3684383612054055,
          -0.649080949632913,
          -0.17348216139556272,
          -0.2765339487614511,
          0.010927407657001823,
          0.06523652443448742,
          0.2891394275141931,
          -0.17692050754257407,
          -0.24044961201850104,
          -0.5746027996897367,
          0.13832351822615155,
          0.32564599224663066,
          -0.0404586641753054,
          0.018417328703584392,
          -0.3023374792868737,
          0.2891394275141931,
          0.2702917652350827,
          0.1990132997351323,
          0.22983800054803896,
          0.11562097379247684,
          -0.13645570619244535,
          -0.08166261275311588,
          -0.055314520638529784,
          -0.23190074025519022,
          -0.4167819032559504,
          -0.46464082321868216,
          -0.5643176827395235,
          0.22390843002724486,
          0.4797469718202738,
          -0.08890675199939736,
          0.11955595009599687,
          -0.23015997055319057,
          -0.14796018741665487,
          -0.21020193344654103,
          -0.16855948744316354,
          -0.3088204781214996,
          0.004997837136207629,
          -0.21045038391530344,
          -0.13020190761994235,
          0.8733978395148939,
          0.13275105820820915,
          0.004917805819179953,
          0.5619838965128022,
          0.04849800704784717,
          0.11982590642012762,
          -0.4886946872004455,
          0.2794904702183433,
          0.38347361599565355,
          0.17730492377724097,
          0.2329556211656957,
          0.08623570785687586,
          0.17798764481910212,
          -0.24331047404217465,
          -0.18056906210016274,
          -0.5140613950794628,
          -0.030818946327255525,
          0.3934357170392986,
          0.46926650674021775,
          0.4278892840425041,
          -0.9126850664136037,
          0.716986678172381,
          0.20206942437568365,
          0.38882362244108754,
          0.5398825119207449,
          0.40132520211093914,
          0.348267939814297,
          -0.16601489923171597,
          0.23700771830348313,
          0.5135401968146364,
          0.23258447784075176,
          0.4726834552258621
         ]
        },
        {
         "hovertemplate": "color=1<br>Principal Component 1=%{x}<br>Principal Component 2=%{y}<br>Principal Component 3=%{z}<extra></extra>",
         "legendgroup": "1",
         "marker": {
          "color": "#EF553B",
          "symbol": "circle"
         },
         "mode": "markers",
         "name": "1",
         "scene": "scene",
         "showlegend": true,
         "type": "scatter3d",
         "x": [
          -1.076653132533449,
          -1.3265475272991658,
          -2.86627094231823,
          -1.3591733958825316,
          -1.079403357965869,
          -1.4432386908240615,
          -0.5362284116213248,
          -1.3265475272991658,
          -1.1406596822169417,
          -1.02846540211699,
          -2.349211951870141,
          -1.7679791655419312,
          -1.1162922017500267,
          -1.1439510795443677,
          -2.349871222651852,
          -1.5776090490921089,
          -2.565456855272234,
          -2.464713226608877,
          -2.474007407353778,
          -2.48778578124202,
          -1.1946148997011514,
          -1.7637645726579807,
          -2.904810353052854,
          -1.5776933366929726,
          -1.436937656066195,
          -1.3733176442580795,
          -0.41436785487003785,
          -1.6168364385783827,
          -1.3956452778842163,
          -2.0210197265747336,
          -1.2765656922300561,
          -1.5045542090653277,
          -0.8733171098522657,
          -1.4805881405224968,
          -1.602742222006255,
          -2.866049628103223,
          -1.8255614893405632,
          -1.8367451045742471,
          -1.3058695008706227,
          -1.6628407119960877,
          -1.3465647947639936,
          -2.8186080573681913,
          -1.5311605188446225,
          -0.8800607482430881,
          -0.5807386666692069,
          -0.5322770370508724,
          -2.397697340943553,
          -1.3947382270138478,
          -2.7890629061104626,
          -1.3904600843114623,
          -1.6013947111856146,
          -1.9366926621181901,
          -1.3721363497723134,
          -2.4711911279415433,
          -2.4330947646473953,
          -1.5480208194478073,
          -1.6872491053791772,
          -1.2869762593905378,
          -0.9477377417737065,
          -1.1836404215426428,
          -1.9805779524383569,
          -1.6820204305482918,
          -1.2222346820163346,
          -1.5140940014191426,
          -0.5782181540857332,
          -1.8085228858094065,
          -1.1802180438685115,
          -1.6603806925475617,
          -0.8847400890352488,
          -1.0698754720318209,
          -0.605988265626667,
          -0.390389920068771,
          -2.430336566108506,
          -1.2464801507980103,
          -1.5925316932068858,
          -0.8603822361023272,
          -1.7932636270439022,
          -1.4407214207707295,
          -2.947483542026803,
          -2.684294030640025,
          -1.686303754151533,
          -2.4173750353065198,
          -1.4418220746718629,
          -2.04383657546572,
          -1.742914062378834,
          -0.9792778238754412,
          -0.544674294280421,
          -1.5279985938995129,
          -2.171594885878508,
          -1.3958467414742726,
          -2.544081620279115,
          -1.1237590190785431,
          -2.0433596318628107,
          -1.575705293780809,
          -0.9105720464460946,
          -1.9140199950342036,
          -0.9160707139256948,
          -2.0446384089093828,
          -1.6050531039770985,
          -1.9524187227645735,
          -1.3824918483447441,
          -0.410666824761793,
          -0.9193907771755612,
          -2.917133900322888,
          -1.8070558190983066,
          -2.647245907656154,
          -2.205983525184493,
          -2.185729359730311,
          -0.898187875988516,
          -1.8501626480584197,
          -0.7634173688840333,
          -1.0206428112063988,
          -1.414907050599152,
          -0.86663267169701,
          -0.7329739617444242,
          -1.0954431515294116,
          -0.9871915974745593,
          -0.4481647660757797,
          -0.6054254058873088,
          -1.737808703528434,
          -1.8744335646386554,
          -1.0483271821111222,
          -1.6579104300898742,
          -1.8849543949236098,
          -1.5436208086497918,
          -1.0813934569464168,
          -1.3342305296348471,
          -1.582850017714229,
          -2.382885475236167,
          -1.6512317293259893,
          -0.9218111763523147,
          -0.6233518128327377,
          -1.5097003745300974,
          -2.41163919090905,
          -1.7119950448328454,
          -2.0156121158352893,
          -0.9820950760509435,
          -1.1633288143052578,
          -1.2649326660258717,
          -1.6039688105563268,
          -0.9173907074781977,
          -1.5535870630051836,
          -1.0546138196922183,
          -1.471098442398546,
          -2.158577372574039,
          -0.4037579424085656,
          -2.331993239234043,
          -2.88651003303561,
          -1.458116311545381,
          -1.6961403901222152,
          -1.7212530733212685,
          -2.3404312295590377,
          -2.0693281293703474,
          -1.9991946150581315,
          -1.072193919358719,
          -0.5092806171295922,
          -1.737700811322148,
          -1.1483976766506017,
          -1.0784798856251567,
          -0.6897765964775652,
          -0.8448490895308123,
          -2.363318446869231,
          -2.1112115535975144,
          -2.2186232012227496,
          -2.088642610879375,
          -2.4342546548412,
          -2.1425040268707862,
          -1.9158965368029417,
          -1.645297535046707,
          -1.9159952579093171,
          -2.309831932212992,
          -1.4128130899085212,
          -1.5145789657173097,
          -1.4034229731070367,
          -1.6304180456727566,
          -0.8129659355244703,
          -1.6188625257110352,
          -1.3663339937788608,
          -1.6452481924541624,
          -1.495841459322368,
          -1.556612250294013,
          -1.2640358043305029,
          -1.1674908439446219,
          -1.1442862886127176,
          -0.8891226964807543,
          -1.2986837719886148,
          -1.674138479401987,
          -2.178431442890128,
          -2.1317630689684006,
          -1.6702667094448593,
          -1.942475252824026,
          -1.1965162252454298,
          -1.4192118503535849,
          -1.7736131526046883,
          -1.8117624747201613,
          -1.9024931903340614,
          -1.9503367656766155,
          -0.7225295523914879,
          -0.6018269786415418,
          -0.8662926596664853,
          -0.9319796758826329,
          -0.9128718076862675,
          -0.7272414251071215,
          -1.592542510211982,
          -1.6049155599388896
         ],
         "y": [
          -0.7425688370769695,
          -1.0306798666469459,
          1.093473340033036,
          0.28573748528226,
          -0.8904533066772069,
          0.12316697152421505,
          -1.7239762498547402,
          -1.0306798666469459,
          -0.5433381322875098,
          -1.1563351383399345,
          0.6114708276149046,
          0.8090808962178287,
          -1.1138268163946308,
          -1.179184863643357,
          0.7311392796496533,
          -1.0380648645035884,
          0.4274183022515635,
          -0.003737857603197475,
          0.519798905803894,
          1.057074924822546,
          -0.6059351902425961,
          -0.12417832982734814,
          2.3041217564025778,
          0.9289090869791019,
          -0.22922024603346317,
          -1.4965098838135062,
          -0.719369019431864,
          0.45010988808491537,
          1.1408675741247651,
          0.2869559698818046,
          -0.3341146592245644,
          -0.09432295956267292,
          -0.8548723313763648,
          -0.8127732194275074,
          -0.33772161476849005,
          1.3185536512866614,
          0.6200967878631584,
          0.9825320540783978,
          -0.2170008623000991,
          0.5151252685145811,
          -0.6250538404387753,
          0.6880426044560269,
          -0.5879783492974497,
          -0.991995757370402,
          -0.394049382588151,
          -1.005026061163686,
          0.51168114295428,
          -0.11514077991275731,
          1.1597332038476766,
          0.15070349906259914,
          -0.2696882050160625,
          -0.7177117942184741,
          -0.9273013284040466,
          -0.45647906423128504,
          0.5607947187705271,
          -1.0056184739650997,
          -0.6599857275896923,
          -1.0799781074911672,
          -0.6856530713348987,
          -0.561605930053243,
          -0.5256402859538519,
          -0.44322146867320666,
          0.16660388765337866,
          0.6916725645644927,
          -1.0942308466136224,
          -0.2459174198748665,
          0.041743813741814434,
          -1.2458735016391018,
          -0.6023903512097982,
          0.2463463397212182,
          -0.6702799566035319,
          -1.1925025975556887,
          -0.015674690245894768,
          -0.510663371297115,
          -0.08664458627486607,
          -0.6309791181234979,
          0.1815135044614263,
          -0.6944077343719118,
          1.7355871282072697,
          1.755170837150755,
          -1.1753081071055256,
          -0.050957387512683444,
          -1.9178131192248622,
          -0.1747419654243493,
          -0.3088617161166189,
          -1.0297439604288194,
          -0.15510700182347054,
          2.107656907531763,
          0.4094851312445341,
          -0.8617233773999123,
          0.34594427893467483,
          -0.5821674501581325,
          -0.26435090014388885,
          -1.0796496498917532,
          -0.13768648619433035,
          0.37277771069570187,
          -0.22656023003737494,
          -0.10149805140675308,
          -0.5423237172118742,
          -0.35565495878685,
          -1.1149829934813322,
          -1.4538098152797625,
          -1.3527761463218047,
          1.4898017086016369,
          -1.1344996981981759,
          0.7128222993194883,
          0.4236363733970866,
          -0.4236738039937184,
          -0.37935903393957343,
          -0.24961793808109792,
          -0.9042012872455519,
          -0.8734397199623375,
          -0.9318482261740987,
          -0.7115486438307854,
          0.06774511577202527,
          0.4849343775894104,
          -0.7584393983281797,
          -0.10460550113532793,
          -0.36380772472947104,
          -0.910999483374605,
          -0.22279903645251517,
          0.3629544770541533,
          -1.2560510945998682,
          -0.7985045372500897,
          -1.1298436587239005,
          -0.553658364722254,
          -1.3875008464405805,
          -0.8088544820006948,
          0.6298912055613747,
          -0.9121196772850545,
          -0.17359702599168084,
          -1.2097561845995253,
          -0.9145105967388186,
          0.4902954376780734,
          -0.6235438081794704,
          -0.35649181964457816,
          0.006201978597542651,
          0.6367522595502535,
          1.4139157593227654,
          -0.5160235195097526,
          -0.36590642804977574,
          0.28800322447598026,
          -0.6951660597269184,
          -0.664190638801637,
          0.21125890951108214,
          -0.7204814833590373,
          0.6679782859333013,
          1.6026860813262427,
          1.451098874050492,
          2.18077448199161,
          -1.341869836557401,
          -0.09676475943830146,
          0.2765785625874093,
          -0.8029385648981106,
          -0.6135112625887073,
          -0.7206148695389881,
          -0.011047148902274567,
          -0.3680485220814575,
          -0.028416114100499407,
          -0.7557884861892968,
          -1.4003989726521087,
          -0.28348485933444667,
          -0.41428752070784575,
          -0.5660063675307739,
          0.17215798550100966,
          0.6814130599089877,
          -0.010530714270735403,
          -0.5116635036619853,
          -0.7593417534538213,
          -0.39258602329615067,
          1.3369039306492683,
          -1.0514802817190607,
          -0.4542954041595095,
          -0.9716833429870366,
          -0.06369635107064978,
          -0.7142831239892503,
          0.6127650798597586,
          1.6277073264746351,
          0.9990881610570644,
          0.6610728307560427,
          0.3456951505872904,
          -0.2037883568756001,
          -0.24738878791423227,
          0.5595642551682529,
          0.02225594697804148,
          1.568588621411047,
          -0.7522404659855515,
          0.2814834274837671,
          0.046511805877972295,
          -0.8679942283593246,
          0.013660691532269426,
          -0.9730033481309929,
          -0.9385165946298,
          -0.057130443245368895,
          -0.8698106444362587,
          -0.6228317635687413,
          -0.4337225837774913,
          -0.7353174312893691,
          -0.9492011990168703,
          -1.371464122113975,
          0.40357117741144916,
          -0.27288309960864676,
          -1.8971611174922824,
          0.6986631361819463,
          1.0097411729562564
         ],
         "z": [
          -0.3302743626770169,
          -0.10874999774103512,
          0.5075693122664418,
          -0.4534409513667019,
          -0.26643791394546074,
          -0.4597540440145863,
          -0.4470822071430542,
          -0.10874999774103512,
          -0.14483079092962217,
          -0.21695987334424835,
          0.22788924208416145,
          -0.0533748021060868,
          -0.03545171338757339,
          -0.07147088741130223,
          -0.0266977003315186,
          0.10791773889188981,
          0.20931662619325947,
          0.26402777919212045,
          0.330014972409014,
          0.01956438610131415,
          -0.305020611125305,
          -0.07321867844644701,
          0.03607682908968494,
          -0.3849227821991449,
          -0.1440602700857234,
          -0.7842252347359876,
          -0.859269450940099,
          -0.1781081749600982,
          -0.6646103474119684,
          0.039410341371865186,
          -0.20632200185645472,
          -0.36134326022460506,
          -0.3923721802899472,
          -0.006209306919126284,
          -0.17846514027793017,
          0.42969415894115315,
          -0.37243877134795145,
          -0.07105030760843735,
          -0.3922891941349952,
          -0.2527820760868094,
          -0.24963096862404946,
          0.410280689546065,
          0.10655196788222203,
          -0.3201721803422371,
          -0.869455035395867,
          -0.6689398863493059,
          0.10735481002620785,
          -0.15161141193047079,
          0.09371158818478038,
          -0.08671379154572072,
          -0.14847364278760636,
          0.248847179047791,
          -0.02018008821696111,
          0.6127596046672178,
          0.19460927786071375,
          0.10052380870721066,
          0.06665311691127039,
          0.12651802206028304,
          -0.4051132884297618,
          -0.33870583718906844,
          0.2094603251502824,
          0.03182128619753062,
          -0.2725411777120669,
          -0.2265109287329328,
          -0.3948128221619567,
          0.03663024580472972,
          -0.5197477420453746,
          0.30064739512260397,
          -0.4841949702288557,
          -0.5653522214024793,
          -0.6237541972130836,
          -0.739465472135562,
          0.518465175806857,
          -0.25649216641546035,
          -0.08667692881496332,
          -0.3059456622458145,
          -0.14796660819256335,
          -0.08192368521386692,
          0.2037660566416787,
          0.03865993453825831,
          0.2921955616601537,
          0.5226910925380822,
          0.43211813660270254,
          0.13530011835986505,
          0.022812655052687533,
          0.09735466278825677,
          -0.8222507659464654,
          -0.9268687786798853,
          0.11154853372679295,
          0.038968903061421804,
          0.34114764220127375,
          -0.31077030794342253,
          0.16595673995372687,
          0.15745821683433195,
          -0.3390283247350227,
          -0.10753221709726003,
          -0.38254198515509263,
          0.2582039786212408,
          -0.052062820379738355,
          0.24466114196554586,
          0.05100194969583457,
          -0.5886225013993887,
          -1.1760228583591392,
          0.3394187952523525,
          0.4401947880265905,
          0.3293792556022998,
          0.028210271759975408,
          0.44176479588803635,
          -0.33112246099259796,
          0.14178849736340057,
          -0.3370803302638042,
          -0.30165892184506643,
          0.085965042814217,
          -0.3402310425197435,
          -0.6518324016985362,
          -0.4116521626976326,
          -0.3619219276141439,
          -0.29078092922209686,
          -0.8936221675179604,
          0.2167328782905099,
          0.1474313753572473,
          -0.49529963404898614,
          0.28683971172801964,
          0.30747904167022255,
          0.14201268779536888,
          -0.19876945696253911,
          0.2419324847513439,
          0.19476388713319615,
          0.11375409052889661,
          0.19556106913671212,
          -0.33897847613470816,
          -0.16440067772749486,
          0.08531910387449489,
          0.25247793112621175,
          0.16682712250709072,
          0.23505669250036285,
          -0.3640555776808626,
          -0.5192381731737155,
          -0.676556494287385,
          -0.01985175526248562,
          -0.38029931560043106,
          -0.15751325042002443,
          -0.2942302643531309,
          0.04656371620949199,
          0.12676492553290894,
          -0.5817755023743056,
          0.0693445142660734,
          0.281622988164543,
          0.07697148844324252,
          -0.4860484335968692,
          0.4062483788061808,
          0.40605112491011797,
          0.09809611646536895,
          0.42658717134084645,
          -0.2545908565194925,
          -0.5483783928432207,
          0.007414127286346116,
          -0.17374467477761787,
          -0.2351389534784222,
          -0.26876528575531894,
          -0.003607833996686909,
          0.4475290081698525,
          0.32335748098959843,
          0.4493451979227665,
          0.14602312882810645,
          0.12750704519785802,
          0.24091369078435734,
          0.2294183798562746,
          0.2834085695577419,
          0.26048101795112655,
          -0.0949875465989579,
          0.13562584892675458,
          -0.07753531916523299,
          0.10502674179233167,
          -0.0629933290716656,
          -0.5130547549023284,
          -0.2199650132726911,
          -0.6536253375325299,
          -0.5214032193403398,
          -0.4964144427969642,
          -0.35016620702748325,
          -0.311182458984922,
          -0.20369281574016904,
          -0.4555703936156944,
          -0.5139122559364938,
          -0.7092502327724004,
          0.19276310949653228,
          0.11671062231917788,
          0.16920530820047622,
          0.33626997928301544,
          0.08829342266377024,
          -0.06643283332773832,
          0.10326802374237447,
          0.07081925884732886,
          0.2987918083623163,
          0.2692103912437403,
          0.23327761550000684,
          -0.2557208117176683,
          -0.36862428123638546,
          -0.0004321546841081678,
          -0.5320785197916408,
          -0.3396241430553627,
          0.09573865977206321,
          -0.3139356984474229,
          -0.4488397004083794
         ]
        },
        {
         "hovertemplate": "color=0<br>Principal Component 1=%{x}<br>Principal Component 2=%{y}<br>Principal Component 3=%{z}<extra></extra>",
         "legendgroup": "0",
         "marker": {
          "color": "#00cc96",
          "symbol": "circle"
         },
         "mode": "markers",
         "name": "0",
         "scene": "scene",
         "showlegend": true,
         "type": "scatter3d",
         "x": [
          0.10566755728658116,
          0.10556455579258817,
          -0.23013221091571076,
          -7.994171224600302e-05,
          0.555179591599222,
          0.7227916362789389,
          0.7126298695591706,
          0.5272998768526087,
          0.6009582364983453,
          0.9453795880297902,
          0.7508604669902125,
          0.5647436907797306,
          0.41335709438491075,
          0.3597526657749906,
          0.3421946163914336,
          0.23878769864834257,
          0.0810082227894391,
          0.3835967153409429,
          0.054631879854730094,
          0.5263656142669375,
          0.12816348798418295,
          -0.15437678325229054,
          0.31731396767928427,
          0.5221651925517721,
          0.7737990261178289,
          0.7409751255117988,
          0.6915679845298545,
          0.41730825512105446,
          0.7921925239020008,
          -0.3388230722392161,
          -0.2993386953714516,
          0.37490216758004086,
          0.715829802396027,
          0.6667758078053652,
          0.32307183058488836,
          0.6617666729231458,
          1.6800898705300664,
          0.3246650684351466,
          0.2162813599267583,
          0.2212755376340273,
          0.548407192770817,
          0.926675741307063,
          -0.2538796965949838,
          0.07225722241913933,
          0.48665814709056504,
          -0.1734952722606806,
          0.9423060508298874,
          0.30607926690078224,
          0.13828167853987997,
          0.7150648927643652,
          1.431802477350049,
          0.845699328111855,
          0.5629094324115018,
          0.4747832920234028,
          0.34146455179886354,
          -0.0021821057541927167,
          1.4924548996253708,
          0.32699584574620366,
          -0.05238073086883329,
          0.009538241897180803,
          0.42649708825083393,
          0.19478700674114346,
          0.6800401532322827,
          -0.04774125998487944,
          0.4812318927026912,
          1.1330439382190836,
          0.7786327007886187,
          0.7595306124219205,
          0.7972665240253105,
          -0.28740176512766435,
          0.09627250961147298,
          0.6064020244271445,
          -0.7095586774720827,
          0.6760082075306104,
          0.5279979900346499,
          0.06264752947606543,
          0.5101600138692841,
          -0.7706583015502151,
          0.6695684692109837,
          0.47953036173766583,
          0.7706908791383552,
          -0.0627264956054663,
          0.3114797957922791,
          0.18135281682809062,
          0.18706324323873325,
          0.6185552169427994
         ],
         "y": [
          0.028258174333292037,
          -0.0010415898170171782,
          0.13591462572750543,
          -0.2087715959489513,
          -0.887248768030685,
          0.3060784840955381,
          0.32413794689518,
          0.3504353531653807,
          0.27158478100835387,
          -0.552617419351588,
          0.12783454081145487,
          -0.07137155395387976,
          0.5243311061159465,
          1.1846226996874605,
          0.30284417214706366,
          0.58434599711647,
          0.23471813518286413,
          -0.1160004064988247,
          -0.7755719122991306,
          -0.8554155466243182,
          0.49492319833504383,
          0.6011893729901082,
          0.28422382174301064,
          0.8563407343703754,
          1.0446601873204568,
          1.31864111153378,
          0.7325404788158117,
          0.43987003391332646,
          0.539847967218385,
          2.39629641499611,
          1.7511019557508654,
          2.4406956423200024,
          1.6072725233648,
          1.7129406828288714,
          1.718832828292237,
          -0.04359492438542778,
          -0.20209896194941504,
          0.28972528890784455,
          -0.3197579735725212,
          0.7996759021212335,
          0.19933682941430356,
          -0.03425060866592969,
          0.8928679494352526,
          0.958050173201266,
          1.1877321953889357,
          2.4375275988364824,
          0.6734085235282018,
          1.1094498157188075,
          -0.05369847266817878,
          0.7320775266039999,
          2.089594238654619,
          0.6910751953229909,
          0.8058457171599965,
          1.1788452099688196,
          1.6482648035508154,
          -0.4401692478660611,
          0.560582935889376,
          1.6638986303062584,
          1.121069486403745,
          0.22531496875602092,
          0.9177937672528195,
          0.8698181068728994,
          0.3986925070393636,
          0.5872941712576955,
          1.49600400949945,
          0.1700584838946869,
          -0.6749517182546504,
          0.19037984247595163,
          0.16899482209617167,
          1.082679447706695,
          1.2459205175458476,
          0.6450380236002212,
          1.8569307256276277,
          -1.6660990307534613,
          -1.0571409473842688,
          1.4577342022591873,
          -1.136691156977802,
          1.5693092776212754,
          -1.0912731505645297,
          -0.710784737045637,
          0.3977860117471494,
          0.7147621799103016,
          0.7680636389961747,
          0.31279859554863937,
          0.7911194839067299,
          -0.24010529871309477
         ],
         "z": [
          0.4257831595181658,
          0.4228886647805997,
          0.7034614031894262,
          0.6269099204857073,
          0.6278370408405692,
          0.021358346205844692,
          0.22395139356005458,
          0.44421986406352315,
          0.19947953505009175,
          0.33697539678971206,
          0.2682726448200991,
          0.56690970838511,
          0.13601301502223553,
          0.14346890182835934,
          0.3475997809289481,
          0.5406172626385312,
          0.36961935458803513,
          0.4668355470967598,
          0.35356782593038527,
          -0.046803405328310475,
          0.2507887031536982,
          0.467355192429985,
          0.36931112932410615,
          0.1571085644379024,
          -0.06247211819494591,
          -0.18379547940532567,
          -0.10675933521453164,
          0.25903538108128227,
          0.05244731184736963,
          0.42357474163266917,
          0.6221659803345303,
          -0.5133232403563578,
          -0.2693272109123321,
          -0.2744117408704291,
          -0.12482422344359316,
          0.16853745458526817,
          1.0126743347306253,
          0.3628964127528094,
          0.2919876621741476,
          0.34654030846042594,
          0.21346018094890212,
          0.1681406748586274,
          0.4951167134569213,
          0.38335821484102767,
          -0.08999371362327739,
          0.2500335002723484,
          -0.134011644901841,
          0.2999583953032284,
          0.04942170305005358,
          -0.6175943354840594,
          0.3612859882746613,
          -0.08078351133259226,
          -0.015995369158303487,
          -0.07963147916195194,
          0.013821052598907766,
          0.3132916335782822,
          0.8521336905637874,
          -0.16746982496437682,
          0.15776280022324832,
          0.5253930163480188,
          0.04018605174489213,
          0.3385819147342293,
          0.052694503016584536,
          0.43554859346036545,
          -0.2894109137988521,
          -0.12415493743868394,
          -0.2496966973117747,
          -0.6138593259369454,
          -0.03624213035146467,
          0.41163502139227576,
          0.2691835619280304,
          -0.07237233101719041,
          -0.23615344355712414,
          0.3137136460608846,
          0.19428780605465526,
          0.1734305125401257,
          0.2808568951855833,
          0.28720447336049,
          0.07861467372434944,
          -0.11051824775282965,
          -0.05080322009588346,
          0.3718429244918453,
          0.30695315839414405,
          0.031583267510509085,
          0.6039866419369891,
          0.24986947179814833
         ]
        }
       ],
       "layout": {
        "height": 900,
        "legend": {
         "title": {
          "text": "color"
         },
         "tracegroupgap": 0
        },
        "scene": {
         "aspectmode": "auto",
         "aspectratio": {
          "x": 1.8425738081289662,
          "y": 1.0473494809851043,
          "z": 0.518183386240663
         },
         "domain": {
          "x": [
           0,
           1
          ],
          "y": [
           0,
           1
          ]
         },
         "xaxis": {
          "title": {
           "text": "Principal Component 1"
          },
          "type": "linear"
         },
         "yaxis": {
          "title": {
           "text": "Principal Component 2"
          },
          "type": "linear"
         },
         "zaxis": {
          "title": {
           "text": "Principal Component 3"
          },
          "type": "linear"
         }
        },
        "template": {
         "data": {
          "bar": [
           {
            "error_x": {
             "color": "#2a3f5f"
            },
            "error_y": {
             "color": "#2a3f5f"
            },
            "marker": {
             "line": {
              "color": "#E5ECF6",
              "width": 0.5
             },
             "pattern": {
              "fillmode": "overlay",
              "size": 10,
              "solidity": 0.2
             }
            },
            "type": "bar"
           }
          ],
          "barpolar": [
           {
            "marker": {
             "line": {
              "color": "#E5ECF6",
              "width": 0.5
             },
             "pattern": {
              "fillmode": "overlay",
              "size": 10,
              "solidity": 0.2
             }
            },
            "type": "barpolar"
           }
          ],
          "carpet": [
           {
            "aaxis": {
             "endlinecolor": "#2a3f5f",
             "gridcolor": "white",
             "linecolor": "white",
             "minorgridcolor": "white",
             "startlinecolor": "#2a3f5f"
            },
            "baxis": {
             "endlinecolor": "#2a3f5f",
             "gridcolor": "white",
             "linecolor": "white",
             "minorgridcolor": "white",
             "startlinecolor": "#2a3f5f"
            },
            "type": "carpet"
           }
          ],
          "choropleth": [
           {
            "colorbar": {
             "outlinewidth": 0,
             "ticks": ""
            },
            "type": "choropleth"
           }
          ],
          "contour": [
           {
            "colorbar": {
             "outlinewidth": 0,
             "ticks": ""
            },
            "colorscale": [
             [
              0,
              "#0d0887"
             ],
             [
              0.1111111111111111,
              "#46039f"
             ],
             [
              0.2222222222222222,
              "#7201a8"
             ],
             [
              0.3333333333333333,
              "#9c179e"
             ],
             [
              0.4444444444444444,
              "#bd3786"
             ],
             [
              0.5555555555555556,
              "#d8576b"
             ],
             [
              0.6666666666666666,
              "#ed7953"
             ],
             [
              0.7777777777777778,
              "#fb9f3a"
             ],
             [
              0.8888888888888888,
              "#fdca26"
             ],
             [
              1,
              "#f0f921"
             ]
            ],
            "type": "contour"
           }
          ],
          "contourcarpet": [
           {
            "colorbar": {
             "outlinewidth": 0,
             "ticks": ""
            },
            "type": "contourcarpet"
           }
          ],
          "heatmap": [
           {
            "colorbar": {
             "outlinewidth": 0,
             "ticks": ""
            },
            "colorscale": [
             [
              0,
              "#0d0887"
             ],
             [
              0.1111111111111111,
              "#46039f"
             ],
             [
              0.2222222222222222,
              "#7201a8"
             ],
             [
              0.3333333333333333,
              "#9c179e"
             ],
             [
              0.4444444444444444,
              "#bd3786"
             ],
             [
              0.5555555555555556,
              "#d8576b"
             ],
             [
              0.6666666666666666,
              "#ed7953"
             ],
             [
              0.7777777777777778,
              "#fb9f3a"
             ],
             [
              0.8888888888888888,
              "#fdca26"
             ],
             [
              1,
              "#f0f921"
             ]
            ],
            "type": "heatmap"
           }
          ],
          "heatmapgl": [
           {
            "colorbar": {
             "outlinewidth": 0,
             "ticks": ""
            },
            "colorscale": [
             [
              0,
              "#0d0887"
             ],
             [
              0.1111111111111111,
              "#46039f"
             ],
             [
              0.2222222222222222,
              "#7201a8"
             ],
             [
              0.3333333333333333,
              "#9c179e"
             ],
             [
              0.4444444444444444,
              "#bd3786"
             ],
             [
              0.5555555555555556,
              "#d8576b"
             ],
             [
              0.6666666666666666,
              "#ed7953"
             ],
             [
              0.7777777777777778,
              "#fb9f3a"
             ],
             [
              0.8888888888888888,
              "#fdca26"
             ],
             [
              1,
              "#f0f921"
             ]
            ],
            "type": "heatmapgl"
           }
          ],
          "histogram": [
           {
            "marker": {
             "pattern": {
              "fillmode": "overlay",
              "size": 10,
              "solidity": 0.2
             }
            },
            "type": "histogram"
           }
          ],
          "histogram2d": [
           {
            "colorbar": {
             "outlinewidth": 0,
             "ticks": ""
            },
            "colorscale": [
             [
              0,
              "#0d0887"
             ],
             [
              0.1111111111111111,
              "#46039f"
             ],
             [
              0.2222222222222222,
              "#7201a8"
             ],
             [
              0.3333333333333333,
              "#9c179e"
             ],
             [
              0.4444444444444444,
              "#bd3786"
             ],
             [
              0.5555555555555556,
              "#d8576b"
             ],
             [
              0.6666666666666666,
              "#ed7953"
             ],
             [
              0.7777777777777778,
              "#fb9f3a"
             ],
             [
              0.8888888888888888,
              "#fdca26"
             ],
             [
              1,
              "#f0f921"
             ]
            ],
            "type": "histogram2d"
           }
          ],
          "histogram2dcontour": [
           {
            "colorbar": {
             "outlinewidth": 0,
             "ticks": ""
            },
            "colorscale": [
             [
              0,
              "#0d0887"
             ],
             [
              0.1111111111111111,
              "#46039f"
             ],
             [
              0.2222222222222222,
              "#7201a8"
             ],
             [
              0.3333333333333333,
              "#9c179e"
             ],
             [
              0.4444444444444444,
              "#bd3786"
             ],
             [
              0.5555555555555556,
              "#d8576b"
             ],
             [
              0.6666666666666666,
              "#ed7953"
             ],
             [
              0.7777777777777778,
              "#fb9f3a"
             ],
             [
              0.8888888888888888,
              "#fdca26"
             ],
             [
              1,
              "#f0f921"
             ]
            ],
            "type": "histogram2dcontour"
           }
          ],
          "mesh3d": [
           {
            "colorbar": {
             "outlinewidth": 0,
             "ticks": ""
            },
            "type": "mesh3d"
           }
          ],
          "parcoords": [
           {
            "line": {
             "colorbar": {
              "outlinewidth": 0,
              "ticks": ""
             }
            },
            "type": "parcoords"
           }
          ],
          "pie": [
           {
            "automargin": true,
            "type": "pie"
           }
          ],
          "scatter": [
           {
            "fillpattern": {
             "fillmode": "overlay",
             "size": 10,
             "solidity": 0.2
            },
            "type": "scatter"
           }
          ],
          "scatter3d": [
           {
            "line": {
             "colorbar": {
              "outlinewidth": 0,
              "ticks": ""
             }
            },
            "marker": {
             "colorbar": {
              "outlinewidth": 0,
              "ticks": ""
             }
            },
            "type": "scatter3d"
           }
          ],
          "scattercarpet": [
           {
            "marker": {
             "colorbar": {
              "outlinewidth": 0,
              "ticks": ""
             }
            },
            "type": "scattercarpet"
           }
          ],
          "scattergeo": [
           {
            "marker": {
             "colorbar": {
              "outlinewidth": 0,
              "ticks": ""
             }
            },
            "type": "scattergeo"
           }
          ],
          "scattergl": [
           {
            "marker": {
             "colorbar": {
              "outlinewidth": 0,
              "ticks": ""
             }
            },
            "type": "scattergl"
           }
          ],
          "scattermapbox": [
           {
            "marker": {
             "colorbar": {
              "outlinewidth": 0,
              "ticks": ""
             }
            },
            "type": "scattermapbox"
           }
          ],
          "scatterpolar": [
           {
            "marker": {
             "colorbar": {
              "outlinewidth": 0,
              "ticks": ""
             }
            },
            "type": "scatterpolar"
           }
          ],
          "scatterpolargl": [
           {
            "marker": {
             "colorbar": {
              "outlinewidth": 0,
              "ticks": ""
             }
            },
            "type": "scatterpolargl"
           }
          ],
          "scatterternary": [
           {
            "marker": {
             "colorbar": {
              "outlinewidth": 0,
              "ticks": ""
             }
            },
            "type": "scatterternary"
           }
          ],
          "surface": [
           {
            "colorbar": {
             "outlinewidth": 0,
             "ticks": ""
            },
            "colorscale": [
             [
              0,
              "#0d0887"
             ],
             [
              0.1111111111111111,
              "#46039f"
             ],
             [
              0.2222222222222222,
              "#7201a8"
             ],
             [
              0.3333333333333333,
              "#9c179e"
             ],
             [
              0.4444444444444444,
              "#bd3786"
             ],
             [
              0.5555555555555556,
              "#d8576b"
             ],
             [
              0.6666666666666666,
              "#ed7953"
             ],
             [
              0.7777777777777778,
              "#fb9f3a"
             ],
             [
              0.8888888888888888,
              "#fdca26"
             ],
             [
              1,
              "#f0f921"
             ]
            ],
            "type": "surface"
           }
          ],
          "table": [
           {
            "cells": {
             "fill": {
              "color": "#EBF0F8"
             },
             "line": {
              "color": "white"
             }
            },
            "header": {
             "fill": {
              "color": "#C8D4E3"
             },
             "line": {
              "color": "white"
             }
            },
            "type": "table"
           }
          ]
         },
         "layout": {
          "annotationdefaults": {
           "arrowcolor": "#2a3f5f",
           "arrowhead": 0,
           "arrowwidth": 1
          },
          "autotypenumbers": "strict",
          "coloraxis": {
           "colorbar": {
            "outlinewidth": 0,
            "ticks": ""
           }
          },
          "colorscale": {
           "diverging": [
            [
             0,
             "#8e0152"
            ],
            [
             0.1,
             "#c51b7d"
            ],
            [
             0.2,
             "#de77ae"
            ],
            [
             0.3,
             "#f1b6da"
            ],
            [
             0.4,
             "#fde0ef"
            ],
            [
             0.5,
             "#f7f7f7"
            ],
            [
             0.6,
             "#e6f5d0"
            ],
            [
             0.7,
             "#b8e186"
            ],
            [
             0.8,
             "#7fbc41"
            ],
            [
             0.9,
             "#4d9221"
            ],
            [
             1,
             "#276419"
            ]
           ],
           "sequential": [
            [
             0,
             "#0d0887"
            ],
            [
             0.1111111111111111,
             "#46039f"
            ],
            [
             0.2222222222222222,
             "#7201a8"
            ],
            [
             0.3333333333333333,
             "#9c179e"
            ],
            [
             0.4444444444444444,
             "#bd3786"
            ],
            [
             0.5555555555555556,
             "#d8576b"
            ],
            [
             0.6666666666666666,
             "#ed7953"
            ],
            [
             0.7777777777777778,
             "#fb9f3a"
            ],
            [
             0.8888888888888888,
             "#fdca26"
            ],
            [
             1,
             "#f0f921"
            ]
           ],
           "sequentialminus": [
            [
             0,
             "#0d0887"
            ],
            [
             0.1111111111111111,
             "#46039f"
            ],
            [
             0.2222222222222222,
             "#7201a8"
            ],
            [
             0.3333333333333333,
             "#9c179e"
            ],
            [
             0.4444444444444444,
             "#bd3786"
            ],
            [
             0.5555555555555556,
             "#d8576b"
            ],
            [
             0.6666666666666666,
             "#ed7953"
            ],
            [
             0.7777777777777778,
             "#fb9f3a"
            ],
            [
             0.8888888888888888,
             "#fdca26"
            ],
            [
             1,
             "#f0f921"
            ]
           ]
          },
          "colorway": [
           "#636efa",
           "#EF553B",
           "#00cc96",
           "#ab63fa",
           "#FFA15A",
           "#19d3f3",
           "#FF6692",
           "#B6E880",
           "#FF97FF",
           "#FECB52"
          ],
          "font": {
           "color": "#2a3f5f"
          },
          "geo": {
           "bgcolor": "white",
           "lakecolor": "white",
           "landcolor": "#E5ECF6",
           "showlakes": true,
           "showland": true,
           "subunitcolor": "white"
          },
          "hoverlabel": {
           "align": "left"
          },
          "hovermode": "closest",
          "mapbox": {
           "style": "light"
          },
          "paper_bgcolor": "white",
          "plot_bgcolor": "#E5ECF6",
          "polar": {
           "angularaxis": {
            "gridcolor": "white",
            "linecolor": "white",
            "ticks": ""
           },
           "bgcolor": "#E5ECF6",
           "radialaxis": {
            "gridcolor": "white",
            "linecolor": "white",
            "ticks": ""
           }
          },
          "scene": {
           "xaxis": {
            "backgroundcolor": "#E5ECF6",
            "gridcolor": "white",
            "gridwidth": 2,
            "linecolor": "white",
            "showbackground": true,
            "ticks": "",
            "zerolinecolor": "white"
           },
           "yaxis": {
            "backgroundcolor": "#E5ECF6",
            "gridcolor": "white",
            "gridwidth": 2,
            "linecolor": "white",
            "showbackground": true,
            "ticks": "",
            "zerolinecolor": "white"
           },
           "zaxis": {
            "backgroundcolor": "#E5ECF6",
            "gridcolor": "white",
            "gridwidth": 2,
            "linecolor": "white",
            "showbackground": true,
            "ticks": "",
            "zerolinecolor": "white"
           }
          },
          "shapedefaults": {
           "line": {
            "color": "#2a3f5f"
           }
          },
          "ternary": {
           "aaxis": {
            "gridcolor": "white",
            "linecolor": "white",
            "ticks": ""
           },
           "baxis": {
            "gridcolor": "white",
            "linecolor": "white",
            "ticks": ""
           },
           "bgcolor": "#E5ECF6",
           "caxis": {
            "gridcolor": "white",
            "linecolor": "white",
            "ticks": ""
           }
          },
          "title": {
           "x": 0.05
          },
          "xaxis": {
           "automargin": true,
           "gridcolor": "white",
           "linecolor": "white",
           "ticks": "",
           "title": {
            "standoff": 15
           },
           "zerolinecolor": "white",
           "zerolinewidth": 2
          },
          "yaxis": {
           "automargin": true,
           "gridcolor": "white",
           "linecolor": "white",
           "ticks": "",
           "title": {
            "standoff": 15
           },
           "zerolinecolor": "white",
           "zerolinewidth": 2
          }
         }
        },
        "title": {
         "font": {
          "size": 20
         },
         "text": "Interactive 3D Scatter Plot of KMeans Clusters on PCA Data"
        },
        "width": 1200
       }
      },
      "image/png": "[encoded data removed]",
      "text/html": [
       "<div>                            <div id=\"daa73cee-7bc3-474a-acdf-2c5e77b4fe1c\" class=\"plotly-graph-div\" style=\"height:900px; width:1200px;\"></div>            <script type=\"text/javascript\">                require([\"plotly\"], function(Plotly) {                    window.PLOTLYENV=window.PLOTLYENV || {};                                    if (document.getElementById(\"daa73cee-7bc3-474a-acdf-2c5e77b4fe1c\")) {                    Plotly.newPlot(                        \"daa73cee-7bc3-474a-acdf-2c5e77b4fe1c\",                        [{\"hovertemplate\":\"color=2\\u003cbr\\u003ePrincipal Component 1=%{x}\\u003cbr\\u003ePrincipal Component 2=%{y}\\u003cbr\\u003ePrincipal Component 3=%{z}\\u003cextra\\u003e\\u003c\\u002fextra\\u003e\",\"legendgroup\":\"2\",\"marker\":{\"color\":\"#636efa\",\"symbol\":\"circle\"},\"mode\":\"markers\",\"name\":\"2\",\"scene\":\"scene\",\"showlegend\":true,\"x\":[2.539196325037161,3.4182793282806507,2.9678725531635965,2.7677373099983464,2.819657246594083,4.835159107268003,4.4468390840377445,3.772277469274207,3.7044145229454712,3.74918226529349,4.0290798399547905,3.6452538273495656,4.241773063329931,3.254583698757858,3.081851667806123,4.506706358998874,4.265568447999188,4.559222648624844,3.682009331128877,4.132293335495916,3.0390973160637818,3.305254620544974,2.9676921240583596,3.474794765382868,3.519642478887029,4.300985947558154,2.9624800595992498,2.6158544666114643,2.5845946016159194,2.941492443296929,3.5957209684265172,2.9676921240583596,3.107232603303507,2.594003722363277,2.9662746186529687,3.8226689053493255,3.5084337349446315,2.967159875512998,3.7463453152015447,3.864833420299967,4.248720299738776,3.887291316031797,3.9570101695066646,3.160386716461281,2.9469501894738346,3.6792662752945238,2.7573084164520236,3.385717606484635,3.221178427093603,2.7791160370018146,2.7800304259927358,4.286269497473943,3.2332094138720944,3.114747359919157,3.4681554502867034,2.3110124219217028,2.943516350553973,3.135005780963897,2.395445673830512,3.365636180836592,2.967715397131804,3.9415654473340216,3.2747343536805014,2.3327323295486115,2.759411332267108,2.8897510935723543,2.9451423001102373,2.5860183081384043,4.226503980837362,3.769001664243466,4.285020018939601,3.1706308913958527,2.710075591316474,2.5757919619479948,2.5417318515032727,1.8781840057888761,2.576780164326709,2.840354841981353,2.2786700263758624,2.443951915329245,2.968362000287825,2.4337052569293096,3.213036695129494,2.938454061703625,1.93996484899603,3.2001090405717396,2.2037267474152955],\"y\":[-0.5864433012356629,-0.7088062964228754,-1.0094071612034354,-0.6852293905256757,-1.1801739137908416,-0.9130601296605073,-1.7012095851208586,-1.2442418592131883,-1.9830873852421336,-1.2407445213101171,0.08438015224451631,-0.31402688262322187,-0.31617884758678694,0.23161735680134185,-0.024447959806875558,-0.15735749911038224,-0.004707705095067821,0.1463109313185141,-0.2865195467990528,-0.17319735402375916,0.168469928021567,0.04462412591964346,-0.7605005189830562,0.37064445779646704,0.3354595901695189,-0.02828025873636056,-0.314571794294909,0.3705853745548171,1.1179698015967106,0.32033840700471106,-0.03876387150171082,-0.7605005189830562,0.008147698878782833,0.4915164001489375,-0.33585898657020097,-0.0611746729574735,0.12793239722757796,0.5644622584442994,-0.8429308855301679,0.8700394261364788,0.248847028939965,0.2309582857959472,-0.06204277251251847,0.047927538378350704,-1.0250651831341162,-0.9446466994094388,0.3475678196286709,0.822557955159752,0.30473703779668215,1.2635470865738523,0.8983733941059957,-0.21412999441801187,0.5522564529701186,0.6749147915228867,0.4601999547612948,-0.734846690873937,0.03192395496023456,0.01533187969269209,0.3033180781282938,0.013596680162167502,-0.019900171251305526,-0.2535331456269968,-0.31632555840110965,0.6171466367170121,0.1840712972295959,-0.3019762459727301,0.2568694091237692,0.7617195967620994,-0.5762860810991263,-0.5600615542870786,-0.17517775938202398,0.6736161901222472,-0.0752178012247671,-0.31432228551175134,-0.24754871587439722,-0.6092025434482783,-1.0333097121776214,0.24719615986822593,0.7514487964649402,-0.005595410396777384,0.08870891137805156,0.6863573110515498,0.8045092705002402,0.5061398595945822,0.4522704005588784,-0.008326667851705799,1.5862182284456563],\"z\":[0.7032675302057669,0.13433590902389972,0.4614897015788909,0.38594194082267586,0.6089233331763622,-0.4949286754559572,-0.14815353891276548,0.25759978747164525,0.38508432719658464,0.5681570266593803,-1.1456801953207434,-0.1414085785390793,-0.2943861042693592,0.031770947372021886,0.0513011410270175,-0.6651117410489165,-0.3684383612054055,-0.649080949632913,-0.17348216139556272,-0.2765339487614511,0.010927407657001823,0.06523652443448742,0.2891394275141931,-0.17692050754257407,-0.24044961201850104,-0.5746027996897367,0.13832351822615155,0.32564599224663066,-0.0404586641753054,0.018417328703584392,-0.3023374792868737,0.2891394275141931,0.2702917652350827,0.1990132997351323,0.22983800054803896,0.11562097379247684,-0.13645570619244535,-0.08166261275311588,-0.055314520638529784,-0.23190074025519022,-0.4167819032559504,-0.46464082321868216,-0.5643176827395235,0.22390843002724486,0.4797469718202738,-0.08890675199939736,0.11955595009599687,-0.23015997055319057,-0.14796018741665487,-0.21020193344654103,-0.16855948744316354,-0.3088204781214996,0.004997837136207629,-0.21045038391530344,-0.13020190761994235,0.8733978395148939,0.13275105820820915,0.004917805819179953,0.5619838965128022,0.04849800704784717,0.11982590642012762,-0.4886946872004455,0.2794904702183433,0.38347361599565355,0.17730492377724097,0.2329556211656957,0.08623570785687586,0.17798764481910212,-0.24331047404217465,-0.18056906210016274,-0.5140613950794628,-0.030818946327255525,0.3934357170392986,0.46926650674021775,0.4278892840425041,-0.9126850664136037,0.716986678172381,0.20206942437568365,0.38882362244108754,0.5398825119207449,0.40132520211093914,0.348267939814297,-0.16601489923171597,0.23700771830348313,0.5135401968146364,0.23258447784075176,0.4726834552258621],\"type\":\"scatter3d\"},{\"hovertemplate\":\"color=1\\u003cbr\\u003ePrincipal Component 1=%{x}\\u003cbr\\u003ePrincipal Component 2=%{y}\\u003cbr\\u003ePrincipal Component 3=%{z}\\u003cextra\\u003e\\u003c\\u002fextra\\u003e\",\"legendgroup\":\"1\",\"marker\":{\"color\":\"#EF553B\",\"symbol\":\"circle\"},\"mode\":\"markers\",\"name\":\"1\",\"scene\":\"scene\",\"showlegend\":true,\"x\":[-1.076653132533449,-1.3265475272991658,-2.86627094231823,-1.3591733958825316,-1.079403357965869,-1.4432386908240615,-0.5362284116213248,-1.3265475272991658,-1.1406596822169417,-1.02846540211699,-2.349211951870141,-1.7679791655419312,-1.1162922017500267,-1.1439510795443677,-2.349871222651852,-1.5776090490921089,-2.565456855272234,-2.464713226608877,-2.474007407353778,-2.48778578124202,-1.1946148997011514,-1.7637645726579807,-2.904810353052854,-1.5776933366929726,-1.436937656066195,-1.3733176442580795,-0.41436785487003785,-1.6168364385783827,-1.3956452778842163,-2.0210197265747336,-1.2765656922300561,-1.5045542090653277,-0.8733171098522657,-1.4805881405224968,-1.602742222006255,-2.866049628103223,-1.8255614893405632,-1.8367451045742471,-1.3058695008706227,-1.6628407119960877,-1.3465647947639936,-2.8186080573681913,-1.5311605188446225,-0.8800607482430881,-0.5807386666692069,-0.5322770370508724,-2.397697340943553,-1.3947382270138478,-2.7890629061104626,-1.3904600843114623,-1.6013947111856146,-1.9366926621181901,-1.3721363497723134,-2.4711911279415433,-2.4330947646473953,-1.5480208194478073,-1.6872491053791772,-1.2869762593905378,-0.9477377417737065,-1.1836404215426428,-1.9805779524383569,-1.6820204305482918,-1.2222346820163346,-1.5140940014191426,-0.5782181540857332,-1.8085228858094065,-1.1802180438685115,-1.6603806925475617,-0.8847400890352488,-1.0698754720318209,-0.605988265626667,-0.390389920068771,-2.430336566108506,-1.2464801507980103,-1.5925316932068858,-0.8603822361023272,-1.7932636270439022,-1.4407214207707295,-2.947483542026803,-2.684294030640025,-1.686303754151533,-2.4173750353065198,-1.4418220746718629,-2.04383657546572,-1.742914062378834,-0.9792778238754412,-0.544674294280421,-1.5279985938995129,-2.171594885878508,-1.3958467414742726,-2.544081620279115,-1.1237590190785431,-2.0433596318628107,-1.575705293780809,-0.9105720464460946,-1.9140199950342036,-0.9160707139256948,-2.0446384089093828,-1.6050531039770985,-1.9524187227645735,-1.3824918483447441,-0.410666824761793,-0.9193907771755612,-2.917133900322888,-1.8070558190983066,-2.647245907656154,-2.205983525184493,-2.185729359730311,-0.898187875988516,-1.8501626480584197,-0.7634173688840333,-1.0206428112063988,-1.414907050599152,-0.86663267169701,-0.7329739617444242,-1.0954431515294116,-0.9871915974745593,-0.4481647660757797,-0.6054254058873088,-1.737808703528434,-1.8744335646386554,-1.0483271821111222,-1.6579104300898742,-1.8849543949236098,-1.5436208086497918,-1.0813934569464168,-1.3342305296348471,-1.582850017714229,-2.382885475236167,-1.6512317293259893,-0.9218111763523147,-0.6233518128327377,-1.5097003745300974,-2.41163919090905,-1.7119950448328454,-2.0156121158352893,-0.9820950760509435,-1.1633288143052578,-1.2649326660258717,-1.6039688105563268,-0.9173907074781977,-1.5535870630051836,-1.0546138196922183,-1.471098442398546,-2.158577372574039,-0.4037579424085656,-2.331993239234043,-2.88651003303561,-1.458116311545381,-1.6961403901222152,-1.7212530733212685,-2.3404312295590377,-2.0693281293703474,-1.9991946150581315,-1.072193919358719,-0.5092806171295922,-1.737700811322148,-1.1483976766506017,-1.0784798856251567,-0.6897765964775652,-0.8448490895308123,-2.363318446869231,-2.1112115535975144,-2.2186232012227496,-2.088642610879375,-2.4342546548412,-2.1425040268707862,-1.9158965368029417,-1.645297535046707,-1.9159952579093171,-2.309831932212992,-1.4128130899085212,-1.5145789657173097,-1.4034229731070367,-1.6304180456727566,-0.8129659355244703,-1.6188625257110352,-1.3663339937788608,-1.6452481924541624,-1.495841459322368,-1.556612250294013,-1.2640358043305029,-1.1674908439446219,-1.1442862886127176,-0.8891226964807543,-1.2986837719886148,-1.674138479401987,-2.178431442890128,-2.1317630689684006,-1.6702667094448593,-1.942475252824026,-1.1965162252454298,-1.4192118503535849,-1.7736131526046883,-1.8117624747201613,-1.9024931903340614,-1.9503367656766155,-0.7225295523914879,-0.6018269786415418,-0.8662926596664853,-0.9319796758826329,-0.9128718076862675,-0.7272414251071215,-1.592542510211982,-1.6049155599388896],\"y\":[-0.7425688370769695,-1.0306798666469459,1.093473340033036,0.28573748528226,-0.8904533066772069,0.12316697152421505,-1.7239762498547402,-1.0306798666469459,-0.5433381322875098,-1.1563351383399345,0.6114708276149046,0.8090808962178287,-1.1138268163946308,-1.179184863643357,0.7311392796496533,-1.0380648645035884,0.4274183022515635,-0.003737857603197475,0.519798905803894,1.057074924822546,-0.6059351902425961,-0.12417832982734814,2.3041217564025778,0.9289090869791019,-0.22922024603346317,-1.4965098838135062,-0.719369019431864,0.45010988808491537,1.1408675741247651,0.2869559698818046,-0.3341146592245644,-0.09432295956267292,-0.8548723313763648,-0.8127732194275074,-0.33772161476849005,1.3185536512866614,0.6200967878631584,0.9825320540783978,-0.2170008623000991,0.5151252685145811,-0.6250538404387753,0.6880426044560269,-0.5879783492974497,-0.991995757370402,-0.394049382588151,-1.005026061163686,0.51168114295428,-0.11514077991275731,1.1597332038476766,0.15070349906259914,-0.2696882050160625,-0.7177117942184741,-0.9273013284040466,-0.45647906423128504,0.5607947187705271,-1.0056184739650997,-0.6599857275896923,-1.0799781074911672,-0.6856530713348987,-0.561605930053243,-0.5256402859538519,-0.44322146867320666,0.16660388765337866,0.6916725645644927,-1.0942308466136224,-0.2459174198748665,0.041743813741814434,-1.2458735016391018,-0.6023903512097982,0.2463463397212182,-0.6702799566035319,-1.1925025975556887,-0.015674690245894768,-0.510663371297115,-0.08664458627486607,-0.6309791181234979,0.1815135044614263,-0.6944077343719118,1.7355871282072697,1.755170837150755,-1.1753081071055256,-0.050957387512683444,-1.9178131192248622,-0.1747419654243493,-0.3088617161166189,-1.0297439604288194,-0.15510700182347054,2.107656907531763,0.4094851312445341,-0.8617233773999123,0.34594427893467483,-0.5821674501581325,-0.26435090014388885,-1.0796496498917532,-0.13768648619433035,0.37277771069570187,-0.22656023003737494,-0.10149805140675308,-0.5423237172118742,-0.35565495878685,-1.1149829934813322,-1.4538098152797625,-1.3527761463218047,1.4898017086016369,-1.1344996981981759,0.7128222993194883,0.4236363733970866,-0.4236738039937184,-0.37935903393957343,-0.24961793808109792,-0.9042012872455519,-0.8734397199623375,-0.9318482261740987,-0.7115486438307854,0.06774511577202527,0.4849343775894104,-0.7584393983281797,-0.10460550113532793,-0.36380772472947104,-0.910999483374605,-0.22279903645251517,0.3629544770541533,-1.2560510945998682,-0.7985045372500897,-1.1298436587239005,-0.553658364722254,-1.3875008464405805,-0.8088544820006948,0.6298912055613747,-0.9121196772850545,-0.17359702599168084,-1.2097561845995253,-0.9145105967388186,0.4902954376780734,-0.6235438081794704,-0.35649181964457816,0.006201978597542651,0.6367522595502535,1.4139157593227654,-0.5160235195097526,-0.36590642804977574,0.28800322447598026,-0.6951660597269184,-0.664190638801637,0.21125890951108214,-0.7204814833590373,0.6679782859333013,1.6026860813262427,1.451098874050492,2.18077448199161,-1.341869836557401,-0.09676475943830146,0.2765785625874093,-0.8029385648981106,-0.6135112625887073,-0.7206148695389881,-0.011047148902274567,-0.3680485220814575,-0.028416114100499407,-0.7557884861892968,-1.4003989726521087,-0.28348485933444667,-0.41428752070784575,-0.5660063675307739,0.17215798550100966,0.6814130599089877,-0.010530714270735403,-0.5116635036619853,-0.7593417534538213,-0.39258602329615067,1.3369039306492683,-1.0514802817190607,-0.4542954041595095,-0.9716833429870366,-0.06369635107064978,-0.7142831239892503,0.6127650798597586,1.6277073264746351,0.9990881610570644,0.6610728307560427,0.3456951505872904,-0.2037883568756001,-0.24738878791423227,0.5595642551682529,0.02225594697804148,1.568588621411047,-0.7522404659855515,0.2814834274837671,0.046511805877972295,-0.8679942283593246,0.013660691532269426,-0.9730033481309929,-0.9385165946298,-0.057130443245368895,-0.8698106444362587,-0.6228317635687413,-0.4337225837774913,-0.7353174312893691,-0.9492011990168703,-1.371464122113975,0.40357117741144916,-0.27288309960864676,-1.8971611174922824,0.6986631361819463,1.0097411729562564],\"z\":[-0.3302743626770169,-0.10874999774103512,0.5075693122664418,-0.4534409513667019,-0.26643791394546074,-0.4597540440145863,-0.4470822071430542,-0.10874999774103512,-0.14483079092962217,-0.21695987334424835,0.22788924208416145,-0.0533748021060868,-0.03545171338757339,-0.07147088741130223,-0.0266977003315186,0.10791773889188981,0.20931662619325947,0.26402777919212045,0.330014972409014,0.01956438610131415,-0.305020611125305,-0.07321867844644701,0.03607682908968494,-0.3849227821991449,-0.1440602700857234,-0.7842252347359876,-0.859269450940099,-0.1781081749600982,-0.6646103474119684,0.039410341371865186,-0.20632200185645472,-0.36134326022460506,-0.3923721802899472,-0.006209306919126284,-0.17846514027793017,0.42969415894115315,-0.37243877134795145,-0.07105030760843735,-0.3922891941349952,-0.2527820760868094,-0.24963096862404946,0.410280689546065,0.10655196788222203,-0.3201721803422371,-0.869455035395867,-0.6689398863493059,0.10735481002620785,-0.15161141193047079,0.09371158818478038,-0.08671379154572072,-0.14847364278760636,0.248847179047791,-0.02018008821696111,0.6127596046672178,0.19460927786071375,0.10052380870721066,0.06665311691127039,0.12651802206028304,-0.4051132884297618,-0.33870583718906844,0.2094603251502824,0.03182128619753062,-0.2725411777120669,-0.2265109287329328,-0.3948128221619567,0.03663024580472972,-0.5197477420453746,0.30064739512260397,-0.4841949702288557,-0.5653522214024793,-0.6237541972130836,-0.739465472135562,0.518465175806857,-0.25649216641546035,-0.08667692881496332,-0.3059456622458145,-0.14796660819256335,-0.08192368521386692,0.2037660566416787,0.03865993453825831,0.2921955616601537,0.5226910925380822,0.43211813660270254,0.13530011835986505,0.022812655052687533,0.09735466278825677,-0.8222507659464654,-0.9268687786798853,0.11154853372679295,0.038968903061421804,0.34114764220127375,-0.31077030794342253,0.16595673995372687,0.15745821683433195,-0.3390283247350227,-0.10753221709726003,-0.38254198515509263,0.2582039786212408,-0.052062820379738355,0.24466114196554586,0.05100194969583457,-0.5886225013993887,-1.1760228583591392,0.3394187952523525,0.4401947880265905,0.3293792556022998,0.028210271759975408,0.44176479588803635,-0.33112246099259796,0.14178849736340057,-0.3370803302638042,-0.30165892184506643,0.085965042814217,-0.3402310425197435,-0.6518324016985362,-0.4116521626976326,-0.3619219276141439,-0.29078092922209686,-0.8936221675179604,0.2167328782905099,0.1474313753572473,-0.49529963404898614,0.28683971172801964,0.30747904167022255,0.14201268779536888,-0.19876945696253911,0.2419324847513439,0.19476388713319615,0.11375409052889661,0.19556106913671212,-0.33897847613470816,-0.16440067772749486,0.08531910387449489,0.25247793112621175,0.16682712250709072,0.23505669250036285,-0.3640555776808626,-0.5192381731737155,-0.676556494287385,-0.01985175526248562,-0.38029931560043106,-0.15751325042002443,-0.2942302643531309,0.04656371620949199,0.12676492553290894,-0.5817755023743056,0.0693445142660734,0.281622988164543,0.07697148844324252,-0.4860484335968692,0.4062483788061808,0.40605112491011797,0.09809611646536895,0.42658717134084645,-0.2545908565194925,-0.5483783928432207,0.007414127286346116,-0.17374467477761787,-0.2351389534784222,-0.26876528575531894,-0.003607833996686909,0.4475290081698525,0.32335748098959843,0.4493451979227665,0.14602312882810645,0.12750704519785802,0.24091369078435734,0.2294183798562746,0.2834085695577419,0.26048101795112655,-0.0949875465989579,0.13562584892675458,-0.07753531916523299,0.10502674179233167,-0.0629933290716656,-0.5130547549023284,-0.2199650132726911,-0.6536253375325299,-0.5214032193403398,-0.4964144427969642,-0.35016620702748325,-0.311182458984922,-0.20369281574016904,-0.4555703936156944,-0.5139122559364938,-0.7092502327724004,0.19276310949653228,0.11671062231917788,0.16920530820047622,0.33626997928301544,0.08829342266377024,-0.06643283332773832,0.10326802374237447,0.07081925884732886,0.2987918083623163,0.2692103912437403,0.23327761550000684,-0.2557208117176683,-0.36862428123638546,-0.0004321546841081678,-0.5320785197916408,-0.3396241430553627,0.09573865977206321,-0.3139356984474229,-0.4488397004083794],\"type\":\"scatter3d\"},{\"hovertemplate\":\"color=0\\u003cbr\\u003ePrincipal Component 1=%{x}\\u003cbr\\u003ePrincipal Component 2=%{y}\\u003cbr\\u003ePrincipal Component 3=%{z}\\u003cextra\\u003e\\u003c\\u002fextra\\u003e\",\"legendgroup\":\"0\",\"marker\":{\"color\":\"#00cc96\",\"symbol\":\"circle\"},\"mode\":\"markers\",\"name\":\"0\",\"scene\":\"scene\",\"showlegend\":true,\"x\":[0.10566755728658116,0.10556455579258817,-0.23013221091571076,-7.994171224600302e-05,0.555179591599222,0.7227916362789389,0.7126298695591706,0.5272998768526087,0.6009582364983453,0.9453795880297902,0.7508604669902125,0.5647436907797306,0.41335709438491075,0.3597526657749906,0.3421946163914336,0.23878769864834257,0.0810082227894391,0.3835967153409429,0.054631879854730094,0.5263656142669375,0.12816348798418295,-0.15437678325229054,0.31731396767928427,0.5221651925517721,0.7737990261178289,0.7409751255117988,0.6915679845298545,0.41730825512105446,0.7921925239020008,-0.3388230722392161,-0.2993386953714516,0.37490216758004086,0.715829802396027,0.6667758078053652,0.32307183058488836,0.6617666729231458,1.6800898705300664,0.3246650684351466,0.2162813599267583,0.2212755376340273,0.548407192770817,0.926675741307063,-0.2538796965949838,0.07225722241913933,0.48665814709056504,-0.1734952722606806,0.9423060508298874,0.30607926690078224,0.13828167853987997,0.7150648927643652,1.431802477350049,0.845699328111855,0.5629094324115018,0.4747832920234028,0.34146455179886354,-0.0021821057541927167,1.4924548996253708,0.32699584574620366,-0.05238073086883329,0.009538241897180803,0.42649708825083393,0.19478700674114346,0.6800401532322827,-0.04774125998487944,0.4812318927026912,1.1330439382190836,0.7786327007886187,0.7595306124219205,0.7972665240253105,-0.28740176512766435,0.09627250961147298,0.6064020244271445,-0.7095586774720827,0.6760082075306104,0.5279979900346499,0.06264752947606543,0.5101600138692841,-0.7706583015502151,0.6695684692109837,0.47953036173766583,0.7706908791383552,-0.0627264956054663,0.3114797957922791,0.18135281682809062,0.18706324323873325,0.6185552169427994],\"y\":[0.028258174333292037,-0.0010415898170171782,0.13591462572750543,-0.2087715959489513,-0.887248768030685,0.3060784840955381,0.32413794689518,0.3504353531653807,0.27158478100835387,-0.552617419351588,0.12783454081145487,-0.07137155395387976,0.5243311061159465,1.1846226996874605,0.30284417214706366,0.58434599711647,0.23471813518286413,-0.1160004064988247,-0.7755719122991306,-0.8554155466243182,0.49492319833504383,0.6011893729901082,0.28422382174301064,0.8563407343703754,1.0446601873204568,1.31864111153378,0.7325404788158117,0.43987003391332646,0.539847967218385,2.39629641499611,1.7511019557508654,2.4406956423200024,1.6072725233648,1.7129406828288714,1.718832828292237,-0.04359492438542778,-0.20209896194941504,0.28972528890784455,-0.3197579735725212,0.7996759021212335,0.19933682941430356,-0.03425060866592969,0.8928679494352526,0.958050173201266,1.1877321953889357,2.4375275988364824,0.6734085235282018,1.1094498157188075,-0.05369847266817878,0.7320775266039999,2.089594238654619,0.6910751953229909,0.8058457171599965,1.1788452099688196,1.6482648035508154,-0.4401692478660611,0.560582935889376,1.6638986303062584,1.121069486403745,0.22531496875602092,0.9177937672528195,0.8698181068728994,0.3986925070393636,0.5872941712576955,1.49600400949945,0.1700584838946869,-0.6749517182546504,0.19037984247595163,0.16899482209617167,1.082679447706695,1.2459205175458476,0.6450380236002212,1.8569307256276277,-1.6660990307534613,-1.0571409473842688,1.4577342022591873,-1.136691156977802,1.5693092776212754,-1.0912731505645297,-0.710784737045637,0.3977860117471494,0.7147621799103016,0.7680636389961747,0.31279859554863937,0.7911194839067299,-0.24010529871309477],\"z\":[0.4257831595181658,0.4228886647805997,0.7034614031894262,0.6269099204857073,0.6278370408405692,0.021358346205844692,0.22395139356005458,0.44421986406352315,0.19947953505009175,0.33697539678971206,0.2682726448200991,0.56690970838511,0.13601301502223553,0.14346890182835934,0.3475997809289481,0.5406172626385312,0.36961935458803513,0.4668355470967598,0.35356782593038527,-0.046803405328310475,0.2507887031536982,0.467355192429985,0.36931112932410615,0.1571085644379024,-0.06247211819494591,-0.18379547940532567,-0.10675933521453164,0.25903538108128227,0.05244731184736963,0.42357474163266917,0.6221659803345303,-0.5133232403563578,-0.2693272109123321,-0.2744117408704291,-0.12482422344359316,0.16853745458526817,1.0126743347306253,0.3628964127528094,0.2919876621741476,0.34654030846042594,0.21346018094890212,0.1681406748586274,0.4951167134569213,0.38335821484102767,-0.08999371362327739,0.2500335002723484,-0.134011644901841,0.2999583953032284,0.04942170305005358,-0.6175943354840594,0.3612859882746613,-0.08078351133259226,-0.015995369158303487,-0.07963147916195194,0.013821052598907766,0.3132916335782822,0.8521336905637874,-0.16746982496437682,0.15776280022324832,0.5253930163480188,0.04018605174489213,0.3385819147342293,0.052694503016584536,0.43554859346036545,-0.2894109137988521,-0.12415493743868394,-0.2496966973117747,-0.6138593259369454,-0.03624213035146467,0.41163502139227576,0.2691835619280304,-0.07237233101719041,-0.23615344355712414,0.3137136460608846,0.19428780605465526,0.1734305125401257,0.2808568951855833,0.28720447336049,0.07861467372434944,-0.11051824775282965,-0.05080322009588346,0.3718429244918453,0.30695315839414405,0.031583267510509085,0.6039866419369891,0.24986947179814833],\"type\":\"scatter3d\"}],                        {\"template\":{\"data\":{\"histogram2dcontour\":[{\"type\":\"histogram2dcontour\",\"colorbar\":{\"outlinewidth\":0,\"ticks\":\"\"},\"colorscale\":[[0.0,\"#0d0887\"],[0.1111111111111111,\"#46039f\"],[0.2222222222222222,\"#7201a8\"],[0.3333333333333333,\"#9c179e\"],[0.4444444444444444,\"#bd3786\"],[0.5555555555555556,\"#d8576b\"],[0.6666666666666666,\"#ed7953\"],[0.7777777777777778,\"#fb9f3a\"],[0.8888888888888888,\"#fdca26\"],[1.0,\"#f0f921\"]]}],\"choropleth\":[{\"type\":\"choropleth\",\"colorbar\":{\"outlinewidth\":0,\"ticks\":\"\"}}],\"histogram2d\":[{\"type\":\"histogram2d\",\"colorbar\":{\"outlinewidth\":0,\"ticks\":\"\"},\"colorscale\":[[0.0,\"#0d0887\"],[0.1111111111111111,\"#46039f\"],[0.2222222222222222,\"#7201a8\"],[0.3333333333333333,\"#9c179e\"],[0.4444444444444444,\"#bd3786\"],[0.5555555555555556,\"#d8576b\"],[0.6666666666666666,\"#ed7953\"],[0.7777777777777778,\"#fb9f3a\"],[0.8888888888888888,\"#fdca26\"],[1.0,\"#f0f921\"]]}],\"heatmap\":[{\"type\":\"heatmap\",\"colorbar\":{\"outlinewidth\":0,\"ticks\":\"\"},\"colorscale\":[[0.0,\"#0d0887\"],[0.1111111111111111,\"#46039f\"],[0.2222222222222222,\"#7201a8\"],[0.3333333333333333,\"#9c179e\"],[0.4444444444444444,\"#bd3786\"],[0.5555555555555556,\"#d8576b\"],[0.6666666666666666,\"#ed7953\"],[0.7777777777777778,\"#fb9f3a\"],[0.8888888888888888,\"#fdca26\"],[1.0,\"#f0f921\"]]}],\"heatmapgl\":[{\"type\":\"heatmapgl\",\"colorbar\":{\"outlinewidth\":0,\"ticks\":\"\"},\"colorscale\":[[0.0,\"#0d0887\"],[0.1111111111111111,\"#46039f\"],[0.2222222222222222,\"#7201a8\"],[0.3333333333333333,\"#9c179e\"],[0.4444444444444444,\"#bd3786\"],[0.5555555555555556,\"#d8576b\"],[0.6666666666666666,\"#ed7953\"],[0.7777777777777778,\"#fb9f3a\"],[0.8888888888888888,\"#fdca26\"],[1.0,\"#f0f921\"]]}],\"contourcarpet\":[{\"type\":\"contourcarpet\",\"colorbar\":{\"outlinewidth\":0,\"ticks\":\"\"}}],\"contour\":[{\"type\":\"contour\",\"colorbar\":{\"outlinewidth\":0,\"ticks\":\"\"},\"colorscale\":[[0.0,\"#0d0887\"],[0.1111111111111111,\"#46039f\"],[0.2222222222222222,\"#7201a8\"],[0.3333333333333333,\"#9c179e\"],[0.4444444444444444,\"#bd3786\"],[0.5555555555555556,\"#d8576b\"],[0.6666666666666666,\"#ed7953\"],[0.7777777777777778,\"#fb9f3a\"],[0.8888888888888888,\"#fdca26\"],[1.0,\"#f0f921\"]]}],\"surface\":[{\"type\":\"surface\",\"colorbar\":{\"outlinewidth\":0,\"ticks\":\"\"},\"colorscale\":[[0.0,\"#0d0887\"],[0.1111111111111111,\"#46039f\"],[0.2222222222222222,\"#7201a8\"],[0.3333333333333333,\"#9c179e\"],[0.4444444444444444,\"#bd3786\"],[0.5555555555555556,\"#d8576b\"],[0.6666666666666666,\"#ed7953\"],[0.7777777777777778,\"#fb9f3a\"],[0.8888888888888888,\"#fdca26\"],[1.0,\"#f0f921\"]]}],\"mesh3d\":[{\"type\":\"mesh3d\",\"colorbar\":{\"outlinewidth\":0,\"ticks\":\"\"}}],\"scatter\":[{\"fillpattern\":{\"fillmode\":\"overlay\",\"size\":10,\"solidity\":0.2},\"type\":\"scatter\"}],\"parcoords\":[{\"type\":\"parcoords\",\"line\":{\"colorbar\":{\"outlinewidth\":0,\"ticks\":\"\"}}}],\"scatterpolargl\":[{\"type\":\"scatterpolargl\",\"marker\":{\"colorbar\":{\"outlinewidth\":0,\"ticks\":\"\"}}}],\"bar\":[{\"error_x\":{\"color\":\"#2a3f5f\"},\"error_y\":{\"color\":\"#2a3f5f\"},\"marker\":{\"line\":{\"color\":\"#E5ECF6\",\"width\":0.5},\"pattern\":{\"fillmode\":\"overlay\",\"size\":10,\"solidity\":0.2}},\"type\":\"bar\"}],\"scattergeo\":[{\"type\":\"scattergeo\",\"marker\":{\"colorbar\":{\"outlinewidth\":0,\"ticks\":\"\"}}}],\"scatterpolar\":[{\"type\":\"scatterpolar\",\"marker\":{\"colorbar\":{\"outlinewidth\":0,\"ticks\":\"\"}}}],\"histogram\":[{\"marker\":{\"pattern\":{\"fillmode\":\"overlay\",\"size\":10,\"solidity\":0.2}},\"type\":\"histogram\"}],\"scattergl\":[{\"type\":\"scattergl\",\"marker\":{\"colorbar\":{\"outlinewidth\":0,\"ticks\":\"\"}}}],\"scatter3d\":[{\"type\":\"scatter3d\",\"line\":{\"colorbar\":{\"outlinewidth\":0,\"ticks\":\"\"}},\"marker\":{\"colorbar\":{\"outlinewidth\":0,\"ticks\":\"\"}}}],\"scattermapbox\":[{\"type\":\"scattermapbox\",\"marker\":{\"colorbar\":{\"outlinewidth\":0,\"ticks\":\"\"}}}],\"scatterternary\":[{\"type\":\"scatterternary\",\"marker\":{\"colorbar\":{\"outlinewidth\":0,\"ticks\":\"\"}}}],\"scattercarpet\":[{\"type\":\"scattercarpet\",\"marker\":{\"colorbar\":{\"outlinewidth\":0,\"ticks\":\"\"}}}],\"carpet\":[{\"aaxis\":{\"endlinecolor\":\"#2a3f5f\",\"gridcolor\":\"white\",\"linecolor\":\"white\",\"minorgridcolor\":\"white\",\"startlinecolor\":\"#2a3f5f\"},\"baxis\":{\"endlinecolor\":\"#2a3f5f\",\"gridcolor\":\"white\",\"linecolor\":\"white\",\"minorgridcolor\":\"white\",\"startlinecolor\":\"#2a3f5f\"},\"type\":\"carpet\"}],\"table\":[{\"cells\":{\"fill\":{\"color\":\"#EBF0F8\"},\"line\":{\"color\":\"white\"}},\"header\":{\"fill\":{\"color\":\"#C8D4E3\"},\"line\":{\"color\":\"white\"}},\"type\":\"table\"}],\"barpolar\":[{\"marker\":{\"line\":{\"color\":\"#E5ECF6\",\"width\":0.5},\"pattern\":{\"fillmode\":\"overlay\",\"size\":10,\"solidity\":0.2}},\"type\":\"barpolar\"}],\"pie\":[{\"automargin\":true,\"type\":\"pie\"}]},\"layout\":{\"autotypenumbers\":\"strict\",\"colorway\":[\"#636efa\",\"#EF553B\",\"#00cc96\",\"#ab63fa\",\"#FFA15A\",\"#19d3f3\",\"#FF6692\",\"#B6E880\",\"#FF97FF\",\"#FECB52\"],\"font\":{\"color\":\"#2a3f5f\"},\"hovermode\":\"closest\",\"hoverlabel\":{\"align\":\"left\"},\"paper_bgcolor\":\"white\",\"plot_bgcolor\":\"#E5ECF6\",\"polar\":{\"bgcolor\":\"#E5ECF6\",\"angularaxis\":{\"gridcolor\":\"white\",\"linecolor\":\"white\",\"ticks\":\"\"},\"radialaxis\":{\"gridcolor\":\"white\",\"linecolor\":\"white\",\"ticks\":\"\"}},\"ternary\":{\"bgcolor\":\"#E5ECF6\",\"aaxis\":{\"gridcolor\":\"white\",\"linecolor\":\"white\",\"ticks\":\"\"},\"baxis\":{\"gridcolor\":\"white\",\"linecolor\":\"white\",\"ticks\":\"\"},\"caxis\":{\"gridcolor\":\"white\",\"linecolor\":\"white\",\"ticks\":\"\"}},\"coloraxis\":{\"colorbar\":{\"outlinewidth\":0,\"ticks\":\"\"}},\"colorscale\":{\"sequential\":[[0.0,\"#0d0887\"],[0.1111111111111111,\"#46039f\"],[0.2222222222222222,\"#7201a8\"],[0.3333333333333333,\"#9c179e\"],[0.4444444444444444,\"#bd3786\"],[0.5555555555555556,\"#d8576b\"],[0.6666666666666666,\"#ed7953\"],[0.7777777777777778,\"#fb9f3a\"],[0.8888888888888888,\"#fdca26\"],[1.0,\"#f0f921\"]],\"sequentialminus\":[[0.0,\"#0d0887\"],[0.1111111111111111,\"#46039f\"],[0.2222222222222222,\"#7201a8\"],[0.3333333333333333,\"#9c179e\"],[0.4444444444444444,\"#bd3786\"],[0.5555555555555556,\"#d8576b\"],[0.6666666666666666,\"#ed7953\"],[0.7777777777777778,\"#fb9f3a\"],[0.8888888888888888,\"#fdca26\"],[1.0,\"#f0f921\"]],\"diverging\":[[0,\"#8e0152\"],[0.1,\"#c51b7d\"],[0.2,\"#de77ae\"],[0.3,\"#f1b6da\"],[0.4,\"#fde0ef\"],[0.5,\"#f7f7f7\"],[0.6,\"#e6f5d0\"],[0.7,\"#b8e186\"],[0.8,\"#7fbc41\"],[0.9,\"#4d9221\"],[1,\"#276419\"]]},\"xaxis\":{\"gridcolor\":\"white\",\"linecolor\":\"white\",\"ticks\":\"\",\"title\":{\"standoff\":15},\"zerolinecolor\":\"white\",\"automargin\":true,\"zerolinewidth\":2},\"yaxis\":{\"gridcolor\":\"white\",\"linecolor\":\"white\",\"ticks\":\"\",\"title\":{\"standoff\":15},\"zerolinecolor\":\"white\",\"automargin\":true,\"zerolinewidth\":2},\"scene\":{\"xaxis\":{\"backgroundcolor\":\"#E5ECF6\",\"gridcolor\":\"white\",\"linecolor\":\"white\",\"showbackground\":true,\"ticks\":\"\",\"zerolinecolor\":\"white\",\"gridwidth\":2},\"yaxis\":{\"backgroundcolor\":\"#E5ECF6\",\"gridcolor\":\"white\",\"linecolor\":\"white\",\"showbackground\":true,\"ticks\":\"\",\"zerolinecolor\":\"white\",\"gridwidth\":2},\"zaxis\":{\"backgroundcolor\":\"#E5ECF6\",\"gridcolor\":\"white\",\"linecolor\":\"white\",\"showbackground\":true,\"ticks\":\"\",\"zerolinecolor\":\"white\",\"gridwidth\":2}},\"shapedefaults\":{\"line\":{\"color\":\"#2a3f5f\"}},\"annotationdefaults\":{\"arrowcolor\":\"#2a3f5f\",\"arrowhead\":0,\"arrowwidth\":1},\"geo\":{\"bgcolor\":\"white\",\"landcolor\":\"#E5ECF6\",\"subunitcolor\":\"white\",\"showland\":true,\"showlakes\":true,\"lakecolor\":\"white\"},\"title\":{\"x\":0.05},\"mapbox\":{\"style\":\"light\"}}},\"scene\":{\"domain\":{\"x\":[0.0,1.0],\"y\":[0.0,1.0]},\"xaxis\":{\"title\":{\"text\":\"Principal Component 1\"}},\"yaxis\":{\"title\":{\"text\":\"Principal Component 2\"}},\"zaxis\":{\"title\":{\"text\":\"Principal Component 3\"}}},\"legend\":{\"title\":{\"text\":\"color\"},\"tracegroupgap\":0},\"title\":{\"text\":\"Interactive 3D Scatter Plot of KMeans Clusters on PCA Data\",\"font\":{\"size\":20}},\"width\":1200,\"height\":900},                        {\"responsive\": true}                    ).then(function(){\n",
       "                            \n",
       "var gd = document.getElementById('daa73cee-7bc3-474a-acdf-2c5e77b4fe1c');\n",
       "var x = new MutationObserver(function (mutations, observer) {{\n",
       "        var display = window.getComputedStyle(gd).display;\n",
       "        if (!display || display === 'none') {{\n",
       "            console.log([gd, 'removed!']);\n",
       "            Plotly.purge(gd);\n",
       "            observer.disconnect();\n",
       "        }}\n",
       "}});\n",
       "\n",
       "// Listen for the removal of the full notebook cells\n",
       "var notebookContainer = gd.closest('#notebook-container');\n",
       "if (notebookContainer) {{\n",
       "    x.observe(notebookContainer, {childList: true});\n",
       "}}\n",
       "\n",
       "// Listen for the clearing of the current output cell\n",
       "var outputEl = gd.closest('.output');\n",
       "if (outputEl) {{\n",
       "    x.observe(outputEl, {childList: true});\n",
       "}}\n",
       "\n",
       "                        })                };                });            </script>        </div>"
      ]
     },
     "metadata": {},
     "output_type": "display_data"
    }
   ],
   "source": [
    "from sklearn.decomposition import PCA\n",
    "from sklearn.cluster import KMeans\n",
    "import plotly.express as px\n",
    "\n",
    "\n",
    "\n",
    "# KMeans clustering after PCA\n",
    "kmeans = KMeans(n_clusters=3, random_state=42)  # You can change the number of clusters\n",
    "kmeans_result = kmeans.fit(pca_result)  # Fit KMeans on PCA results\n",
    "\n",
    "\n",
    "\n",
    "# Plot the clusters in the first two principal components (for visualization)\n",
    "plt.figure(figsize=(8, 6))\n",
    "plt.scatter(pca_result[:, 0], pca_result[:, 1], c=kmeans.labels_, cmap='viridis', marker='o')\n",
    "plt.title('KMeans Clusters on PCA Transformed Data')\n",
    "plt.xlabel('Principal Component 1')\n",
    "plt.ylabel('Principal Component 2')\n",
    "plt.colorbar(label='Cluster Label')\n",
    "plt.grid()\n",
    "plt.show()\n",
    "\n",
    "# Display the cluster centers in the principal component space\n",
    "cluster_centers = kmeans.cluster_centers_\n",
    "print(\"Cluster Centers (in PCA space):\")\n",
    "for i, center in enumerate(cluster_centers, 1):\n",
    "    print(f\"Cluster {i}: {center}\")\n",
    "\n",
    "# Display the number of samples in each cluster\n",
    "unique, counts = np.unique(kmeans.labels_, return_counts=True)\n",
    "print(\"\\nCluster Sizes:\")\n",
    "for label, count in zip(unique, counts):\n",
    "    print(f\"Cluster {label}: {count} samples\")\n",
    "\n",
    "# Interactive 3D scatter plot for the first three principal components\n",
    "fig = px.scatter_3d(\n",
    "    x=pca_result[:, 0], \n",
    "    y=pca_result[:, 1], \n",
    "    z=pca_result[:, 2], \n",
    "    color=kmeans.labels_.astype(str),  # Cluster labels for color\n",
    "    labels={'x': 'Principal Component 1', 'y': 'Principal Component 2', 'z': 'Principal Component 3'},\n",
    "    title='Interactive 3D Scatter Plot of KMeans Clusters on PCA Data'\n",
    ")\n",
    "# Customize the layout for a larger figure\n",
    "fig.update_layout(\n",
    "    width=1200,  # Increase width\n",
    "    height=900,  # Increase height\n",
    "    title_font=dict(size=20),\n",
    ")\n",
    "\n",
    "fig.show()\n"
   ]
  },
  {
   "cell_type": "code",
   "execution_count": 53,
   "id": "828de326-bea7-47d3-9c36-d4ecc65c5297",
   "metadata": {},
   "outputs": [],
   "source": [
    "df['assigned_cluster'] = kmeans.labels_\n"
   ]
  },
  {
   "cell_type": "code",
   "execution_count": 54,
   "id": "5c28f2ef-f962-4f56-90ec-203bf5826ba2",
   "metadata": {},
   "outputs": [
    {
     "data": {
      "image/png": "[encoded data removed]",
      "text/plain": [
       "<Figure size 800x600 with 1 Axes>"
      ]
     },
     "metadata": {},
     "output_type": "display_data"
    }
   ],
   "source": [
    "import matplotlib.pyplot as plt\n",
    "import seaborn as sns\n",
    "\n",
    "# Scatter plot of mpg values for each cluster\n",
    "plt.figure(figsize=(8, 6))\n",
    "sns.scatterplot(data=df, x='assigned_cluster', y='mpg', hue='assigned_cluster', palette='viridis')\n",
    "plt.title('Scatter Plot of MPG Values per Cluster')\n",
    "plt.xlabel('Cluster')\n",
    "plt.ylabel('MPG')\n",
    "plt.legend(title='Cluster', loc='upper right')\n",
    "plt.grid(True)\n",
    "plt.show()\n"
   ]
  },
  {
   "cell_type": "code",
   "execution_count": 55,
   "id": "3416e60b-67e8-49de-80be-f4926a2bd604",
   "metadata": {},
   "outputs": [
    {
     "data": {
      "text/html": [
       "<div>\n",
       "<style scoped>\n",
       "    .dataframe tbody tr th:only-of-type {\n",
       "        vertical-align: middle;\n",
       "    }\n",
       "\n",
       "    .dataframe tbody tr th {\n",
       "        vertical-align: top;\n",
       "    }\n",
       "\n",
       "    .dataframe thead th {\n",
       "        text-align: right;\n",
       "    }\n",
       "</style>\n",
       "<table border=\"1\" class=\"dataframe\">\n",
       "  <thead>\n",
       "    <tr style=\"text-align: right;\">\n",
       "      <th></th>\n",
       "      <th>count</th>\n",
       "      <th>mean</th>\n",
       "      <th>std</th>\n",
       "      <th>min</th>\n",
       "      <th>25%</th>\n",
       "      <th>50%</th>\n",
       "      <th>75%</th>\n",
       "      <th>max</th>\n",
       "    </tr>\n",
       "    <tr>\n",
       "      <th>assigned_cluster</th>\n",
       "      <th></th>\n",
       "      <th></th>\n",
       "      <th></th>\n",
       "      <th></th>\n",
       "      <th></th>\n",
       "      <th></th>\n",
       "      <th></th>\n",
       "      <th></th>\n",
       "    </tr>\n",
       "  </thead>\n",
       "  <tbody>\n",
       "    <tr>\n",
       "      <th>0</th>\n",
       "      <td>86.0</td>\n",
       "      <td>19.891860</td>\n",
       "      <td>3.554193</td>\n",
       "      <td>15.0</td>\n",
       "      <td>18.0</td>\n",
       "      <td>19.05</td>\n",
       "      <td>21.0</td>\n",
       "      <td>38.0</td>\n",
       "    </tr>\n",
       "    <tr>\n",
       "      <th>1</th>\n",
       "      <td>205.0</td>\n",
       "      <td>29.059024</td>\n",
       "      <td>5.638695</td>\n",
       "      <td>18.0</td>\n",
       "      <td>25.0</td>\n",
       "      <td>28.00</td>\n",
       "      <td>32.9</td>\n",
       "      <td>46.6</td>\n",
       "    </tr>\n",
       "    <tr>\n",
       "      <th>2</th>\n",
       "      <td>87.0</td>\n",
       "      <td>14.971264</td>\n",
       "      <td>2.241569</td>\n",
       "      <td>11.0</td>\n",
       "      <td>13.0</td>\n",
       "      <td>15.00</td>\n",
       "      <td>16.0</td>\n",
       "      <td>23.0</td>\n",
       "    </tr>\n",
       "  </tbody>\n",
       "</table>\n",
       "</div>"
      ],
      "text/plain": [
       "                  count       mean       std   min   25%    50%   75%   max\n",
       "assigned_cluster                                                           \n",
       "0                  86.0  19.891860  3.554193  15.0  18.0  19.05  21.0  38.0\n",
       "1                 205.0  29.059024  5.638695  18.0  25.0  28.00  32.9  46.6\n",
       "2                  87.0  14.971264  2.241569  11.0  13.0  15.00  16.0  23.0"
      ]
     },
     "execution_count": 55,
     "metadata": {},
     "output_type": "execute_result"
    }
   ],
   "source": [
    "# Step 4: Assign the cluster labels to the DataFrame\n",
    "# Step 2: Analyze the MPG values within each cluster and their frequency\n",
    "cluster_summary = df.groupby('assigned_cluster')['mpg'].describe()\n",
    "cluster_summary"
   ]
  },
  {
   "cell_type": "code",
   "execution_count": 56,
   "id": "6489164a-b3ea-4087-962f-6961ff53f968",
   "metadata": {},
   "outputs": [
    {
     "name": "stdout",
     "output_type": "stream",
     "text": [
      "mpg_label\n",
      "High      168\n",
      "Low       111\n",
      "Medium     99\n",
      "dtype: int64\n"
     ]
    },
    {
     "data": {
      "text/html": [
       "<div>\n",
       "<style scoped>\n",
       "    .dataframe tbody tr th:only-of-type {\n",
       "        vertical-align: middle;\n",
       "    }\n",
       "\n",
       "    .dataframe tbody tr th {\n",
       "        vertical-align: top;\n",
       "    }\n",
       "\n",
       "    .dataframe thead th {\n",
       "        text-align: right;\n",
       "    }\n",
       "</style>\n",
       "<table border=\"1\" class=\"dataframe\">\n",
       "  <thead>\n",
       "    <tr style=\"text-align: right;\">\n",
       "      <th></th>\n",
       "      <th>mpg</th>\n",
       "      <th>cylinders</th>\n",
       "      <th>displayments</th>\n",
       "      <th>horsepower</th>\n",
       "      <th>weight</th>\n",
       "      <th>acceleration</th>\n",
       "      <th>model year</th>\n",
       "      <th>origin</th>\n",
       "      <th>car name</th>\n",
       "      <th>outlier</th>\n",
       "      <th>car brand</th>\n",
       "      <th>model</th>\n",
       "      <th>anomaly_score</th>\n",
       "      <th>multivariate_outlier</th>\n",
       "      <th>car_name_encoded</th>\n",
       "      <th>assigned_cluster</th>\n",
       "      <th>mpg_label</th>\n",
       "    </tr>\n",
       "  </thead>\n",
       "  <tbody>\n",
       "    <tr>\n",
       "      <th>0</th>\n",
       "      <td>18.0</td>\n",
       "      <td>8.0</td>\n",
       "      <td>307.0</td>\n",
       "      <td>130.0</td>\n",
       "      <td>3504.0</td>\n",
       "      <td>12.0</td>\n",
       "      <td>70</td>\n",
       "      <td>1</td>\n",
       "      <td>chevrolet chevelle malibu</td>\n",
       "      <td>Normal</td>\n",
       "      <td>chevrolet</td>\n",
       "      <td>chevelle malibu</td>\n",
       "      <td>1</td>\n",
       "      <td>Normal</td>\n",
       "      <td>5</td>\n",
       "      <td>2</td>\n",
       "      <td>Low</td>\n",
       "    </tr>\n",
       "    <tr>\n",
       "      <th>1</th>\n",
       "      <td>15.0</td>\n",
       "      <td>8.0</td>\n",
       "      <td>350.0</td>\n",
       "      <td>165.0</td>\n",
       "      <td>3693.0</td>\n",
       "      <td>11.5</td>\n",
       "      <td>70</td>\n",
       "      <td>1</td>\n",
       "      <td>buick skylark 320</td>\n",
       "      <td>Normal</td>\n",
       "      <td>buick</td>\n",
       "      <td>skylark 320</td>\n",
       "      <td>1</td>\n",
       "      <td>Normal</td>\n",
       "      <td>3</td>\n",
       "      <td>2</td>\n",
       "      <td>Low</td>\n",
       "    </tr>\n",
       "    <tr>\n",
       "      <th>2</th>\n",
       "      <td>18.0</td>\n",
       "      <td>8.0</td>\n",
       "      <td>318.0</td>\n",
       "      <td>150.0</td>\n",
       "      <td>3436.0</td>\n",
       "      <td>11.0</td>\n",
       "      <td>70</td>\n",
       "      <td>1</td>\n",
       "      <td>plymouth satellite</td>\n",
       "      <td>Normal</td>\n",
       "      <td>plymouth</td>\n",
       "      <td>satellite</td>\n",
       "      <td>1</td>\n",
       "      <td>Normal</td>\n",
       "      <td>19</td>\n",
       "      <td>2</td>\n",
       "      <td>Low</td>\n",
       "    </tr>\n",
       "    <tr>\n",
       "      <th>3</th>\n",
       "      <td>16.0</td>\n",
       "      <td>8.0</td>\n",
       "      <td>304.0</td>\n",
       "      <td>150.0</td>\n",
       "      <td>3433.0</td>\n",
       "      <td>12.0</td>\n",
       "      <td>70</td>\n",
       "      <td>1</td>\n",
       "      <td>amc rebel sst</td>\n",
       "      <td>Normal</td>\n",
       "      <td>amc</td>\n",
       "      <td>rebel sst</td>\n",
       "      <td>1</td>\n",
       "      <td>Normal</td>\n",
       "      <td>0</td>\n",
       "      <td>2</td>\n",
       "      <td>Low</td>\n",
       "    </tr>\n",
       "    <tr>\n",
       "      <th>4</th>\n",
       "      <td>17.0</td>\n",
       "      <td>8.0</td>\n",
       "      <td>302.0</td>\n",
       "      <td>140.0</td>\n",
       "      <td>3449.0</td>\n",
       "      <td>10.5</td>\n",
       "      <td>70</td>\n",
       "      <td>1</td>\n",
       "      <td>ford torino</td>\n",
       "      <td>Normal</td>\n",
       "      <td>ford</td>\n",
       "      <td>torino</td>\n",
       "      <td>1</td>\n",
       "      <td>Normal</td>\n",
       "      <td>10</td>\n",
       "      <td>2</td>\n",
       "      <td>Low</td>\n",
       "    </tr>\n",
       "    <tr>\n",
       "      <th>...</th>\n",
       "      <td>...</td>\n",
       "      <td>...</td>\n",
       "      <td>...</td>\n",
       "      <td>...</td>\n",
       "      <td>...</td>\n",
       "      <td>...</td>\n",
       "      <td>...</td>\n",
       "      <td>...</td>\n",
       "      <td>...</td>\n",
       "      <td>...</td>\n",
       "      <td>...</td>\n",
       "      <td>...</td>\n",
       "      <td>...</td>\n",
       "      <td>...</td>\n",
       "      <td>...</td>\n",
       "      <td>...</td>\n",
       "      <td>...</td>\n",
       "    </tr>\n",
       "    <tr>\n",
       "      <th>373</th>\n",
       "      <td>27.0</td>\n",
       "      <td>4.0</td>\n",
       "      <td>151.0</td>\n",
       "      <td>90.0</td>\n",
       "      <td>2950.0</td>\n",
       "      <td>17.3</td>\n",
       "      <td>82</td>\n",
       "      <td>1</td>\n",
       "      <td>chevrolet camaro</td>\n",
       "      <td>Normal</td>\n",
       "      <td>chevrolet</td>\n",
       "      <td>camaro</td>\n",
       "      <td>1</td>\n",
       "      <td>Normal</td>\n",
       "      <td>5</td>\n",
       "      <td>1</td>\n",
       "      <td>High</td>\n",
       "    </tr>\n",
       "    <tr>\n",
       "      <th>374</th>\n",
       "      <td>27.0</td>\n",
       "      <td>4.0</td>\n",
       "      <td>140.0</td>\n",
       "      <td>86.0</td>\n",
       "      <td>2790.0</td>\n",
       "      <td>15.6</td>\n",
       "      <td>82</td>\n",
       "      <td>1</td>\n",
       "      <td>ford mustang gl</td>\n",
       "      <td>Normal</td>\n",
       "      <td>ford</td>\n",
       "      <td>mustang gl</td>\n",
       "      <td>1</td>\n",
       "      <td>Normal</td>\n",
       "      <td>10</td>\n",
       "      <td>1</td>\n",
       "      <td>High</td>\n",
       "    </tr>\n",
       "    <tr>\n",
       "      <th>375</th>\n",
       "      <td>32.0</td>\n",
       "      <td>4.0</td>\n",
       "      <td>135.0</td>\n",
       "      <td>84.0</td>\n",
       "      <td>2295.0</td>\n",
       "      <td>11.6</td>\n",
       "      <td>82</td>\n",
       "      <td>1</td>\n",
       "      <td>dodge rampage</td>\n",
       "      <td>Normal</td>\n",
       "      <td>dodge</td>\n",
       "      <td>rampage</td>\n",
       "      <td>1</td>\n",
       "      <td>Normal</td>\n",
       "      <td>8</td>\n",
       "      <td>1</td>\n",
       "      <td>High</td>\n",
       "    </tr>\n",
       "    <tr>\n",
       "      <th>376</th>\n",
       "      <td>28.0</td>\n",
       "      <td>4.0</td>\n",
       "      <td>120.0</td>\n",
       "      <td>79.0</td>\n",
       "      <td>2625.0</td>\n",
       "      <td>18.6</td>\n",
       "      <td>82</td>\n",
       "      <td>1</td>\n",
       "      <td>ford ranger</td>\n",
       "      <td>Normal</td>\n",
       "      <td>ford</td>\n",
       "      <td>ranger</td>\n",
       "      <td>1</td>\n",
       "      <td>Normal</td>\n",
       "      <td>10</td>\n",
       "      <td>1</td>\n",
       "      <td>High</td>\n",
       "    </tr>\n",
       "    <tr>\n",
       "      <th>377</th>\n",
       "      <td>31.0</td>\n",
       "      <td>4.0</td>\n",
       "      <td>119.0</td>\n",
       "      <td>82.0</td>\n",
       "      <td>2720.0</td>\n",
       "      <td>19.4</td>\n",
       "      <td>82</td>\n",
       "      <td>1</td>\n",
       "      <td>chevy s-10</td>\n",
       "      <td>Normal</td>\n",
       "      <td>chevrolet</td>\n",
       "      <td>s-10</td>\n",
       "      <td>1</td>\n",
       "      <td>Normal</td>\n",
       "      <td>5</td>\n",
       "      <td>1</td>\n",
       "      <td>High</td>\n",
       "    </tr>\n",
       "  </tbody>\n",
       "</table>\n",
       "<p>378 rows × 17 columns</p>\n",
       "</div>"
      ],
      "text/plain": [
       "      mpg  cylinders  displayments  horsepower  weight  acceleration  \\\n",
       "0    18.0        8.0         307.0       130.0  3504.0          12.0   \n",
       "1    15.0        8.0         350.0       165.0  3693.0          11.5   \n",
       "2    18.0        8.0         318.0       150.0  3436.0          11.0   \n",
       "3    16.0        8.0         304.0       150.0  3433.0          12.0   \n",
       "4    17.0        8.0         302.0       140.0  3449.0          10.5   \n",
       "..    ...        ...           ...         ...     ...           ...   \n",
       "373  27.0        4.0         151.0        90.0  2950.0          17.3   \n",
       "374  27.0        4.0         140.0        86.0  2790.0          15.6   \n",
       "375  32.0        4.0         135.0        84.0  2295.0          11.6   \n",
       "376  28.0        4.0         120.0        79.0  2625.0          18.6   \n",
       "377  31.0        4.0         119.0        82.0  2720.0          19.4   \n",
       "\n",
       "     model year  origin                   car name outlier  car brand  \\\n",
       "0            70       1  chevrolet chevelle malibu  Normal  chevrolet   \n",
       "1            70       1          buick skylark 320  Normal      buick   \n",
       "2            70       1         plymouth satellite  Normal   plymouth   \n",
       "3            70       1              amc rebel sst  Normal        amc   \n",
       "4            70       1                ford torino  Normal       ford   \n",
       "..          ...     ...                        ...     ...        ...   \n",
       "373          82       1           chevrolet camaro  Normal  chevrolet   \n",
       "374          82       1            ford mustang gl  Normal       ford   \n",
       "375          82       1              dodge rampage  Normal      dodge   \n",
       "376          82       1                ford ranger  Normal       ford   \n",
       "377          82       1                 chevy s-10  Normal  chevrolet   \n",
       "\n",
       "               model  anomaly_score multivariate_outlier  car_name_encoded  \\\n",
       "0    chevelle malibu              1               Normal                 5   \n",
       "1        skylark 320              1               Normal                 3   \n",
       "2          satellite              1               Normal                19   \n",
       "3          rebel sst              1               Normal                 0   \n",
       "4             torino              1               Normal                10   \n",
       "..               ...            ...                  ...               ...   \n",
       "373           camaro              1               Normal                 5   \n",
       "374       mustang gl              1               Normal                10   \n",
       "375          rampage              1               Normal                 8   \n",
       "376           ranger              1               Normal                10   \n",
       "377             s-10              1               Normal                 5   \n",
       "\n",
       "     assigned_cluster mpg_label  \n",
       "0                   2       Low  \n",
       "1                   2       Low  \n",
       "2                   2       Low  \n",
       "3                   2       Low  \n",
       "4                   2       Low  \n",
       "..                ...       ...  \n",
       "373                 1      High  \n",
       "374                 1      High  \n",
       "375                 1      High  \n",
       "376                 1      High  \n",
       "377                 1      High  \n",
       "\n",
       "[378 rows x 17 columns]"
      ]
     },
     "execution_count": 56,
     "metadata": {},
     "output_type": "execute_result"
    }
   ],
   "source": [
    "import pandas as pd\n",
    "\n",
    "# Assuming 'df' is your dataframe and it has the 'mpg' and 'pca_kmeans_clusters' columns\n",
    "\n",
    "# Step 1: Define a function to assign labels based on the new ranges\n",
    "def assign_mpg_label(mpg):\n",
    "    if 11.0 <= mpg <= 18.0:  # Low range\n",
    "        return 'Low'\n",
    "    elif 18.0 < mpg <= 24:  # Medium range\n",
    "        return 'Medium'\n",
    "    else :                   # High range\n",
    "        return 'High'\n",
    "  \n",
    "\n",
    "# Step 2: Apply the label function to assign 'Low', 'Medium', or 'High'\n",
    "df['mpg_label'] = df['mpg'].apply(assign_mpg_label)\n",
    "\n",
    "instances_per_cluster = df.groupby('mpg_label').size()\n",
    "\n",
    "print(instances_per_cluster)\n",
    "\n",
    "# Step 3: Verify the assignment\n",
    "df"
   ]
  },
  {
   "cell_type": "code",
   "execution_count": 57,
   "id": "9463ff36-5897-48ed-a6c7-8a4f2983fd4f",
   "metadata": {},
   "outputs": [
    {
     "data": {
      "image/png": "[encoded data removed]",
      "text/plain": [
       "<Figure size 800x600 with 1 Axes>"
      ]
     },
     "metadata": {},
     "output_type": "display_data"
    }
   ],
   "source": [
    "import matplotlib.pyplot as plt\n",
    "\n",
    "# Assuming 'df' is your dataframe and it contains 'mpg' and 'pca_kmeans_clusters' columns\n",
    "\n",
    "# Scatter plot of mpg values for each cluster\n",
    "plt.figure(figsize=(8, 6))\n",
    "sns.scatterplot(data=df, x='assigned_cluster', y='mpg', hue='assigned_cluster', palette='viridis')\n",
    "\n",
    "\n",
    "# Step 2: Add the range values for Low, Medium, and High categories\n",
    "plt.axhline(y=18, color='r', linestyle='--', label='Low to Medium Range (11.0 to 18.0 MPG)')\n",
    "plt.axhline(y=24, color='g', linestyle='--', label='Medium to High Range (18.0 to 24.0 MPG)')\n",
    "plt.axhline(y=46.6, color='b', linestyle='--', label='High Range (24 to 46.6 MPG)')\n",
    "\n",
    "# Step 3: Labeling and Titles\n",
    "plt.title('Scatter Plot of MPG Values per Cluster with Range Annotations')\n",
    "plt.xlabel('Index of Data Points')\n",
    "plt.ylabel('MPG')\n",
    "plt.legend()\n",
    "\n",
    "# Step 4: Show the plot\n",
    "plt.show()\n"
   ]
  },
  {
   "cell_type": "markdown",
   "id": "76ab9c3b-ef49-44b7-95c9-b783e2324ef5",
   "metadata": {},
   "source": [
    "\n",
    "df.drop(columns=['assigned_cluster'], inplace=True)"
   ]
  }
 ],
 "metadata": {
  "kernelspec": {
   "display_name": "Python [conda env:base] *",
   "language": "python",
   "name": "conda-base-py"
  },
  "language_info": {
   "codemirror_mode": {
    "name": "ipython",
    "version": 3
   },
   "file_extension": ".py",
   "mimetype": "text/x-python",
   "name": "python",
   "nbconvert_exporter": "python",
   "pygments_lexer": "ipython3",
   "version": "3.12.7"
  }
 },
 "nbformat": 4,
 "nbformat_minor": 5
}
