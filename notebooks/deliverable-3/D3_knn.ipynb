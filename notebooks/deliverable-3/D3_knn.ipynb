{
 "cells": [
  {
   "cell_type": "markdown",
   "id": "2982d9cb-c694-4acc-883b-51844a4ac972",
   "metadata": {},
   "source": [
    "# *Deliverable 3*: k Nearest Neighbors\n",
    "\n",
    "* Import dataset and necessary libraries\n",
    "<br><br>  \n",
    "* Split the data\n",
    "<br><br>  \n",
    "* Train the model\n",
    "<br><br>\n",
    "* Evaluate the model"
   ]
  },
  {
   "cell_type": "markdown",
   "id": "a3a5cfb1-623f-45be-b202-dcb66897423e",
   "metadata": {},
   "source": [
    "## Import dataset and necessary libraries"
   ]
  },
  {
   "cell_type": "code",
   "execution_count": null,
   "id": "d78ffe08-46ec-4f4e-97f7-e48a8b010915",
   "metadata": {},
   "outputs": [
    {
     "data": {
      "text/html": [
       "<div>\n",
       "<style scoped>\n",
       "    .dataframe tbody tr th:only-of-type {\n",
       "        vertical-align: middle;\n",
       "    }\n",
       "\n",
       "    .dataframe tbody tr th {\n",
       "        vertical-align: top;\n",
       "    }\n",
       "\n",
       "    .dataframe thead th {\n",
       "        text-align: right;\n",
       "    }\n",
       "</style>\n",
       "<table border=\"1\" class=\"dataframe\">\n",
       "  <thead>\n",
       "    <tr style=\"text-align: right;\">\n",
       "      <th></th>\n",
       "      <th>mpg</th>\n",
       "      <th>cylinders</th>\n",
       "      <th>displayments</th>\n",
       "      <th>horsepower</th>\n",
       "      <th>weight</th>\n",
       "      <th>acceleration</th>\n",
       "      <th>model year</th>\n",
       "      <th>origin</th>\n",
       "      <th>car name</th>\n",
       "      <th>outlier</th>\n",
       "      <th>car brand</th>\n",
       "      <th>model</th>\n",
       "      <th>anomaly_score</th>\n",
       "      <th>multivariate_outlier</th>\n",
       "      <th>car_name_encoded</th>\n",
       "      <th>mpg_classes</th>\n",
       "    </tr>\n",
       "  </thead>\n",
       "  <tbody>\n",
       "    <tr>\n",
       "      <th>0</th>\n",
       "      <td>11.0</td>\n",
       "      <td>8.0</td>\n",
       "      <td>350.0</td>\n",
       "      <td>180.0</td>\n",
       "      <td>3664.0</td>\n",
       "      <td>11.0</td>\n",
       "      <td>73</td>\n",
       "      <td>1</td>\n",
       "      <td>oldsmobile omega</td>\n",
       "      <td>Normal</td>\n",
       "      <td>oldsmobile</td>\n",
       "      <td>omega</td>\n",
       "      <td>1</td>\n",
       "      <td>Normal</td>\n",
       "      <td>16</td>\n",
       "      <td>0</td>\n",
       "    </tr>\n",
       "    <tr>\n",
       "      <th>1</th>\n",
       "      <td>11.0</td>\n",
       "      <td>8.0</td>\n",
       "      <td>400.0</td>\n",
       "      <td>150.0</td>\n",
       "      <td>4997.0</td>\n",
       "      <td>14.0</td>\n",
       "      <td>73</td>\n",
       "      <td>1</td>\n",
       "      <td>chevrolet impala</td>\n",
       "      <td>Normal</td>\n",
       "      <td>chevrolet</td>\n",
       "      <td>impala</td>\n",
       "      <td>1</td>\n",
       "      <td>Normal</td>\n",
       "      <td>5</td>\n",
       "      <td>0</td>\n",
       "    </tr>\n",
       "    <tr>\n",
       "      <th>2</th>\n",
       "      <td>11.0</td>\n",
       "      <td>8.0</td>\n",
       "      <td>318.0</td>\n",
       "      <td>210.0</td>\n",
       "      <td>4382.0</td>\n",
       "      <td>13.5</td>\n",
       "      <td>70</td>\n",
       "      <td>1</td>\n",
       "      <td>dodge d200</td>\n",
       "      <td>Normal</td>\n",
       "      <td>dodge</td>\n",
       "      <td>d200</td>\n",
       "      <td>1</td>\n",
       "      <td>Normal</td>\n",
       "      <td>8</td>\n",
       "      <td>0</td>\n",
       "    </tr>\n",
       "    <tr>\n",
       "      <th>3</th>\n",
       "      <td>12.0</td>\n",
       "      <td>8.0</td>\n",
       "      <td>350.0</td>\n",
       "      <td>180.0</td>\n",
       "      <td>4499.0</td>\n",
       "      <td>12.5</td>\n",
       "      <td>73</td>\n",
       "      <td>1</td>\n",
       "      <td>oldsmobile vista cruiser</td>\n",
       "      <td>Normal</td>\n",
       "      <td>oldsmobile</td>\n",
       "      <td>vista cruiser</td>\n",
       "      <td>1</td>\n",
       "      <td>Normal</td>\n",
       "      <td>16</td>\n",
       "      <td>0</td>\n",
       "    </tr>\n",
       "    <tr>\n",
       "      <th>4</th>\n",
       "      <td>12.0</td>\n",
       "      <td>8.0</td>\n",
       "      <td>400.0</td>\n",
       "      <td>167.0</td>\n",
       "      <td>4906.0</td>\n",
       "      <td>12.5</td>\n",
       "      <td>73</td>\n",
       "      <td>1</td>\n",
       "      <td>ford country</td>\n",
       "      <td>Normal</td>\n",
       "      <td>ford</td>\n",
       "      <td>country</td>\n",
       "      <td>1</td>\n",
       "      <td>Normal</td>\n",
       "      <td>10</td>\n",
       "      <td>0</td>\n",
       "    </tr>\n",
       "  </tbody>\n",
       "</table>\n",
       "</div>"
      ],
      "text/plain": [
       "    mpg  cylinders  displayments  horsepower  weight  acceleration  \\\n",
       "0  11.0        8.0         350.0       180.0  3664.0          11.0   \n",
       "1  11.0        8.0         400.0       150.0  4997.0          14.0   \n",
       "2  11.0        8.0         318.0       210.0  4382.0          13.5   \n",
       "3  12.0        8.0         350.0       180.0  4499.0          12.5   \n",
       "4  12.0        8.0         400.0       167.0  4906.0          12.5   \n",
       "\n",
       "   model year  origin                  car name outlier   car brand  \\\n",
       "0          73       1          oldsmobile omega  Normal  oldsmobile   \n",
       "1          73       1          chevrolet impala  Normal   chevrolet   \n",
       "2          70       1                dodge d200  Normal       dodge   \n",
       "3          73       1  oldsmobile vista cruiser  Normal  oldsmobile   \n",
       "4          73       1              ford country  Normal        ford   \n",
       "\n",
       "           model  anomaly_score multivariate_outlier  car_name_encoded  \\\n",
       "0          omega              1               Normal                16   \n",
       "1         impala              1               Normal                 5   \n",
       "2           d200              1               Normal                 8   \n",
       "3  vista cruiser              1               Normal                16   \n",
       "4        country              1               Normal                10   \n",
       "\n",
       "   mpg_classes  \n",
       "0            0  \n",
       "1            0  \n",
       "2            0  \n",
       "3            0  \n",
       "4            0  "
      ]
     },
     "execution_count": 1,
     "metadata": {},
     "output_type": "execute_result"
    }
   ],
   "source": [
    "import pandas as pd\n",
    "from sklearn.preprocessing import StandardScaler\n",
    "from sklearn.model_selection import train_test_split\n",
    "from sklearn.neighbors import KNeighborsClassifier\n",
    "from sklearn.metrics import accuracy_score, classification_report, confusion_matrix\n",
    "import matplotlib.pyplot as plt\n",
    "import numpy as np\n",
    "import seaborn as sns\n",
    "import os \n",
    "\n",
    "# Load the dataset\n",
    "nb_path = os.path.abspath('')\n",
    "file_path = os.path.join(nb_path, '../../data/df_cleaned.csv')\n",
    "df = pd.read_csv(file_path)"
   ]
  },
  {
   "cell_type": "code",
   "execution_count": 2,
   "id": "71c22e9f-8e50-4f0f-a882-b44e8377c3a2",
   "metadata": {},
   "outputs": [],
   "source": [
    "# split the data into features and target values\n",
    "x_features = ['cylinders', 'displayments', 'horsepower', 'weight', 'acceleration']\n",
    "X = df[x_features]\n",
    "y = df['mpg_classes']"
   ]
  },
  {
   "cell_type": "code",
   "execution_count": 3,
   "id": "3302af2c-32cf-4625-8c14-2fabe8c3d897",
   "metadata": {},
   "outputs": [],
   "source": [
    "# Scale the features\n",
    "scaler = StandardScaler()\n",
    "X_scaled = scaler.fit_transform(X)"
   ]
  },
  {
   "cell_type": "markdown",
   "id": "ee3e435c-3deb-4482-9a61-0dc78f7f786a",
   "metadata": {},
   "source": [
    "## Split the dataset"
   ]
  },
  {
   "cell_type": "code",
   "execution_count": 4,
   "id": "c13143a3-fc98-47c7-b2fc-f8ae9cf3a969",
   "metadata": {},
   "outputs": [],
   "source": [
    "# Split the data into train set and test set with test_size=0.3\n",
    "X_train, X_test, y_train, y_test = train_test_split(X_scaled, y, test_size=0.3, stratify = y, random_state=42)"
   ]
  },
  {
   "cell_type": "markdown",
   "id": "9e774b5e-7c08-4254-bb0c-d9ed910f772d",
   "metadata": {},
   "source": [
    "## Train a KNeighborsClassifier model"
   ]
  },
  {
   "cell_type": "code",
   "execution_count": 5,
   "id": "dd1b1c8b-9fb8-4588-b4c0-5e928d2e773e",
   "metadata": {},
   "outputs": [
    {
     "name": "stdout",
     "output_type": "stream",
     "text": [
      "Test Accuracy: 0.717\n"
     ]
    }
   ],
   "source": [
    "knn = KNeighborsClassifier()\n",
    "#train the model\n",
    "knn.fit(X_train, y_train)\n",
    "# get the score on the test set\n",
    "test_score = knn.score(X_test, y_test)\n",
    "print(f\"Test Accuracy: {test_score:.3f}\")"
   ]
  },
  {
   "cell_type": "markdown",
   "id": "8afae5ef-f231-4639-99b3-931e2124e489",
   "metadata": {},
   "source": [
    "## Find the best value for k"
   ]
  },
  {
   "cell_type": "code",
   "execution_count": 6,
   "id": "f2eb72d6-a1be-42fe-946e-cc068aaa63d5",
   "metadata": {},
   "outputs": [
    {
     "name": "stdout",
     "output_type": "stream",
     "text": [
      "1 --> 0.7256637168141593\n",
      "2 --> 0.6991150442477876\n",
      "3 --> 0.6902654867256637\n",
      "4 --> 0.7522123893805309\n",
      "5 --> 0.7168141592920354\n",
      "6 --> 0.7168141592920354\n",
      "7 --> 0.7079646017699115\n",
      "8 --> 0.7079646017699115\n",
      "9 --> 0.6902654867256637\n",
      "10 --> 0.6991150442477876\n",
      "11 --> 0.7256637168141593\n",
      "12 --> 0.7079646017699115\n",
      "13 --> 0.6814159292035398\n",
      "14 --> 0.6814159292035398\n",
      "15 --> 0.7079646017699115\n",
      "16 --> 0.6991150442477876\n",
      "17 --> 0.7079646017699115\n",
      "18 --> 0.6814159292035398\n",
      "19 --> 0.672566371681416\n"
     ]
    }
   ],
   "source": [
    "k_values = range(1, 20)\n",
    "knn_accuracies = []\n",
    "# fit/score with different number of neighbors\n",
    "for k in k_values:\n",
    "    knn = KNeighborsClassifier(n_neighbors=k)\n",
    "    knn.fit(X_train, y_train)\n",
    "    print(f'{k} --> {knn.score(X_test, y_test)}')\n",
    "    knn_accuracies.append(accuracy_score(y_test, knn.predict(X_test)))"
   ]
  },
  {
   "cell_type": "markdown",
   "id": "917605bd-397b-4685-8d65-d0e06a58f3fc",
   "metadata": {},
   "source": [
    "## Plot accuracies scores"
   ]
  },
  {
   "cell_type": "code",
   "execution_count": 7,
   "id": "ee8cc337-5532-403b-a98a-a05c466e8c81",
   "metadata": {},
   "outputs": [
    {
     "name": "stdout",
     "output_type": "stream",
     "text": [
      "Best accuracy 75.22% for k=4\n"
     ]
    },
    {
     "data": {
      "image/png": "[encoded data removed]",
      "text/plain": [
       "<Figure size 700x500 with 1 Axes>"
      ]
     },
     "metadata": {},
     "output_type": "display_data"
    }
   ],
   "source": [
    "# Plot accuracies\n",
    "fig = plt.figure(figsize=(7, 5))\n",
    "\n",
    "ax = plt.subplot(111)\n",
    "ax.plot(range(1, 20, 1), knn_accuracies)\n",
    "\n",
    "# aesthetic parameters\n",
    "ax.set_xticks(range(1, 20))\n",
    "ax.set_xlabel('$k$')\n",
    "ax.set_ylabel('accuracy')\n",
    "\n",
    "ax.spines['right'].set_visible(False)\n",
    "ax.spines['top'].set_visible(False)\n",
    "\n",
    "ax.yaxis.set_ticks_position('left')\n",
    "ax.xaxis.set_ticks_position('bottom')\n",
    "\n",
    "ax.set_title('kNN accuracy on different values of k')\n",
    "\n",
    "print(f'Best accuracy {max(knn_accuracies) * 100:.2f}% for k={list(range(1, 20))[np.argmax(knn_accuracies)]}')"
   ]
  },
  {
   "cell_type": "code",
   "execution_count": 8,
   "id": "b60bf3f5-1e49-4f03-a9a5-4c679bfc00a8",
   "metadata": {},
   "outputs": [
    {
     "name": "stdout",
     "output_type": "stream",
     "text": [
      "Best Accuracy: 75.22% achieved at k=4\n"
     ]
    }
   ],
   "source": [
    "best_k = k_values[np.argmax(knn_accuracies)]\n",
    "best_accuracy = max(knn_accuracies)\n",
    "print(f\"Best Accuracy: {best_accuracy * 100:.2f}% achieved at k={best_k}\")"
   ]
  },
  {
   "cell_type": "markdown",
   "id": "a737557d-bdb0-4843-97e8-77c29ca1b24f",
   "metadata": {},
   "source": [
    "## Evaluate the model"
   ]
  },
  {
   "cell_type": "code",
   "execution_count": 9,
   "id": "dc1b7a56-8945-414b-9457-8e6fc9d058a0",
   "metadata": {},
   "outputs": [
    {
     "name": "stdout",
     "output_type": "stream",
     "text": [
      "\n",
      "Classification Report:\n",
      "              precision    recall  f1-score   support\n",
      "\n",
      "           0       0.83      0.90      0.86        39\n",
      "           1       0.62      0.66      0.64        38\n",
      "           2       0.81      0.69      0.75        36\n",
      "\n",
      "    accuracy                           0.75       113\n",
      "   macro avg       0.75      0.75      0.75       113\n",
      "weighted avg       0.75      0.75      0.75       113\n",
      "\n",
      "\n",
      "Confusion Matrix:\n"
     ]
    },
    {
     "data": {
      "image/png": "[encoded data removed]",
      "text/plain": [
       "<Figure size 640x480 with 2 Axes>"
      ]
     },
     "metadata": {},
     "output_type": "display_data"
    }
   ],
   "source": [
    "best_knn = KNeighborsClassifier(n_neighbors=best_k)\n",
    "best_knn.fit(X_train, y_train)\n",
    "y_pred = best_knn.predict(X_test)\n",
    "\n",
    "print(\"\\nClassification Report:\")\n",
    "print(classification_report(y_test, y_pred))\n",
    "\n",
    "print(\"\\nConfusion Matrix:\")\n",
    "cm = confusion_matrix(y_test, y_pred)\n",
    "sns.heatmap(cm, annot=True, fmt='d', cmap='Blues')\n",
    "plt.xlabel(\"Predicted\")\n",
    "plt.ylabel(\"Actual\")\n",
    "plt.title(\"Confusion Matrix\")\n",
    "plt.show()"
   ]
  }
 ],
 "metadata": {
  "kernelspec": {
   "display_name": "venv",
   "language": "python",
   "name": "python3"
  },
  "language_info": {
   "codemirror_mode": {
    "name": "ipython",
    "version": 3
   },
   "file_extension": ".py",
   "mimetype": "text/x-python",
   "name": "python",
   "nbconvert_exporter": "python",
   "pygments_lexer": "ipython3",
   "version": "3.11.11"
  }
 },
 "nbformat": 4,
 "nbformat_minor": 5
}
