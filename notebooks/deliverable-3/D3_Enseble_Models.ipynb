{
 "cells": [
  {
   "cell_type": "markdown",
   "id": "4737fc43-7190-438c-bda7-0321c1ef9395",
   "metadata": {
    "id": "4737fc43-7190-438c-bda7-0321c1ef9395"
   },
   "source": [
    "# *Deliverable 3*: Enseble Models\n",
    "\n",
    "* Import dataset and necessary libraries\n",
    "<br><br>  \n",
    "* Boosting\n",
    "  * Ada Boost\n",
    "  * Gradient boosting\n",
    "  * XBoosting\n",
    "<br><br>  \n",
    "* Bagging\n",
    "  * Bagging with SVM\n",
    "  * Random Forest\n",
    "<br><br>\n",
    "* Stacking\n",
    "<br><br>\n",
    "* Evaluate the models\n",
    "<br><br>\n",
    "* Results of the best model"
   ]
  },
  {
   "cell_type": "markdown",
   "id": "90811e4e-daf0-43fc-9f9f-02d35eb6cc58",
   "metadata": {
    "id": "90811e4e-daf0-43fc-9f9f-02d35eb6cc58"
   },
   "source": [
    "## Import dataset and necessary libraries"
   ]
  },
  {
   "cell_type": "code",
   "execution_count": null,
   "id": "2893f245-abd4-42d2-8ac6-274714cedada",
   "metadata": {
    "id": "2893f245-abd4-42d2-8ac6-274714cedada"
   },
   "outputs": [],
   "source": [
    "import joblib\n",
    "import pandas as pd\n",
    "from sklearn.preprocessing import StandardScaler\n",
    "from sklearn.model_selection import train_test_split, GridSearchCV\n",
    "from sklearn.neighbors import KNeighborsClassifier\n",
    "from sklearn.ensemble import AdaBoostClassifier, RandomForestClassifier, BaggingClassifier, GradientBoostingClassifier, StackingClassifier\n",
    "from sklearn.metrics import classification_report, confusion_matrix, roc_curve, accuracy_score\n",
    "from xgboost import XGBClassifier\n",
    "from sklearn.svm import SVC\n",
    "import seaborn as sns\n",
    "import matplotlib.pyplot as plt"
   ]
  },
  {
   "cell_type": "code",
   "execution_count": null,
   "id": "e22862ff-9e4f-4122-a95b-2710b59cdde0",
   "metadata": {
    "id": "e22862ff-9e4f-4122-a95b-2710b59cdde0",
    "outputId": "4082fe8c-4850-456c-e93f-bf639972243d"
   },
   "outputs": [
    {
     "data": {
      "text/html": [
       "<div>\n",
       "<style scoped>\n",
       "    .dataframe tbody tr th:only-of-type {\n",
       "        vertical-align: middle;\n",
       "    }\n",
       "\n",
       "    .dataframe tbody tr th {\n",
       "        vertical-align: top;\n",
       "    }\n",
       "\n",
       "    .dataframe thead th {\n",
       "        text-align: right;\n",
       "    }\n",
       "</style>\n",
       "<table border=\"1\" class=\"dataframe\">\n",
       "  <thead>\n",
       "    <tr style=\"text-align: right;\">\n",
       "      <th></th>\n",
       "      <th>mpg</th>\n",
       "      <th>cylinders</th>\n",
       "      <th>displayments</th>\n",
       "      <th>horsepower</th>\n",
       "      <th>weight</th>\n",
       "      <th>acceleration</th>\n",
       "      <th>model year</th>\n",
       "      <th>origin</th>\n",
       "      <th>car name</th>\n",
       "      <th>outlier</th>\n",
       "      <th>car brand</th>\n",
       "      <th>model</th>\n",
       "      <th>anomaly_score</th>\n",
       "      <th>multivariate_outlier</th>\n",
       "      <th>car_name_encoded</th>\n",
       "      <th>mpg_classes</th>\n",
       "    </tr>\n",
       "  </thead>\n",
       "  <tbody>\n",
       "    <tr>\n",
       "      <th>0</th>\n",
       "      <td>11.0</td>\n",
       "      <td>8.0</td>\n",
       "      <td>350.0</td>\n",
       "      <td>180.0</td>\n",
       "      <td>3664.0</td>\n",
       "      <td>11.0</td>\n",
       "      <td>73</td>\n",
       "      <td>1</td>\n",
       "      <td>oldsmobile omega</td>\n",
       "      <td>Normal</td>\n",
       "      <td>oldsmobile</td>\n",
       "      <td>omega</td>\n",
       "      <td>1</td>\n",
       "      <td>Normal</td>\n",
       "      <td>16</td>\n",
       "      <td>0</td>\n",
       "    </tr>\n",
       "    <tr>\n",
       "      <th>1</th>\n",
       "      <td>11.0</td>\n",
       "      <td>8.0</td>\n",
       "      <td>400.0</td>\n",
       "      <td>150.0</td>\n",
       "      <td>4997.0</td>\n",
       "      <td>14.0</td>\n",
       "      <td>73</td>\n",
       "      <td>1</td>\n",
       "      <td>chevrolet impala</td>\n",
       "      <td>Normal</td>\n",
       "      <td>chevrolet</td>\n",
       "      <td>impala</td>\n",
       "      <td>1</td>\n",
       "      <td>Normal</td>\n",
       "      <td>5</td>\n",
       "      <td>0</td>\n",
       "    </tr>\n",
       "    <tr>\n",
       "      <th>2</th>\n",
       "      <td>11.0</td>\n",
       "      <td>8.0</td>\n",
       "      <td>318.0</td>\n",
       "      <td>210.0</td>\n",
       "      <td>4382.0</td>\n",
       "      <td>13.5</td>\n",
       "      <td>70</td>\n",
       "      <td>1</td>\n",
       "      <td>dodge d200</td>\n",
       "      <td>Normal</td>\n",
       "      <td>dodge</td>\n",
       "      <td>d200</td>\n",
       "      <td>1</td>\n",
       "      <td>Normal</td>\n",
       "      <td>8</td>\n",
       "      <td>0</td>\n",
       "    </tr>\n",
       "    <tr>\n",
       "      <th>3</th>\n",
       "      <td>12.0</td>\n",
       "      <td>8.0</td>\n",
       "      <td>350.0</td>\n",
       "      <td>180.0</td>\n",
       "      <td>4499.0</td>\n",
       "      <td>12.5</td>\n",
       "      <td>73</td>\n",
       "      <td>1</td>\n",
       "      <td>oldsmobile vista cruiser</td>\n",
       "      <td>Normal</td>\n",
       "      <td>oldsmobile</td>\n",
       "      <td>vista cruiser</td>\n",
       "      <td>1</td>\n",
       "      <td>Normal</td>\n",
       "      <td>16</td>\n",
       "      <td>0</td>\n",
       "    </tr>\n",
       "    <tr>\n",
       "      <th>4</th>\n",
       "      <td>12.0</td>\n",
       "      <td>8.0</td>\n",
       "      <td>400.0</td>\n",
       "      <td>167.0</td>\n",
       "      <td>4906.0</td>\n",
       "      <td>12.5</td>\n",
       "      <td>73</td>\n",
       "      <td>1</td>\n",
       "      <td>ford country</td>\n",
       "      <td>Normal</td>\n",
       "      <td>ford</td>\n",
       "      <td>country</td>\n",
       "      <td>1</td>\n",
       "      <td>Normal</td>\n",
       "      <td>10</td>\n",
       "      <td>0</td>\n",
       "    </tr>\n",
       "  </tbody>\n",
       "</table>\n",
       "</div>"
      ],
      "text/plain": [
       "    mpg  cylinders  displayments  horsepower  weight  acceleration  \\\n",
       "0  11.0        8.0         350.0       180.0  3664.0          11.0   \n",
       "1  11.0        8.0         400.0       150.0  4997.0          14.0   \n",
       "2  11.0        8.0         318.0       210.0  4382.0          13.5   \n",
       "3  12.0        8.0         350.0       180.0  4499.0          12.5   \n",
       "4  12.0        8.0         400.0       167.0  4906.0          12.5   \n",
       "\n",
       "   model year  origin                  car name outlier   car brand  \\\n",
       "0          73       1          oldsmobile omega  Normal  oldsmobile   \n",
       "1          73       1          chevrolet impala  Normal   chevrolet   \n",
       "2          70       1                dodge d200  Normal       dodge   \n",
       "3          73       1  oldsmobile vista cruiser  Normal  oldsmobile   \n",
       "4          73       1              ford country  Normal        ford   \n",
       "\n",
       "           model  anomaly_score multivariate_outlier  car_name_encoded  \\\n",
       "0          omega              1               Normal                16   \n",
       "1         impala              1               Normal                 5   \n",
       "2           d200              1               Normal                 8   \n",
       "3  vista cruiser              1               Normal                16   \n",
       "4        country              1               Normal                10   \n",
       "\n",
       "   mpg_classes  \n",
       "0            0  \n",
       "1            0  \n",
       "2            0  \n",
       "3            0  \n",
       "4            0  "
      ]
     },
     "execution_count": 2,
     "metadata": {},
     "output_type": "execute_result"
    }
   ],
   "source": [
    "# Load the dataset\n",
    "import os\n",
    "nb_path = os.path.abspath('')\n",
    "file_path = os.path.join(nb_path, '../../data/df_cleaned.csv')\n",
    "df = pd.read_csv(file_path)"
   ]
  },
  {
   "cell_type": "code",
   "execution_count": null,
   "id": "27105349-d7e9-4165-b38b-3d9f14ca7db8",
   "metadata": {
    "id": "27105349-d7e9-4165-b38b-3d9f14ca7db8"
   },
   "outputs": [],
   "source": [
    "# Split the data into features and target values\n",
    "x_features = ['cylinders', 'displayments', 'horsepower', 'weight', 'acceleration']\n",
    "X = df[x_features]\n",
    "y = df['mpg_classes']"
   ]
  },
  {
   "cell_type": "code",
   "execution_count": null,
   "id": "875cdd85-b7f8-4d5f-9cb4-ab1fd6c37a12",
   "metadata": {
    "id": "875cdd85-b7f8-4d5f-9cb4-ab1fd6c37a12"
   },
   "outputs": [],
   "source": [
    "# Scale the features\n",
    "scaler = StandardScaler()\n",
    "X_scaled = scaler.fit_transform(X)"
   ]
  },
  {
   "cell_type": "code",
   "execution_count": null,
   "id": "41d4fd6c-c534-4567-9eb5-8ac57313351c",
   "metadata": {
    "id": "41d4fd6c-c534-4567-9eb5-8ac57313351c"
   },
   "outputs": [],
   "source": [
    "# Split the data\n",
    "X_train, X_test, y_train, y_test = train_test_split(X_scaled, y, test_size=0.3, stratify = y, random_state=42)"
   ]
  },
  {
   "cell_type": "markdown",
   "id": "86d95bff-22a9-4a45-9c5c-2f44a90838f5",
   "metadata": {
    "id": "86d95bff-22a9-4a45-9c5c-2f44a90838f5"
   },
   "source": [
    "## Ada Boost"
   ]
  },
  {
   "cell_type": "code",
   "execution_count": null,
   "id": "db5a3c58-6576-4234-b724-ab2ce5bb04e6",
   "metadata": {
    "id": "db5a3c58-6576-4234-b724-ab2ce5bb04e6",
    "outputId": "7405134b-9b44-4515-ee33-4ed23c84391c"
   },
   "outputs": [
    {
     "name": "stdout",
     "output_type": "stream",
     "text": [
      "\n",
      "Classification Report:\n",
      "              precision    recall  f1-score   support\n",
      "\n",
      "           0       0.82      0.82      0.82        39\n",
      "           1       0.61      0.58      0.59        38\n",
      "           2       0.76      0.81      0.78        36\n",
      "\n",
      "    accuracy                           0.73       113\n",
      "   macro avg       0.73      0.74      0.73       113\n",
      "weighted avg       0.73      0.73      0.73       113\n",
      "\n",
      "Confusion Matrix:\n",
      "[[32  7  0]\n",
      " [ 7 22  9]\n",
      " [ 0  7 29]]\n"
     ]
    },
    {
     "name": "stderr",
     "output_type": "stream",
     "text": [
      "C:\\Users\\CC941FF\\AppData\\Local\\Packages\\PythonSoftwareFoundation.Python.3.11_qbz5n2kfra8p0\\LocalCache\\local-packages\\Python311\\site-packages\\sklearn\\ensemble\\_weight_boosting.py:519: FutureWarning: The parameter 'algorithm' is deprecated in 1.6 and has no effect. It will be removed in version 1.8.\n",
      "  warnings.warn(\n"
     ]
    }
   ],
   "source": [
    "# Train Ada Boost Classifier with random state=42\n",
    "ab = AdaBoostClassifier(algorithm=\"SAMME\", random_state=42)\n",
    "ab.fit(X_train, y_train)\n",
    "\n",
    "# Predict mpg categories on the test data\n",
    "y_pred_ab = ab.predict(X_test)\n",
    "\n",
    "# Evaluate the model's performance using a classification report\n",
    "print(\"\\nClassification Report:\")\n",
    "print(classification_report(y_test, y_pred_ab))\n",
    "print(\"Confusion Matrix:\")\n",
    "print(confusion_matrix(y_test, y_pred_ab))"
   ]
  },
  {
   "cell_type": "code",
   "execution_count": null,
   "id": "501613c2-f598-45bf-9957-ceab5cfe6028",
   "metadata": {
    "id": "501613c2-f598-45bf-9957-ceab5cfe6028",
    "outputId": "e9481bb2-e489-43cc-a9bb-37bc217d48e5"
   },
   "outputs": [
    {
     "name": "stdout",
     "output_type": "stream",
     "text": [
      "Fitting 5 folds for each of 9 candidates, totalling 45 fits\n",
      "BEST PARAMS: {'learning_rate': 1, 'n_estimators': 50}\n",
      "\n",
      "Optimized Ada Boost Accuracy: 0.7345132743362832\n",
      "              precision    recall  f1-score   support\n",
      "\n",
      "           0       0.82      0.82      0.82        39\n",
      "           1       0.61      0.58      0.59        38\n",
      "           2       0.76      0.81      0.78        36\n",
      "\n",
      "    accuracy                           0.73       113\n",
      "   macro avg       0.73      0.74      0.73       113\n",
      "weighted avg       0.73      0.73      0.73       113\n",
      "\n",
      "Confusion Matrix:\n",
      "[[32  7  0]\n",
      " [ 7 22  9]\n",
      " [ 0  7 29]]\n"
     ]
    },
    {
     "name": "stderr",
     "output_type": "stream",
     "text": [
      "C:\\Users\\CC941FF\\AppData\\Local\\Packages\\PythonSoftwareFoundation.Python.3.11_qbz5n2kfra8p0\\LocalCache\\local-packages\\Python311\\site-packages\\sklearn\\ensemble\\_weight_boosting.py:519: FutureWarning: The parameter 'algorithm' is deprecated in 1.6 and has no effect. It will be removed in version 1.8.\n",
      "  warnings.warn(\n"
     ]
    }
   ],
   "source": [
    "# Hyperparameter tuning for Ada Boost Classifier\n",
    "ab_param = {\n",
    "    'n_estimators': [50, 100, 250],\n",
    "    'learning_rate': [0.1, 0.05, 1]\n",
    "}\n",
    "\n",
    "ab_cv = GridSearchCV(ab, ab_param, cv=5, n_jobs=-1, verbose=2)\n",
    "ab_cv.fit(X_train, y_train)\n",
    "best_ab = ab_cv.best_estimator_\n",
    "y_pred_best_ab = best_ab.predict(X_test)\n",
    "print('BEST PARAMS: {}\\n'.format(ab_cv.best_params_))\n",
    "print(\"Optimized Ada Boost Accuracy:\", accuracy_score(y_test, y_pred_best_ab))\n",
    "print(classification_report(y_test, y_pred_best_ab))\n",
    "print(\"Confusion Matrix:\")\n",
    "print(confusion_matrix(y_test, y_pred_best_ab))"
   ]
  },
  {
   "cell_type": "markdown",
   "id": "41f63c0d-a8c0-4514-917e-f1d32acd1711",
   "metadata": {
    "id": "41f63c0d-a8c0-4514-917e-f1d32acd1711"
   },
   "source": [
    "## Gradient Boosting"
   ]
  },
  {
   "cell_type": "code",
   "execution_count": null,
   "id": "f0f8c4c9-d6e3-4874-9f3c-7bb222263294",
   "metadata": {
    "id": "f0f8c4c9-d6e3-4874-9f3c-7bb222263294",
    "outputId": "f6f39c4d-fe08-4565-d2e9-7f0f9f1c2d0d"
   },
   "outputs": [
    {
     "name": "stdout",
     "output_type": "stream",
     "text": [
      "\n",
      "Classification Report:\n",
      "              precision    recall  f1-score   support\n",
      "\n",
      "           0       0.88      0.92      0.90        39\n",
      "           1       0.76      0.66      0.70        38\n",
      "           2       0.79      0.86      0.83        36\n",
      "\n",
      "    accuracy                           0.81       113\n",
      "   macro avg       0.81      0.81      0.81       113\n",
      "weighted avg       0.81      0.81      0.81       113\n",
      "\n",
      "Confusion Matrix:\n",
      "[[36  3  0]\n",
      " [ 5 25  8]\n",
      " [ 0  5 31]]\n"
     ]
    }
   ],
   "source": [
    "# Train GradientBoostingClassifier with random state=42\n",
    "gb = GradientBoostingClassifier(random_state=42)\n",
    "gb.fit(X_train, y_train)\n",
    "\n",
    "# Predict mpg categories on the test data\n",
    "y_pred_gb = gb.predict(X_test)\n",
    "\n",
    "# Evaluate the model's performance using a classification report\n",
    "print(\"\\nClassification Report:\")\n",
    "print(classification_report(y_test, y_pred_gb))\n",
    "print(\"Confusion Matrix:\")\n",
    "print(confusion_matrix(y_test, y_pred_gb))"
   ]
  },
  {
   "cell_type": "code",
   "execution_count": null,
   "id": "ef8d9bde-abb9-46b7-8612-96070cd55fcd",
   "metadata": {
    "id": "ef8d9bde-abb9-46b7-8612-96070cd55fcd",
    "outputId": "c6b683af-6f1b-4f3a-f315-f8473033a71c"
   },
   "outputs": [
    {
     "name": "stdout",
     "output_type": "stream",
     "text": [
      "Fitting 5 folds for each of 27 candidates, totalling 135 fits\n",
      "BEST PARAMS: {'learning_rate': 0.01, 'max_depth': 3, 'n_estimators': 500}\n",
      "\n",
      "Optimized Gradient Boosting Accuracy: 0.7787610619469026\n",
      "              precision    recall  f1-score   support\n",
      "\n",
      "           0       0.88      0.90      0.89        39\n",
      "           1       0.66      0.71      0.68        38\n",
      "           2       0.81      0.72      0.76        36\n",
      "\n",
      "    accuracy                           0.78       113\n",
      "   macro avg       0.78      0.78      0.78       113\n",
      "weighted avg       0.78      0.78      0.78       113\n",
      "\n",
      "Confusion Matrix:\n",
      "[[35  4  0]\n",
      " [ 5 27  6]\n",
      " [ 0 10 26]]\n"
     ]
    }
   ],
   "source": [
    "# Hyperparameter tuning for Gradient Boosting Classifier\n",
    "gb_param = {\n",
    "    'n_estimators': [100, 250, 500],\n",
    "    'max_depth': [3, 5, 7],\n",
    "    'learning_rate': [0.1, 0.05, 0.01]\n",
    "}\n",
    "\n",
    "gb_cv = GridSearchCV(gb, gb_param, cv=5, n_jobs=-1, verbose=2)\n",
    "gb_cv.fit(X_train, y_train)\n",
    "best_gb = gb_cv.best_estimator_\n",
    "y_pred_best_gb = best_gb.predict(X_test)\n",
    "print('BEST PARAMS: {}\\n'.format(gb_cv.best_params_))\n",
    "print(\"Optimized Gradient Boosting Accuracy:\", accuracy_score(y_test, y_pred_best_gb))\n",
    "print(classification_report(y_test, y_pred_best_gb))\n",
    "print(\"Confusion Matrix:\")\n",
    "print(confusion_matrix(y_test, y_pred_best_gb))"
   ]
  },
  {
   "cell_type": "markdown",
   "id": "81c018be-03f2-4c93-a545-07dd9ae38b07",
   "metadata": {
    "id": "81c018be-03f2-4c93-a545-07dd9ae38b07"
   },
   "source": [
    "## XGradient Boosting"
   ]
  },
  {
   "cell_type": "code",
   "execution_count": null,
   "id": "b161bedc-c93c-424c-8339-542bc4b99050",
   "metadata": {
    "id": "b161bedc-c93c-424c-8339-542bc4b99050",
    "outputId": "0f4bc9ea-6412-4899-ba94-0e0e8670196f"
   },
   "outputs": [
    {
     "name": "stdout",
     "output_type": "stream",
     "text": [
      "\n",
      "Classification Report:\n",
      "              precision    recall  f1-score   support\n",
      "\n",
      "           0       0.86      0.82      0.84        39\n",
      "           1       0.61      0.74      0.67        38\n",
      "           2       0.83      0.69      0.76        36\n",
      "\n",
      "    accuracy                           0.75       113\n",
      "   macro avg       0.77      0.75      0.76       113\n",
      "weighted avg       0.77      0.75      0.76       113\n",
      "\n",
      "Confusion Matrix:\n",
      "[[32  7  0]\n",
      " [ 5 28  5]\n",
      " [ 0 11 25]]\n"
     ]
    }
   ],
   "source": [
    "# Train GradientBoostingClassifier with random state=42\n",
    "xgb = XGBClassifier(random_state=42)\n",
    "xgb.fit(X_train, y_train)\n",
    "\n",
    "# Predict mpg categories on the test data\n",
    "y_pred_xgb = xgb.predict(X_test)\n",
    "\n",
    "# Evaluate the model's performance using a classification report\n",
    "print(\"\\nClassification Report:\")\n",
    "print(classification_report(y_test, y_pred_xgb))\n",
    "print(\"Confusion Matrix:\")\n",
    "print(confusion_matrix(y_test, y_pred_xgb))"
   ]
  },
  {
   "cell_type": "code",
   "execution_count": null,
   "id": "6f28e6a0-e2ad-4884-94b7-fc379e41ec82",
   "metadata": {
    "id": "6f28e6a0-e2ad-4884-94b7-fc379e41ec82",
    "outputId": "b40df978-5ba1-43d7-f73e-a77eb2230bbf"
   },
   "outputs": [
    {
     "name": "stdout",
     "output_type": "stream",
     "text": [
      "Fitting 5 folds for each of 2187 candidates, totalling 10935 fits\n",
      "BEST PARAMS: {'colsample_bytree': 0.9, 'gamma': 0.3, 'learning_rate': 0.05, 'max_depth': 3, 'n_estimators': 200, 'reg_lambda': 5, 'subsample': 1.0}\n",
      "\n",
      "Optimized XGradient Boosting Accuracy: 0.7699115044247787\n",
      "              precision    recall  f1-score   support\n",
      "\n",
      "           0       0.89      0.87      0.88        39\n",
      "           1       0.64      0.74      0.68        38\n",
      "           2       0.81      0.69      0.75        36\n",
      "\n",
      "    accuracy                           0.77       113\n",
      "   macro avg       0.78      0.77      0.77       113\n",
      "weighted avg       0.78      0.77      0.77       113\n",
      "\n",
      "Confusion Matrix:\n",
      "[[34  5  0]\n",
      " [ 4 28  6]\n",
      " [ 0 11 25]]\n"
     ]
    }
   ],
   "source": [
    "# Hyperparameter tuning for XGradient Boosting Classifier\n",
    "xgb_param = {\n",
    "    'n_estimators': [100, 200, 300],\n",
    "    'max_depth': [3, 6, 10],\n",
    "    'learning_rate': [0.01, 0.05, 0.1],\n",
    "    'subsample': [0.7, 0.8, 1.0],\n",
    "    'colsample_bytree': [0.7, 0.9, 1.0],\n",
    "    'gamma': [0, 0.1, 0.3],\n",
    "    'reg_lambda': [1, 2, 5]\n",
    "}\n",
    "\n",
    "xgb_cv = GridSearchCV(xgb, xgb_param, cv=5, n_jobs=-1, verbose=2)\n",
    "xgb_cv.fit(X_train, y_train)\n",
    "best_xgb = xgb_cv.best_estimator_\n",
    "y_pred_best_xgb = best_xgb.predict(X_test)\n",
    "print('BEST PARAMS: {}\\n'.format(xgb_cv.best_params_))\n",
    "print(\"Optimized XGradient Boosting Accuracy:\", accuracy_score(y_test, y_pred_best_xgb))\n",
    "print(classification_report(y_test, y_pred_best_xgb))\n",
    "print(\"Confusion Matrix:\")\n",
    "print(confusion_matrix(y_test, y_pred_best_xgb))"
   ]
  },
  {
   "cell_type": "markdown",
   "id": "e5ccdfaa-2dc9-4362-8e80-97eeecc29038",
   "metadata": {
    "id": "e5ccdfaa-2dc9-4362-8e80-97eeecc29038"
   },
   "source": [
    "## Bagging Classifier"
   ]
  },
  {
   "cell_type": "code",
   "execution_count": null,
   "id": "cc8ee42b-5c7f-4a1c-a51a-be783f978b27",
   "metadata": {
    "id": "cc8ee42b-5c7f-4a1c-a51a-be783f978b27",
    "outputId": "162aa2ef-8b27-4142-e636-12c757dc3adc"
   },
   "outputs": [
    {
     "name": "stdout",
     "output_type": "stream",
     "text": [
      "\n",
      "Bagging Classifier (with Linear SVM) - Classification Report:\n",
      "              precision    recall  f1-score   support\n",
      "\n",
      "           0       0.82      0.85      0.84        39\n",
      "           1       0.60      0.63      0.62        38\n",
      "           2       0.79      0.72      0.75        36\n",
      "\n",
      "    accuracy                           0.73       113\n",
      "   macro avg       0.74      0.73      0.73       113\n",
      "weighted avg       0.74      0.73      0.74       113\n",
      "\n",
      "Confusion Matrix:\n",
      "[[33  6  0]\n",
      " [ 7 24  7]\n",
      " [ 0 10 26]]\n"
     ]
    }
   ],
   "source": [
    "# Train Bagging Classifier with linear SVM\n",
    "svm = SVC(kernel='linear', random_state=42)\n",
    "bag_clf = BaggingClassifier(svm, n_estimators=100, random_state=42)\n",
    "\n",
    "# Predict mpg categories on the test data\n",
    "bag_clf.fit(X_train, y_train)\n",
    "\n",
    "# Evaluate Bagging Classifier with Linear SVM on the test set\n",
    "y_pred_bag = bag_clf.predict(X_test)\n",
    "print(\"\\nBagging Classifier (with Linear SVM) - Classification Report:\")\n",
    "print(classification_report(y_test, y_pred_bag))\n",
    "print(\"Confusion Matrix:\")\n",
    "print(confusion_matrix(y_test, y_pred_bag))"
   ]
  },
  {
   "cell_type": "code",
   "execution_count": null,
   "id": "e798ce7b-1c51-4dd6-aea3-d995c4ffc735",
   "metadata": {
    "id": "e798ce7b-1c51-4dd6-aea3-d995c4ffc735",
    "outputId": "985b2806-d09d-4f73-f0b7-3c8b0be76b5c"
   },
   "outputs": [
    {
     "name": "stdout",
     "output_type": "stream",
     "text": [
      "Fitting 5 folds for each of 9 candidates, totalling 45 fits\n",
      "BEST PARAMS: {'max_samples': 1.0, 'n_estimators': 100}\n",
      "\n",
      "Optimized Bagging Classifier Accuracy: 0.7345132743362832\n",
      "              precision    recall  f1-score   support\n",
      "\n",
      "           0       0.82      0.85      0.84        39\n",
      "           1       0.60      0.63      0.62        38\n",
      "           2       0.79      0.72      0.75        36\n",
      "\n",
      "    accuracy                           0.73       113\n",
      "   macro avg       0.74      0.73      0.73       113\n",
      "weighted avg       0.74      0.73      0.74       113\n",
      "\n",
      "Confusion Matrix:\n",
      "[[33  6  0]\n",
      " [ 7 24  7]\n",
      " [ 0 10 26]]\n"
     ]
    }
   ],
   "source": [
    "# Hyperparameter tuning for Bagging Classifier\n",
    "bag_param = {\n",
    "    'n_estimators': [50, 100, 250],\n",
    "    'max_samples': [0.5, 0.7, 1.0]\n",
    "}\n",
    "\n",
    "bag_cv = GridSearchCV(bag_clf, bag_param, cv=5, n_jobs=-1, verbose=2)\n",
    "bag_cv.fit(X_train, y_train)\n",
    "best_bag = bag_cv.best_estimator_\n",
    "y_pred_best_bag = best_bag.predict(X_test)\n",
    "print('BEST PARAMS: {}\\n'.format(bag_cv.best_params_))\n",
    "print(\"Optimized Bagging Classifier Accuracy:\", accuracy_score(y_test, y_pred_best_bag))\n",
    "print(classification_report(y_test, y_pred_best_bag))\n",
    "print(\"Confusion Matrix:\")\n",
    "print(confusion_matrix(y_test, y_pred_best_bag))"
   ]
  },
  {
   "cell_type": "markdown",
   "id": "0d43b9f2-01d6-4584-a101-61e5d58125d1",
   "metadata": {
    "id": "0d43b9f2-01d6-4584-a101-61e5d58125d1"
   },
   "source": [
    "## Random Forest"
   ]
  },
  {
   "cell_type": "code",
   "execution_count": null,
   "id": "dc9e0e08-dc7f-40f8-b474-1c5b314c0f83",
   "metadata": {
    "id": "dc9e0e08-dc7f-40f8-b474-1c5b314c0f83",
    "outputId": "86d05cb1-0c27-4c5c-9cf7-4f4ac57cf69a"
   },
   "outputs": [
    {
     "name": "stdout",
     "output_type": "stream",
     "text": [
      "\n",
      "Classification Report:\n",
      "              precision    recall  f1-score   support\n",
      "\n",
      "           0       0.85      0.90      0.88        39\n",
      "           1       0.65      0.63      0.64        38\n",
      "           2       0.77      0.75      0.76        36\n",
      "\n",
      "    accuracy                           0.76       113\n",
      "   macro avg       0.76      0.76      0.76       113\n",
      "weighted avg       0.76      0.76      0.76       113\n",
      "\n",
      "Confusion Matrix:\n",
      "[[35  4  0]\n",
      " [ 6 24  8]\n",
      " [ 0  9 27]]\n"
     ]
    }
   ],
   "source": [
    "# Train Random Forest with random state=42\n",
    "rf = RandomForestClassifier(random_state=42)\n",
    "rf.fit(X_train, y_train)\n",
    "\n",
    "# Predict mpg categories on the test data\n",
    "y_pred_rf = rf.predict(X_test)\n",
    "\n",
    "# Evaluate the model's performance using a classification report\n",
    "print(\"\\nClassification Report:\")\n",
    "print(classification_report(y_test, y_pred_rf))\n",
    "print(\"Confusion Matrix:\")\n",
    "print(confusion_matrix(y_test, y_pred_rf))"
   ]
  },
  {
   "cell_type": "code",
   "execution_count": null,
   "id": "9818ea75-c7ec-43c1-ba70-f6d62a51fab8",
   "metadata": {
    "id": "9818ea75-c7ec-43c1-ba70-f6d62a51fab8",
    "outputId": "25d01028-49a9-492d-c374-35573afa9bb6"
   },
   "outputs": [
    {
     "name": "stdout",
     "output_type": "stream",
     "text": [
      "Fitting 5 folds for each of 9 candidates, totalling 45 fits\n",
      "BEST PARAMS: {'max_depth': 5, 'n_estimators': 200}\n",
      "\n",
      "Optimized Random Forest Accuracy: 0.7610619469026548\n",
      "              precision    recall  f1-score   support\n",
      "\n",
      "           0       0.86      0.92      0.89        39\n",
      "           1       0.63      0.68      0.66        38\n",
      "           2       0.80      0.67      0.73        36\n",
      "\n",
      "    accuracy                           0.76       113\n",
      "   macro avg       0.76      0.76      0.76       113\n",
      "weighted avg       0.76      0.76      0.76       113\n",
      "\n",
      "Confusion Matrix:\n",
      "[[36  3  0]\n",
      " [ 6 26  6]\n",
      " [ 0 12 24]]\n"
     ]
    }
   ],
   "source": [
    "# Hyperparameter tuning for Random Forest Classifier\n",
    "rf_param = {\n",
    "    'n_estimators': [50, 100, 150],\n",
    "    'max_depth': [None, 10, 20, 30],\n",
    "    'min_samples_split': [2, 5, 10]\n",
    "}\n",
    "\n",
    "rf_cv = GridSearchCV(rf, rf_param, cv=5, n_jobs=-1, verbose=2)\n",
    "rf_cv.fit(X_train, y_train)\n",
    "best_rf = rf_cv.best_estimator_\n",
    "y_pred_best_rf = best_rf.predict(X_test)\n",
    "print('BEST PARAMS: {}\\n'.format(rf_cv.best_params_))\n",
    "print(\"Optimized Random Forest Accuracy:\", accuracy_score(y_test, y_pred_best_rf))\n",
    "print(classification_report(y_test, y_pred_best_rf))\n",
    "print(\"Confusion Matrix:\")\n",
    "print(confusion_matrix(y_test, y_pred_best_rf))"
   ]
  },
  {
   "cell_type": "markdown",
   "id": "1aa4f259-f5b2-4517-b9cd-abf40a2e3dae",
   "metadata": {
    "id": "1aa4f259-f5b2-4517-b9cd-abf40a2e3dae"
   },
   "source": [
    "## Stacking Classifier"
   ]
  },
  {
   "cell_type": "code",
   "execution_count": null,
   "id": "4eaa22d5-97c4-4bd7-80aa-acee2fa21a39",
   "metadata": {
    "id": "4eaa22d5-97c4-4bd7-80aa-acee2fa21a39",
    "outputId": "198a2cbf-fd0b-4be5-8104-740576c35f24"
   },
   "outputs": [
    {
     "name": "stdout",
     "output_type": "stream",
     "text": [
      "Stacking Classifier Accuracy: 0.7699115044247787\n",
      "              precision    recall  f1-score   support\n",
      "\n",
      "           0       0.90      0.90      0.90        39\n",
      "           1       0.64      0.76      0.70        38\n",
      "           2       0.79      0.64      0.71        36\n",
      "\n",
      "    accuracy                           0.77       113\n",
      "   macro avg       0.78      0.77      0.77       113\n",
      "weighted avg       0.78      0.77      0.77       113\n",
      "\n",
      "Confusion Matrix:\n",
      "[[35  3  1]\n",
      " [ 4 29  5]\n",
      " [ 0 13 23]]\n"
     ]
    }
   ],
   "source": [
    "# Stacking Classifier\n",
    "estimators = [('rf', best_rf), ('xgb', best_xgb), ('knn', KNeighborsClassifier(n_neighbors = 4))]\n",
    "stacking_clf = StackingClassifier(estimators=estimators, final_estimator=RandomForestClassifier(), passthrough=True)\n",
    "stacking_clf.fit(X_train, y_train)\n",
    "y_pred_stack = stacking_clf.predict(X_test)\n",
    "print(\"Stacking Classifier Accuracy:\", accuracy_score(y_test, y_pred_stack))\n",
    "print(classification_report(y_test, y_pred_stack))\n",
    "print(\"Confusion Matrix:\")\n",
    "print(confusion_matrix(y_test, y_pred_stack))"
   ]
  },
  {
   "cell_type": "code",
   "execution_count": null,
   "id": "1aa5b58a-0883-4561-ae96-0b3e57f49e07",
   "metadata": {
    "id": "1aa5b58a-0883-4561-ae96-0b3e57f49e07",
    "outputId": "51a12d6a-57e8-4c26-aeef-5a23aa2b3c08"
   },
   "outputs": [
    {
     "name": "stdout",
     "output_type": "stream",
     "text": [
      "BEST PARAMS: {'final_estimator__max_depth': 10, 'final_estimator__n_estimators': 100}\n",
      "\n",
      "Optimized Stacking Classifier Accuracy: 0.7699115044247787\n",
      "              precision    recall  f1-score   support\n",
      "\n",
      "           0       0.90      0.90      0.90        39\n",
      "           1       0.65      0.74      0.69        38\n",
      "           2       0.77      0.67      0.72        36\n",
      "\n",
      "    accuracy                           0.77       113\n",
      "   macro avg       0.77      0.77      0.77       113\n",
      "weighted avg       0.78      0.77      0.77       113\n",
      "\n",
      "Confusion Matrix:\n",
      "[[35  3  1]\n",
      " [ 4 28  6]\n",
      " [ 0 12 24]]\n"
     ]
    }
   ],
   "source": [
    "# Stacking Classifier\n",
    "estimators = [('rf', best_rf), ('xgb', best_xgb)]\n",
    "sc = StackingClassifier(estimators=estimators, final_estimator=RandomForestClassifier(), passthrough=True)\n",
    "sc_params = {\n",
    "    'final_estimator__n_estimators': [100, 200],\n",
    "    'final_estimator__max_depth': [2, 5, 10]\n",
    "}\n",
    "sc_cv = GridSearchCV(sc, sc_params, cv=5)\n",
    "sc_cv.fit(X_train, y_train)\n",
    "best_sc = sc_cv.best_estimator_\n",
    "y_pred_best_sc = best_sc.predict(X_test)\n",
    "print('BEST PARAMS: {}\\n'.format(sc_cv.best_params_))\n",
    "print(\"Optimized Stacking Classifier Accuracy:\", accuracy_score(y_test, y_pred_best_sc))\n",
    "print(classification_report(y_test, y_pred_best_sc))\n",
    "print(\"Confusion Matrix:\")\n",
    "print(confusion_matrix(y_test, y_pred_best_sc))"
   ]
  },
  {
   "cell_type": "markdown",
   "id": "431671da-10aa-4c67-8bf4-9e3d27f790d0",
   "metadata": {
    "id": "431671da-10aa-4c67-8bf4-9e3d27f790d0"
   },
   "source": [
    "## Evaluate the models"
   ]
  },
  {
   "cell_type": "code",
   "execution_count": null,
   "id": "b87a00ae-bcac-4f33-8650-a140ae1f4f64",
   "metadata": {
    "id": "b87a00ae-bcac-4f33-8650-a140ae1f4f64",
    "outputId": "d219fd46-bcbb-47bd-fac8-641ff93db16b"
   },
   "outputs": [
    {
     "name": "stdout",
     "output_type": "stream",
     "text": [
      "Ada Boost Results:\n",
      "  - Accuracy: 0.7345\n",
      "  - F1 Macro: 0.7330\n"
     ]
    },
    {
     "data": {
      "image/png": "[encoded data removed]",
      "text/plain": [
       "<Figure size 640x480 with 2 Axes>"
      ]
     },
     "metadata": {},
     "output_type": "display_data"
    },
    {
     "name": "stdout",
     "output_type": "stream",
     "text": [
      "Gradient Boosting Results:\n",
      "  - Accuracy: 0.8142\n",
      "  - F1 Macro: 0.8103\n"
     ]
    },
    {
     "data": {
      "image/png": "[encoded data removed]",
      "text/plain": [
       "<Figure size 640x480 with 2 Axes>"
      ]
     },
     "metadata": {},
     "output_type": "display_data"
    },
    {
     "name": "stdout",
     "output_type": "stream",
     "text": [
      "XGradient Boosting Results:\n",
      "  - Accuracy: 0.7699\n",
      "  - F1 Macro: 0.7708\n"
     ]
    },
    {
     "data": {
      "image/png": "[encoded data removed]",
      "text/plain": [
       "<Figure size 640x480 with 2 Axes>"
      ]
     },
     "metadata": {},
     "output_type": "display_data"
    },
    {
     "name": "stdout",
     "output_type": "stream",
     "text": [
      "Bagging Results:\n",
      "  - Accuracy: 0.7345\n",
      "  - F1 Macro: 0.7348\n"
     ]
    },
    {
     "data": {
      "image/png": "[encoded data removed]",
      "text/plain": [
       "<Figure size 640x480 with 2 Axes>"
      ]
     },
     "metadata": {},
     "output_type": "display_data"
    },
    {
     "name": "stdout",
     "output_type": "stream",
     "text": [
      "Random Forest Results:\n",
      "  - Accuracy: 0.7611\n",
      "  - F1 Macro: 0.7581\n"
     ]
    },
    {
     "data": {
      "image/png": "[encoded data removed]",
      "text/plain": [
       "<Figure size 640x480 with 2 Axes>"
      ]
     },
     "metadata": {},
     "output_type": "display_data"
    },
    {
     "name": "stdout",
     "output_type": "stream",
     "text": [
      "Stacking Results:\n",
      "  - Accuracy: 0.7699\n",
      "  - F1 Macro: 0.7684\n"
     ]
    },
    {
     "data": {
      "image/png": "[encoded data removed]",
      "text/plain": [
       "<Figure size 640x480 with 2 Axes>"
      ]
     },
     "metadata": {},
     "output_type": "display_data"
    }
   ],
   "source": [
    "# Dictionary to store results\n",
    "model_results = {}\n",
    "\n",
    "# Define models\n",
    "models = {\n",
    "    \"Ada Boost\": {\"model\": best_ab, \"y_pred\": y_pred_best_ab},\n",
    "    \"Gradient Boosting\": {\"model\": gb, \"y_pred\": y_pred_gb},\n",
    "    \"XGradient Boosting\": {\"model\": best_xgb, \"y_pred\": y_pred_best_xgb},\n",
    "    \"Bagging\": {\"model\": best_bag, \"y_pred\": y_pred_best_bag},\n",
    "    \"Random Forest\": {\"model\": best_rf, \"y_pred\": y_pred_best_rf},\n",
    "    \"Stacking\": {\"model\": best_sc, \"y_pred\": y_pred_best_sc}\n",
    "}\n",
    "\n",
    "# Store metrics\n",
    "for name, model in models.items():\n",
    "    y_pred = model[\"y_pred\"]\n",
    "\n",
    "    # Calculate evaluation metrics\n",
    "    acc = accuracy_score(y_test, y_pred)\n",
    "    report = classification_report(y_test, y_pred, output_dict=True)\n",
    "    f1_macro = report['macro avg']['f1-score']\n",
    "\n",
    "    # Save results\n",
    "    model_results[name] = {\n",
    "        \"model\": model,\n",
    "        \"accuracy\": acc,\n",
    "        \"f1_macro\": f1_macro,\n",
    "        \"classification_report\": report,\n",
    "        \"y_pred\": y_pred\n",
    "    }\n",
    "\n",
    "    # Print individual model performance\n",
    "    print(f\"{name} Results:\")\n",
    "    print(f\"  - Accuracy: {acc:.4f}\")\n",
    "    print(f\"  - F1 Macro: {f1_macro:.4f}\")\n",
    "\n",
    "    # Plot Confusion Matrix\n",
    "    cm = confusion_matrix(y_test, y_pred)\n",
    "    sns.heatmap(cm, annot=True, fmt='d', cmap='Blues')\n",
    "    plt.title(f\"Confusion Matrix - {name}\")\n",
    "    plt.xlabel(\"Predicted\")\n",
    "    plt.ylabel(\"Actual\")\n",
    "    plt.show()"
   ]
  },
  {
   "cell_type": "code",
   "execution_count": null,
   "id": "607efd6f-fc61-4651-a392-13dc178ed568",
   "metadata": {
    "id": "607efd6f-fc61-4651-a392-13dc178ed568",
    "outputId": "7c9eeb7e-a47c-4a75-b3df-ef70233259c8"
   },
   "outputs": [
    {
     "name": "stdout",
     "output_type": "stream",
     "text": [
      "Model Comparison:\n",
      "\n",
      "                Model  Accuracy  F1 Macro\n",
      "0   Gradient Boosting  0.814159  0.810297\n",
      "1  XGradient Boosting  0.769912  0.770771\n",
      "2            Stacking  0.769912  0.768404\n",
      "3       Random Forest  0.761062  0.758130\n",
      "4           Ada Boost  0.734513  0.732964\n",
      "5             Bagging  0.734513  0.734817\n"
     ]
    },
    {
     "data": {
      "image/png": "[encoded data removed]",
      "text/plain": [
       "<Figure size 1000x600 with 1 Axes>"
      ]
     },
     "metadata": {},
     "output_type": "display_data"
    }
   ],
   "source": [
    "# Convert results to a DataFrame for easy comparison\n",
    "results_df = pd.DataFrame([\n",
    "    {\"Model\": name, \"Accuracy\": result[\"accuracy\"], \"F1 Macro\": result[\"f1_macro\"]}\n",
    "    for name, result in model_results.items()\n",
    "])\n",
    "\n",
    "# Display the comparison table\n",
    "print(\"Model Comparison:\\n\")\n",
    "print(results_df.sort_values(by=\"Accuracy\", ascending=False))\n",
    "\n",
    "# Plot comparison\n",
    "results_df.set_index(\"Model\")[[\"Accuracy\", \"F1 Macro\"]].plot(kind='bar', figsize=(10, 6))\n",
    "plt.title(\"Model Performance Comparison\")\n",
    "plt.ylabel(\"Score\")\n",
    "plt.ylim(0, 1)\n",
    "plt.legend(loc='lower right')\n",
    "plt.show()\n"
   ]
  },
  {
   "cell_type": "markdown",
   "id": "75eadb33-fde2-4bed-b5f3-2d5948698382",
   "metadata": {
    "id": "75eadb33-fde2-4bed-b5f3-2d5948698382"
   },
   "source": [
    "## Results of the best model"
   ]
  },
  {
   "cell_type": "code",
   "execution_count": null,
   "id": "b01dcc85-ff0a-4672-bd0e-482932d96dbe",
   "metadata": {
    "id": "b01dcc85-ff0a-4672-bd0e-482932d96dbe",
    "outputId": "c7f125ec-3c6f-42fe-83f4-f97dc6c1b4cb"
   },
   "outputs": [
    {
     "name": "stdout",
     "output_type": "stream",
     "text": [
      "Best Model: Gradient Boosting\n",
      "Classification Report:\n",
      "               precision    recall  f1-score   support\n",
      "\n",
      "           0       0.88      0.92      0.90        39\n",
      "           1       0.76      0.66      0.70        38\n",
      "           2       0.79      0.86      0.83        36\n",
      "\n",
      "    accuracy                           0.81       113\n",
      "   macro avg       0.81      0.81      0.81       113\n",
      "weighted avg       0.81      0.81      0.81       113\n",
      "\n"
     ]
    },
    {
     "data": {
      "image/png": "[encoded data removed]",
      "text/plain": [
       "<Figure size 640x480 with 2 Axes>"
      ]
     },
     "metadata": {},
     "output_type": "display_data"
    }
   ],
   "source": [
    "# Select the best model based on accuracy\n",
    "best_model_name = results_df.loc[results_df['Accuracy'].idxmax(), 'Model']\n",
    "best_model = model_results[best_model_name][\"model\"]\n",
    "best_y_pred = model_results[best_model_name][\"y_pred\"]\n",
    "\n",
    "# Print detailed report\n",
    "print(f\"Best Model: {best_model_name}\")\n",
    "print(\"Classification Report:\\n\", classification_report(y_test, best_y_pred))\n",
    "\n",
    "# Plot the confusion matrix again for the best model\n",
    "cm = confusion_matrix(y_test, best_y_pred)\n",
    "sns.heatmap(cm, annot=True, fmt='d', cmap='Blues')\n",
    "plt.title(f\"Confusion Matrix - {best_model_name} (Best Model)\")\n",
    "plt.xlabel(\"Predicted\")\n",
    "plt.ylabel(\"Actual\")\n",
    "plt.show()"
   ]
  }
 ],
 "metadata": {
  "colab": {
   "provenance": []
  },
  "kernelspec": {
   "display_name": "Python 3",
   "language": "python",
   "name": "python3"
  },
  "language_info": {
   "codemirror_mode": {
    "name": "ipython",
    "version": 3
   },
   "file_extension": ".py",
   "mimetype": "text/x-python",
   "name": "python",
   "nbconvert_exporter": "python",
   "pygments_lexer": "ipython3",
   "version": "3.11.9"
  }
 },
 "nbformat": 4,
 "nbformat_minor": 5
}
