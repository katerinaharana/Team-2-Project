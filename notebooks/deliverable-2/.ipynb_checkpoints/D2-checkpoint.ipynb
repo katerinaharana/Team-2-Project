{
 "cells": [
  {
   "cell_type": "markdown",
   "id": "431b9173-f897-4cc3-ae78-72f29273548f",
   "metadata": {},
   "source": [
    "# *Deliverable 2*: Preprocessing\n",
    "\n",
    "* Import dataset and necessary libraries\n",
    "<br><br>  \n",
    "* Handling missing values\n",
    "  * Drop missing mpg feature values\n",
    "  * Scaling data\n",
    "  * Fill hp missing values creating a custom function\n",
    "  <br><br>  \n",
    "* Handling outliers\n",
    "  * Detect Multivariate outliers using Isolation Forest\n",
    "  * Visualise outliers with 2D PCA\n",
    "  * Drop outliers \n",
    " <br><br>\n",
    "* Encoding categorical features\n",
    "<br><br>   \n",
    "\n"
   ]
  },
  {
   "cell_type": "markdown",
   "id": "e91f634f-05e8-471a-81c5-0b541cbd770f",
   "metadata": {},
   "source": [
    "## Import dataset and libraries"
   ]
  },
  {
   "cell_type": "code",
   "execution_count": 164,
   "id": "ef2437b6-9d2b-4706-9297-d9b8d26beb8c",
   "metadata": {},
   "outputs": [],
   "source": [
    "import pandas as pd\n",
    "import seaborn as sns\n",
    "import matplotlib.pyplot as plt\n",
    "from sklearn.preprocessing import StandardScaler\n",
    "from sklearn.ensemble import IsolationForest\n",
    "import plotly.express as px\n",
    "file_path = 'C:/Users/Katerina/Team2 Project/Team-2-Project/data/df_eda.csv'\n",
    "df = pd.read_csv(file_path)"
   ]
  },
  {
   "cell_type": "code",
   "execution_count": 165,
   "id": "e5a191b8-197a-4d0e-8758-7617f578dc6a",
   "metadata": {},
   "outputs": [
    {
     "data": {
      "text/html": [
       "<div>\n",
       "<style scoped>\n",
       "    .dataframe tbody tr th:only-of-type {\n",
       "        vertical-align: middle;\n",
       "    }\n",
       "\n",
       "    .dataframe tbody tr th {\n",
       "        vertical-align: top;\n",
       "    }\n",
       "\n",
       "    .dataframe thead th {\n",
       "        text-align: right;\n",
       "    }\n",
       "</style>\n",
       "<table border=\"1\" class=\"dataframe\">\n",
       "  <thead>\n",
       "    <tr style=\"text-align: right;\">\n",
       "      <th></th>\n",
       "      <th>mpg</th>\n",
       "      <th>cylinders</th>\n",
       "      <th>displayments</th>\n",
       "      <th>horsepower</th>\n",
       "      <th>weight</th>\n",
       "      <th>acceleration</th>\n",
       "      <th>model year</th>\n",
       "      <th>origin</th>\n",
       "      <th>car name</th>\n",
       "      <th>outlier</th>\n",
       "      <th>car brand</th>\n",
       "      <th>model</th>\n",
       "    </tr>\n",
       "  </thead>\n",
       "  <tbody>\n",
       "    <tr>\n",
       "      <th>0</th>\n",
       "      <td>18.0</td>\n",
       "      <td>8</td>\n",
       "      <td>307.0</td>\n",
       "      <td>130.0</td>\n",
       "      <td>3504</td>\n",
       "      <td>12.0</td>\n",
       "      <td>70</td>\n",
       "      <td>1</td>\n",
       "      <td>chevrolet chevelle malibu</td>\n",
       "      <td>Normal</td>\n",
       "      <td>chevrolet</td>\n",
       "      <td>chevelle malibu</td>\n",
       "    </tr>\n",
       "    <tr>\n",
       "      <th>1</th>\n",
       "      <td>15.0</td>\n",
       "      <td>8</td>\n",
       "      <td>350.0</td>\n",
       "      <td>165.0</td>\n",
       "      <td>3693</td>\n",
       "      <td>11.5</td>\n",
       "      <td>70</td>\n",
       "      <td>1</td>\n",
       "      <td>buick skylark 320</td>\n",
       "      <td>Normal</td>\n",
       "      <td>buick</td>\n",
       "      <td>skylark 320</td>\n",
       "    </tr>\n",
       "    <tr>\n",
       "      <th>2</th>\n",
       "      <td>18.0</td>\n",
       "      <td>8</td>\n",
       "      <td>318.0</td>\n",
       "      <td>150.0</td>\n",
       "      <td>3436</td>\n",
       "      <td>11.0</td>\n",
       "      <td>70</td>\n",
       "      <td>1</td>\n",
       "      <td>plymouth satellite</td>\n",
       "      <td>Normal</td>\n",
       "      <td>plymouth</td>\n",
       "      <td>satellite</td>\n",
       "    </tr>\n",
       "    <tr>\n",
       "      <th>3</th>\n",
       "      <td>16.0</td>\n",
       "      <td>8</td>\n",
       "      <td>304.0</td>\n",
       "      <td>150.0</td>\n",
       "      <td>3433</td>\n",
       "      <td>12.0</td>\n",
       "      <td>70</td>\n",
       "      <td>1</td>\n",
       "      <td>amc rebel sst</td>\n",
       "      <td>Normal</td>\n",
       "      <td>amc</td>\n",
       "      <td>rebel sst</td>\n",
       "    </tr>\n",
       "    <tr>\n",
       "      <th>4</th>\n",
       "      <td>17.0</td>\n",
       "      <td>8</td>\n",
       "      <td>302.0</td>\n",
       "      <td>140.0</td>\n",
       "      <td>3449</td>\n",
       "      <td>10.5</td>\n",
       "      <td>70</td>\n",
       "      <td>1</td>\n",
       "      <td>ford torino</td>\n",
       "      <td>Normal</td>\n",
       "      <td>ford</td>\n",
       "      <td>torino</td>\n",
       "    </tr>\n",
       "    <tr>\n",
       "      <th>...</th>\n",
       "      <td>...</td>\n",
       "      <td>...</td>\n",
       "      <td>...</td>\n",
       "      <td>...</td>\n",
       "      <td>...</td>\n",
       "      <td>...</td>\n",
       "      <td>...</td>\n",
       "      <td>...</td>\n",
       "      <td>...</td>\n",
       "      <td>...</td>\n",
       "      <td>...</td>\n",
       "      <td>...</td>\n",
       "    </tr>\n",
       "    <tr>\n",
       "      <th>401</th>\n",
       "      <td>27.0</td>\n",
       "      <td>4</td>\n",
       "      <td>140.0</td>\n",
       "      <td>86.0</td>\n",
       "      <td>2790</td>\n",
       "      <td>15.6</td>\n",
       "      <td>82</td>\n",
       "      <td>1</td>\n",
       "      <td>ford mustang gl</td>\n",
       "      <td>Normal</td>\n",
       "      <td>ford</td>\n",
       "      <td>mustang gl</td>\n",
       "    </tr>\n",
       "    <tr>\n",
       "      <th>402</th>\n",
       "      <td>44.0</td>\n",
       "      <td>4</td>\n",
       "      <td>97.0</td>\n",
       "      <td>52.0</td>\n",
       "      <td>2130</td>\n",
       "      <td>24.6</td>\n",
       "      <td>82</td>\n",
       "      <td>2</td>\n",
       "      <td>vw pickup</td>\n",
       "      <td>Outlier</td>\n",
       "      <td>volkswagen</td>\n",
       "      <td>pickup</td>\n",
       "    </tr>\n",
       "    <tr>\n",
       "      <th>403</th>\n",
       "      <td>32.0</td>\n",
       "      <td>4</td>\n",
       "      <td>135.0</td>\n",
       "      <td>84.0</td>\n",
       "      <td>2295</td>\n",
       "      <td>11.6</td>\n",
       "      <td>82</td>\n",
       "      <td>1</td>\n",
       "      <td>dodge rampage</td>\n",
       "      <td>Normal</td>\n",
       "      <td>dodge</td>\n",
       "      <td>rampage</td>\n",
       "    </tr>\n",
       "    <tr>\n",
       "      <th>404</th>\n",
       "      <td>28.0</td>\n",
       "      <td>4</td>\n",
       "      <td>120.0</td>\n",
       "      <td>79.0</td>\n",
       "      <td>2625</td>\n",
       "      <td>18.6</td>\n",
       "      <td>82</td>\n",
       "      <td>1</td>\n",
       "      <td>ford ranger</td>\n",
       "      <td>Normal</td>\n",
       "      <td>ford</td>\n",
       "      <td>ranger</td>\n",
       "    </tr>\n",
       "    <tr>\n",
       "      <th>405</th>\n",
       "      <td>31.0</td>\n",
       "      <td>4</td>\n",
       "      <td>119.0</td>\n",
       "      <td>82.0</td>\n",
       "      <td>2720</td>\n",
       "      <td>19.4</td>\n",
       "      <td>82</td>\n",
       "      <td>1</td>\n",
       "      <td>chevy s-10</td>\n",
       "      <td>Normal</td>\n",
       "      <td>chevrolet</td>\n",
       "      <td>s-10</td>\n",
       "    </tr>\n",
       "  </tbody>\n",
       "</table>\n",
       "<p>406 rows × 12 columns</p>\n",
       "</div>"
      ],
      "text/plain": [
       "      mpg  cylinders  displayments  horsepower  weight  acceleration  \\\n",
       "0    18.0          8         307.0       130.0    3504          12.0   \n",
       "1    15.0          8         350.0       165.0    3693          11.5   \n",
       "2    18.0          8         318.0       150.0    3436          11.0   \n",
       "3    16.0          8         304.0       150.0    3433          12.0   \n",
       "4    17.0          8         302.0       140.0    3449          10.5   \n",
       "..    ...        ...           ...         ...     ...           ...   \n",
       "401  27.0          4         140.0        86.0    2790          15.6   \n",
       "402  44.0          4          97.0        52.0    2130          24.6   \n",
       "403  32.0          4         135.0        84.0    2295          11.6   \n",
       "404  28.0          4         120.0        79.0    2625          18.6   \n",
       "405  31.0          4         119.0        82.0    2720          19.4   \n",
       "\n",
       "     model year  origin                   car name  outlier   car brand  \\\n",
       "0            70       1  chevrolet chevelle malibu   Normal   chevrolet   \n",
       "1            70       1          buick skylark 320   Normal       buick   \n",
       "2            70       1         plymouth satellite   Normal    plymouth   \n",
       "3            70       1              amc rebel sst   Normal         amc   \n",
       "4            70       1                ford torino   Normal        ford   \n",
       "..          ...     ...                        ...      ...         ...   \n",
       "401          82       1            ford mustang gl   Normal        ford   \n",
       "402          82       2                  vw pickup  Outlier  volkswagen   \n",
       "403          82       1              dodge rampage   Normal       dodge   \n",
       "404          82       1                ford ranger   Normal        ford   \n",
       "405          82       1                 chevy s-10   Normal   chevrolet   \n",
       "\n",
       "               model  \n",
       "0    chevelle malibu  \n",
       "1        skylark 320  \n",
       "2          satellite  \n",
       "3          rebel sst  \n",
       "4             torino  \n",
       "..               ...  \n",
       "401       mustang gl  \n",
       "402           pickup  \n",
       "403          rampage  \n",
       "404           ranger  \n",
       "405             s-10  \n",
       "\n",
       "[406 rows x 12 columns]"
      ]
     },
     "execution_count": 165,
     "metadata": {},
     "output_type": "execute_result"
    }
   ],
   "source": [
    "df"
   ]
  },
  {
   "cell_type": "markdown",
   "id": "0696dc4a-afe2-481d-bc31-b7868c14373d",
   "metadata": {},
   "source": [
    "## Handling missing values & scaling the data "
   ]
  },
  {
   "cell_type": "code",
   "execution_count": 167,
   "id": "7a91c963-a4ef-4dd7-a8db-9e20c0893a63",
   "metadata": {},
   "outputs": [
    {
     "data": {
      "text/plain": [
       "mpg             8\n",
       "cylinders       0\n",
       "displayments    0\n",
       "horsepower      6\n",
       "weight          0\n",
       "acceleration    0\n",
       "model year      0\n",
       "origin          0\n",
       "car name        0\n",
       "outlier         0\n",
       "car brand       0\n",
       "model           2\n",
       "dtype: int64"
      ]
     },
     "execution_count": 167,
     "metadata": {},
     "output_type": "execute_result"
    }
   ],
   "source": [
    "missing_values = df.isnull().sum()\n",
    "missing_values"
   ]
  },
  {
   "cell_type": "markdown",
   "id": "71283a75-add2-4fe0-aabc-3616da71b1de",
   "metadata": {},
   "source": [
    "Missing values for mpg, horsepower and model.\n",
    "Since mpg is the target column, it is better not to be filled with a predicted value.\n",
    "Missing model value is not a concern in regards to our analysis. \n",
    "Horsepower will be filled using a custom function for a more educated guess on predicted value"
   ]
  },
  {
   "cell_type": "markdown",
   "id": "b558582c-b8f0-47bb-b2e6-60d0d5ff0483",
   "metadata": {},
   "source": [
    "### Dropping mpg N/As"
   ]
  },
  {
   "cell_type": "code",
   "execution_count": 170,
   "id": "78d9b571-ce69-4f39-b40e-454c86b9f36b",
   "metadata": {},
   "outputs": [],
   "source": [
    "# Drop rows where 'mpg' is missing\n",
    "df = df.dropna(subset=['mpg'])"
   ]
  },
  {
   "cell_type": "markdown",
   "id": "77aed096-5300-40dc-a70b-11c60591dc69",
   "metadata": {},
   "source": [
    "### Custom function for filling hp N/As <br>\n"
   ]
  },
  {
   "cell_type": "markdown",
   "id": "0300c893-d96e-49e7-a67d-9c7852d45086",
   "metadata": {},
   "source": [
    "For each car with a missing hp value find a similar car and use its hp value. To find the similar car, first scale the data, then for every missing hp car, substract its feature values from all other cars' respective feature values. keep the absolute value of the substraction (distance) and for each car create a score by suming all feature distances. The car with the lowest score is the most similar car to the one in question. Fill the missing hp value with the one of the most similar car  "
   ]
  },
  {
   "cell_type": "code",
   "execution_count": 173,
   "id": "c1dd24dd-8082-49cf-b41d-36cb7a0c59b5",
   "metadata": {},
   "outputs": [
    {
     "data": {
      "text/html": [
       "<div>\n",
       "<style scoped>\n",
       "    .dataframe tbody tr th:only-of-type {\n",
       "        vertical-align: middle;\n",
       "    }\n",
       "\n",
       "    .dataframe tbody tr th {\n",
       "        vertical-align: top;\n",
       "    }\n",
       "\n",
       "    .dataframe thead th {\n",
       "        text-align: right;\n",
       "    }\n",
       "</style>\n",
       "<table border=\"1\" class=\"dataframe\">\n",
       "  <thead>\n",
       "    <tr style=\"text-align: right;\">\n",
       "      <th></th>\n",
       "      <th>mpg</th>\n",
       "      <th>cylinders</th>\n",
       "      <th>displayments</th>\n",
       "      <th>horsepower</th>\n",
       "      <th>weight</th>\n",
       "      <th>acceleration</th>\n",
       "      <th>model year</th>\n",
       "      <th>origin</th>\n",
       "      <th>car name</th>\n",
       "      <th>outlier</th>\n",
       "      <th>car brand</th>\n",
       "      <th>model</th>\n",
       "    </tr>\n",
       "  </thead>\n",
       "  <tbody>\n",
       "    <tr>\n",
       "      <th>38</th>\n",
       "      <td>0.190289</td>\n",
       "      <td>-0.856321</td>\n",
       "      <td>-0.916334</td>\n",
       "      <td>NaN</td>\n",
       "      <td>-1.092988</td>\n",
       "      <td>1.246054</td>\n",
       "      <td>71</td>\n",
       "      <td>1</td>\n",
       "      <td>ford pinto</td>\n",
       "      <td>Normal</td>\n",
       "      <td>ford</td>\n",
       "      <td>pinto</td>\n",
       "    </tr>\n",
       "    <tr>\n",
       "      <th>75</th>\n",
       "      <td>-1.346959</td>\n",
       "      <td>1.498191</td>\n",
       "      <td>1.503514</td>\n",
       "      <td>1.314463</td>\n",
       "      <td>1.810850</td>\n",
       "      <td>-0.750880</td>\n",
       "      <td>72</td>\n",
       "      <td>1</td>\n",
       "      <td>buick lesabre custom</td>\n",
       "      <td>Normal</td>\n",
       "      <td>buick</td>\n",
       "      <td>lesabre custom</td>\n",
       "    </tr>\n",
       "  </tbody>\n",
       "</table>\n",
       "</div>"
      ],
      "text/plain": [
       "         mpg  cylinders  displayments  horsepower    weight  acceleration  \\\n",
       "38  0.190289  -0.856321     -0.916334         NaN -1.092988      1.246054   \n",
       "75 -1.346959   1.498191      1.503514    1.314463  1.810850     -0.750880   \n",
       "\n",
       "    model year  origin              car name outlier car brand           model  \n",
       "38          71       1            ford pinto  Normal      ford           pinto  \n",
       "75          72       1  buick lesabre custom  Normal     buick  lesabre custom  "
      ]
     },
     "execution_count": 173,
     "metadata": {},
     "output_type": "execute_result"
    }
   ],
   "source": [
    "# Scale features \n",
    "scaler = StandardScaler()\n",
    "features_to_scale = ['mpg','cylinders', 'displayments', 'horsepower','weight', 'acceleration']\n",
    "df_scaled = df.copy()\n",
    "df_scaled[features_to_scale] = scaler.fit_transform(df[features_to_scale])\n",
    "df_scaled.head()\n",
    "df_scaled.loc[[38, 75]]"
   ]
  },
  {
   "cell_type": "code",
   "execution_count": 174,
   "id": "7680c6e3-3ccf-44d1-b387-2d859f073aa8",
   "metadata": {},
   "outputs": [
    {
     "name": "stdout",
     "output_type": "stream",
     "text": [
      "Imputed Values for Missing Entries in 'horsepower':\n",
      "Row 38: Imputed Value = -1.1567907473949541 (Based on Similar Car at Row 62)\n",
      "Row 133: Imputed Value = -0.42842135527660774 (Based on Similar Car at Row 373)\n",
      "Row 337: Imputed Value = -1.2088171325462647 (Based on Similar Car at Row 350)\n",
      "Row 343: Imputed Value = -0.16828942952005543 (Based on Similar Car at Row 186)\n",
      "Row 361: Imputed Value = -0.68855328103316 (Based on Similar Car at Row 324)\n",
      "Row 382: Imputed Value = -0.37639497012529727 (Based on Similar Car at Row 322)\n"
     ]
    },
    {
     "data": {
      "text/html": [
       "<div>\n",
       "<style scoped>\n",
       "    .dataframe tbody tr th:only-of-type {\n",
       "        vertical-align: middle;\n",
       "    }\n",
       "\n",
       "    .dataframe tbody tr th {\n",
       "        vertical-align: top;\n",
       "    }\n",
       "\n",
       "    .dataframe thead th {\n",
       "        text-align: right;\n",
       "    }\n",
       "</style>\n",
       "<table border=\"1\" class=\"dataframe\">\n",
       "  <thead>\n",
       "    <tr style=\"text-align: right;\">\n",
       "      <th></th>\n",
       "      <th>mpg</th>\n",
       "      <th>cylinders</th>\n",
       "      <th>displayments</th>\n",
       "      <th>horsepower</th>\n",
       "      <th>weight</th>\n",
       "      <th>acceleration</th>\n",
       "      <th>model year</th>\n",
       "      <th>origin</th>\n",
       "      <th>car name</th>\n",
       "      <th>outlier</th>\n",
       "      <th>car brand</th>\n",
       "      <th>model</th>\n",
       "    </tr>\n",
       "  </thead>\n",
       "  <tbody>\n",
       "    <tr>\n",
       "      <th>0</th>\n",
       "      <td>-0.706439</td>\n",
       "      <td>1.498191</td>\n",
       "      <td>1.090604</td>\n",
       "      <td>0.664133</td>\n",
       "      <td>0.630870</td>\n",
       "      <td>-1.295498</td>\n",
       "      <td>70</td>\n",
       "      <td>1</td>\n",
       "      <td>chevrolet chevelle malibu</td>\n",
       "      <td>Normal</td>\n",
       "      <td>chevrolet</td>\n",
       "      <td>chevelle malibu</td>\n",
       "    </tr>\n",
       "    <tr>\n",
       "      <th>1</th>\n",
       "      <td>-1.090751</td>\n",
       "      <td>1.498191</td>\n",
       "      <td>1.503514</td>\n",
       "      <td>1.574594</td>\n",
       "      <td>0.854333</td>\n",
       "      <td>-1.477038</td>\n",
       "      <td>70</td>\n",
       "      <td>1</td>\n",
       "      <td>buick skylark 320</td>\n",
       "      <td>Normal</td>\n",
       "      <td>buick</td>\n",
       "      <td>skylark 320</td>\n",
       "    </tr>\n",
       "    <tr>\n",
       "      <th>2</th>\n",
       "      <td>-0.706439</td>\n",
       "      <td>1.498191</td>\n",
       "      <td>1.196232</td>\n",
       "      <td>1.184397</td>\n",
       "      <td>0.550470</td>\n",
       "      <td>-1.658577</td>\n",
       "      <td>70</td>\n",
       "      <td>1</td>\n",
       "      <td>plymouth satellite</td>\n",
       "      <td>Normal</td>\n",
       "      <td>plymouth</td>\n",
       "      <td>satellite</td>\n",
       "    </tr>\n",
       "    <tr>\n",
       "      <th>3</th>\n",
       "      <td>-0.962647</td>\n",
       "      <td>1.498191</td>\n",
       "      <td>1.061796</td>\n",
       "      <td>1.184397</td>\n",
       "      <td>0.546923</td>\n",
       "      <td>-1.295498</td>\n",
       "      <td>70</td>\n",
       "      <td>1</td>\n",
       "      <td>amc rebel sst</td>\n",
       "      <td>Normal</td>\n",
       "      <td>amc</td>\n",
       "      <td>rebel sst</td>\n",
       "    </tr>\n",
       "    <tr>\n",
       "      <th>4</th>\n",
       "      <td>-0.834543</td>\n",
       "      <td>1.498191</td>\n",
       "      <td>1.042591</td>\n",
       "      <td>0.924265</td>\n",
       "      <td>0.565841</td>\n",
       "      <td>-1.840117</td>\n",
       "      <td>70</td>\n",
       "      <td>1</td>\n",
       "      <td>ford torino</td>\n",
       "      <td>Normal</td>\n",
       "      <td>ford</td>\n",
       "      <td>torino</td>\n",
       "    </tr>\n",
       "  </tbody>\n",
       "</table>\n",
       "</div>"
      ],
      "text/plain": [
       "        mpg  cylinders  displayments  horsepower    weight  acceleration  \\\n",
       "0 -0.706439   1.498191      1.090604    0.664133  0.630870     -1.295498   \n",
       "1 -1.090751   1.498191      1.503514    1.574594  0.854333     -1.477038   \n",
       "2 -0.706439   1.498191      1.196232    1.184397  0.550470     -1.658577   \n",
       "3 -0.962647   1.498191      1.061796    1.184397  0.546923     -1.295498   \n",
       "4 -0.834543   1.498191      1.042591    0.924265  0.565841     -1.840117   \n",
       "\n",
       "   model year  origin                   car name outlier  car brand  \\\n",
       "0          70       1  chevrolet chevelle malibu  Normal  chevrolet   \n",
       "1          70       1          buick skylark 320  Normal      buick   \n",
       "2          70       1         plymouth satellite  Normal   plymouth   \n",
       "3          70       1              amc rebel sst  Normal        amc   \n",
       "4          70       1                ford torino  Normal       ford   \n",
       "\n",
       "             model  \n",
       "0  chevelle malibu  \n",
       "1      skylark 320  \n",
       "2        satellite  \n",
       "3        rebel sst  \n",
       "4           torino  "
      ]
     },
     "execution_count": 174,
     "metadata": {},
     "output_type": "execute_result"
    }
   ],
   "source": [
    "# Define the function to find the most similar car and impute missing values\n",
    "def similar_car(target_col, features):\n",
    "    \"\"\"\n",
    "    Impute missing values in the target column by finding the most similar car.\n",
    "    \n",
    "    Parameters:\n",
    "        target_col (str): The name of the column to predict \n",
    "        features (list): List of features to use for similarity comparison.\n",
    "    \"\"\"\n",
    "    imputed_values = []  # To store the imputed values and their sources\n",
    "    \n",
    "    for idx, row in df_scaled[df_scaled[target_col].isnull()].iterrows():\n",
    "        # Exclude the row with missing value\n",
    "        others = df_scaled[df_scaled[target_col].notnull()]\n",
    "        \n",
    "        # Compute absolute differences and sum them row-wise \n",
    "        differences = others[features].sub(row[features], axis=1).abs().sum(axis=1)\n",
    "        \n",
    "        # Find the index of the most similar car (minimum difference)\n",
    "        most_similar_idx = differences.idxmin()\n",
    "        \n",
    "        # Assign the target column value from the most similar car\n",
    "        imputed_value = df_scaled.loc[most_similar_idx, target_col]\n",
    "        df_scaled.loc[idx, target_col] = imputed_value\n",
    "        \n",
    "        # Store the imputed value and corresponding similar car\n",
    "        imputed_values.append((idx, imputed_value, most_similar_idx))\n",
    "    \n",
    "    # Display the imputed values\n",
    "    print(\"Imputed Values for Missing Entries in '{}':\".format(target_col))\n",
    "    for idx, value, similar_idx in imputed_values:\n",
    "        print(f\"Row {idx}: Imputed Value = {value} (Based on Similar Car at Row {similar_idx})\")\n",
    "\n",
    "# Perform similar car imputation for 'horsepower' \n",
    "features = ['mpg','cylinders', 'displayments', 'weight', 'acceleration']\n",
    "similar_car(target_col='horsepower', features=features)\n",
    "\n",
    "# Check the updated 'horsepower' column\n",
    "df_scaled[['horsepower']]\n",
    "df_scaled.head()"
   ]
  },
  {
   "cell_type": "code",
   "execution_count": 175,
   "id": "805704ff-9cfc-4d48-b40f-8b410d5a1ba9",
   "metadata": {},
   "outputs": [
    {
     "data": {
      "text/plain": [
       "mpg             0\n",
       "cylinders       0\n",
       "displayments    0\n",
       "horsepower      0\n",
       "weight          0\n",
       "acceleration    0\n",
       "model year      0\n",
       "origin          0\n",
       "car name        0\n",
       "outlier         0\n",
       "car brand       0\n",
       "model           2\n",
       "dtype: int64"
      ]
     },
     "execution_count": 175,
     "metadata": {},
     "output_type": "execute_result"
    }
   ],
   "source": [
    "df_scaled.isnull().sum()"
   ]
  },
  {
   "cell_type": "markdown",
   "id": "63048b29-4907-40ea-9e4c-5a34c6c6575f",
   "metadata": {},
   "source": [
    "## Handling outliers\n",
    "As noticed in the 1st Deliverable there are some outliers considering the range of each feature, although we should consider multivariate outliers"
   ]
  },
  {
   "cell_type": "markdown",
   "id": "b359684d-6cae-4f08-970f-e45ad906bf60",
   "metadata": {},
   "source": [
    "### Isolation Forest: Multivariate outlier detection(based on the combination of all other features)\n",
    "\n",
    "A value might not be an outlier in its own column but could be an outlier in combination with other features. <br>\n",
    "\n",
    "\n"
   ]
  },
  {
   "cell_type": "code",
   "execution_count": 178,
   "id": "1277ef75-4e47-425f-85cf-d75fbbfc9ed2",
   "metadata": {
    "scrolled": true
   },
   "outputs": [
    {
     "name": "stdout",
     "output_type": "stream",
     "text": [
      "multivariate outlier count:\n",
      " multivariate_outlier\n",
      "Normal                  378\n",
      "multivariate_outlier     20\n",
      "Name: count, dtype: int64\n"
     ]
    },
    {
     "data": {
      "application/vnd.plotly.v1+json": {
       "config": {
        "plotlyServerURL": "https://plot.ly"
       },
       "data": [
        {
         "hovertemplate": "multivariate_outlier=Normal<br>Weight=%{x}<br>Displacement=%{y}<br>Miles Per Gallon=%{z}<extra></extra>",
         "legendgroup": "Normal",
         "marker": {
          "color": "blue",
          "symbol": "circle"
         },
         "mode": "markers",
         "name": "Normal",
         "scene": "scene",
         "showlegend": true,
         "type": "scatter3d",
         "x": [
          0.6308698741675456,
          0.8543329711977774,
          0.5504704530138114,
          0.5469234197276172,
          0.5658409305873193,
          1.620492161015715,
          1.0399610465086049,
          0.7006281954626973,
          0.755016039184341,
          0.9347323923515116,
          -0.7075440191563827,
          -0.16248323751121402,
          -0.23224155880636577,
          -0.4533399669791348,
          -0.993671370909378,
          -1.3424629773851366,
          -0.35284069053696704,
          -0.6389680422899623,
          -0.7039969858701886,
          -0.8707075503213139,
          -0.3812169568265203,
          1.6689682825937018,
          -0.993671370909378,
          -0.8352372174593723,
          -0.8778016168937022,
          -1.0929883029228142,
          -0.3977697788287597,
          0.5540174863000055,
          0.4239595991395531,
          0.3920362995638057,
          0.3754834775615663,
          1.4644226964231721,
          1.7659205257496755,
          1.399393752842946,
          1.3308177759765256,
          2.346451640256786,
          2.0993416546519263,
          2.565185359572092,
          -0.009960806204865311,
          -0.6649796197220528,
          0.368389410989178,
          0.19931415768058988,
          -0.8872603723235533,
          -1.0019477819104976,
          -1.0598826589183354,
          -1.0705237587769179,
          -1.4157683319664824,
          -1.6049434405635041,
          -1.343645321813868,
          -1.2005816459373704,
          -0.8186843954571329,
          -0.9984007486243035,
          -0.8470606617466861,
          -0.6649796197220528,
          -0.880166305751165,
          1.5412750842907124,
          1.672515315879896,
          1.3769292086970497,
          1.3698351421246613,
          0.8295037381944182,
          1.810849614041468,
          1.7564617703198244,
          1.7162620597429572,
          -0.7572024851631008,
          1.089619512515323,
          1.3331824648339885,
          1.5649219728653398,
          1.3083532318306292,
          -0.04424879463807549,
          -0.5431981435627201,
          0.010139049083568238,
          -0.9239130496142262,
          -0.6803500972955608,
          -0.806860951169819,
          -0.549109865706377,
          -0.9534716603325109,
          -1.0291417037713195,
          1.3355471536914512,
          0.8295037381944182,
          1.203124577673536,
          1.266971176825031,
          0.9536499032112138,
          1.7659205257496755,
          1.6465037384478056,
          1.497528340427651,
          1.0056730580753948,
          0.17803195796342497,
          0.36366003327425245,
          -0.030060661493298863,
          0.05979751509028642,
          -0.07853678307128566,
          -1.2064933680810273,
          2.396110106263504,
          2.2885167632489476,
          1.9905659672086387,
          1.807302580755274,
          -0.21450639237539498,
          -0.8175020510284015,
          -0.6732560307231725,
          -0.699267608155263,
          -0.7808493737377286,
          -0.5893095762832441,
          -0.8340548730306409,
          1.3142649539742863,
          -1.3046279556657323,
          -0.9605657269048992,
          -0.45925168912279174,
          -0.12110118250561554,
          0.50672370915075,
          -0.36702882368174367,
          -0.19322419265823004,
          0.8200449827645672,
          0.15556741381752864,
          -0.11282477150449584,
          -0.08208381635747981,
          0.4322360101406728,
          -1.2064933680810273,
          -0.6141388092866032,
          -1.341280632956405,
          -0.5065454662720471,
          0.9583792809261393,
          0.7822099610451628,
          0.7597454168992666,
          1.384023275269438,
          2.043771466501551,
          1.7576441147485558,
          1.9716484563489365,
          1.5211752290022786,
          -0.8884427167522846,
          -1.1911228905075193,
          -0.7926728180250424,
          -1.5623790411291743,
          -1.1438291133582639,
          -0.9995830930530348,
          -1.0196829483414684,
          -0.8565194171765372,
          -0.5692097209948106,
          -0.6850794750104864,
          -1.147376146644458,
          0.34710721127201305,
          0.5776643748746332,
          0.5457410752988858,
          0.2217787018264862,
          2.007118789210878,
          1.7375442594601223,
          1.8061202363265425,
          1.9941130004948329,
          1.1073546789462938,
          1.09553123465898,
          0.8980797150608386,
          0.9631086586410649,
          0.08107971480745135,
          0.29626640083656347,
          0.23478449054253145,
          -0.9451952493313911,
          -0.39185805668510276,
          -0.06671333878397182,
          -0.4474282448354779,
          -0.3173703576750255,
          -0.883713339037359,
          -0.502998432985853,
          0.016050771227225164,
          -1.2218638456545352,
          0.2844429565492496,
          -0.32682911310487656,
          -0.01587252834852224,
          -0.030060661493298863,
          -0.3540230349656984,
          -1.389756754534392,
          -0.5987683317130952,
          -0.8872603723235533,
          -0.4710751334101056,
          -0.8458783173179547,
          -0.9085425720407182,
          1.4715167629955606,
          1.441958152277276,
          1.17238362252652,
          1.4715167629955606,
          0.3104545339813401,
          0.45233586542910637,
          0.04915641523170396,
          0.1354675585290951,
          -1.1059940916388595,
          -0.9534716603325109,
          -1.2218638456545352,
          -1.389756754534392,
          0.8046745051910592,
          0.7136339841787425,
          0.7975804386186709,
          0.2631607568320847,
          -1.3542864216724504,
          -1.1591995909317718,
          -0.9641127601910933,
          -0.4793515444112253,
          0.21231994639663512,
          1.1463720450944295,
          0.35420127784440136,
          -0.047795827924269646,
          1.0044907136466632,
          1.6666035937362391,
          1.2823416543985389,
          1.0636079350832326,
          0.9276383257791233,
          -1.0941706473515456,
          -0.9641127601910933,
          -1.3542864216724504,
          -0.7926728180250424,
          -1.2124050902246841,
          1.0754313793705463,
          1.2882533765421957,
          1.3828409308407066,
          1.5661043172940714,
          0.6497873850272478,
          0.5374646642977661,
          0.7798452721877001,
          0.6556991071709046,
          1.4774284851392174,
          1.4123995415589912,
          1.6015746501560129,
          1.6133980944433268,
          -1.2183168123683412,
          -0.2724412693832329,
          -0.8340548730306409,
          -0.2547061029522621,
          -1.0870765807791574,
          -1.058700314489604,
          -1.1651113130754287,
          -0.9227307051854948,
          -0.18376543722837896,
          -0.4379694894056268,
          -0.2960881579578606,
          -1.1651113130754287,
          -1.383845032390735,
          -1.1651113130754287,
          -1.064612036633261,
          -1.383845032390735,
          0.466523998573883,
          0.9039914372044956,
          0.7089046064638169,
          0.6675225514582185,
          0.21823166854029205,
          -0.006413772918671156,
          -0.2960881579578606,
          0.543376386441423,
          0.28326061212051823,
          0.4842591650048538,
          0.1177323920981243,
          0.7680218279003862,
          0.5197294978667953,
          0.5374646642977661,
          0.5611115528723938,
          0.2773488899768613,
          1.3119002651168234,
          -0.9641127601910933,
          -0.4852632665548822,
          -0.7926728180250424,
          -0.8754369280362394,
          -0.5384687658477946,
          -0.26652954723957595,
          -0.13647166007912354,
          -0.668526653008247,
          -0.16603027079740817,
          0.20049650210932127,
          -0.20741232580300667,
          0.5197294978667953,
          -1.1591995909317718,
          -0.987759648765721,
          0.3246426671261167,
          0.023144837799613478,
          -0.09508960507352505,
          0.34828955570074444,
          0.46061227643022606,
          1.028137602221291,
          0.8921679929171817,
          1.1641072115254003,
          1.0163141579339772,
          1.6429567051616114,
          1.2811593099698075,
          0.7502866614694155,
          1.1463720450944295,
          -1.2360519787993118,
          -1.1769347573627427,
          -1.2478754230866258,
          -0.3552053793944298,
          0.6616108293145616,
          1.099078267945174,
          -0.910907260898181,
          -0.9700244823347502,
          -1.1237292580698304,
          -0.993671370909378,
          -0.3552053793944298,
          -0.4438812115492837,
          -0.3197350465324883,
          -0.48999264426980776,
          -0.9771185489071386,
          -1.1852111683638624,
          -1.0054948151966918,
          -1.1249116024985617,
          -0.3457466239645787,
          -0.11873649364815277,
          0.038515315373121486,
          0.48544150943358516,
          -0.9250953940429576,
          -0.30672925781644306,
          -0.5065454662720471,
          -0.6342386645750367,
          -0.8340548730306409,
          -1.0173182594840056,
          -0.20150060365934974,
          -1.0173182594840056,
          -1.0468768702022901,
          -0.024148939349641935,
          0.33055438926977365,
          -1.3247278109541658,
          -1.3424629773851366,
          -0.9759362044784071,
          -1.3306395330978227,
          -0.5562039322787653,
          -0.07735443864255427,
          -0.8044962623123563,
          -0.5680273765660792,
          -0.3965874344000283,
          -0.4143226008309991,
          -0.29017643581420366,
          -0.6921735415828747,
          -1.4370505316836475,
          -1.2951692002358812,
          -1.4311388095399904,
          -1.0705237587769179,
          -1.1769347573627427,
          -1.0882589252078887,
          -1.1651113130754287,
          -0.8931720944672101,
          -1.0941706473515456,
          -0.6980852637265316,
          -0.9227307051854948,
          -0.7690259294504147,
          -0.8990838166108671,
          -0.7335555965884731,
          -0.420234322974656,
          -0.3965874344000283,
          0.30690750069514594,
          0.22414339068394898,
          -0.0832661607862112,
          -0.047795827924269646,
          0.5256412200104522,
          0.10590894781081045,
          0.5847584414470215,
          -0.43205776726196987,
          -0.3906757122563714,
          -0.6803500972955608,
          -0.46752810012391144,
          -0.5266453215604807,
          -0.2783529915268898,
          -0.1246482157918097,
          0.07635033709252582,
          -1.1710230352190858,
          -1.1178175359261733,
          -1.1828464795063995,
          -0.9995830930530348,
          -0.9995830930530348,
          -0.9582010380474364,
          -0.904995538754524,
          -0.8577017616052686,
          -1.1887582016500564,
          -1.1887582016500564,
          -1.153287868788115,
          -0.030060661493298863,
          0.05270344851789811,
          -0.4557046558365976,
          -0.16011854865375125,
          -0.36111710153808674,
          -0.7099087080138454,
          -0.024148939349641935,
          -0.2133240479466636,
          -0.7985845401686993,
          -0.40841087868734216,
          -0.2960881579578606
         ],
         "y": [
          1.090603697954175,
          1.5035143043761154,
          1.196231992620253,
          1.061795981227063,
          1.0425908367423216,
          2.262117511523401,
          1.8876171940709434,
          1.8203991883743487,
          1.4074885819524083,
          1.9836429164946505,
          -0.7722953170657413,
          0.0439233235357685,
          0.0535258957781392,
          0.0631284680205099,
          -0.9259364729436725,
          -0.9259364729436725,
          -0.8011030337928534,
          -0.8299107505199654,
          -0.8587184672470776,
          -0.6954747391267756,
          0.0535258957781392,
          1.196231992620253,
          -0.9259364729436725,
          -0.5130258665217323,
          -0.7722953170657413,
          -0.9163339007013018,
          0.37041077977637243,
          0.30319277407977746,
          0.5432570801390451,
          0.5432570801390451,
          0.37041077977637243,
          1.5035143043761154,
          1.9836429164946505,
          1.5131168766184862,
          1.196231992620253,
          1.8203991883743487,
          1.9836429164946505,
          1.9836429164946505,
          0.6200776580780107,
          -0.5130258665217323,
          0.5432570801390451,
          0.5432570801390451,
          -0.6858721668844049,
          -0.7434876003386292,
          -1.098782773306345,
          -1.012359623125009,
          -1.1756033512453108,
          -1.16600077900294,
          -0.9259364729436725,
          -0.9835519063978967,
          -0.7722953170657413,
          -0.9211351868224872,
          -0.9259364729436725,
          -0.5130258665217323,
          -0.6858721668844049,
          1.5035143043761154,
          1.9836429164946505,
          1.196231992620253,
          1.5131168766184862,
          1.061795981227063,
          1.5035143043761154,
          1.5035143043761154,
          1.9836429164946505,
          -1.1852059234876815,
          1.061795981227063,
          1.090603697954175,
          1.0425908367423216,
          1.196231992620253,
          -0.6954747391267756,
          -0.6954747391267756,
          -0.7050773113691463,
          -0.9355390451860432,
          -0.6858721668844049,
          -0.9259364729436725,
          -0.7050773113691463,
          -0.9163339007013018,
          -0.9259364729436725,
          1.5035143043761154,
          1.061795981227063,
          1.5035143043761154,
          1.0425908367423216,
          1.196231992620253,
          1.9836429164946505,
          1.5131168766184862,
          1.196231992620253,
          1.5995400267998223,
          0.30319277407977746,
          0.5432570801390451,
          0.37041077977637243,
          0.5432570801390451,
          0.0439233235357685,
          -0.9259364729436725,
          1.9836429164946505,
          1.9836429164946505,
          1.5995400267998223,
          1.5035143043761154,
          0.37041077977637243,
          -0.9259364729436725,
          -0.5130258665217323,
          -0.8203081782775948,
          -0.6858721668844049,
          -0.3689872828861717,
          -0.9163339007013018,
          1.5035143043761154,
          -1.204411067972423,
          -0.7434876003386292,
          -0.7626927448233706,
          -0.6954747391267756,
          1.196231992620253,
          -0.6954747391267756,
          -0.359384710643801,
          1.5035143043761154,
          0.0439233235357685,
          0.0631284680205099,
          0.37041077977637243,
          0.5432570801390451,
          -1.098782773306345,
          -0.6858721668844049,
          -1.1756033512453108,
          -0.5130258665217323,
          0.5432570801390451,
          0.6200776580780107,
          0.30319277407977746,
          1.0425908367423216,
          1.5035143043761154,
          1.196231992620253,
          1.0425908367423216,
          1.061795981227063,
          -0.9163339007013018,
          -1.098782773306345,
          -0.9259364729436725,
          -1.1275904900334572,
          -1.0603724843368623,
          -0.9931544786402674,
          -0.9931544786402674,
          -0.7434876003386292,
          -0.7050773113691463,
          -0.8203081782775948,
          -1.098782773306345,
          0.30319277407977746,
          0.5432570801390451,
          0.5432570801390451,
          0.5432570801390451,
          1.9836429164946505,
          1.5035143043761154,
          1.196231992620253,
          1.5131168766184862,
          0.3608082075340017,
          0.5432570801390451,
          0.6200776580780107,
          0.30319277407977746,
          0.3608082075340017,
          0.6584879470474935,
          1.0425908367423216,
          -0.9259364729436725,
          -0.5130258665217323,
          0.37041077977637243,
          -0.5130258665217323,
          -0.5706412999759565,
          -0.9931544786402674,
          -0.714679883611517,
          -0.2153461270082405,
          -0.9931544786402674,
          0.37041077977637243,
          -0.7530901725809999,
          -0.7050773113691463,
          -0.6954747391267756,
          -0.6954747391267756,
          -0.9835519063978967,
          -0.8299107505199654,
          -0.7434876003386292,
          -0.5130258665217323,
          -0.9163339007013018,
          -0.8875261839741897,
          1.0713985534694337,
          1.196231992620253,
          1.061795981227063,
          1.5131168766184862,
          0.30319277407977746,
          0.5432570801390451,
          0.0631284680205099,
          0.37041077977637243,
          -1.0411673398521208,
          -0.9163339007013018,
          -0.9931544786402674,
          -0.9835519063978967,
          0.30319277407977746,
          0.5432570801390451,
          0.5432570801390451,
          0.6200776580780107,
          -0.9259364729436725,
          -1.0411673398521208,
          -0.9259364729436725,
          -0.5130258665217323,
          -0.6090515889454393,
          1.196231992620253,
          -0.7050773113691463,
          -0.359384710643801,
          -0.2441538437353526,
          1.5035143043761154,
          1.5035143043761154,
          1.0425908367423216,
          1.196231992620253,
          -0.9163339007013018,
          -0.7915004615504827,
          -1.098782773306345,
          -0.6858721668844049,
          -1.0411673398521208,
          1.0713985534694337,
          0.639282802562752,
          1.196231992620253,
          1.0425908367423216,
          0.5432570801390451,
          0.3608082075340017,
          0.30319277407977746,
          0.5432570801390451,
          1.9836429164946505,
          1.5035143043761154,
          1.9836429164946505,
          1.5131168766184862,
          -0.9259364729436725,
          -0.40739757185565456,
          -0.9259364729436725,
          -0.5130258665217323,
          -0.9163339007013018,
          -0.9163339007013018,
          -0.9259364729436725,
          -0.9259364729436725,
          -0.45541043306750806,
          -0.6954747391267756,
          -1.0891802010639744,
          -0.9931544786402674,
          -0.9163339007013018,
          -1.1083853455487158,
          -1.0411673398521208,
          -0.9835519063978967,
          0.639282802562752,
          1.196231992620253,
          1.0425908367423216,
          0.3608082075340017,
          0.0631284680205099,
          0.0631284680205099,
          -0.5130258665217323,
          0.30319277407977746,
          0.37041077977637243,
          0.3608082075340017,
          0.0631284680205099,
          0.30319277407977746,
          0.6200776580780107,
          1.0713985534694337,
          0.3608082075340017,
          1.0425908367423216,
          1.196231992620253,
          -0.9163339007013018,
          -0.5706412999759565,
          -0.714679883611517,
          -0.8491158950047069,
          -0.5706412999759565,
          -0.359384710643801,
          -0.40739757185565456,
          -0.714679883611517,
          -0.5994490167030686,
          -0.2921667049472061,
          -0.6954747391267756,
          -0.2921667049472061,
          -1.0027570508826382,
          -0.9163339007013018,
          0.3608082075340017,
          0.0631284680205099,
          -0.5130258665217323,
          0.37041077977637243,
          0.30319277407977746,
          1.0713985534694337,
          1.0425908367423216,
          1.5131168766184862,
          1.196231992620253,
          1.5035143043761154,
          1.5131168766184862,
          0.706500808259347,
          1.5995400267998223,
          -1.0027570508826382,
          -1.0315647676097504,
          -0.9163339007013018,
          -0.6954747391267756,
          -0.10011526009979205,
          1.5035143043761154,
          -0.8491158950047069,
          -0.8491158950047069,
          -1.0411673398521208,
          -0.9835519063978967,
          -0.40739757185565456,
          -0.19614098252349907,
          -0.19614098252349907,
          -0.40739757185565456,
          -0.9163339007013018,
          -1.0027570508826382,
          -0.9163339007013018,
          -1.0315647676097504,
          -0.40739757185565456,
          -0.5130258665217323,
          -0.40739757185565456,
          0.30319277407977746,
          -0.9259364729436725,
          -0.5706412999759565,
          -0.7050773113691463,
          -0.714679883611517,
          -0.8203081782775948,
          -1.0315647676097504,
          -0.359384710643801,
          -1.0411673398521208,
          -0.9931544786402674,
          -0.6954747391267756,
          -0.45541043306750806,
          -0.9835519063978967,
          -1.0411673398521208,
          -0.9259364729436725,
          -1.0027570508826382,
          -0.6858721668844049,
          -0.5130258665217323,
          -0.8299107505199654,
          -0.5610387277335858,
          -0.40739757185565456,
          -0.359384710643801,
          -0.19614098252349907,
          -0.5610387277335858,
          -1.098782773306345,
          -1.0315647676097504,
          -1.0795776288216037,
          -0.9259364729436725,
          -1.0411673398521208,
          -1.0027570508826382,
          -0.9835519063978967,
          -0.8491158950047069,
          -0.9163339007013018,
          -0.9163339007013018,
          -0.8491158950047069,
          -0.8971287562165604,
          -0.8299107505199654,
          -0.8203081782775948,
          -0.714679883611517,
          -0.7050773113691463,
          -0.5034232942793616,
          -0.46501300530987877,
          -0.2441538437353526,
          -0.45541043306750806,
          0.3608082075340017,
          0.0631284680205099,
          0.30319277407977746,
          -0.781897889308112,
          -0.781897889308112,
          -0.781897889308112,
          -0.781897889308112,
          -0.5610387277335858,
          -0.40739757185565456,
          -0.5130258665217323,
          -0.40739757185565456,
          -0.8491158950047069,
          -0.9835519063978967,
          -0.9835519063978967,
          -0.8491158950047069,
          -0.9163339007013018,
          -0.7050773113691463,
          -0.8299107505199654,
          -0.8203081782775948,
          -0.9835519063978967,
          -0.9835519063978967,
          -0.9835519063978967,
          -0.11932040458453345,
          0.6584879470474935,
          -0.359384710643801,
          0.37041077977637243,
          -0.4746155775522495,
          -0.5610387277335858,
          -0.40739757185565456,
          -0.5130258665217323,
          -0.5610387277335858,
          -0.7050773113691463,
          -0.714679883611517
         ],
         "z": [
          -0.706438700650983,
          -1.0907506236404463,
          -0.706438700650983,
          -0.9626466493106252,
          -0.834542674980804,
          -1.0907506236404463,
          -1.0907506236404463,
          -1.0907506236404463,
          -1.2188545979702672,
          -1.0907506236404463,
          0.06218514532794337,
          -0.19402280333169875,
          -0.706438700650983,
          -0.3221267776615198,
          0.44649706831740654,
          0.3183930939875855,
          0.19028911965776443,
          0.06218514532794337,
          0.19028911965776443,
          0.3183930939875855,
          -0.3221267776615198,
          -1.6031665209597303,
          0.44649706831740654,
          0.5746010426472277,
          0.19028911965776443,
          0.19028911965776443,
          -0.5783347263211619,
          -0.9626466493106252,
          -0.834542674980804,
          -0.5783347263211619,
          -0.706438700650983,
          -1.2188545979702672,
          -1.2188545979702672,
          -1.2188545979702672,
          -1.2188545979702672,
          -1.4750625466299094,
          -1.3469585723000883,
          -1.3469585723000883,
          -0.706438700650983,
          -0.19402280333169875,
          -0.5783347263211619,
          -0.706438700650983,
          -0.06591882900187769,
          0.5746010426472277,
          0.8308089913068697,
          0.8308089913068697,
          0.9589129656366908,
          1.471328862955975,
          0.44649706831740654,
          0.3183930939875855,
          0.06218514532794337,
          0.19028911965776443,
          -0.06591882900187769,
          -0.4502307519913409,
          -0.3221267776615198,
          -1.3469585723000883,
          -1.2188545979702672,
          -1.0907506236404463,
          -1.2188545979702672,
          -0.834542674980804,
          -1.3469585723000883,
          -1.4750625466299094,
          -1.3469585723000883,
          -0.5783347263211619,
          -1.0907506236404463,
          -1.3469585723000883,
          -1.3469585723000883,
          -1.2188545979702672,
          -0.706438700650983,
          -0.19402280333169875,
          -0.3221267776615198,
          0.3183930939875855,
          -0.19402280333169875,
          0.5746010426472277,
          -0.06591882900187769,
          0.5746010426472277,
          0.44649706831740654,
          -1.3469585723000883,
          -1.2188545979702672,
          -1.3469585723000883,
          -1.2188545979702672,
          -1.0907506236404463,
          -1.3469585723000883,
          -1.3469585723000883,
          -1.2188545979702672,
          -1.3469585723000883,
          -0.706438700650983,
          -0.9626466493106252,
          -0.706438700650983,
          -0.706438700650983,
          -0.06591882900187769,
          0.3183930939875855,
          -1.6031665209597303,
          -1.4750625466299094,
          -1.3469585723000883,
          -1.4750625466299094,
          -0.706438700650983,
          -0.4502307519913409,
          -0.3221267776615198,
          -0.19402280333169875,
          -0.5783347263211619,
          -0.3221267776615198,
          0.3183930939875855,
          -1.0907506236404463,
          0.7027050169770487,
          0.06218514532794337,
          -0.4502307519913409,
          -0.5783347263211619,
          -1.0907506236404463,
          0.06218514532794337,
          -0.4502307519913409,
          -1.6031665209597303,
          -0.4502307519913409,
          -0.3221267776615198,
          -0.5783347263211619,
          -1.0907506236404463,
          0.9589129656366908,
          0.3183930939875855,
          1.087016939966512,
          0.19028911965776443,
          -0.9626466493106252,
          -0.9626466493106252,
          -0.706438700650983,
          -0.9626466493106252,
          -1.3469585723000883,
          -1.2188545979702672,
          -1.2188545979702672,
          -1.2188545979702672,
          0.7027050169770487,
          0.3183930939875855,
          0.3183930939875855,
          0.9589129656366908,
          1.087016939966512,
          0.5746010426472277,
          0.06218514532794337,
          0.3183930939875855,
          0.06218514532794337,
          0.3183930939875855,
          0.9589129656366908,
          -0.5783347263211619,
          -0.706438700650983,
          -1.0907506236404463,
          -1.0907506236404463,
          -0.9626466493106252,
          -1.0907506236404463,
          -0.9626466493106252,
          -1.2188545979702672,
          -0.834542674980804,
          -0.9626466493106252,
          -1.0907506236404463,
          -0.706438700650983,
          -0.3221267776615198,
          -0.4502307519913409,
          -1.3469585723000883,
          0.7027050169770487,
          -0.06591882900187769,
          -0.4502307519913409,
          -0.06591882900187769,
          0.06218514532794337,
          0.19028911965776443,
          0.06218514532794337,
          -0.706438700650983,
          0.7027050169770487,
          -0.5783347263211619,
          -0.06591882900187769,
          -0.06591882900187769,
          -0.19402280333169875,
          0.19028911965776443,
          1.2151209142963328,
          0.5746010426472277,
          0.19028911965776443,
          0.19028911965776443,
          0.3183930939875855,
          0.44649706831740654,
          -0.7704906878158936,
          -0.9626466493106252,
          -1.0266986364755357,
          -1.1548026108053566,
          -0.19402280333169875,
          -0.19402280333169875,
          0.06218514532794337,
          -0.1299708161667882,
          0.7027050169770487,
          0.1262371324928539,
          0.7027050169770487,
          1.2151209142963328,
          -0.4502307519913409,
          -0.706438700650983,
          -0.6423867134860725,
          -0.7704906878158936,
          0.7667570041419592,
          1.087016939966512,
          0.5746010426472277,
          0.38244508115249604,
          -0.4502307519913409,
          -1.3469585723000883,
          -0.5783347263211619,
          -0.5783347263211619,
          -0.8985946621457146,
          -0.8985946621457146,
          -1.3469585723000883,
          -1.3469585723000883,
          -1.3469585723000883,
          1.0229649528016014,
          0.8308089913068697,
          1.599432837285796,
          0.25434110682267497,
          1.2791729014612434,
          -0.7704906878158936,
          -0.834542674980804,
          -1.0266986364755357,
          -1.0907506236404463,
          -0.7704906878158936,
          -0.3861787648264303,
          -0.5783347263211619,
          -0.6423867134860725,
          -0.9626466493106252,
          -1.0266986364755357,
          -1.0266986364755357,
          -0.9626466493106252,
          0.7027050169770487,
          0.1262371324928539,
          0.3183930939875855,
          0.25434110682267497,
          0.8948609784717803,
          1.2791729014612434,
          0.8308089913068697,
          0.8948609784717803,
          -0.19402280333169875,
          -0.2580747904966093,
          -0.2580747904966093,
          2.508971055027526,
          1.6122432347187783,
          1.1895001194303683,
          2.0349863500071876,
          1.6122432347187783,
          -0.4630411494243232,
          -0.5270931365892337,
          -0.42460995712537675,
          -0.5527139314551979,
          -0.3861787648264303,
          -0.42460995712537675,
          0.20309951709074672,
          -0.3861787648264303,
          -0.5270931365892337,
          -0.37336836739344803,
          -0.34774757252748395,
          -0.6295763160530902,
          -0.6936283032180007,
          -0.5527139314551979,
          -0.7448698929499294,
          -0.6936283032180007,
          -0.7704906878158936,
          0.8308089913068697,
          0.5105490554823171,
          0.4721178631833707,
          0.9461025682037085,
          -0.3093163802285375,
          -0.040298034135913575,
          0.03656435046197925,
          0.04937474789496108,
          -0.41179955969239446,
          -0.834542674980804,
          -0.245264393063627,
          -0.937025854444661,
          1.0229649528016014,
          0.7667570041419592,
          -0.2580747904966093,
          -0.475851546857305,
          -0.15559161103275235,
          -0.42460995712537675,
          -0.37336836739344803,
          -0.834542674980804,
          -0.7576802903829113,
          -0.8985946621457146,
          -0.6808179057850189,
          -0.8473530724137863,
          -1.0266986364755357,
          -0.5527139314551979,
          -0.6423867134860725,
          1.0742065425335297,
          1.3560352860591363,
          1.5610016449868502,
          0.4977386580493348,
          0.24153070938969268,
          -0.06591882900187769,
          1.3688456834921185,
          1.4072768757910645,
          1.0613961451005478,
          1.765968003914563,
          0.6258426323791558,
          0.6770842221110845,
          0.4208762734514424,
          1.2791729014612434,
          2.304004696099812,
          1.8684511833784205,
          1.0998273373994942,
          1.7531576064815817,
          0.5746010426472277,
          0.36963468371951375,
          0.10061633762688978,
          -0.5655243288881796,
          1.3816560809251,
          0.8051881964409057,
          0.9973441579356372,
          1.7275368116156171,
          1.1126377348324765,
          2.9573349651818996,
          0.5617906452142454,
          2.214331914068937,
          2.6626958242233107,
          1.6506744270177243,
          0.8308089913068697,
          2.7011270165222574,
          2.227142311501919,
          1.3176040937601894,
          0.8051881964409057,
          1.471328862955975,
          0.010943555596015125,
          1.13825852969844,
          0.4721178631833707,
          0.3952554785854783,
          0.2927722991216214,
          -0.0018668418369671628,
          0.8308089913068697,
          1.9965551577082417,
          1.9837447602752594,
          1.4841392603889574,
          1.1254481322654577,
          1.7275368116156171,
          1.8172095936464923,
          1.3560352860591363,
          1.432897670657029,
          1.3944664783580822,
          0.8179985938738874,
          1.2151209142963328,
          1.4072768757910645,
          1.304793696327208,
          1.13825852969844,
          1.2023105168633506,
          1.0357753502345837,
          0.5874114400802098,
          0.9204817733377444,
          0.24153070938969268,
          0.08780594019390749,
          -0.1427812135997705,
          -0.42460995712537675,
          -0.7576802903829113,
          0.5746010426472277,
          0.44649706831740654,
          1.343224888626154,
          0.9589129656366908,
          0.7027050169770487,
          0.44649706831740654,
          0.06218514532794337,
          -0.06591882900187769,
          1.599432837285796,
          1.7275368116156171,
          0.9589129656366908,
          1.8556407859454382,
          1.599432837285796,
          1.599432837285796,
          1.599432837285796,
          1.343224888626154,
          1.8556407859454382,
          1.087016939966512,
          1.8556407859454382,
          0.19028911965776443,
          1.8556407859454382,
          0.3183930939875855,
          -0.19402280333169875,
          1.087016939966512,
          1.599432837285796,
          0.44649706831740654,
          0.44649706831740654,
          1.087016939966512,
          0.5746010426472277,
          0.9589129656366908
         ]
        },
        {
         "hovertemplate": "multivariate_outlier=multivariate_outlier<br>Weight=%{x}<br>Displacement=%{y}<br>Miles Per Gallon=%{z}<extra></extra>",
         "legendgroup": "multivariate_outlier",
         "marker": {
          "color": "#00cc96",
          "symbol": "circle"
         },
         "mode": "markers",
         "name": "multivariate_outlier",
         "scene": "scene",
         "showlegend": true,
         "type": "scatter3d",
         "x": [
          1.635862638589223,
          1.586204172582505,
          1.7198090930291514,
          0.13664990295782647,
          1.9444545344881146,
          1.6618742160213136,
          2.082788832649687,
          1.9657367342052796,
          2.3429046069705914,
          2.086335865935881,
          2.34172226254186,
          -1.0007654374817663,
          1.546004462005638,
          0.2596137235458905,
          0.5315529421541092,
          -0.751290763019444,
          -0.07144271649889734,
          -0.6507914865772761,
          0.8921679929171817,
          -0.993671370909378
         ],
         "y": [
          2.502181817582669,
          2.3677458061894785,
          2.5117843898250394,
          2.5117843898250394,
          1.5995400267998223,
          1.090603697954175,
          1.061795981227063,
          2.262117511523401,
          2.262117511523401,
          2.3677458061894785,
          2.5117843898250394,
          -1.1852059234876815,
          1.9836429164946505,
          -0.5034232942793616,
          0.639282802562752,
          -0.9931544786402674,
          -0.2441538437353526,
          -1.1852059234876815,
          1.5035143043761154,
          -0.9259364729436725
         ],
         "z": [
          -1.2188545979702672,
          -1.2188545979702672,
          -1.2188545979702672,
          -1.2188545979702672,
          -1.7312704952895515,
          -1.7312704952895515,
          -1.8593744696193726,
          -1.6031665209597303,
          -1.4750625466299094,
          -1.3469585723000883,
          -1.4750625466299094,
          -0.706438700650983,
          -0.9626466493106252,
          0.4721178631833707,
          0.04937474789496108,
          2.5474022473264717,
          1.1766897219973869,
          0.02375395302899696,
          0.3952554785854783,
          2.6242646319243645
         ]
        }
       ],
       "layout": {
        "height": 800,
        "legend": {
         "title": {
          "text": "multivariate_outlier"
         },
         "tracegroupgap": 0
        },
        "scene": {
         "aspectmode": "auto",
         "aspectratio": {
          "x": 0.99041371808406,
          "y": 0.8826036645114179,
          "z": 1.1439778790758164
         },
         "domain": {
          "x": [
           0,
           1
          ],
          "y": [
           0,
           1
          ]
         },
         "xaxis": {
          "title": {
           "text": "Weight"
          },
          "type": "linear"
         },
         "yaxis": {
          "title": {
           "text": "Displacement"
          },
          "type": "linear"
         },
         "zaxis": {
          "title": {
           "text": "Miles Per Gallon"
          },
          "type": "linear"
         }
        },
        "template": {
         "data": {
          "bar": [
           {
            "error_x": {
             "color": "#2a3f5f"
            },
            "error_y": {
             "color": "#2a3f5f"
            },
            "marker": {
             "line": {
              "color": "#E5ECF6",
              "width": 0.5
             },
             "pattern": {
              "fillmode": "overlay",
              "size": 10,
              "solidity": 0.2
             }
            },
            "type": "bar"
           }
          ],
          "barpolar": [
           {
            "marker": {
             "line": {
              "color": "#E5ECF6",
              "width": 0.5
             },
             "pattern": {
              "fillmode": "overlay",
              "size": 10,
              "solidity": 0.2
             }
            },
            "type": "barpolar"
           }
          ],
          "carpet": [
           {
            "aaxis": {
             "endlinecolor": "#2a3f5f",
             "gridcolor": "white",
             "linecolor": "white",
             "minorgridcolor": "white",
             "startlinecolor": "#2a3f5f"
            },
            "baxis": {
             "endlinecolor": "#2a3f5f",
             "gridcolor": "white",
             "linecolor": "white",
             "minorgridcolor": "white",
             "startlinecolor": "#2a3f5f"
            },
            "type": "carpet"
           }
          ],
          "choropleth": [
           {
            "colorbar": {
             "outlinewidth": 0,
             "ticks": ""
            },
            "type": "choropleth"
           }
          ],
          "contour": [
           {
            "colorbar": {
             "outlinewidth": 0,
             "ticks": ""
            },
            "colorscale": [
             [
              0,
              "#0d0887"
             ],
             [
              0.1111111111111111,
              "#46039f"
             ],
             [
              0.2222222222222222,
              "#7201a8"
             ],
             [
              0.3333333333333333,
              "#9c179e"
             ],
             [
              0.4444444444444444,
              "#bd3786"
             ],
             [
              0.5555555555555556,
              "#d8576b"
             ],
             [
              0.6666666666666666,
              "#ed7953"
             ],
             [
              0.7777777777777778,
              "#fb9f3a"
             ],
             [
              0.8888888888888888,
              "#fdca26"
             ],
             [
              1,
              "#f0f921"
             ]
            ],
            "type": "contour"
           }
          ],
          "contourcarpet": [
           {
            "colorbar": {
             "outlinewidth": 0,
             "ticks": ""
            },
            "type": "contourcarpet"
           }
          ],
          "heatmap": [
           {
            "colorbar": {
             "outlinewidth": 0,
             "ticks": ""
            },
            "colorscale": [
             [
              0,
              "#0d0887"
             ],
             [
              0.1111111111111111,
              "#46039f"
             ],
             [
              0.2222222222222222,
              "#7201a8"
             ],
             [
              0.3333333333333333,
              "#9c179e"
             ],
             [
              0.4444444444444444,
              "#bd3786"
             ],
             [
              0.5555555555555556,
              "#d8576b"
             ],
             [
              0.6666666666666666,
              "#ed7953"
             ],
             [
              0.7777777777777778,
              "#fb9f3a"
             ],
             [
              0.8888888888888888,
              "#fdca26"
             ],
             [
              1,
              "#f0f921"
             ]
            ],
            "type": "heatmap"
           }
          ],
          "heatmapgl": [
           {
            "colorbar": {
             "outlinewidth": 0,
             "ticks": ""
            },
            "colorscale": [
             [
              0,
              "#0d0887"
             ],
             [
              0.1111111111111111,
              "#46039f"
             ],
             [
              0.2222222222222222,
              "#7201a8"
             ],
             [
              0.3333333333333333,
              "#9c179e"
             ],
             [
              0.4444444444444444,
              "#bd3786"
             ],
             [
              0.5555555555555556,
              "#d8576b"
             ],
             [
              0.6666666666666666,
              "#ed7953"
             ],
             [
              0.7777777777777778,
              "#fb9f3a"
             ],
             [
              0.8888888888888888,
              "#fdca26"
             ],
             [
              1,
              "#f0f921"
             ]
            ],
            "type": "heatmapgl"
           }
          ],
          "histogram": [
           {
            "marker": {
             "pattern": {
              "fillmode": "overlay",
              "size": 10,
              "solidity": 0.2
             }
            },
            "type": "histogram"
           }
          ],
          "histogram2d": [
           {
            "colorbar": {
             "outlinewidth": 0,
             "ticks": ""
            },
            "colorscale": [
             [
              0,
              "#0d0887"
             ],
             [
              0.1111111111111111,
              "#46039f"
             ],
             [
              0.2222222222222222,
              "#7201a8"
             ],
             [
              0.3333333333333333,
              "#9c179e"
             ],
             [
              0.4444444444444444,
              "#bd3786"
             ],
             [
              0.5555555555555556,
              "#d8576b"
             ],
             [
              0.6666666666666666,
              "#ed7953"
             ],
             [
              0.7777777777777778,
              "#fb9f3a"
             ],
             [
              0.8888888888888888,
              "#fdca26"
             ],
             [
              1,
              "#f0f921"
             ]
            ],
            "type": "histogram2d"
           }
          ],
          "histogram2dcontour": [
           {
            "colorbar": {
             "outlinewidth": 0,
             "ticks": ""
            },
            "colorscale": [
             [
              0,
              "#0d0887"
             ],
             [
              0.1111111111111111,
              "#46039f"
             ],
             [
              0.2222222222222222,
              "#7201a8"
             ],
             [
              0.3333333333333333,
              "#9c179e"
             ],
             [
              0.4444444444444444,
              "#bd3786"
             ],
             [
              0.5555555555555556,
              "#d8576b"
             ],
             [
              0.6666666666666666,
              "#ed7953"
             ],
             [
              0.7777777777777778,
              "#fb9f3a"
             ],
             [
              0.8888888888888888,
              "#fdca26"
             ],
             [
              1,
              "#f0f921"
             ]
            ],
            "type": "histogram2dcontour"
           }
          ],
          "mesh3d": [
           {
            "colorbar": {
             "outlinewidth": 0,
             "ticks": ""
            },
            "type": "mesh3d"
           }
          ],
          "parcoords": [
           {
            "line": {
             "colorbar": {
              "outlinewidth": 0,
              "ticks": ""
             }
            },
            "type": "parcoords"
           }
          ],
          "pie": [
           {
            "automargin": true,
            "type": "pie"
           }
          ],
          "scatter": [
           {
            "fillpattern": {
             "fillmode": "overlay",
             "size": 10,
             "solidity": 0.2
            },
            "type": "scatter"
           }
          ],
          "scatter3d": [
           {
            "line": {
             "colorbar": {
              "outlinewidth": 0,
              "ticks": ""
             }
            },
            "marker": {
             "colorbar": {
              "outlinewidth": 0,
              "ticks": ""
             }
            },
            "type": "scatter3d"
           }
          ],
          "scattercarpet": [
           {
            "marker": {
             "colorbar": {
              "outlinewidth": 0,
              "ticks": ""
             }
            },
            "type": "scattercarpet"
           }
          ],
          "scattergeo": [
           {
            "marker": {
             "colorbar": {
              "outlinewidth": 0,
              "ticks": ""
             }
            },
            "type": "scattergeo"
           }
          ],
          "scattergl": [
           {
            "marker": {
             "colorbar": {
              "outlinewidth": 0,
              "ticks": ""
             }
            },
            "type": "scattergl"
           }
          ],
          "scattermapbox": [
           {
            "marker": {
             "colorbar": {
              "outlinewidth": 0,
              "ticks": ""
             }
            },
            "type": "scattermapbox"
           }
          ],
          "scatterpolar": [
           {
            "marker": {
             "colorbar": {
              "outlinewidth": 0,
              "ticks": ""
             }
            },
            "type": "scatterpolar"
           }
          ],
          "scatterpolargl": [
           {
            "marker": {
             "colorbar": {
              "outlinewidth": 0,
              "ticks": ""
             }
            },
            "type": "scatterpolargl"
           }
          ],
          "scatterternary": [
           {
            "marker": {
             "colorbar": {
              "outlinewidth": 0,
              "ticks": ""
             }
            },
            "type": "scatterternary"
           }
          ],
          "surface": [
           {
            "colorbar": {
             "outlinewidth": 0,
             "ticks": ""
            },
            "colorscale": [
             [
              0,
              "#0d0887"
             ],
             [
              0.1111111111111111,
              "#46039f"
             ],
             [
              0.2222222222222222,
              "#7201a8"
             ],
             [
              0.3333333333333333,
              "#9c179e"
             ],
             [
              0.4444444444444444,
              "#bd3786"
             ],
             [
              0.5555555555555556,
              "#d8576b"
             ],
             [
              0.6666666666666666,
              "#ed7953"
             ],
             [
              0.7777777777777778,
              "#fb9f3a"
             ],
             [
              0.8888888888888888,
              "#fdca26"
             ],
             [
              1,
              "#f0f921"
             ]
            ],
            "type": "surface"
           }
          ],
          "table": [
           {
            "cells": {
             "fill": {
              "color": "#EBF0F8"
             },
             "line": {
              "color": "white"
             }
            },
            "header": {
             "fill": {
              "color": "#C8D4E3"
             },
             "line": {
              "color": "white"
             }
            },
            "type": "table"
           }
          ]
         },
         "layout": {
          "annotationdefaults": {
           "arrowcolor": "#2a3f5f",
           "arrowhead": 0,
           "arrowwidth": 1
          },
          "autotypenumbers": "strict",
          "coloraxis": {
           "colorbar": {
            "outlinewidth": 0,
            "ticks": ""
           }
          },
          "colorscale": {
           "diverging": [
            [
             0,
             "#8e0152"
            ],
            [
             0.1,
             "#c51b7d"
            ],
            [
             0.2,
             "#de77ae"
            ],
            [
             0.3,
             "#f1b6da"
            ],
            [
             0.4,
             "#fde0ef"
            ],
            [
             0.5,
             "#f7f7f7"
            ],
            [
             0.6,
             "#e6f5d0"
            ],
            [
             0.7,
             "#b8e186"
            ],
            [
             0.8,
             "#7fbc41"
            ],
            [
             0.9,
             "#4d9221"
            ],
            [
             1,
             "#276419"
            ]
           ],
           "sequential": [
            [
             0,
             "#0d0887"
            ],
            [
             0.1111111111111111,
             "#46039f"
            ],
            [
             0.2222222222222222,
             "#7201a8"
            ],
            [
             0.3333333333333333,
             "#9c179e"
            ],
            [
             0.4444444444444444,
             "#bd3786"
            ],
            [
             0.5555555555555556,
             "#d8576b"
            ],
            [
             0.6666666666666666,
             "#ed7953"
            ],
            [
             0.7777777777777778,
             "#fb9f3a"
            ],
            [
             0.8888888888888888,
             "#fdca26"
            ],
            [
             1,
             "#f0f921"
            ]
           ],
           "sequentialminus": [
            [
             0,
             "#0d0887"
            ],
            [
             0.1111111111111111,
             "#46039f"
            ],
            [
             0.2222222222222222,
             "#7201a8"
            ],
            [
             0.3333333333333333,
             "#9c179e"
            ],
            [
             0.4444444444444444,
             "#bd3786"
            ],
            [
             0.5555555555555556,
             "#d8576b"
            ],
            [
             0.6666666666666666,
             "#ed7953"
            ],
            [
             0.7777777777777778,
             "#fb9f3a"
            ],
            [
             0.8888888888888888,
             "#fdca26"
            ],
            [
             1,
             "#f0f921"
            ]
           ]
          },
          "colorway": [
           "#636efa",
           "#EF553B",
           "#00cc96",
           "#ab63fa",
           "#FFA15A",
           "#19d3f3",
           "#FF6692",
           "#B6E880",
           "#FF97FF",
           "#FECB52"
          ],
          "font": {
           "color": "#2a3f5f"
          },
          "geo": {
           "bgcolor": "white",
           "lakecolor": "white",
           "landcolor": "#E5ECF6",
           "showlakes": true,
           "showland": true,
           "subunitcolor": "white"
          },
          "hoverlabel": {
           "align": "left"
          },
          "hovermode": "closest",
          "mapbox": {
           "style": "light"
          },
          "paper_bgcolor": "white",
          "plot_bgcolor": "#E5ECF6",
          "polar": {
           "angularaxis": {
            "gridcolor": "white",
            "linecolor": "white",
            "ticks": ""
           },
           "bgcolor": "#E5ECF6",
           "radialaxis": {
            "gridcolor": "white",
            "linecolor": "white",
            "ticks": ""
           }
          },
          "scene": {
           "xaxis": {
            "backgroundcolor": "#E5ECF6",
            "gridcolor": "white",
            "gridwidth": 2,
            "linecolor": "white",
            "showbackground": true,
            "ticks": "",
            "zerolinecolor": "white"
           },
           "yaxis": {
            "backgroundcolor": "#E5ECF6",
            "gridcolor": "white",
            "gridwidth": 2,
            "linecolor": "white",
            "showbackground": true,
            "ticks": "",
            "zerolinecolor": "white"
           },
           "zaxis": {
            "backgroundcolor": "#E5ECF6",
            "gridcolor": "white",
            "gridwidth": 2,
            "linecolor": "white",
            "showbackground": true,
            "ticks": "",
            "zerolinecolor": "white"
           }
          },
          "shapedefaults": {
           "line": {
            "color": "#2a3f5f"
           }
          },
          "ternary": {
           "aaxis": {
            "gridcolor": "white",
            "linecolor": "white",
            "ticks": ""
           },
           "baxis": {
            "gridcolor": "white",
            "linecolor": "white",
            "ticks": ""
           },
           "bgcolor": "#E5ECF6",
           "caxis": {
            "gridcolor": "white",
            "linecolor": "white",
            "ticks": ""
           }
          },
          "title": {
           "x": 0.05
          },
          "xaxis": {
           "automargin": true,
           "gridcolor": "white",
           "linecolor": "white",
           "ticks": "",
           "title": {
            "standoff": 15
           },
           "zerolinecolor": "white",
           "zerolinewidth": 2
          },
          "yaxis": {
           "automargin": true,
           "gridcolor": "white",
           "linecolor": "white",
           "ticks": "",
           "title": {
            "standoff": 15
           },
           "zerolinecolor": "white",
           "zerolinewidth": 2
          }
         }
        },
        "title": {
         "text": "Isolation Forest Outlier Detection for Selected Features"
        },
        "width": 1000
       }
      },
      "text/html": [
       "<div>                            <div id=\"7c1bc23b-7099-471d-972a-f52c9cc97a0b\" class=\"plotly-graph-div\" style=\"height:800px; width:1000px;\"></div>            <script type=\"text/javascript\">                require([\"plotly\"], function(Plotly) {                    window.PLOTLYENV=window.PLOTLYENV || {};                                    if (document.getElementById(\"7c1bc23b-7099-471d-972a-f52c9cc97a0b\")) {                    Plotly.newPlot(                        \"7c1bc23b-7099-471d-972a-f52c9cc97a0b\",                        [{\"hovertemplate\":\"multivariate_outlier=Normal\\u003cbr\\u003eWeight=%{x}\\u003cbr\\u003eDisplacement=%{y}\\u003cbr\\u003eMiles Per Gallon=%{z}\\u003cextra\\u003e\\u003c\\u002fextra\\u003e\",\"legendgroup\":\"Normal\",\"marker\":{\"color\":\"blue\",\"symbol\":\"circle\"},\"mode\":\"markers\",\"name\":\"Normal\",\"scene\":\"scene\",\"showlegend\":true,\"x\":[0.6308698741675456,0.8543329711977774,0.5504704530138114,0.5469234197276172,0.5658409305873193,1.620492161015715,1.0399610465086049,0.7006281954626973,0.755016039184341,0.9347323923515116,-0.7075440191563827,-0.16248323751121402,-0.23224155880636577,-0.4533399669791348,-0.993671370909378,-1.3424629773851366,-0.35284069053696704,-0.6389680422899623,-0.7039969858701886,-0.8707075503213139,-0.3812169568265203,1.6689682825937018,-0.993671370909378,-0.8352372174593723,-0.8778016168937022,-1.0929883029228142,-0.3977697788287597,0.5540174863000055,0.4239595991395531,0.3920362995638057,0.3754834775615663,1.4644226964231721,1.7659205257496755,1.399393752842946,1.3308177759765256,2.346451640256786,2.0993416546519263,2.565185359572092,-0.009960806204865311,-0.6649796197220528,0.368389410989178,0.19931415768058988,-0.8872603723235533,-1.0019477819104976,-1.0598826589183354,-1.0705237587769179,-1.4157683319664824,-1.6049434405635041,-1.343645321813868,-1.2005816459373704,-0.8186843954571329,-0.9984007486243035,-0.8470606617466861,-0.6649796197220528,-0.880166305751165,1.5412750842907124,1.672515315879896,1.3769292086970497,1.3698351421246613,0.8295037381944182,1.810849614041468,1.7564617703198244,1.7162620597429572,-0.7572024851631008,1.089619512515323,1.3331824648339885,1.5649219728653398,1.3083532318306292,-0.04424879463807549,-0.5431981435627201,0.010139049083568238,-0.9239130496142262,-0.6803500972955608,-0.806860951169819,-0.549109865706377,-0.9534716603325109,-1.0291417037713195,1.3355471536914512,0.8295037381944182,1.203124577673536,1.266971176825031,0.9536499032112138,1.7659205257496755,1.6465037384478056,1.497528340427651,1.0056730580753948,0.17803195796342497,0.36366003327425245,-0.030060661493298863,0.05979751509028642,-0.07853678307128566,-1.2064933680810273,2.396110106263504,2.2885167632489476,1.9905659672086387,1.807302580755274,-0.21450639237539498,-0.8175020510284015,-0.6732560307231725,-0.699267608155263,-0.7808493737377286,-0.5893095762832441,-0.8340548730306409,1.3142649539742863,-1.3046279556657323,-0.9605657269048992,-0.45925168912279174,-0.12110118250561554,0.50672370915075,-0.36702882368174367,-0.19322419265823004,0.8200449827645672,0.15556741381752864,-0.11282477150449584,-0.08208381635747981,0.4322360101406728,-1.2064933680810273,-0.6141388092866032,-1.341280632956405,-0.5065454662720471,0.9583792809261393,0.7822099610451628,0.7597454168992666,1.384023275269438,2.043771466501551,1.7576441147485558,1.9716484563489365,1.5211752290022786,-0.8884427167522846,-1.1911228905075193,-0.7926728180250424,-1.5623790411291743,-1.1438291133582639,-0.9995830930530348,-1.0196829483414684,-0.8565194171765372,-0.5692097209948106,-0.6850794750104864,-1.147376146644458,0.34710721127201305,0.5776643748746332,0.5457410752988858,0.2217787018264862,2.007118789210878,1.7375442594601223,1.8061202363265425,1.9941130004948329,1.1073546789462938,1.09553123465898,0.8980797150608386,0.9631086586410649,0.08107971480745135,0.29626640083656347,0.23478449054253145,-0.9451952493313911,-0.39185805668510276,-0.06671333878397182,-0.4474282448354779,-0.3173703576750255,-0.883713339037359,-0.502998432985853,0.016050771227225164,-1.2218638456545352,0.2844429565492496,-0.32682911310487656,-0.01587252834852224,-0.030060661493298863,-0.3540230349656984,-1.389756754534392,-0.5987683317130952,-0.8872603723235533,-0.4710751334101056,-0.8458783173179547,-0.9085425720407182,1.4715167629955606,1.441958152277276,1.17238362252652,1.4715167629955606,0.3104545339813401,0.45233586542910637,0.04915641523170396,0.1354675585290951,-1.1059940916388595,-0.9534716603325109,-1.2218638456545352,-1.389756754534392,0.8046745051910592,0.7136339841787425,0.7975804386186709,0.2631607568320847,-1.3542864216724504,-1.1591995909317718,-0.9641127601910933,-0.4793515444112253,0.21231994639663512,1.1463720450944295,0.35420127784440136,-0.047795827924269646,1.0044907136466632,1.6666035937362391,1.2823416543985389,1.0636079350832326,0.9276383257791233,-1.0941706473515456,-0.9641127601910933,-1.3542864216724504,-0.7926728180250424,-1.2124050902246841,1.0754313793705463,1.2882533765421957,1.3828409308407066,1.5661043172940714,0.6497873850272478,0.5374646642977661,0.7798452721877001,0.6556991071709046,1.4774284851392174,1.4123995415589912,1.6015746501560129,1.6133980944433268,-1.2183168123683412,-0.2724412693832329,-0.8340548730306409,-0.2547061029522621,-1.0870765807791574,-1.058700314489604,-1.1651113130754287,-0.9227307051854948,-0.18376543722837896,-0.4379694894056268,-0.2960881579578606,-1.1651113130754287,-1.383845032390735,-1.1651113130754287,-1.064612036633261,-1.383845032390735,0.466523998573883,0.9039914372044956,0.7089046064638169,0.6675225514582185,0.21823166854029205,-0.006413772918671156,-0.2960881579578606,0.543376386441423,0.28326061212051823,0.4842591650048538,0.1177323920981243,0.7680218279003862,0.5197294978667953,0.5374646642977661,0.5611115528723938,0.2773488899768613,1.3119002651168234,-0.9641127601910933,-0.4852632665548822,-0.7926728180250424,-0.8754369280362394,-0.5384687658477946,-0.26652954723957595,-0.13647166007912354,-0.668526653008247,-0.16603027079740817,0.20049650210932127,-0.20741232580300667,0.5197294978667953,-1.1591995909317718,-0.987759648765721,0.3246426671261167,0.023144837799613478,-0.09508960507352505,0.34828955570074444,0.46061227643022606,1.028137602221291,0.8921679929171817,1.1641072115254003,1.0163141579339772,1.6429567051616114,1.2811593099698075,0.7502866614694155,1.1463720450944295,-1.2360519787993118,-1.1769347573627427,-1.2478754230866258,-0.3552053793944298,0.6616108293145616,1.099078267945174,-0.910907260898181,-0.9700244823347502,-1.1237292580698304,-0.993671370909378,-0.3552053793944298,-0.4438812115492837,-0.3197350465324883,-0.48999264426980776,-0.9771185489071386,-1.1852111683638624,-1.0054948151966918,-1.1249116024985617,-0.3457466239645787,-0.11873649364815277,0.038515315373121486,0.48544150943358516,-0.9250953940429576,-0.30672925781644306,-0.5065454662720471,-0.6342386645750367,-0.8340548730306409,-1.0173182594840056,-0.20150060365934974,-1.0173182594840056,-1.0468768702022901,-0.024148939349641935,0.33055438926977365,-1.3247278109541658,-1.3424629773851366,-0.9759362044784071,-1.3306395330978227,-0.5562039322787653,-0.07735443864255427,-0.8044962623123563,-0.5680273765660792,-0.3965874344000283,-0.4143226008309991,-0.29017643581420366,-0.6921735415828747,-1.4370505316836475,-1.2951692002358812,-1.4311388095399904,-1.0705237587769179,-1.1769347573627427,-1.0882589252078887,-1.1651113130754287,-0.8931720944672101,-1.0941706473515456,-0.6980852637265316,-0.9227307051854948,-0.7690259294504147,-0.8990838166108671,-0.7335555965884731,-0.420234322974656,-0.3965874344000283,0.30690750069514594,0.22414339068394898,-0.0832661607862112,-0.047795827924269646,0.5256412200104522,0.10590894781081045,0.5847584414470215,-0.43205776726196987,-0.3906757122563714,-0.6803500972955608,-0.46752810012391144,-0.5266453215604807,-0.2783529915268898,-0.1246482157918097,0.07635033709252582,-1.1710230352190858,-1.1178175359261733,-1.1828464795063995,-0.9995830930530348,-0.9995830930530348,-0.9582010380474364,-0.904995538754524,-0.8577017616052686,-1.1887582016500564,-1.1887582016500564,-1.153287868788115,-0.030060661493298863,0.05270344851789811,-0.4557046558365976,-0.16011854865375125,-0.36111710153808674,-0.7099087080138454,-0.024148939349641935,-0.2133240479466636,-0.7985845401686993,-0.40841087868734216,-0.2960881579578606],\"y\":[1.090603697954175,1.5035143043761154,1.196231992620253,1.061795981227063,1.0425908367423216,2.262117511523401,1.8876171940709434,1.8203991883743487,1.4074885819524083,1.9836429164946505,-0.7722953170657413,0.0439233235357685,0.0535258957781392,0.0631284680205099,-0.9259364729436725,-0.9259364729436725,-0.8011030337928534,-0.8299107505199654,-0.8587184672470776,-0.6954747391267756,0.0535258957781392,1.196231992620253,-0.9259364729436725,-0.5130258665217323,-0.7722953170657413,-0.9163339007013018,0.37041077977637243,0.30319277407977746,0.5432570801390451,0.5432570801390451,0.37041077977637243,1.5035143043761154,1.9836429164946505,1.5131168766184862,1.196231992620253,1.8203991883743487,1.9836429164946505,1.9836429164946505,0.6200776580780107,-0.5130258665217323,0.5432570801390451,0.5432570801390451,-0.6858721668844049,-0.7434876003386292,-1.098782773306345,-1.012359623125009,-1.1756033512453108,-1.16600077900294,-0.9259364729436725,-0.9835519063978967,-0.7722953170657413,-0.9211351868224872,-0.9259364729436725,-0.5130258665217323,-0.6858721668844049,1.5035143043761154,1.9836429164946505,1.196231992620253,1.5131168766184862,1.061795981227063,1.5035143043761154,1.5035143043761154,1.9836429164946505,-1.1852059234876815,1.061795981227063,1.090603697954175,1.0425908367423216,1.196231992620253,-0.6954747391267756,-0.6954747391267756,-0.7050773113691463,-0.9355390451860432,-0.6858721668844049,-0.9259364729436725,-0.7050773113691463,-0.9163339007013018,-0.9259364729436725,1.5035143043761154,1.061795981227063,1.5035143043761154,1.0425908367423216,1.196231992620253,1.9836429164946505,1.5131168766184862,1.196231992620253,1.5995400267998223,0.30319277407977746,0.5432570801390451,0.37041077977637243,0.5432570801390451,0.0439233235357685,-0.9259364729436725,1.9836429164946505,1.9836429164946505,1.5995400267998223,1.5035143043761154,0.37041077977637243,-0.9259364729436725,-0.5130258665217323,-0.8203081782775948,-0.6858721668844049,-0.3689872828861717,-0.9163339007013018,1.5035143043761154,-1.204411067972423,-0.7434876003386292,-0.7626927448233706,-0.6954747391267756,1.196231992620253,-0.6954747391267756,-0.359384710643801,1.5035143043761154,0.0439233235357685,0.0631284680205099,0.37041077977637243,0.5432570801390451,-1.098782773306345,-0.6858721668844049,-1.1756033512453108,-0.5130258665217323,0.5432570801390451,0.6200776580780107,0.30319277407977746,1.0425908367423216,1.5035143043761154,1.196231992620253,1.0425908367423216,1.061795981227063,-0.9163339007013018,-1.098782773306345,-0.9259364729436725,-1.1275904900334572,-1.0603724843368623,-0.9931544786402674,-0.9931544786402674,-0.7434876003386292,-0.7050773113691463,-0.8203081782775948,-1.098782773306345,0.30319277407977746,0.5432570801390451,0.5432570801390451,0.5432570801390451,1.9836429164946505,1.5035143043761154,1.196231992620253,1.5131168766184862,0.3608082075340017,0.5432570801390451,0.6200776580780107,0.30319277407977746,0.3608082075340017,0.6584879470474935,1.0425908367423216,-0.9259364729436725,-0.5130258665217323,0.37041077977637243,-0.5130258665217323,-0.5706412999759565,-0.9931544786402674,-0.714679883611517,-0.2153461270082405,-0.9931544786402674,0.37041077977637243,-0.7530901725809999,-0.7050773113691463,-0.6954747391267756,-0.6954747391267756,-0.9835519063978967,-0.8299107505199654,-0.7434876003386292,-0.5130258665217323,-0.9163339007013018,-0.8875261839741897,1.0713985534694337,1.196231992620253,1.061795981227063,1.5131168766184862,0.30319277407977746,0.5432570801390451,0.0631284680205099,0.37041077977637243,-1.0411673398521208,-0.9163339007013018,-0.9931544786402674,-0.9835519063978967,0.30319277407977746,0.5432570801390451,0.5432570801390451,0.6200776580780107,-0.9259364729436725,-1.0411673398521208,-0.9259364729436725,-0.5130258665217323,-0.6090515889454393,1.196231992620253,-0.7050773113691463,-0.359384710643801,-0.2441538437353526,1.5035143043761154,1.5035143043761154,1.0425908367423216,1.196231992620253,-0.9163339007013018,-0.7915004615504827,-1.098782773306345,-0.6858721668844049,-1.0411673398521208,1.0713985534694337,0.639282802562752,1.196231992620253,1.0425908367423216,0.5432570801390451,0.3608082075340017,0.30319277407977746,0.5432570801390451,1.9836429164946505,1.5035143043761154,1.9836429164946505,1.5131168766184862,-0.9259364729436725,-0.40739757185565456,-0.9259364729436725,-0.5130258665217323,-0.9163339007013018,-0.9163339007013018,-0.9259364729436725,-0.9259364729436725,-0.45541043306750806,-0.6954747391267756,-1.0891802010639744,-0.9931544786402674,-0.9163339007013018,-1.1083853455487158,-1.0411673398521208,-0.9835519063978967,0.639282802562752,1.196231992620253,1.0425908367423216,0.3608082075340017,0.0631284680205099,0.0631284680205099,-0.5130258665217323,0.30319277407977746,0.37041077977637243,0.3608082075340017,0.0631284680205099,0.30319277407977746,0.6200776580780107,1.0713985534694337,0.3608082075340017,1.0425908367423216,1.196231992620253,-0.9163339007013018,-0.5706412999759565,-0.714679883611517,-0.8491158950047069,-0.5706412999759565,-0.359384710643801,-0.40739757185565456,-0.714679883611517,-0.5994490167030686,-0.2921667049472061,-0.6954747391267756,-0.2921667049472061,-1.0027570508826382,-0.9163339007013018,0.3608082075340017,0.0631284680205099,-0.5130258665217323,0.37041077977637243,0.30319277407977746,1.0713985534694337,1.0425908367423216,1.5131168766184862,1.196231992620253,1.5035143043761154,1.5131168766184862,0.706500808259347,1.5995400267998223,-1.0027570508826382,-1.0315647676097504,-0.9163339007013018,-0.6954747391267756,-0.10011526009979205,1.5035143043761154,-0.8491158950047069,-0.8491158950047069,-1.0411673398521208,-0.9835519063978967,-0.40739757185565456,-0.19614098252349907,-0.19614098252349907,-0.40739757185565456,-0.9163339007013018,-1.0027570508826382,-0.9163339007013018,-1.0315647676097504,-0.40739757185565456,-0.5130258665217323,-0.40739757185565456,0.30319277407977746,-0.9259364729436725,-0.5706412999759565,-0.7050773113691463,-0.714679883611517,-0.8203081782775948,-1.0315647676097504,-0.359384710643801,-1.0411673398521208,-0.9931544786402674,-0.6954747391267756,-0.45541043306750806,-0.9835519063978967,-1.0411673398521208,-0.9259364729436725,-1.0027570508826382,-0.6858721668844049,-0.5130258665217323,-0.8299107505199654,-0.5610387277335858,-0.40739757185565456,-0.359384710643801,-0.19614098252349907,-0.5610387277335858,-1.098782773306345,-1.0315647676097504,-1.0795776288216037,-0.9259364729436725,-1.0411673398521208,-1.0027570508826382,-0.9835519063978967,-0.8491158950047069,-0.9163339007013018,-0.9163339007013018,-0.8491158950047069,-0.8971287562165604,-0.8299107505199654,-0.8203081782775948,-0.714679883611517,-0.7050773113691463,-0.5034232942793616,-0.46501300530987877,-0.2441538437353526,-0.45541043306750806,0.3608082075340017,0.0631284680205099,0.30319277407977746,-0.781897889308112,-0.781897889308112,-0.781897889308112,-0.781897889308112,-0.5610387277335858,-0.40739757185565456,-0.5130258665217323,-0.40739757185565456,-0.8491158950047069,-0.9835519063978967,-0.9835519063978967,-0.8491158950047069,-0.9163339007013018,-0.7050773113691463,-0.8299107505199654,-0.8203081782775948,-0.9835519063978967,-0.9835519063978967,-0.9835519063978967,-0.11932040458453345,0.6584879470474935,-0.359384710643801,0.37041077977637243,-0.4746155775522495,-0.5610387277335858,-0.40739757185565456,-0.5130258665217323,-0.5610387277335858,-0.7050773113691463,-0.714679883611517],\"z\":[-0.706438700650983,-1.0907506236404463,-0.706438700650983,-0.9626466493106252,-0.834542674980804,-1.0907506236404463,-1.0907506236404463,-1.0907506236404463,-1.2188545979702672,-1.0907506236404463,0.06218514532794337,-0.19402280333169875,-0.706438700650983,-0.3221267776615198,0.44649706831740654,0.3183930939875855,0.19028911965776443,0.06218514532794337,0.19028911965776443,0.3183930939875855,-0.3221267776615198,-1.6031665209597303,0.44649706831740654,0.5746010426472277,0.19028911965776443,0.19028911965776443,-0.5783347263211619,-0.9626466493106252,-0.834542674980804,-0.5783347263211619,-0.706438700650983,-1.2188545979702672,-1.2188545979702672,-1.2188545979702672,-1.2188545979702672,-1.4750625466299094,-1.3469585723000883,-1.3469585723000883,-0.706438700650983,-0.19402280333169875,-0.5783347263211619,-0.706438700650983,-0.06591882900187769,0.5746010426472277,0.8308089913068697,0.8308089913068697,0.9589129656366908,1.471328862955975,0.44649706831740654,0.3183930939875855,0.06218514532794337,0.19028911965776443,-0.06591882900187769,-0.4502307519913409,-0.3221267776615198,-1.3469585723000883,-1.2188545979702672,-1.0907506236404463,-1.2188545979702672,-0.834542674980804,-1.3469585723000883,-1.4750625466299094,-1.3469585723000883,-0.5783347263211619,-1.0907506236404463,-1.3469585723000883,-1.3469585723000883,-1.2188545979702672,-0.706438700650983,-0.19402280333169875,-0.3221267776615198,0.3183930939875855,-0.19402280333169875,0.5746010426472277,-0.06591882900187769,0.5746010426472277,0.44649706831740654,-1.3469585723000883,-1.2188545979702672,-1.3469585723000883,-1.2188545979702672,-1.0907506236404463,-1.3469585723000883,-1.3469585723000883,-1.2188545979702672,-1.3469585723000883,-0.706438700650983,-0.9626466493106252,-0.706438700650983,-0.706438700650983,-0.06591882900187769,0.3183930939875855,-1.6031665209597303,-1.4750625466299094,-1.3469585723000883,-1.4750625466299094,-0.706438700650983,-0.4502307519913409,-0.3221267776615198,-0.19402280333169875,-0.5783347263211619,-0.3221267776615198,0.3183930939875855,-1.0907506236404463,0.7027050169770487,0.06218514532794337,-0.4502307519913409,-0.5783347263211619,-1.0907506236404463,0.06218514532794337,-0.4502307519913409,-1.6031665209597303,-0.4502307519913409,-0.3221267776615198,-0.5783347263211619,-1.0907506236404463,0.9589129656366908,0.3183930939875855,1.087016939966512,0.19028911965776443,-0.9626466493106252,-0.9626466493106252,-0.706438700650983,-0.9626466493106252,-1.3469585723000883,-1.2188545979702672,-1.2188545979702672,-1.2188545979702672,0.7027050169770487,0.3183930939875855,0.3183930939875855,0.9589129656366908,1.087016939966512,0.5746010426472277,0.06218514532794337,0.3183930939875855,0.06218514532794337,0.3183930939875855,0.9589129656366908,-0.5783347263211619,-0.706438700650983,-1.0907506236404463,-1.0907506236404463,-0.9626466493106252,-1.0907506236404463,-0.9626466493106252,-1.2188545979702672,-0.834542674980804,-0.9626466493106252,-1.0907506236404463,-0.706438700650983,-0.3221267776615198,-0.4502307519913409,-1.3469585723000883,0.7027050169770487,-0.06591882900187769,-0.4502307519913409,-0.06591882900187769,0.06218514532794337,0.19028911965776443,0.06218514532794337,-0.706438700650983,0.7027050169770487,-0.5783347263211619,-0.06591882900187769,-0.06591882900187769,-0.19402280333169875,0.19028911965776443,1.2151209142963328,0.5746010426472277,0.19028911965776443,0.19028911965776443,0.3183930939875855,0.44649706831740654,-0.7704906878158936,-0.9626466493106252,-1.0266986364755357,-1.1548026108053566,-0.19402280333169875,-0.19402280333169875,0.06218514532794337,-0.1299708161667882,0.7027050169770487,0.1262371324928539,0.7027050169770487,1.2151209142963328,-0.4502307519913409,-0.706438700650983,-0.6423867134860725,-0.7704906878158936,0.7667570041419592,1.087016939966512,0.5746010426472277,0.38244508115249604,-0.4502307519913409,-1.3469585723000883,-0.5783347263211619,-0.5783347263211619,-0.8985946621457146,-0.8985946621457146,-1.3469585723000883,-1.3469585723000883,-1.3469585723000883,1.0229649528016014,0.8308089913068697,1.599432837285796,0.25434110682267497,1.2791729014612434,-0.7704906878158936,-0.834542674980804,-1.0266986364755357,-1.0907506236404463,-0.7704906878158936,-0.3861787648264303,-0.5783347263211619,-0.6423867134860725,-0.9626466493106252,-1.0266986364755357,-1.0266986364755357,-0.9626466493106252,0.7027050169770487,0.1262371324928539,0.3183930939875855,0.25434110682267497,0.8948609784717803,1.2791729014612434,0.8308089913068697,0.8948609784717803,-0.19402280333169875,-0.2580747904966093,-0.2580747904966093,2.508971055027526,1.6122432347187783,1.1895001194303683,2.0349863500071876,1.6122432347187783,-0.4630411494243232,-0.5270931365892337,-0.42460995712537675,-0.5527139314551979,-0.3861787648264303,-0.42460995712537675,0.20309951709074672,-0.3861787648264303,-0.5270931365892337,-0.37336836739344803,-0.34774757252748395,-0.6295763160530902,-0.6936283032180007,-0.5527139314551979,-0.7448698929499294,-0.6936283032180007,-0.7704906878158936,0.8308089913068697,0.5105490554823171,0.4721178631833707,0.9461025682037085,-0.3093163802285375,-0.040298034135913575,0.03656435046197925,0.04937474789496108,-0.41179955969239446,-0.834542674980804,-0.245264393063627,-0.937025854444661,1.0229649528016014,0.7667570041419592,-0.2580747904966093,-0.475851546857305,-0.15559161103275235,-0.42460995712537675,-0.37336836739344803,-0.834542674980804,-0.7576802903829113,-0.8985946621457146,-0.6808179057850189,-0.8473530724137863,-1.0266986364755357,-0.5527139314551979,-0.6423867134860725,1.0742065425335297,1.3560352860591363,1.5610016449868502,0.4977386580493348,0.24153070938969268,-0.06591882900187769,1.3688456834921185,1.4072768757910645,1.0613961451005478,1.765968003914563,0.6258426323791558,0.6770842221110845,0.4208762734514424,1.2791729014612434,2.304004696099812,1.8684511833784205,1.0998273373994942,1.7531576064815817,0.5746010426472277,0.36963468371951375,0.10061633762688978,-0.5655243288881796,1.3816560809251,0.8051881964409057,0.9973441579356372,1.7275368116156171,1.1126377348324765,2.9573349651818996,0.5617906452142454,2.214331914068937,2.6626958242233107,1.6506744270177243,0.8308089913068697,2.7011270165222574,2.227142311501919,1.3176040937601894,0.8051881964409057,1.471328862955975,0.010943555596015125,1.13825852969844,0.4721178631833707,0.3952554785854783,0.2927722991216214,-0.0018668418369671628,0.8308089913068697,1.9965551577082417,1.9837447602752594,1.4841392603889574,1.1254481322654577,1.7275368116156171,1.8172095936464923,1.3560352860591363,1.432897670657029,1.3944664783580822,0.8179985938738874,1.2151209142963328,1.4072768757910645,1.304793696327208,1.13825852969844,1.2023105168633506,1.0357753502345837,0.5874114400802098,0.9204817733377444,0.24153070938969268,0.08780594019390749,-0.1427812135997705,-0.42460995712537675,-0.7576802903829113,0.5746010426472277,0.44649706831740654,1.343224888626154,0.9589129656366908,0.7027050169770487,0.44649706831740654,0.06218514532794337,-0.06591882900187769,1.599432837285796,1.7275368116156171,0.9589129656366908,1.8556407859454382,1.599432837285796,1.599432837285796,1.599432837285796,1.343224888626154,1.8556407859454382,1.087016939966512,1.8556407859454382,0.19028911965776443,1.8556407859454382,0.3183930939875855,-0.19402280333169875,1.087016939966512,1.599432837285796,0.44649706831740654,0.44649706831740654,1.087016939966512,0.5746010426472277,0.9589129656366908],\"type\":\"scatter3d\"},{\"hovertemplate\":\"multivariate_outlier=multivariate_outlier\\u003cbr\\u003eWeight=%{x}\\u003cbr\\u003eDisplacement=%{y}\\u003cbr\\u003eMiles Per Gallon=%{z}\\u003cextra\\u003e\\u003c\\u002fextra\\u003e\",\"legendgroup\":\"multivariate_outlier\",\"marker\":{\"color\":\"#00cc96\",\"symbol\":\"circle\"},\"mode\":\"markers\",\"name\":\"multivariate_outlier\",\"scene\":\"scene\",\"showlegend\":true,\"x\":[1.635862638589223,1.586204172582505,1.7198090930291514,0.13664990295782647,1.9444545344881146,1.6618742160213136,2.082788832649687,1.9657367342052796,2.3429046069705914,2.086335865935881,2.34172226254186,-1.0007654374817663,1.546004462005638,0.2596137235458905,0.5315529421541092,-0.751290763019444,-0.07144271649889734,-0.6507914865772761,0.8921679929171817,-0.993671370909378],\"y\":[2.502181817582669,2.3677458061894785,2.5117843898250394,2.5117843898250394,1.5995400267998223,1.090603697954175,1.061795981227063,2.262117511523401,2.262117511523401,2.3677458061894785,2.5117843898250394,-1.1852059234876815,1.9836429164946505,-0.5034232942793616,0.639282802562752,-0.9931544786402674,-0.2441538437353526,-1.1852059234876815,1.5035143043761154,-0.9259364729436725],\"z\":[-1.2188545979702672,-1.2188545979702672,-1.2188545979702672,-1.2188545979702672,-1.7312704952895515,-1.7312704952895515,-1.8593744696193726,-1.6031665209597303,-1.4750625466299094,-1.3469585723000883,-1.4750625466299094,-0.706438700650983,-0.9626466493106252,0.4721178631833707,0.04937474789496108,2.5474022473264717,1.1766897219973869,0.02375395302899696,0.3952554785854783,2.6242646319243645],\"type\":\"scatter3d\"}],                        {\"template\":{\"data\":{\"histogram2dcontour\":[{\"type\":\"histogram2dcontour\",\"colorbar\":{\"outlinewidth\":0,\"ticks\":\"\"},\"colorscale\":[[0.0,\"#0d0887\"],[0.1111111111111111,\"#46039f\"],[0.2222222222222222,\"#7201a8\"],[0.3333333333333333,\"#9c179e\"],[0.4444444444444444,\"#bd3786\"],[0.5555555555555556,\"#d8576b\"],[0.6666666666666666,\"#ed7953\"],[0.7777777777777778,\"#fb9f3a\"],[0.8888888888888888,\"#fdca26\"],[1.0,\"#f0f921\"]]}],\"choropleth\":[{\"type\":\"choropleth\",\"colorbar\":{\"outlinewidth\":0,\"ticks\":\"\"}}],\"histogram2d\":[{\"type\":\"histogram2d\",\"colorbar\":{\"outlinewidth\":0,\"ticks\":\"\"},\"colorscale\":[[0.0,\"#0d0887\"],[0.1111111111111111,\"#46039f\"],[0.2222222222222222,\"#7201a8\"],[0.3333333333333333,\"#9c179e\"],[0.4444444444444444,\"#bd3786\"],[0.5555555555555556,\"#d8576b\"],[0.6666666666666666,\"#ed7953\"],[0.7777777777777778,\"#fb9f3a\"],[0.8888888888888888,\"#fdca26\"],[1.0,\"#f0f921\"]]}],\"heatmap\":[{\"type\":\"heatmap\",\"colorbar\":{\"outlinewidth\":0,\"ticks\":\"\"},\"colorscale\":[[0.0,\"#0d0887\"],[0.1111111111111111,\"#46039f\"],[0.2222222222222222,\"#7201a8\"],[0.3333333333333333,\"#9c179e\"],[0.4444444444444444,\"#bd3786\"],[0.5555555555555556,\"#d8576b\"],[0.6666666666666666,\"#ed7953\"],[0.7777777777777778,\"#fb9f3a\"],[0.8888888888888888,\"#fdca26\"],[1.0,\"#f0f921\"]]}],\"heatmapgl\":[{\"type\":\"heatmapgl\",\"colorbar\":{\"outlinewidth\":0,\"ticks\":\"\"},\"colorscale\":[[0.0,\"#0d0887\"],[0.1111111111111111,\"#46039f\"],[0.2222222222222222,\"#7201a8\"],[0.3333333333333333,\"#9c179e\"],[0.4444444444444444,\"#bd3786\"],[0.5555555555555556,\"#d8576b\"],[0.6666666666666666,\"#ed7953\"],[0.7777777777777778,\"#fb9f3a\"],[0.8888888888888888,\"#fdca26\"],[1.0,\"#f0f921\"]]}],\"contourcarpet\":[{\"type\":\"contourcarpet\",\"colorbar\":{\"outlinewidth\":0,\"ticks\":\"\"}}],\"contour\":[{\"type\":\"contour\",\"colorbar\":{\"outlinewidth\":0,\"ticks\":\"\"},\"colorscale\":[[0.0,\"#0d0887\"],[0.1111111111111111,\"#46039f\"],[0.2222222222222222,\"#7201a8\"],[0.3333333333333333,\"#9c179e\"],[0.4444444444444444,\"#bd3786\"],[0.5555555555555556,\"#d8576b\"],[0.6666666666666666,\"#ed7953\"],[0.7777777777777778,\"#fb9f3a\"],[0.8888888888888888,\"#fdca26\"],[1.0,\"#f0f921\"]]}],\"surface\":[{\"type\":\"surface\",\"colorbar\":{\"outlinewidth\":0,\"ticks\":\"\"},\"colorscale\":[[0.0,\"#0d0887\"],[0.1111111111111111,\"#46039f\"],[0.2222222222222222,\"#7201a8\"],[0.3333333333333333,\"#9c179e\"],[0.4444444444444444,\"#bd3786\"],[0.5555555555555556,\"#d8576b\"],[0.6666666666666666,\"#ed7953\"],[0.7777777777777778,\"#fb9f3a\"],[0.8888888888888888,\"#fdca26\"],[1.0,\"#f0f921\"]]}],\"mesh3d\":[{\"type\":\"mesh3d\",\"colorbar\":{\"outlinewidth\":0,\"ticks\":\"\"}}],\"scatter\":[{\"fillpattern\":{\"fillmode\":\"overlay\",\"size\":10,\"solidity\":0.2},\"type\":\"scatter\"}],\"parcoords\":[{\"type\":\"parcoords\",\"line\":{\"colorbar\":{\"outlinewidth\":0,\"ticks\":\"\"}}}],\"scatterpolargl\":[{\"type\":\"scatterpolargl\",\"marker\":{\"colorbar\":{\"outlinewidth\":0,\"ticks\":\"\"}}}],\"bar\":[{\"error_x\":{\"color\":\"#2a3f5f\"},\"error_y\":{\"color\":\"#2a3f5f\"},\"marker\":{\"line\":{\"color\":\"#E5ECF6\",\"width\":0.5},\"pattern\":{\"fillmode\":\"overlay\",\"size\":10,\"solidity\":0.2}},\"type\":\"bar\"}],\"scattergeo\":[{\"type\":\"scattergeo\",\"marker\":{\"colorbar\":{\"outlinewidth\":0,\"ticks\":\"\"}}}],\"scatterpolar\":[{\"type\":\"scatterpolar\",\"marker\":{\"colorbar\":{\"outlinewidth\":0,\"ticks\":\"\"}}}],\"histogram\":[{\"marker\":{\"pattern\":{\"fillmode\":\"overlay\",\"size\":10,\"solidity\":0.2}},\"type\":\"histogram\"}],\"scattergl\":[{\"type\":\"scattergl\",\"marker\":{\"colorbar\":{\"outlinewidth\":0,\"ticks\":\"\"}}}],\"scatter3d\":[{\"type\":\"scatter3d\",\"line\":{\"colorbar\":{\"outlinewidth\":0,\"ticks\":\"\"}},\"marker\":{\"colorbar\":{\"outlinewidth\":0,\"ticks\":\"\"}}}],\"scattermapbox\":[{\"type\":\"scattermapbox\",\"marker\":{\"colorbar\":{\"outlinewidth\":0,\"ticks\":\"\"}}}],\"scatterternary\":[{\"type\":\"scatterternary\",\"marker\":{\"colorbar\":{\"outlinewidth\":0,\"ticks\":\"\"}}}],\"scattercarpet\":[{\"type\":\"scattercarpet\",\"marker\":{\"colorbar\":{\"outlinewidth\":0,\"ticks\":\"\"}}}],\"carpet\":[{\"aaxis\":{\"endlinecolor\":\"#2a3f5f\",\"gridcolor\":\"white\",\"linecolor\":\"white\",\"minorgridcolor\":\"white\",\"startlinecolor\":\"#2a3f5f\"},\"baxis\":{\"endlinecolor\":\"#2a3f5f\",\"gridcolor\":\"white\",\"linecolor\":\"white\",\"minorgridcolor\":\"white\",\"startlinecolor\":\"#2a3f5f\"},\"type\":\"carpet\"}],\"table\":[{\"cells\":{\"fill\":{\"color\":\"#EBF0F8\"},\"line\":{\"color\":\"white\"}},\"header\":{\"fill\":{\"color\":\"#C8D4E3\"},\"line\":{\"color\":\"white\"}},\"type\":\"table\"}],\"barpolar\":[{\"marker\":{\"line\":{\"color\":\"#E5ECF6\",\"width\":0.5},\"pattern\":{\"fillmode\":\"overlay\",\"size\":10,\"solidity\":0.2}},\"type\":\"barpolar\"}],\"pie\":[{\"automargin\":true,\"type\":\"pie\"}]},\"layout\":{\"autotypenumbers\":\"strict\",\"colorway\":[\"#636efa\",\"#EF553B\",\"#00cc96\",\"#ab63fa\",\"#FFA15A\",\"#19d3f3\",\"#FF6692\",\"#B6E880\",\"#FF97FF\",\"#FECB52\"],\"font\":{\"color\":\"#2a3f5f\"},\"hovermode\":\"closest\",\"hoverlabel\":{\"align\":\"left\"},\"paper_bgcolor\":\"white\",\"plot_bgcolor\":\"#E5ECF6\",\"polar\":{\"bgcolor\":\"#E5ECF6\",\"angularaxis\":{\"gridcolor\":\"white\",\"linecolor\":\"white\",\"ticks\":\"\"},\"radialaxis\":{\"gridcolor\":\"white\",\"linecolor\":\"white\",\"ticks\":\"\"}},\"ternary\":{\"bgcolor\":\"#E5ECF6\",\"aaxis\":{\"gridcolor\":\"white\",\"linecolor\":\"white\",\"ticks\":\"\"},\"baxis\":{\"gridcolor\":\"white\",\"linecolor\":\"white\",\"ticks\":\"\"},\"caxis\":{\"gridcolor\":\"white\",\"linecolor\":\"white\",\"ticks\":\"\"}},\"coloraxis\":{\"colorbar\":{\"outlinewidth\":0,\"ticks\":\"\"}},\"colorscale\":{\"sequential\":[[0.0,\"#0d0887\"],[0.1111111111111111,\"#46039f\"],[0.2222222222222222,\"#7201a8\"],[0.3333333333333333,\"#9c179e\"],[0.4444444444444444,\"#bd3786\"],[0.5555555555555556,\"#d8576b\"],[0.6666666666666666,\"#ed7953\"],[0.7777777777777778,\"#fb9f3a\"],[0.8888888888888888,\"#fdca26\"],[1.0,\"#f0f921\"]],\"sequentialminus\":[[0.0,\"#0d0887\"],[0.1111111111111111,\"#46039f\"],[0.2222222222222222,\"#7201a8\"],[0.3333333333333333,\"#9c179e\"],[0.4444444444444444,\"#bd3786\"],[0.5555555555555556,\"#d8576b\"],[0.6666666666666666,\"#ed7953\"],[0.7777777777777778,\"#fb9f3a\"],[0.8888888888888888,\"#fdca26\"],[1.0,\"#f0f921\"]],\"diverging\":[[0,\"#8e0152\"],[0.1,\"#c51b7d\"],[0.2,\"#de77ae\"],[0.3,\"#f1b6da\"],[0.4,\"#fde0ef\"],[0.5,\"#f7f7f7\"],[0.6,\"#e6f5d0\"],[0.7,\"#b8e186\"],[0.8,\"#7fbc41\"],[0.9,\"#4d9221\"],[1,\"#276419\"]]},\"xaxis\":{\"gridcolor\":\"white\",\"linecolor\":\"white\",\"ticks\":\"\",\"title\":{\"standoff\":15},\"zerolinecolor\":\"white\",\"automargin\":true,\"zerolinewidth\":2},\"yaxis\":{\"gridcolor\":\"white\",\"linecolor\":\"white\",\"ticks\":\"\",\"title\":{\"standoff\":15},\"zerolinecolor\":\"white\",\"automargin\":true,\"zerolinewidth\":2},\"scene\":{\"xaxis\":{\"backgroundcolor\":\"#E5ECF6\",\"gridcolor\":\"white\",\"linecolor\":\"white\",\"showbackground\":true,\"ticks\":\"\",\"zerolinecolor\":\"white\",\"gridwidth\":2},\"yaxis\":{\"backgroundcolor\":\"#E5ECF6\",\"gridcolor\":\"white\",\"linecolor\":\"white\",\"showbackground\":true,\"ticks\":\"\",\"zerolinecolor\":\"white\",\"gridwidth\":2},\"zaxis\":{\"backgroundcolor\":\"#E5ECF6\",\"gridcolor\":\"white\",\"linecolor\":\"white\",\"showbackground\":true,\"ticks\":\"\",\"zerolinecolor\":\"white\",\"gridwidth\":2}},\"shapedefaults\":{\"line\":{\"color\":\"#2a3f5f\"}},\"annotationdefaults\":{\"arrowcolor\":\"#2a3f5f\",\"arrowhead\":0,\"arrowwidth\":1},\"geo\":{\"bgcolor\":\"white\",\"landcolor\":\"#E5ECF6\",\"subunitcolor\":\"white\",\"showland\":true,\"showlakes\":true,\"lakecolor\":\"white\"},\"title\":{\"x\":0.05},\"mapbox\":{\"style\":\"light\"}}},\"scene\":{\"domain\":{\"x\":[0.0,1.0],\"y\":[0.0,1.0]},\"xaxis\":{\"title\":{\"text\":\"Weight\"}},\"yaxis\":{\"title\":{\"text\":\"Displacement\"}},\"zaxis\":{\"title\":{\"text\":\"Miles Per Gallon\"}}},\"legend\":{\"title\":{\"text\":\"multivariate_outlier\"},\"tracegroupgap\":0},\"title\":{\"text\":\"Isolation Forest Outlier Detection for Selected Features\"},\"width\":1000,\"height\":800},                        {\"responsive\": true}                    ).then(function(){\n",
       "                            \n",
       "var gd = document.getElementById('7c1bc23b-7099-471d-972a-f52c9cc97a0b');\n",
       "var x = new MutationObserver(function (mutations, observer) {{\n",
       "        var display = window.getComputedStyle(gd).display;\n",
       "        if (!display || display === 'none') {{\n",
       "            console.log([gd, 'removed!']);\n",
       "            Plotly.purge(gd);\n",
       "            observer.disconnect();\n",
       "        }}\n",
       "}});\n",
       "\n",
       "// Listen for the removal of the full notebook cells\n",
       "var notebookContainer = gd.closest('#notebook-container');\n",
       "if (notebookContainer) {{\n",
       "    x.observe(notebookContainer, {childList: true});\n",
       "}}\n",
       "\n",
       "// Listen for the clearing of the current output cell\n",
       "var outputEl = gd.closest('.output');\n",
       "if (outputEl) {{\n",
       "    x.observe(outputEl, {childList: true});\n",
       "}}\n",
       "\n",
       "                        })                };                });            </script>        </div>"
      ]
     },
     "metadata": {},
     "output_type": "display_data"
    }
   ],
   "source": [
    "# Define columns to use for outlier detection\n",
    "columns = ['mpg', 'displayments', 'weight', 'cylinders', 'horsepower', 'acceleration']\n",
    "\n",
    "# Fit Isolation Forest\n",
    "iso_forest = IsolationForest(n_estimators=600, contamination=0.05\n",
    "                             , random_state=42)\n",
    "df_scaled[\"anomaly_score\"] = iso_forest.fit_predict(df_scaled[columns])\n",
    "\n",
    "# Mark outliers\n",
    "df_scaled[\"multivariate_outlier\"] = df_scaled[\"anomaly_score\"].map({1: \"Normal\", -1: \"multivariate_outlier\"})\n",
    "\n",
    "# Count outliers\n",
    "outlier_count = df_scaled[\"multivariate_outlier\"].value_counts()\n",
    "print(\"multivariate outlier count:\\n\", outlier_count)\n",
    "\n",
    "# Interactive 3D Scatter Plot (Coloring Outliers in Green)\n",
    "fig = px.scatter_3d(\n",
    "    df_scaled,\n",
    "    x=\"weight\",\n",
    "    y=\"displayments\",\n",
    "    z=\"mpg\",\n",
    "    color=\"multivariate_outlier\",  # Highlighting outliers\n",
    "    color_discrete_map={\"Multivariate_outlier\": \"green\", \"Normal\": \"blue\"},\n",
    "    title=\"Isolation Forest Outlier Detection for Selected Features\",\n",
    "    labels={\"weight\": \"Weight\", \"displayments\": \"Displacement\", \"mpg\": \"Miles Per Gallon\"}\n",
    ")\n",
    "# Adjust the size of the plot\n",
    "fig.update_layout(\n",
    "    width=1000,  # Set the width in pixels\n",
    "    height=800   # Set the height in pixels\n",
    ")\n",
    "fig.show()"
   ]
  },
  {
   "cell_type": "markdown",
   "id": "e4736285-27f3-4dc4-ac81-4951be4645b9",
   "metadata": {},
   "source": [
    "### Visualise mutlivariate outliers by projecting dataset in a 2dimensional space using PCA"
   ]
  },
  {
   "cell_type": "code",
   "execution_count": 180,
   "id": "f6d1c7d9-7935-4581-a499-5cf52e456995",
   "metadata": {},
   "outputs": [
    {
     "data": {
      "text/plain": [
       "<Axes: >"
      ]
     },
     "execution_count": 180,
     "metadata": {},
     "output_type": "execute_result"
    },
    {
     "data": {
      "image/png": "[encoded data removed]",
      "text/plain": [
       "<Figure size 640x480 with 1 Axes>"
      ]
     },
     "metadata": {},
     "output_type": "display_data"
    }
   ],
   "source": [
    "from sklearn.decomposition import PCA\n",
    "pca = PCA(n_components=2)\n",
    "pca_result = pca.fit_transform(df_scaled[columns])\n",
    "sns.scatterplot(x=pca_result[:, 0], y=pca_result[:, 1], hue=df_scaled['multivariate_outlier'])"
   ]
  },
  {
   "cell_type": "code",
   "execution_count": 181,
   "id": "47c029df-2ba1-40fc-98fa-e3bf5aa3bb3d",
   "metadata": {},
   "outputs": [
    {
     "data": {
      "text/html": [
       "<div>\n",
       "<style scoped>\n",
       "    .dataframe tbody tr th:only-of-type {\n",
       "        vertical-align: middle;\n",
       "    }\n",
       "\n",
       "    .dataframe tbody tr th {\n",
       "        vertical-align: top;\n",
       "    }\n",
       "\n",
       "    .dataframe thead th {\n",
       "        text-align: right;\n",
       "    }\n",
       "</style>\n",
       "<table border=\"1\" class=\"dataframe\">\n",
       "  <thead>\n",
       "    <tr style=\"text-align: right;\">\n",
       "      <th></th>\n",
       "      <th>mpg</th>\n",
       "      <th>cylinders</th>\n",
       "      <th>displayments</th>\n",
       "      <th>horsepower</th>\n",
       "      <th>weight</th>\n",
       "      <th>acceleration</th>\n",
       "      <th>model year</th>\n",
       "      <th>origin</th>\n",
       "      <th>car name</th>\n",
       "      <th>outlier</th>\n",
       "      <th>car brand</th>\n",
       "      <th>model</th>\n",
       "      <th>anomaly_score</th>\n",
       "      <th>multivariate_outlier</th>\n",
       "    </tr>\n",
       "  </thead>\n",
       "  <tbody>\n",
       "    <tr>\n",
       "      <th>0</th>\n",
       "      <td>-0.706439</td>\n",
       "      <td>1.498191</td>\n",
       "      <td>1.090604</td>\n",
       "      <td>0.664133</td>\n",
       "      <td>0.630870</td>\n",
       "      <td>-1.295498</td>\n",
       "      <td>70</td>\n",
       "      <td>1</td>\n",
       "      <td>chevrolet chevelle malibu</td>\n",
       "      <td>Normal</td>\n",
       "      <td>chevrolet</td>\n",
       "      <td>chevelle malibu</td>\n",
       "      <td>1</td>\n",
       "      <td>Normal</td>\n",
       "    </tr>\n",
       "    <tr>\n",
       "      <th>1</th>\n",
       "      <td>-1.090751</td>\n",
       "      <td>1.498191</td>\n",
       "      <td>1.503514</td>\n",
       "      <td>1.574594</td>\n",
       "      <td>0.854333</td>\n",
       "      <td>-1.477038</td>\n",
       "      <td>70</td>\n",
       "      <td>1</td>\n",
       "      <td>buick skylark 320</td>\n",
       "      <td>Normal</td>\n",
       "      <td>buick</td>\n",
       "      <td>skylark 320</td>\n",
       "      <td>1</td>\n",
       "      <td>Normal</td>\n",
       "    </tr>\n",
       "    <tr>\n",
       "      <th>2</th>\n",
       "      <td>-0.706439</td>\n",
       "      <td>1.498191</td>\n",
       "      <td>1.196232</td>\n",
       "      <td>1.184397</td>\n",
       "      <td>0.550470</td>\n",
       "      <td>-1.658577</td>\n",
       "      <td>70</td>\n",
       "      <td>1</td>\n",
       "      <td>plymouth satellite</td>\n",
       "      <td>Normal</td>\n",
       "      <td>plymouth</td>\n",
       "      <td>satellite</td>\n",
       "      <td>1</td>\n",
       "      <td>Normal</td>\n",
       "    </tr>\n",
       "    <tr>\n",
       "      <th>3</th>\n",
       "      <td>-0.962647</td>\n",
       "      <td>1.498191</td>\n",
       "      <td>1.061796</td>\n",
       "      <td>1.184397</td>\n",
       "      <td>0.546923</td>\n",
       "      <td>-1.295498</td>\n",
       "      <td>70</td>\n",
       "      <td>1</td>\n",
       "      <td>amc rebel sst</td>\n",
       "      <td>Normal</td>\n",
       "      <td>amc</td>\n",
       "      <td>rebel sst</td>\n",
       "      <td>1</td>\n",
       "      <td>Normal</td>\n",
       "    </tr>\n",
       "    <tr>\n",
       "      <th>4</th>\n",
       "      <td>-0.834543</td>\n",
       "      <td>1.498191</td>\n",
       "      <td>1.042591</td>\n",
       "      <td>0.924265</td>\n",
       "      <td>0.565841</td>\n",
       "      <td>-1.840117</td>\n",
       "      <td>70</td>\n",
       "      <td>1</td>\n",
       "      <td>ford torino</td>\n",
       "      <td>Normal</td>\n",
       "      <td>ford</td>\n",
       "      <td>torino</td>\n",
       "      <td>1</td>\n",
       "      <td>Normal</td>\n",
       "    </tr>\n",
       "    <tr>\n",
       "      <th>...</th>\n",
       "      <td>...</td>\n",
       "      <td>...</td>\n",
       "      <td>...</td>\n",
       "      <td>...</td>\n",
       "      <td>...</td>\n",
       "      <td>...</td>\n",
       "      <td>...</td>\n",
       "      <td>...</td>\n",
       "      <td>...</td>\n",
       "      <td>...</td>\n",
       "      <td>...</td>\n",
       "      <td>...</td>\n",
       "      <td>...</td>\n",
       "      <td>...</td>\n",
       "    </tr>\n",
       "    <tr>\n",
       "      <th>401</th>\n",
       "      <td>0.446497</td>\n",
       "      <td>-0.856321</td>\n",
       "      <td>-0.513026</td>\n",
       "      <td>-0.480448</td>\n",
       "      <td>-0.213324</td>\n",
       "      <td>0.011586</td>\n",
       "      <td>82</td>\n",
       "      <td>1</td>\n",
       "      <td>ford mustang gl</td>\n",
       "      <td>Normal</td>\n",
       "      <td>ford</td>\n",
       "      <td>mustang gl</td>\n",
       "      <td>1</td>\n",
       "      <td>Normal</td>\n",
       "    </tr>\n",
       "    <tr>\n",
       "      <th>402</th>\n",
       "      <td>2.624265</td>\n",
       "      <td>-0.856321</td>\n",
       "      <td>-0.925936</td>\n",
       "      <td>-1.364896</td>\n",
       "      <td>-0.993671</td>\n",
       "      <td>3.279296</td>\n",
       "      <td>82</td>\n",
       "      <td>2</td>\n",
       "      <td>vw pickup</td>\n",
       "      <td>Outlier</td>\n",
       "      <td>volkswagen</td>\n",
       "      <td>pickup</td>\n",
       "      <td>-1</td>\n",
       "      <td>multivariate_outlier</td>\n",
       "    </tr>\n",
       "    <tr>\n",
       "      <th>403</th>\n",
       "      <td>1.087017</td>\n",
       "      <td>-0.856321</td>\n",
       "      <td>-0.561039</td>\n",
       "      <td>-0.532474</td>\n",
       "      <td>-0.798585</td>\n",
       "      <td>-1.440730</td>\n",
       "      <td>82</td>\n",
       "      <td>1</td>\n",
       "      <td>dodge rampage</td>\n",
       "      <td>Normal</td>\n",
       "      <td>dodge</td>\n",
       "      <td>rampage</td>\n",
       "      <td>1</td>\n",
       "      <td>Normal</td>\n",
       "    </tr>\n",
       "    <tr>\n",
       "      <th>404</th>\n",
       "      <td>0.574601</td>\n",
       "      <td>-0.856321</td>\n",
       "      <td>-0.705077</td>\n",
       "      <td>-0.662540</td>\n",
       "      <td>-0.408411</td>\n",
       "      <td>1.100822</td>\n",
       "      <td>82</td>\n",
       "      <td>1</td>\n",
       "      <td>ford ranger</td>\n",
       "      <td>Normal</td>\n",
       "      <td>ford</td>\n",
       "      <td>ranger</td>\n",
       "      <td>1</td>\n",
       "      <td>Normal</td>\n",
       "    </tr>\n",
       "    <tr>\n",
       "      <th>405</th>\n",
       "      <td>0.958913</td>\n",
       "      <td>-0.856321</td>\n",
       "      <td>-0.714680</td>\n",
       "      <td>-0.584501</td>\n",
       "      <td>-0.296088</td>\n",
       "      <td>1.391285</td>\n",
       "      <td>82</td>\n",
       "      <td>1</td>\n",
       "      <td>chevy s-10</td>\n",
       "      <td>Normal</td>\n",
       "      <td>chevrolet</td>\n",
       "      <td>s-10</td>\n",
       "      <td>1</td>\n",
       "      <td>Normal</td>\n",
       "    </tr>\n",
       "  </tbody>\n",
       "</table>\n",
       "<p>398 rows × 14 columns</p>\n",
       "</div>"
      ],
      "text/plain": [
       "          mpg  cylinders  displayments  horsepower    weight  acceleration  \\\n",
       "0   -0.706439   1.498191      1.090604    0.664133  0.630870     -1.295498   \n",
       "1   -1.090751   1.498191      1.503514    1.574594  0.854333     -1.477038   \n",
       "2   -0.706439   1.498191      1.196232    1.184397  0.550470     -1.658577   \n",
       "3   -0.962647   1.498191      1.061796    1.184397  0.546923     -1.295498   \n",
       "4   -0.834543   1.498191      1.042591    0.924265  0.565841     -1.840117   \n",
       "..        ...        ...           ...         ...       ...           ...   \n",
       "401  0.446497  -0.856321     -0.513026   -0.480448 -0.213324      0.011586   \n",
       "402  2.624265  -0.856321     -0.925936   -1.364896 -0.993671      3.279296   \n",
       "403  1.087017  -0.856321     -0.561039   -0.532474 -0.798585     -1.440730   \n",
       "404  0.574601  -0.856321     -0.705077   -0.662540 -0.408411      1.100822   \n",
       "405  0.958913  -0.856321     -0.714680   -0.584501 -0.296088      1.391285   \n",
       "\n",
       "     model year  origin                   car name  outlier   car brand  \\\n",
       "0            70       1  chevrolet chevelle malibu   Normal   chevrolet   \n",
       "1            70       1          buick skylark 320   Normal       buick   \n",
       "2            70       1         plymouth satellite   Normal    plymouth   \n",
       "3            70       1              amc rebel sst   Normal         amc   \n",
       "4            70       1                ford torino   Normal        ford   \n",
       "..          ...     ...                        ...      ...         ...   \n",
       "401          82       1            ford mustang gl   Normal        ford   \n",
       "402          82       2                  vw pickup  Outlier  volkswagen   \n",
       "403          82       1              dodge rampage   Normal       dodge   \n",
       "404          82       1                ford ranger   Normal        ford   \n",
       "405          82       1                 chevy s-10   Normal   chevrolet   \n",
       "\n",
       "               model  anomaly_score  multivariate_outlier  \n",
       "0    chevelle malibu              1                Normal  \n",
       "1        skylark 320              1                Normal  \n",
       "2          satellite              1                Normal  \n",
       "3          rebel sst              1                Normal  \n",
       "4             torino              1                Normal  \n",
       "..               ...            ...                   ...  \n",
       "401       mustang gl              1                Normal  \n",
       "402           pickup             -1  multivariate_outlier  \n",
       "403          rampage              1                Normal  \n",
       "404           ranger              1                Normal  \n",
       "405             s-10              1                Normal  \n",
       "\n",
       "[398 rows x 14 columns]"
      ]
     },
     "execution_count": 181,
     "metadata": {},
     "output_type": "execute_result"
    }
   ],
   "source": [
    "df_scaled"
   ]
  },
  {
   "cell_type": "code",
   "execution_count": 182,
   "id": "2e578c81-1a93-4f38-ae71-8a2f020a7cdb",
   "metadata": {},
   "outputs": [
    {
     "name": "stdout",
     "output_type": "stream",
     "text": [
      "Total Multivariate Outliers: 20\n",
      "Total Feature Outliers: 14\n",
      "Total Unique Outliers to Remove: 23\n",
      "Indices of multivariate outliers: [6, 7, 8, 19, 31, 32, 34, 74, 97, 101, 102, 118, 123, 306, 307, 333, 340, 341, 372, 402]\n",
      "Indices of outliers: [6, 7, 8, 16, 19, 31, 66, 101, 102, 123, 306, 329, 333, 402]\n"
     ]
    }
   ],
   "source": [
    "# Get indices of multivariate outliers and compare them to feature outliers\n",
    "multivariate_outliers = df_scaled[df_scaled['anomaly_score'] == -1].index.tolist()\n",
    "outliers=df_scaled[df_scaled['outlier'] == \"Outlier\"].index.tolist()\n",
    "all_outliers = list(set(multivariate_outliers + outliers))\n",
    "\n",
    "# Print the number of outliers found\n",
    "print(f\"Total Multivariate Outliers: {len(multivariate_outliers)}\")\n",
    "print(f\"Total Feature Outliers: {len(outliers)}\")\n",
    "print(f\"Total Unique Outliers to Remove: {len(all_outliers)}\")\n",
    "\n",
    "# Print or use the list of outlier indices if needed\n",
    "print(\"Indices of multivariate outliers:\", multivariate_outliers)\n",
    "print (\"Indices of outliers:\", outliers)"
   ]
  },
  {
   "cell_type": "markdown",
   "id": "5aa2de3a-cd0d-4e7b-a3eb-9ce36b7242f4",
   "metadata": {},
   "source": [
    "### Drop multivariate & feature outliers"
   ]
  },
  {
   "cell_type": "code",
   "execution_count": 184,
   "id": "3cb9a9b0-004f-4b87-9e08-31050e99808d",
   "metadata": {},
   "outputs": [
    {
     "name": "stdout",
     "output_type": "stream",
     "text": [
      "Original Dataset Shape: (398, 14)\n",
      "Cleaned Dataset Shape: (375, 14)\n"
     ]
    }
   ],
   "source": [
    "# Drop the combined outliers from the dataset\n",
    "df_scaled_cleaned = df_scaled.drop(index=all_outliers).reset_index(drop=True)\n",
    "\n",
    "# Print new dataset shape\n",
    "print(f\"Original Dataset Shape: {df_scaled.shape}\")\n",
    "print(f\"Cleaned Dataset Shape: {df_scaled_cleaned.shape}\")"
   ]
  },
  {
   "cell_type": "markdown",
   "id": "17abbc4d-525d-45a3-b783-59210b620694",
   "metadata": {},
   "source": [
    "## Encoding categorical features"
   ]
  },
  {
   "cell_type": "code",
   "execution_count": 186,
   "id": "b06ffcf8-fb86-4219-9a72-67d83e94bab3",
   "metadata": {},
   "outputs": [
    {
     "name": "stdout",
     "output_type": "stream",
     "text": [
      "     car brand  car_name_encoded\n",
      "0    chevrolet                 5\n",
      "1        buick                 3\n",
      "2     plymouth                19\n",
      "3          amc                 0\n",
      "4         ford                10\n",
      "..         ...               ...\n",
      "370  chevrolet                 5\n",
      "371       ford                10\n",
      "372      dodge                 8\n",
      "373       ford                10\n",
      "374  chevrolet                 5\n",
      "\n",
      "[375 rows x 2 columns]\n"
     ]
    }
   ],
   "source": [
    "from sklearn.preprocessing import LabelEncoder\n",
    "label_encoder = LabelEncoder()\n",
    "\n",
    "# label encoding to the 'car brand' column\n",
    "df_scaled_cleaned['car_name_encoded'] = label_encoder.fit_transform(df_scaled_cleaned['car brand'])\n",
    "\n",
    "print(df_scaled_cleaned[['car brand', 'car_name_encoded']])"
   ]
  },
  {
   "cell_type": "code",
   "execution_count": 187,
   "id": "f37ed143-86f1-4e78-9025-92bc6add1455",
   "metadata": {},
   "outputs": [
    {
     "name": "stdout",
     "output_type": "stream",
     "text": [
      "Label Encoding Mapping:\n",
      "0: amc\n",
      "1: audi\n",
      "2: bmw\n",
      "3: buick\n",
      "4: cadillac\n",
      "5: chevrolet\n",
      "6: chrysler\n",
      "7: datsun\n",
      "8: dodge\n",
      "9: fiat\n",
      "10: ford\n",
      "11: honda\n",
      "12: mazda\n",
      "13: mercedes\n",
      "14: mercury\n",
      "15: nissan\n",
      "16: oldsmobile\n",
      "17: opel\n",
      "18: peugeot\n",
      "19: plymouth\n",
      "20: pontiac\n",
      "21: renault\n",
      "22: saab\n",
      "23: subaru\n",
      "24: toyota\n",
      "25: triumph\n",
      "26: volkswagen\n",
      "27: volvo\n"
     ]
    }
   ],
   "source": [
    "# Display the mapping of numbers to car brands\n",
    "mapping = dict(zip(label_encoder.classes_, range(len(label_encoder.classes_))))\n",
    "print(\"Label Encoding Mapping:\")\n",
    "for brand, number in mapping.items():\n",
    "    print(f\"{number}: {brand}\")"
   ]
  },
  {
   "cell_type": "markdown",
   "id": "b3772967-3d27-47d9-a802-bcbd4c0b10fc",
   "metadata": {},
   "source": [
    "Note: we now have 28 car brands instead of 30 since one was dropped as an outlier (hi) and an other as a missing mpg value(citroen)"
   ]
  },
  {
   "cell_type": "code",
   "execution_count": 189,
   "id": "35128eba-1d5c-43b7-8afa-e2199bb65cd8",
   "metadata": {},
   "outputs": [],
   "source": [
    "#cleand but not scaled dataset\n",
    "# Define the features that were scaled\n",
    "features_to_unscale = ['mpg', 'cylinders', 'displayments','horsepower' 'weight', 'acceleration', 'model year']\n",
    "\n",
    "# Inverse transform to restore original values\n",
    "df_cleaned = df_scaled_cleaned.copy()\n",
    "df_cleaned[features_to_scale] = scaler.inverse_transform(df_scaled_cleaned[features_to_scale])"
   ]
  },
  {
   "cell_type": "code",
   "execution_count": 190,
   "id": "8f93deed-9822-4d1d-9ac6-c9a68cf4e637",
   "metadata": {},
   "outputs": [
    {
     "data": {
      "text/html": [
       "<div>\n",
       "<style scoped>\n",
       "    .dataframe tbody tr th:only-of-type {\n",
       "        vertical-align: middle;\n",
       "    }\n",
       "\n",
       "    .dataframe tbody tr th {\n",
       "        vertical-align: top;\n",
       "    }\n",
       "\n",
       "    .dataframe thead th {\n",
       "        text-align: right;\n",
       "    }\n",
       "</style>\n",
       "<table border=\"1\" class=\"dataframe\">\n",
       "  <thead>\n",
       "    <tr style=\"text-align: right;\">\n",
       "      <th></th>\n",
       "      <th>mpg</th>\n",
       "      <th>cylinders</th>\n",
       "      <th>displayments</th>\n",
       "      <th>horsepower</th>\n",
       "      <th>weight</th>\n",
       "      <th>acceleration</th>\n",
       "      <th>model year</th>\n",
       "      <th>origin</th>\n",
       "      <th>car name</th>\n",
       "      <th>outlier</th>\n",
       "      <th>car brand</th>\n",
       "      <th>model</th>\n",
       "      <th>anomaly_score</th>\n",
       "      <th>multivariate_outlier</th>\n",
       "      <th>car_name_encoded</th>\n",
       "    </tr>\n",
       "  </thead>\n",
       "  <tbody>\n",
       "    <tr>\n",
       "      <th>0</th>\n",
       "      <td>18.0</td>\n",
       "      <td>8.0</td>\n",
       "      <td>307.0</td>\n",
       "      <td>130.0</td>\n",
       "      <td>3504.0</td>\n",
       "      <td>12.0</td>\n",
       "      <td>70</td>\n",
       "      <td>1</td>\n",
       "      <td>chevrolet chevelle malibu</td>\n",
       "      <td>Normal</td>\n",
       "      <td>chevrolet</td>\n",
       "      <td>chevelle malibu</td>\n",
       "      <td>1</td>\n",
       "      <td>Normal</td>\n",
       "      <td>5</td>\n",
       "    </tr>\n",
       "    <tr>\n",
       "      <th>1</th>\n",
       "      <td>15.0</td>\n",
       "      <td>8.0</td>\n",
       "      <td>350.0</td>\n",
       "      <td>165.0</td>\n",
       "      <td>3693.0</td>\n",
       "      <td>11.5</td>\n",
       "      <td>70</td>\n",
       "      <td>1</td>\n",
       "      <td>buick skylark 320</td>\n",
       "      <td>Normal</td>\n",
       "      <td>buick</td>\n",
       "      <td>skylark 320</td>\n",
       "      <td>1</td>\n",
       "      <td>Normal</td>\n",
       "      <td>3</td>\n",
       "    </tr>\n",
       "    <tr>\n",
       "      <th>2</th>\n",
       "      <td>18.0</td>\n",
       "      <td>8.0</td>\n",
       "      <td>318.0</td>\n",
       "      <td>150.0</td>\n",
       "      <td>3436.0</td>\n",
       "      <td>11.0</td>\n",
       "      <td>70</td>\n",
       "      <td>1</td>\n",
       "      <td>plymouth satellite</td>\n",
       "      <td>Normal</td>\n",
       "      <td>plymouth</td>\n",
       "      <td>satellite</td>\n",
       "      <td>1</td>\n",
       "      <td>Normal</td>\n",
       "      <td>19</td>\n",
       "    </tr>\n",
       "    <tr>\n",
       "      <th>3</th>\n",
       "      <td>16.0</td>\n",
       "      <td>8.0</td>\n",
       "      <td>304.0</td>\n",
       "      <td>150.0</td>\n",
       "      <td>3433.0</td>\n",
       "      <td>12.0</td>\n",
       "      <td>70</td>\n",
       "      <td>1</td>\n",
       "      <td>amc rebel sst</td>\n",
       "      <td>Normal</td>\n",
       "      <td>amc</td>\n",
       "      <td>rebel sst</td>\n",
       "      <td>1</td>\n",
       "      <td>Normal</td>\n",
       "      <td>0</td>\n",
       "    </tr>\n",
       "    <tr>\n",
       "      <th>4</th>\n",
       "      <td>17.0</td>\n",
       "      <td>8.0</td>\n",
       "      <td>302.0</td>\n",
       "      <td>140.0</td>\n",
       "      <td>3449.0</td>\n",
       "      <td>10.5</td>\n",
       "      <td>70</td>\n",
       "      <td>1</td>\n",
       "      <td>ford torino</td>\n",
       "      <td>Normal</td>\n",
       "      <td>ford</td>\n",
       "      <td>torino</td>\n",
       "      <td>1</td>\n",
       "      <td>Normal</td>\n",
       "      <td>10</td>\n",
       "    </tr>\n",
       "    <tr>\n",
       "      <th>...</th>\n",
       "      <td>...</td>\n",
       "      <td>...</td>\n",
       "      <td>...</td>\n",
       "      <td>...</td>\n",
       "      <td>...</td>\n",
       "      <td>...</td>\n",
       "      <td>...</td>\n",
       "      <td>...</td>\n",
       "      <td>...</td>\n",
       "      <td>...</td>\n",
       "      <td>...</td>\n",
       "      <td>...</td>\n",
       "      <td>...</td>\n",
       "      <td>...</td>\n",
       "      <td>...</td>\n",
       "    </tr>\n",
       "    <tr>\n",
       "      <th>370</th>\n",
       "      <td>27.0</td>\n",
       "      <td>4.0</td>\n",
       "      <td>151.0</td>\n",
       "      <td>90.0</td>\n",
       "      <td>2950.0</td>\n",
       "      <td>17.3</td>\n",
       "      <td>82</td>\n",
       "      <td>1</td>\n",
       "      <td>chevrolet camaro</td>\n",
       "      <td>Normal</td>\n",
       "      <td>chevrolet</td>\n",
       "      <td>camaro</td>\n",
       "      <td>1</td>\n",
       "      <td>Normal</td>\n",
       "      <td>5</td>\n",
       "    </tr>\n",
       "    <tr>\n",
       "      <th>371</th>\n",
       "      <td>27.0</td>\n",
       "      <td>4.0</td>\n",
       "      <td>140.0</td>\n",
       "      <td>86.0</td>\n",
       "      <td>2790.0</td>\n",
       "      <td>15.6</td>\n",
       "      <td>82</td>\n",
       "      <td>1</td>\n",
       "      <td>ford mustang gl</td>\n",
       "      <td>Normal</td>\n",
       "      <td>ford</td>\n",
       "      <td>mustang gl</td>\n",
       "      <td>1</td>\n",
       "      <td>Normal</td>\n",
       "      <td>10</td>\n",
       "    </tr>\n",
       "    <tr>\n",
       "      <th>372</th>\n",
       "      <td>32.0</td>\n",
       "      <td>4.0</td>\n",
       "      <td>135.0</td>\n",
       "      <td>84.0</td>\n",
       "      <td>2295.0</td>\n",
       "      <td>11.6</td>\n",
       "      <td>82</td>\n",
       "      <td>1</td>\n",
       "      <td>dodge rampage</td>\n",
       "      <td>Normal</td>\n",
       "      <td>dodge</td>\n",
       "      <td>rampage</td>\n",
       "      <td>1</td>\n",
       "      <td>Normal</td>\n",
       "      <td>8</td>\n",
       "    </tr>\n",
       "    <tr>\n",
       "      <th>373</th>\n",
       "      <td>28.0</td>\n",
       "      <td>4.0</td>\n",
       "      <td>120.0</td>\n",
       "      <td>79.0</td>\n",
       "      <td>2625.0</td>\n",
       "      <td>18.6</td>\n",
       "      <td>82</td>\n",
       "      <td>1</td>\n",
       "      <td>ford ranger</td>\n",
       "      <td>Normal</td>\n",
       "      <td>ford</td>\n",
       "      <td>ranger</td>\n",
       "      <td>1</td>\n",
       "      <td>Normal</td>\n",
       "      <td>10</td>\n",
       "    </tr>\n",
       "    <tr>\n",
       "      <th>374</th>\n",
       "      <td>31.0</td>\n",
       "      <td>4.0</td>\n",
       "      <td>119.0</td>\n",
       "      <td>82.0</td>\n",
       "      <td>2720.0</td>\n",
       "      <td>19.4</td>\n",
       "      <td>82</td>\n",
       "      <td>1</td>\n",
       "      <td>chevy s-10</td>\n",
       "      <td>Normal</td>\n",
       "      <td>chevrolet</td>\n",
       "      <td>s-10</td>\n",
       "      <td>1</td>\n",
       "      <td>Normal</td>\n",
       "      <td>5</td>\n",
       "    </tr>\n",
       "  </tbody>\n",
       "</table>\n",
       "<p>375 rows × 15 columns</p>\n",
       "</div>"
      ],
      "text/plain": [
       "      mpg  cylinders  displayments  horsepower  weight  acceleration  \\\n",
       "0    18.0        8.0         307.0       130.0  3504.0          12.0   \n",
       "1    15.0        8.0         350.0       165.0  3693.0          11.5   \n",
       "2    18.0        8.0         318.0       150.0  3436.0          11.0   \n",
       "3    16.0        8.0         304.0       150.0  3433.0          12.0   \n",
       "4    17.0        8.0         302.0       140.0  3449.0          10.5   \n",
       "..    ...        ...           ...         ...     ...           ...   \n",
       "370  27.0        4.0         151.0        90.0  2950.0          17.3   \n",
       "371  27.0        4.0         140.0        86.0  2790.0          15.6   \n",
       "372  32.0        4.0         135.0        84.0  2295.0          11.6   \n",
       "373  28.0        4.0         120.0        79.0  2625.0          18.6   \n",
       "374  31.0        4.0         119.0        82.0  2720.0          19.4   \n",
       "\n",
       "     model year  origin                   car name outlier  car brand  \\\n",
       "0            70       1  chevrolet chevelle malibu  Normal  chevrolet   \n",
       "1            70       1          buick skylark 320  Normal      buick   \n",
       "2            70       1         plymouth satellite  Normal   plymouth   \n",
       "3            70       1              amc rebel sst  Normal        amc   \n",
       "4            70       1                ford torino  Normal       ford   \n",
       "..          ...     ...                        ...     ...        ...   \n",
       "370          82       1           chevrolet camaro  Normal  chevrolet   \n",
       "371          82       1            ford mustang gl  Normal       ford   \n",
       "372          82       1              dodge rampage  Normal      dodge   \n",
       "373          82       1                ford ranger  Normal       ford   \n",
       "374          82       1                 chevy s-10  Normal  chevrolet   \n",
       "\n",
       "               model  anomaly_score multivariate_outlier  car_name_encoded  \n",
       "0    chevelle malibu              1               Normal                 5  \n",
       "1        skylark 320              1               Normal                 3  \n",
       "2          satellite              1               Normal                19  \n",
       "3          rebel sst              1               Normal                 0  \n",
       "4             torino              1               Normal                10  \n",
       "..               ...            ...                  ...               ...  \n",
       "370           camaro              1               Normal                 5  \n",
       "371       mustang gl              1               Normal                10  \n",
       "372          rampage              1               Normal                 8  \n",
       "373           ranger              1               Normal                10  \n",
       "374             s-10              1               Normal                 5  \n",
       "\n",
       "[375 rows x 15 columns]"
      ]
     },
     "execution_count": 190,
     "metadata": {},
     "output_type": "execute_result"
    }
   ],
   "source": [
    "df_cleaned"
   ]
  },
  {
   "cell_type": "code",
   "execution_count": 191,
   "id": "92c73423-f54a-45ad-8a93-c47cd2df1e0b",
   "metadata": {},
   "outputs": [
    {
     "name": "stdout",
     "output_type": "stream",
     "text": [
      "Quantile thresholds:\n",
      "q1: 19.0\n",
      "q2: 27.0\n",
      "\n",
      "Label distribution:\n",
      "mpg_classes\n",
      "0    129\n",
      "1    127\n",
      "2    119\n",
      "Name: count, dtype: int64\n"
     ]
    }
   ],
   "source": [
    "#sorting by mpg values\n",
    "df_cleaned= df_cleaned.sort_values(by='mpg')\n",
    " \n",
    "#calculating 33.3rd and 66.6th percentiles\n",
    "q1 = df_cleaned['mpg'].quantile(0.333)\n",
    "q2 = df_cleaned['mpg'].quantile(0.666)\n",
    "df_cleaned['mpg_classes'] = pd.qcut(df_cleaned['mpg'], q=[0, 0.333, 0.666, 1], labels=[0, 1, 2])\n",
    " \n",
    "#distribution\n",
    "distribution = df_cleaned['mpg_classes'].value_counts()\n",
    " \n",
    "#results\n",
    "print(\"Quantile thresholds:\")\n",
    "print(f\"q1: {q1}\")\n",
    "print(f\"q2: {q2}\")\n",
    "print(\"\\nLabel distribution:\")\n",
    "print(distribution)"
   ]
  },
  {
   "cell_type": "code",
   "execution_count": 192,
   "id": "89218379-dc8c-4a29-80ac-f063581aaa36",
   "metadata": {},
   "outputs": [],
   "source": [
    "# Save the reverted dataset\n",
    "df_cleaned.to_csv('C:/Users/Katerina/Team2 Project/Team-2-Project/data/df_cleaned.csv', index=False)"
   ]
  },
  {
   "cell_type": "code",
   "execution_count": 193,
   "id": "d6971850-eafb-4ba5-ac3c-ab9e784fa3ab",
   "metadata": {},
   "outputs": [
    {
     "name": "stderr",
     "output_type": "stream",
     "text": [
      "[NbConvertApp] Converting notebook D2.ipynb to script\n",
      "[NbConvertApp] Writing 8874 bytes to D2.py\n"
     ]
    }
   ],
   "source": [
    "!jupyter nbconvert --to script D2.ipynb"
   ]
  }
 ],
 "metadata": {
  "kernelspec": {
   "display_name": "Python [conda env:base] *",
   "language": "python",
   "name": "conda-base-py"
  },
  "language_info": {
   "codemirror_mode": {
    "name": "ipython",
    "version": 3
   },
   "file_extension": ".py",
   "mimetype": "text/x-python",
   "name": "python",
   "nbconvert_exporter": "python",
   "pygments_lexer": "ipython3",
   "version": "3.12.7"
  }
 },
 "nbformat": 4,
 "nbformat_minor": 5
}
