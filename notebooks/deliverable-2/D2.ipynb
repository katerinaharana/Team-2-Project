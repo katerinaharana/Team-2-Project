{
 "cells": [
  {
   "cell_type": "markdown",
   "id": "431b9173-f897-4cc3-ae78-72f29273548f",
   "metadata": {},
   "source": [
    "# *Deliverable 2*: Preprocessing\n",
    "\n",
    "* Import dataset and necessary libraries\n",
    "<br><br>  \n",
    "* Handling missing values\n",
    "  * Drop missing mpg feature values\n",
    "  * Scaling data\n",
    "  * Fill hp missing values creating a custom function\n",
    "  <br><br>  \n",
    "* Handling outliers\n",
    "  * Detect Multivariate outliers using Isolation Forest\n",
    "  * Visualise outliers with 2D PCA\n",
    "  * Drop outliers \n",
    " <br><br>\n",
    "* Encoding categorical features\n",
    "<br><br>   \n",
    "\n"
   ]
  },
  {
   "cell_type": "markdown",
   "id": "e91f634f-05e8-471a-81c5-0b541cbd770f",
   "metadata": {},
   "source": [
    "## Import dataset and libraries"
   ]
  },
  {
   "cell_type": "code",
   "execution_count": 21,
   "id": "ef2437b6-9d2b-4706-9297-d9b8d26beb8c",
   "metadata": {},
   "outputs": [],
   "source": [
    "import pandas as pd\n",
    "import seaborn as sns\n",
    "import matplotlib.pyplot as plt\n",
    "from sklearn.preprocessing import StandardScaler\n",
    "from sklearn.ensemble import IsolationForest\n",
    "import plotly.express as px\n",
    "import os\n",
    "nb_path = os.path.abspath('')\n",
    "file_path = os.path.join(nb_path, '../../data/df_eda.csv')\n",
    "df = pd.read_csv(file_path)"
   ]
  },
  {
   "cell_type": "code",
   "execution_count": 22,
   "id": "e5a191b8-197a-4d0e-8758-7617f578dc6a",
   "metadata": {},
   "outputs": [
    {
     "data": {
      "text/html": [
       "<div>\n",
       "<style scoped>\n",
       "    .dataframe tbody tr th:only-of-type {\n",
       "        vertical-align: middle;\n",
       "    }\n",
       "\n",
       "    .dataframe tbody tr th {\n",
       "        vertical-align: top;\n",
       "    }\n",
       "\n",
       "    .dataframe thead th {\n",
       "        text-align: right;\n",
       "    }\n",
       "</style>\n",
       "<table border=\"1\" class=\"dataframe\">\n",
       "  <thead>\n",
       "    <tr style=\"text-align: right;\">\n",
       "      <th></th>\n",
       "      <th>mpg</th>\n",
       "      <th>cylinders</th>\n",
       "      <th>displayments</th>\n",
       "      <th>horsepower</th>\n",
       "      <th>weight</th>\n",
       "      <th>acceleration</th>\n",
       "      <th>model year</th>\n",
       "      <th>origin</th>\n",
       "      <th>car name</th>\n",
       "      <th>outlier</th>\n",
       "      <th>car brand</th>\n",
       "      <th>model</th>\n",
       "    </tr>\n",
       "  </thead>\n",
       "  <tbody>\n",
       "    <tr>\n",
       "      <th>0</th>\n",
       "      <td>18.0</td>\n",
       "      <td>8</td>\n",
       "      <td>307.0</td>\n",
       "      <td>130.0</td>\n",
       "      <td>3504</td>\n",
       "      <td>12.0</td>\n",
       "      <td>70</td>\n",
       "      <td>1</td>\n",
       "      <td>chevrolet chevelle malibu</td>\n",
       "      <td>Normal</td>\n",
       "      <td>chevrolet</td>\n",
       "      <td>chevelle malibu</td>\n",
       "    </tr>\n",
       "    <tr>\n",
       "      <th>1</th>\n",
       "      <td>15.0</td>\n",
       "      <td>8</td>\n",
       "      <td>350.0</td>\n",
       "      <td>165.0</td>\n",
       "      <td>3693</td>\n",
       "      <td>11.5</td>\n",
       "      <td>70</td>\n",
       "      <td>1</td>\n",
       "      <td>buick skylark 320</td>\n",
       "      <td>Normal</td>\n",
       "      <td>buick</td>\n",
       "      <td>skylark 320</td>\n",
       "    </tr>\n",
       "    <tr>\n",
       "      <th>2</th>\n",
       "      <td>18.0</td>\n",
       "      <td>8</td>\n",
       "      <td>318.0</td>\n",
       "      <td>150.0</td>\n",
       "      <td>3436</td>\n",
       "      <td>11.0</td>\n",
       "      <td>70</td>\n",
       "      <td>1</td>\n",
       "      <td>plymouth satellite</td>\n",
       "      <td>Normal</td>\n",
       "      <td>plymouth</td>\n",
       "      <td>satellite</td>\n",
       "    </tr>\n",
       "    <tr>\n",
       "      <th>3</th>\n",
       "      <td>16.0</td>\n",
       "      <td>8</td>\n",
       "      <td>304.0</td>\n",
       "      <td>150.0</td>\n",
       "      <td>3433</td>\n",
       "      <td>12.0</td>\n",
       "      <td>70</td>\n",
       "      <td>1</td>\n",
       "      <td>amc rebel sst</td>\n",
       "      <td>Normal</td>\n",
       "      <td>amc</td>\n",
       "      <td>rebel sst</td>\n",
       "    </tr>\n",
       "    <tr>\n",
       "      <th>4</th>\n",
       "      <td>17.0</td>\n",
       "      <td>8</td>\n",
       "      <td>302.0</td>\n",
       "      <td>140.0</td>\n",
       "      <td>3449</td>\n",
       "      <td>10.5</td>\n",
       "      <td>70</td>\n",
       "      <td>1</td>\n",
       "      <td>ford torino</td>\n",
       "      <td>Normal</td>\n",
       "      <td>ford</td>\n",
       "      <td>torino</td>\n",
       "    </tr>\n",
       "    <tr>\n",
       "      <th>...</th>\n",
       "      <td>...</td>\n",
       "      <td>...</td>\n",
       "      <td>...</td>\n",
       "      <td>...</td>\n",
       "      <td>...</td>\n",
       "      <td>...</td>\n",
       "      <td>...</td>\n",
       "      <td>...</td>\n",
       "      <td>...</td>\n",
       "      <td>...</td>\n",
       "      <td>...</td>\n",
       "      <td>...</td>\n",
       "    </tr>\n",
       "    <tr>\n",
       "      <th>401</th>\n",
       "      <td>27.0</td>\n",
       "      <td>4</td>\n",
       "      <td>140.0</td>\n",
       "      <td>86.0</td>\n",
       "      <td>2790</td>\n",
       "      <td>15.6</td>\n",
       "      <td>82</td>\n",
       "      <td>1</td>\n",
       "      <td>ford mustang gl</td>\n",
       "      <td>Normal</td>\n",
       "      <td>ford</td>\n",
       "      <td>mustang gl</td>\n",
       "    </tr>\n",
       "    <tr>\n",
       "      <th>402</th>\n",
       "      <td>44.0</td>\n",
       "      <td>4</td>\n",
       "      <td>97.0</td>\n",
       "      <td>52.0</td>\n",
       "      <td>2130</td>\n",
       "      <td>24.6</td>\n",
       "      <td>82</td>\n",
       "      <td>2</td>\n",
       "      <td>vw pickup</td>\n",
       "      <td>Outlier</td>\n",
       "      <td>volkswagen</td>\n",
       "      <td>pickup</td>\n",
       "    </tr>\n",
       "    <tr>\n",
       "      <th>403</th>\n",
       "      <td>32.0</td>\n",
       "      <td>4</td>\n",
       "      <td>135.0</td>\n",
       "      <td>84.0</td>\n",
       "      <td>2295</td>\n",
       "      <td>11.6</td>\n",
       "      <td>82</td>\n",
       "      <td>1</td>\n",
       "      <td>dodge rampage</td>\n",
       "      <td>Normal</td>\n",
       "      <td>dodge</td>\n",
       "      <td>rampage</td>\n",
       "    </tr>\n",
       "    <tr>\n",
       "      <th>404</th>\n",
       "      <td>28.0</td>\n",
       "      <td>4</td>\n",
       "      <td>120.0</td>\n",
       "      <td>79.0</td>\n",
       "      <td>2625</td>\n",
       "      <td>18.6</td>\n",
       "      <td>82</td>\n",
       "      <td>1</td>\n",
       "      <td>ford ranger</td>\n",
       "      <td>Normal</td>\n",
       "      <td>ford</td>\n",
       "      <td>ranger</td>\n",
       "    </tr>\n",
       "    <tr>\n",
       "      <th>405</th>\n",
       "      <td>31.0</td>\n",
       "      <td>4</td>\n",
       "      <td>119.0</td>\n",
       "      <td>82.0</td>\n",
       "      <td>2720</td>\n",
       "      <td>19.4</td>\n",
       "      <td>82</td>\n",
       "      <td>1</td>\n",
       "      <td>chevy s-10</td>\n",
       "      <td>Normal</td>\n",
       "      <td>chevrolet</td>\n",
       "      <td>s-10</td>\n",
       "    </tr>\n",
       "  </tbody>\n",
       "</table>\n",
       "<p>406 rows × 12 columns</p>\n",
       "</div>"
      ],
      "text/plain": [
       "      mpg  cylinders  displayments  horsepower  weight  acceleration  \\\n",
       "0    18.0          8         307.0       130.0    3504          12.0   \n",
       "1    15.0          8         350.0       165.0    3693          11.5   \n",
       "2    18.0          8         318.0       150.0    3436          11.0   \n",
       "3    16.0          8         304.0       150.0    3433          12.0   \n",
       "4    17.0          8         302.0       140.0    3449          10.5   \n",
       "..    ...        ...           ...         ...     ...           ...   \n",
       "401  27.0          4         140.0        86.0    2790          15.6   \n",
       "402  44.0          4          97.0        52.0    2130          24.6   \n",
       "403  32.0          4         135.0        84.0    2295          11.6   \n",
       "404  28.0          4         120.0        79.0    2625          18.6   \n",
       "405  31.0          4         119.0        82.0    2720          19.4   \n",
       "\n",
       "     model year  origin                   car name  outlier   car brand  \\\n",
       "0            70       1  chevrolet chevelle malibu   Normal   chevrolet   \n",
       "1            70       1          buick skylark 320   Normal       buick   \n",
       "2            70       1         plymouth satellite   Normal    plymouth   \n",
       "3            70       1              amc rebel sst   Normal         amc   \n",
       "4            70       1                ford torino   Normal        ford   \n",
       "..          ...     ...                        ...      ...         ...   \n",
       "401          82       1            ford mustang gl   Normal        ford   \n",
       "402          82       2                  vw pickup  Outlier  volkswagen   \n",
       "403          82       1              dodge rampage   Normal       dodge   \n",
       "404          82       1                ford ranger   Normal        ford   \n",
       "405          82       1                 chevy s-10   Normal   chevrolet   \n",
       "\n",
       "               model  \n",
       "0    chevelle malibu  \n",
       "1        skylark 320  \n",
       "2          satellite  \n",
       "3          rebel sst  \n",
       "4             torino  \n",
       "..               ...  \n",
       "401       mustang gl  \n",
       "402           pickup  \n",
       "403          rampage  \n",
       "404           ranger  \n",
       "405             s-10  \n",
       "\n",
       "[406 rows x 12 columns]"
      ]
     },
     "execution_count": 22,
     "metadata": {},
     "output_type": "execute_result"
    }
   ],
   "source": [
    "df"
   ]
  },
  {
   "cell_type": "markdown",
   "id": "0696dc4a-afe2-481d-bc31-b7868c14373d",
   "metadata": {},
   "source": [
    "## Handling missing values & scaling the data "
   ]
  },
  {
   "cell_type": "code",
   "execution_count": 23,
   "id": "7a91c963-a4ef-4dd7-a8db-9e20c0893a63",
   "metadata": {},
   "outputs": [
    {
     "data": {
      "text/plain": [
       "mpg             8\n",
       "cylinders       0\n",
       "displayments    0\n",
       "horsepower      6\n",
       "weight          0\n",
       "acceleration    0\n",
       "model year      0\n",
       "origin          0\n",
       "car name        0\n",
       "outlier         0\n",
       "car brand       0\n",
       "model           2\n",
       "dtype: int64"
      ]
     },
     "execution_count": 23,
     "metadata": {},
     "output_type": "execute_result"
    }
   ],
   "source": [
    "missing_values = df.isnull().sum()\n",
    "missing_values"
   ]
  },
  {
   "cell_type": "markdown",
   "id": "71283a75-add2-4fe0-aabc-3616da71b1de",
   "metadata": {},
   "source": [
    "Missing values for mpg, horsepower and model.\n",
    "Since mpg is the target column, it is better not to be filled with a predicted value.\n",
    "Missing model value is not a concern in regards to our analysis. \n",
    "Horsepower will be filled using a custom function for a more educated guess on predicted value"
   ]
  },
  {
   "cell_type": "markdown",
   "id": "b558582c-b8f0-47bb-b2e6-60d0d5ff0483",
   "metadata": {},
   "source": [
    "### Dropping mpg N/As"
   ]
  },
  {
   "cell_type": "code",
   "execution_count": 24,
   "id": "78d9b571-ce69-4f39-b40e-454c86b9f36b",
   "metadata": {},
   "outputs": [],
   "source": [
    "# Drop rows where 'mpg' is missing\n",
    "df = df.dropna(subset=['mpg'])"
   ]
  },
  {
   "cell_type": "markdown",
   "id": "77aed096-5300-40dc-a70b-11c60591dc69",
   "metadata": {},
   "source": [
    "### Custom function for filling hp N/As <br>\n"
   ]
  },
  {
   "cell_type": "markdown",
   "id": "0300c893-d96e-49e7-a67d-9c7852d45086",
   "metadata": {},
   "source": [
    "For each car with a missing hp value find a similar car and use its hp value. To find the similar car, first scale the data, then for every missing hp car, substract its feature values from all other cars' respective feature values. keep the absolute value of the substraction (distance) and for each car create a score by suming all feature distances. The car with the lowest score is the most similar car to the one in question. Fill the missing hp value with the one of the most similar car  "
   ]
  },
  {
   "cell_type": "code",
   "execution_count": 25,
   "id": "c1dd24dd-8082-49cf-b41d-36cb7a0c59b5",
   "metadata": {},
   "outputs": [
    {
     "data": {
      "text/html": [
       "<div>\n",
       "<style scoped>\n",
       "    .dataframe tbody tr th:only-of-type {\n",
       "        vertical-align: middle;\n",
       "    }\n",
       "\n",
       "    .dataframe tbody tr th {\n",
       "        vertical-align: top;\n",
       "    }\n",
       "\n",
       "    .dataframe thead th {\n",
       "        text-align: right;\n",
       "    }\n",
       "</style>\n",
       "<table border=\"1\" class=\"dataframe\">\n",
       "  <thead>\n",
       "    <tr style=\"text-align: right;\">\n",
       "      <th></th>\n",
       "      <th>mpg</th>\n",
       "      <th>cylinders</th>\n",
       "      <th>displayments</th>\n",
       "      <th>horsepower</th>\n",
       "      <th>weight</th>\n",
       "      <th>acceleration</th>\n",
       "      <th>model year</th>\n",
       "      <th>origin</th>\n",
       "      <th>car name</th>\n",
       "      <th>outlier</th>\n",
       "      <th>car brand</th>\n",
       "      <th>model</th>\n",
       "    </tr>\n",
       "  </thead>\n",
       "  <tbody>\n",
       "    <tr>\n",
       "      <th>38</th>\n",
       "      <td>0.190289</td>\n",
       "      <td>-0.856321</td>\n",
       "      <td>-0.916334</td>\n",
       "      <td>NaN</td>\n",
       "      <td>-1.092988</td>\n",
       "      <td>1.246054</td>\n",
       "      <td>71</td>\n",
       "      <td>1</td>\n",
       "      <td>ford pinto</td>\n",
       "      <td>Normal</td>\n",
       "      <td>ford</td>\n",
       "      <td>pinto</td>\n",
       "    </tr>\n",
       "    <tr>\n",
       "      <th>75</th>\n",
       "      <td>-1.346959</td>\n",
       "      <td>1.498191</td>\n",
       "      <td>1.503514</td>\n",
       "      <td>1.314463</td>\n",
       "      <td>1.810850</td>\n",
       "      <td>-0.750880</td>\n",
       "      <td>72</td>\n",
       "      <td>1</td>\n",
       "      <td>buick lesabre custom</td>\n",
       "      <td>Normal</td>\n",
       "      <td>buick</td>\n",
       "      <td>lesabre custom</td>\n",
       "    </tr>\n",
       "  </tbody>\n",
       "</table>\n",
       "</div>"
      ],
      "text/plain": [
       "         mpg  cylinders  displayments  horsepower    weight  acceleration  \\\n",
       "38  0.190289  -0.856321     -0.916334         NaN -1.092988      1.246054   \n",
       "75 -1.346959   1.498191      1.503514    1.314463  1.810850     -0.750880   \n",
       "\n",
       "    model year  origin              car name outlier car brand           model  \n",
       "38          71       1            ford pinto  Normal      ford           pinto  \n",
       "75          72       1  buick lesabre custom  Normal     buick  lesabre custom  "
      ]
     },
     "execution_count": 25,
     "metadata": {},
     "output_type": "execute_result"
    }
   ],
   "source": [
    "# Scale features \n",
    "scaler = StandardScaler()\n",
    "features_to_scale = ['mpg','cylinders', 'displayments', 'horsepower','weight', 'acceleration']\n",
    "df_scaled = df.copy()\n",
    "df_scaled[features_to_scale] = scaler.fit_transform(df[features_to_scale])\n",
    "df_scaled.head()\n",
    "df_scaled.loc[[38, 75]]"
   ]
  },
  {
   "cell_type": "code",
   "execution_count": 26,
   "id": "7680c6e3-3ccf-44d1-b387-2d859f073aa8",
   "metadata": {},
   "outputs": [
    {
     "name": "stdout",
     "output_type": "stream",
     "text": [
      "Imputed Values for Missing Entries in 'horsepower':\n",
      "Row 38: Imputed Value = -1.1567907473949541 (Based on Similar Car at Row 62)\n",
      "Row 133: Imputed Value = -0.42842135527660774 (Based on Similar Car at Row 373)\n",
      "Row 337: Imputed Value = -1.2088171325462647 (Based on Similar Car at Row 350)\n",
      "Row 343: Imputed Value = -0.16828942952005543 (Based on Similar Car at Row 186)\n",
      "Row 361: Imputed Value = -0.68855328103316 (Based on Similar Car at Row 324)\n",
      "Row 382: Imputed Value = -0.37639497012529727 (Based on Similar Car at Row 322)\n"
     ]
    },
    {
     "data": {
      "text/html": [
       "<div>\n",
       "<style scoped>\n",
       "    .dataframe tbody tr th:only-of-type {\n",
       "        vertical-align: middle;\n",
       "    }\n",
       "\n",
       "    .dataframe tbody tr th {\n",
       "        vertical-align: top;\n",
       "    }\n",
       "\n",
       "    .dataframe thead th {\n",
       "        text-align: right;\n",
       "    }\n",
       "</style>\n",
       "<table border=\"1\" class=\"dataframe\">\n",
       "  <thead>\n",
       "    <tr style=\"text-align: right;\">\n",
       "      <th></th>\n",
       "      <th>mpg</th>\n",
       "      <th>cylinders</th>\n",
       "      <th>displayments</th>\n",
       "      <th>horsepower</th>\n",
       "      <th>weight</th>\n",
       "      <th>acceleration</th>\n",
       "      <th>model year</th>\n",
       "      <th>origin</th>\n",
       "      <th>car name</th>\n",
       "      <th>outlier</th>\n",
       "      <th>car brand</th>\n",
       "      <th>model</th>\n",
       "    </tr>\n",
       "  </thead>\n",
       "  <tbody>\n",
       "    <tr>\n",
       "      <th>0</th>\n",
       "      <td>-0.706439</td>\n",
       "      <td>1.498191</td>\n",
       "      <td>1.090604</td>\n",
       "      <td>0.664133</td>\n",
       "      <td>0.630870</td>\n",
       "      <td>-1.295498</td>\n",
       "      <td>70</td>\n",
       "      <td>1</td>\n",
       "      <td>chevrolet chevelle malibu</td>\n",
       "      <td>Normal</td>\n",
       "      <td>chevrolet</td>\n",
       "      <td>chevelle malibu</td>\n",
       "    </tr>\n",
       "    <tr>\n",
       "      <th>1</th>\n",
       "      <td>-1.090751</td>\n",
       "      <td>1.498191</td>\n",
       "      <td>1.503514</td>\n",
       "      <td>1.574594</td>\n",
       "      <td>0.854333</td>\n",
       "      <td>-1.477038</td>\n",
       "      <td>70</td>\n",
       "      <td>1</td>\n",
       "      <td>buick skylark 320</td>\n",
       "      <td>Normal</td>\n",
       "      <td>buick</td>\n",
       "      <td>skylark 320</td>\n",
       "    </tr>\n",
       "    <tr>\n",
       "      <th>2</th>\n",
       "      <td>-0.706439</td>\n",
       "      <td>1.498191</td>\n",
       "      <td>1.196232</td>\n",
       "      <td>1.184397</td>\n",
       "      <td>0.550470</td>\n",
       "      <td>-1.658577</td>\n",
       "      <td>70</td>\n",
       "      <td>1</td>\n",
       "      <td>plymouth satellite</td>\n",
       "      <td>Normal</td>\n",
       "      <td>plymouth</td>\n",
       "      <td>satellite</td>\n",
       "    </tr>\n",
       "    <tr>\n",
       "      <th>3</th>\n",
       "      <td>-0.962647</td>\n",
       "      <td>1.498191</td>\n",
       "      <td>1.061796</td>\n",
       "      <td>1.184397</td>\n",
       "      <td>0.546923</td>\n",
       "      <td>-1.295498</td>\n",
       "      <td>70</td>\n",
       "      <td>1</td>\n",
       "      <td>amc rebel sst</td>\n",
       "      <td>Normal</td>\n",
       "      <td>amc</td>\n",
       "      <td>rebel sst</td>\n",
       "    </tr>\n",
       "    <tr>\n",
       "      <th>4</th>\n",
       "      <td>-0.834543</td>\n",
       "      <td>1.498191</td>\n",
       "      <td>1.042591</td>\n",
       "      <td>0.924265</td>\n",
       "      <td>0.565841</td>\n",
       "      <td>-1.840117</td>\n",
       "      <td>70</td>\n",
       "      <td>1</td>\n",
       "      <td>ford torino</td>\n",
       "      <td>Normal</td>\n",
       "      <td>ford</td>\n",
       "      <td>torino</td>\n",
       "    </tr>\n",
       "  </tbody>\n",
       "</table>\n",
       "</div>"
      ],
      "text/plain": [
       "        mpg  cylinders  displayments  horsepower    weight  acceleration  \\\n",
       "0 -0.706439   1.498191      1.090604    0.664133  0.630870     -1.295498   \n",
       "1 -1.090751   1.498191      1.503514    1.574594  0.854333     -1.477038   \n",
       "2 -0.706439   1.498191      1.196232    1.184397  0.550470     -1.658577   \n",
       "3 -0.962647   1.498191      1.061796    1.184397  0.546923     -1.295498   \n",
       "4 -0.834543   1.498191      1.042591    0.924265  0.565841     -1.840117   \n",
       "\n",
       "   model year  origin                   car name outlier  car brand  \\\n",
       "0          70       1  chevrolet chevelle malibu  Normal  chevrolet   \n",
       "1          70       1          buick skylark 320  Normal      buick   \n",
       "2          70       1         plymouth satellite  Normal   plymouth   \n",
       "3          70       1              amc rebel sst  Normal        amc   \n",
       "4          70       1                ford torino  Normal       ford   \n",
       "\n",
       "             model  \n",
       "0  chevelle malibu  \n",
       "1      skylark 320  \n",
       "2        satellite  \n",
       "3        rebel sst  \n",
       "4           torino  "
      ]
     },
     "execution_count": 26,
     "metadata": {},
     "output_type": "execute_result"
    }
   ],
   "source": [
    "# Define the function to find the most similar car and impute missing values\n",
    "def similar_car(target_col, features):\n",
    "    \"\"\"\n",
    "    Impute missing values in the target column by finding the most similar car.\n",
    "    \n",
    "    Parameters:\n",
    "        target_col (str): The name of the column to predict \n",
    "        features (list): List of features to use for similarity comparison.\n",
    "    \"\"\"\n",
    "    imputed_values = []  # To store the imputed values and their sources\n",
    "    \n",
    "    for idx, row in df_scaled[df_scaled[target_col].isnull()].iterrows():\n",
    "        # Exclude the row with missing value\n",
    "        others = df_scaled[df_scaled[target_col].notnull()]\n",
    "        \n",
    "        # Compute absolute differences and sum them row-wise \n",
    "        differences = others[features].sub(row[features], axis=1).abs().sum(axis=1)\n",
    "        \n",
    "        # Find the index of the most similar car (minimum difference)\n",
    "        most_similar_idx = differences.idxmin()\n",
    "        \n",
    "        # Assign the target column value from the most similar car\n",
    "        imputed_value = df_scaled.loc[most_similar_idx, target_col]\n",
    "        df_scaled.loc[idx, target_col] = imputed_value\n",
    "        \n",
    "        # Store the imputed value and corresponding similar car\n",
    "        imputed_values.append((idx, imputed_value, most_similar_idx))\n",
    "    \n",
    "    # Display the imputed values\n",
    "    print(\"Imputed Values for Missing Entries in '{}':\".format(target_col))\n",
    "    for idx, value, similar_idx in imputed_values:\n",
    "        print(f\"Row {idx}: Imputed Value = {value} (Based on Similar Car at Row {similar_idx})\")\n",
    "\n",
    "# Perform similar car imputation for 'horsepower' \n",
    "features = ['mpg','cylinders', 'displayments', 'weight', 'acceleration']\n",
    "similar_car(target_col='horsepower', features=features)\n",
    "\n",
    "# Check the updated 'horsepower' column\n",
    "df_scaled[['horsepower']]\n",
    "df_scaled.head()"
   ]
  },
  {
   "cell_type": "code",
   "execution_count": 27,
   "id": "805704ff-9cfc-4d48-b40f-8b410d5a1ba9",
   "metadata": {},
   "outputs": [
    {
     "data": {
      "text/plain": [
       "mpg             0\n",
       "cylinders       0\n",
       "displayments    0\n",
       "horsepower      0\n",
       "weight          0\n",
       "acceleration    0\n",
       "model year      0\n",
       "origin          0\n",
       "car name        0\n",
       "outlier         0\n",
       "car brand       0\n",
       "model           2\n",
       "dtype: int64"
      ]
     },
     "execution_count": 27,
     "metadata": {},
     "output_type": "execute_result"
    }
   ],
   "source": [
    "df_scaled.isnull().sum()"
   ]
  },
  {
   "cell_type": "markdown",
   "id": "63048b29-4907-40ea-9e4c-5a34c6c6575f",
   "metadata": {},
   "source": [
    "## Handling outliers\n",
    "As noticed in the 1st Deliverable there are some outliers considering the range of each feature, although we should consider multivariate outliers"
   ]
  },
  {
   "cell_type": "markdown",
   "id": "b359684d-6cae-4f08-970f-e45ad906bf60",
   "metadata": {},
   "source": [
    "### Isolation Forest: Multivariate outlier detection(based on the combination of all other features)\n",
    "\n",
    "A value might not be an outlier in its own column but could be an outlier in combination with other features. <br>\n",
    "\n",
    "\n"
   ]
  },
  {
   "cell_type": "code",
   "execution_count": 28,
   "id": "1277ef75-4e47-425f-85cf-d75fbbfc9ed2",
   "metadata": {
    "scrolled": true
   },
   "outputs": [
    {
     "name": "stdout",
     "output_type": "stream",
     "text": [
      "multivariate outlier count:\n",
      " multivariate_outlier\n",
      "Normal                  378\n",
      "multivariate_outlier     20\n",
      "Name: count, dtype: int64\n"
     ]
    },
    {
     "data": {
      "application/vnd.plotly.v1+json": {
       "config": {
        "plotlyServerURL": "https://plot.ly"
       },
       "data": [
        {
         "hovertemplate": "multivariate_outlier=Normal<br>Weight=%{x}<br>Displacement=%{y}<br>Miles Per Gallon=%{z}<extra></extra>",
         "legendgroup": "Normal",
         "marker": {
          "color": "blue",
          "symbol": "circle"
         },
         "mode": "markers",
         "name": "Normal",
         "scene": "scene",
         "showlegend": true,
         "type": "scatter3d",
         "x": {
          "bdata": "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",
          "dtype": "f8"
         },
         "y": {
          "bdata": "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",
          "dtype": "f8"
         },
         "z": {
          "bdata": "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",
          "dtype": "f8"
         }
        },
        {
         "hovertemplate": "multivariate_outlier=multivariate_outlier<br>Weight=%{x}<br>Displacement=%{y}<br>Miles Per Gallon=%{z}<extra></extra>",
         "legendgroup": "multivariate_outlier",
         "marker": {
          "color": "#00cc96",
          "symbol": "circle"
         },
         "mode": "markers",
         "name": "multivariate_outlier",
         "scene": "scene",
         "showlegend": true,
         "type": "scatter3d",
         "x": {
          "bdata": "3dJXTX4s+j9fVGCgF2H5Py3HHopWhPs/zksaeL59wT8496JbfBz/P+8I/moJl/o/qKIFMY2pAEABUp9cqHP/P/+wRMVEvgJA41TF29CwAECWda/h2LsCQJo4j54iA/C/c4y8LG+8+D+OOw7hgp3QP5Kf1FB7AuE/n5Ie7ZIK6L8hcebiEUqyvwCr66pI0+S/jsAD5KOM7D9Z3yDnJ8zvvw==",
          "dtype": "f8"
         },
         "y": {
          "bdata": "pU6Z5ncEBECHmZa2JPECQAI3B2oiGARAAjcHaiIYBECh+HtIt5f5P+zB+dwcc/E/u09myB398D+Dnd0Q0RgCQIOd3RDRGAJAh5mWtiTxAkACNwdqIhgEQCt7hnya9vK/2JXUWgC9/z+hLh8rCxzgvzHfPDUBdeQ/H1m05uvH77/CnATjbkDPvyt7hnya9vK/VNHlA2UO+D/m7q6GRaHtvw==",
          "dtype": "f8"
         },
         "z": {
          "bdata": "z8jNrW2A87/PyM2tbYDzv8/Iza1tgPO/z8jNrW2A878GxtywSLP7vwbG3LBIs/u/VIWgcf+//b+4Bhnwkab5v2tHVS/bmfe/HYiRbiSN9b9rR1Uv25n3vzGXfVUlm+a/aJSMWADO7r/8t47XLTfeP10J6p6lR6k/WzHwbRRhBEAsShiauNPyP74bpM30Upg/rbmFot1L2T8mUZF0fv4EQA==",
          "dtype": "f8"
         }
        }
       ],
       "layout": {
        "height": 800,
        "legend": {
         "title": {
          "text": "multivariate_outlier"
         },
         "tracegroupgap": 0
        },
        "scene": {
         "domain": {
          "x": [
           0,
           1
          ],
          "y": [
           0,
           1
          ]
         },
         "xaxis": {
          "title": {
           "text": "Weight"
          }
         },
         "yaxis": {
          "title": {
           "text": "Displacement"
          }
         },
         "zaxis": {
          "title": {
           "text": "Miles Per Gallon"
          }
         }
        },
        "template": {
         "data": {
          "bar": [
           {
            "error_x": {
             "color": "#2a3f5f"
            },
            "error_y": {
             "color": "#2a3f5f"
            },
            "marker": {
             "line": {
              "color": "#E5ECF6",
              "width": 0.5
             },
             "pattern": {
              "fillmode": "overlay",
              "size": 10,
              "solidity": 0.2
             }
            },
            "type": "bar"
           }
          ],
          "barpolar": [
           {
            "marker": {
             "line": {
              "color": "#E5ECF6",
              "width": 0.5
             },
             "pattern": {
              "fillmode": "overlay",
              "size": 10,
              "solidity": 0.2
             }
            },
            "type": "barpolar"
           }
          ],
          "carpet": [
           {
            "aaxis": {
             "endlinecolor": "#2a3f5f",
             "gridcolor": "white",
             "linecolor": "white",
             "minorgridcolor": "white",
             "startlinecolor": "#2a3f5f"
            },
            "baxis": {
             "endlinecolor": "#2a3f5f",
             "gridcolor": "white",
             "linecolor": "white",
             "minorgridcolor": "white",
             "startlinecolor": "#2a3f5f"
            },
            "type": "carpet"
           }
          ],
          "choropleth": [
           {
            "colorbar": {
             "outlinewidth": 0,
             "ticks": ""
            },
            "type": "choropleth"
           }
          ],
          "contour": [
           {
            "colorbar": {
             "outlinewidth": 0,
             "ticks": ""
            },
            "colorscale": [
             [
              0,
              "#0d0887"
             ],
             [
              0.1111111111111111,
              "#46039f"
             ],
             [
              0.2222222222222222,
              "#7201a8"
             ],
             [
              0.3333333333333333,
              "#9c179e"
             ],
             [
              0.4444444444444444,
              "#bd3786"
             ],
             [
              0.5555555555555556,
              "#d8576b"
             ],
             [
              0.6666666666666666,
              "#ed7953"
             ],
             [
              0.7777777777777778,
              "#fb9f3a"
             ],
             [
              0.8888888888888888,
              "#fdca26"
             ],
             [
              1,
              "#f0f921"
             ]
            ],
            "type": "contour"
           }
          ],
          "contourcarpet": [
           {
            "colorbar": {
             "outlinewidth": 0,
             "ticks": ""
            },
            "type": "contourcarpet"
           }
          ],
          "heatmap": [
           {
            "colorbar": {
             "outlinewidth": 0,
             "ticks": ""
            },
            "colorscale": [
             [
              0,
              "#0d0887"
             ],
             [
              0.1111111111111111,
              "#46039f"
             ],
             [
              0.2222222222222222,
              "#7201a8"
             ],
             [
              0.3333333333333333,
              "#9c179e"
             ],
             [
              0.4444444444444444,
              "#bd3786"
             ],
             [
              0.5555555555555556,
              "#d8576b"
             ],
             [
              0.6666666666666666,
              "#ed7953"
             ],
             [
              0.7777777777777778,
              "#fb9f3a"
             ],
             [
              0.8888888888888888,
              "#fdca26"
             ],
             [
              1,
              "#f0f921"
             ]
            ],
            "type": "heatmap"
           }
          ],
          "histogram": [
           {
            "marker": {
             "pattern": {
              "fillmode": "overlay",
              "size": 10,
              "solidity": 0.2
             }
            },
            "type": "histogram"
           }
          ],
          "histogram2d": [
           {
            "colorbar": {
             "outlinewidth": 0,
             "ticks": ""
            },
            "colorscale": [
             [
              0,
              "#0d0887"
             ],
             [
              0.1111111111111111,
              "#46039f"
             ],
             [
              0.2222222222222222,
              "#7201a8"
             ],
             [
              0.3333333333333333,
              "#9c179e"
             ],
             [
              0.4444444444444444,
              "#bd3786"
             ],
             [
              0.5555555555555556,
              "#d8576b"
             ],
             [
              0.6666666666666666,
              "#ed7953"
             ],
             [
              0.7777777777777778,
              "#fb9f3a"
             ],
             [
              0.8888888888888888,
              "#fdca26"
             ],
             [
              1,
              "#f0f921"
             ]
            ],
            "type": "histogram2d"
           }
          ],
          "histogram2dcontour": [
           {
            "colorbar": {
             "outlinewidth": 0,
             "ticks": ""
            },
            "colorscale": [
             [
              0,
              "#0d0887"
             ],
             [
              0.1111111111111111,
              "#46039f"
             ],
             [
              0.2222222222222222,
              "#7201a8"
             ],
             [
              0.3333333333333333,
              "#9c179e"
             ],
             [
              0.4444444444444444,
              "#bd3786"
             ],
             [
              0.5555555555555556,
              "#d8576b"
             ],
             [
              0.6666666666666666,
              "#ed7953"
             ],
             [
              0.7777777777777778,
              "#fb9f3a"
             ],
             [
              0.8888888888888888,
              "#fdca26"
             ],
             [
              1,
              "#f0f921"
             ]
            ],
            "type": "histogram2dcontour"
           }
          ],
          "mesh3d": [
           {
            "colorbar": {
             "outlinewidth": 0,
             "ticks": ""
            },
            "type": "mesh3d"
           }
          ],
          "parcoords": [
           {
            "line": {
             "colorbar": {
              "outlinewidth": 0,
              "ticks": ""
             }
            },
            "type": "parcoords"
           }
          ],
          "pie": [
           {
            "automargin": true,
            "type": "pie"
           }
          ],
          "scatter": [
           {
            "fillpattern": {
             "fillmode": "overlay",
             "size": 10,
             "solidity": 0.2
            },
            "type": "scatter"
           }
          ],
          "scatter3d": [
           {
            "line": {
             "colorbar": {
              "outlinewidth": 0,
              "ticks": ""
             }
            },
            "marker": {
             "colorbar": {
              "outlinewidth": 0,
              "ticks": ""
             }
            },
            "type": "scatter3d"
           }
          ],
          "scattercarpet": [
           {
            "marker": {
             "colorbar": {
              "outlinewidth": 0,
              "ticks": ""
             }
            },
            "type": "scattercarpet"
           }
          ],
          "scattergeo": [
           {
            "marker": {
             "colorbar": {
              "outlinewidth": 0,
              "ticks": ""
             }
            },
            "type": "scattergeo"
           }
          ],
          "scattergl": [
           {
            "marker": {
             "colorbar": {
              "outlinewidth": 0,
              "ticks": ""
             }
            },
            "type": "scattergl"
           }
          ],
          "scattermap": [
           {
            "marker": {
             "colorbar": {
              "outlinewidth": 0,
              "ticks": ""
             }
            },
            "type": "scattermap"
           }
          ],
          "scattermapbox": [
           {
            "marker": {
             "colorbar": {
              "outlinewidth": 0,
              "ticks": ""
             }
            },
            "type": "scattermapbox"
           }
          ],
          "scatterpolar": [
           {
            "marker": {
             "colorbar": {
              "outlinewidth": 0,
              "ticks": ""
             }
            },
            "type": "scatterpolar"
           }
          ],
          "scatterpolargl": [
           {
            "marker": {
             "colorbar": {
              "outlinewidth": 0,
              "ticks": ""
             }
            },
            "type": "scatterpolargl"
           }
          ],
          "scatterternary": [
           {
            "marker": {
             "colorbar": {
              "outlinewidth": 0,
              "ticks": ""
             }
            },
            "type": "scatterternary"
           }
          ],
          "surface": [
           {
            "colorbar": {
             "outlinewidth": 0,
             "ticks": ""
            },
            "colorscale": [
             [
              0,
              "#0d0887"
             ],
             [
              0.1111111111111111,
              "#46039f"
             ],
             [
              0.2222222222222222,
              "#7201a8"
             ],
             [
              0.3333333333333333,
              "#9c179e"
             ],
             [
              0.4444444444444444,
              "#bd3786"
             ],
             [
              0.5555555555555556,
              "#d8576b"
             ],
             [
              0.6666666666666666,
              "#ed7953"
             ],
             [
              0.7777777777777778,
              "#fb9f3a"
             ],
             [
              0.8888888888888888,
              "#fdca26"
             ],
             [
              1,
              "#f0f921"
             ]
            ],
            "type": "surface"
           }
          ],
          "table": [
           {
            "cells": {
             "fill": {
              "color": "#EBF0F8"
             },
             "line": {
              "color": "white"
             }
            },
            "header": {
             "fill": {
              "color": "#C8D4E3"
             },
             "line": {
              "color": "white"
             }
            },
            "type": "table"
           }
          ]
         },
         "layout": {
          "annotationdefaults": {
           "arrowcolor": "#2a3f5f",
           "arrowhead": 0,
           "arrowwidth": 1
          },
          "autotypenumbers": "strict",
          "coloraxis": {
           "colorbar": {
            "outlinewidth": 0,
            "ticks": ""
           }
          },
          "colorscale": {
           "diverging": [
            [
             0,
             "#8e0152"
            ],
            [
             0.1,
             "#c51b7d"
            ],
            [
             0.2,
             "#de77ae"
            ],
            [
             0.3,
             "#f1b6da"
            ],
            [
             0.4,
             "#fde0ef"
            ],
            [
             0.5,
             "#f7f7f7"
            ],
            [
             0.6,
             "#e6f5d0"
            ],
            [
             0.7,
             "#b8e186"
            ],
            [
             0.8,
             "#7fbc41"
            ],
            [
             0.9,
             "#4d9221"
            ],
            [
             1,
             "#276419"
            ]
           ],
           "sequential": [
            [
             0,
             "#0d0887"
            ],
            [
             0.1111111111111111,
             "#46039f"
            ],
            [
             0.2222222222222222,
             "#7201a8"
            ],
            [
             0.3333333333333333,
             "#9c179e"
            ],
            [
             0.4444444444444444,
             "#bd3786"
            ],
            [
             0.5555555555555556,
             "#d8576b"
            ],
            [
             0.6666666666666666,
             "#ed7953"
            ],
            [
             0.7777777777777778,
             "#fb9f3a"
            ],
            [
             0.8888888888888888,
             "#fdca26"
            ],
            [
             1,
             "#f0f921"
            ]
           ],
           "sequentialminus": [
            [
             0,
             "#0d0887"
            ],
            [
             0.1111111111111111,
             "#46039f"
            ],
            [
             0.2222222222222222,
             "#7201a8"
            ],
            [
             0.3333333333333333,
             "#9c179e"
            ],
            [
             0.4444444444444444,
             "#bd3786"
            ],
            [
             0.5555555555555556,
             "#d8576b"
            ],
            [
             0.6666666666666666,
             "#ed7953"
            ],
            [
             0.7777777777777778,
             "#fb9f3a"
            ],
            [
             0.8888888888888888,
             "#fdca26"
            ],
            [
             1,
             "#f0f921"
            ]
           ]
          },
          "colorway": [
           "#636efa",
           "#EF553B",
           "#00cc96",
           "#ab63fa",
           "#FFA15A",
           "#19d3f3",
           "#FF6692",
           "#B6E880",
           "#FF97FF",
           "#FECB52"
          ],
          "font": {
           "color": "#2a3f5f"
          },
          "geo": {
           "bgcolor": "white",
           "lakecolor": "white",
           "landcolor": "#E5ECF6",
           "showlakes": true,
           "showland": true,
           "subunitcolor": "white"
          },
          "hoverlabel": {
           "align": "left"
          },
          "hovermode": "closest",
          "mapbox": {
           "style": "light"
          },
          "paper_bgcolor": "white",
          "plot_bgcolor": "#E5ECF6",
          "polar": {
           "angularaxis": {
            "gridcolor": "white",
            "linecolor": "white",
            "ticks": ""
           },
           "bgcolor": "#E5ECF6",
           "radialaxis": {
            "gridcolor": "white",
            "linecolor": "white",
            "ticks": ""
           }
          },
          "scene": {
           "xaxis": {
            "backgroundcolor": "#E5ECF6",
            "gridcolor": "white",
            "gridwidth": 2,
            "linecolor": "white",
            "showbackground": true,
            "ticks": "",
            "zerolinecolor": "white"
           },
           "yaxis": {
            "backgroundcolor": "#E5ECF6",
            "gridcolor": "white",
            "gridwidth": 2,
            "linecolor": "white",
            "showbackground": true,
            "ticks": "",
            "zerolinecolor": "white"
           },
           "zaxis": {
            "backgroundcolor": "#E5ECF6",
            "gridcolor": "white",
            "gridwidth": 2,
            "linecolor": "white",
            "showbackground": true,
            "ticks": "",
            "zerolinecolor": "white"
           }
          },
          "shapedefaults": {
           "line": {
            "color": "#2a3f5f"
           }
          },
          "ternary": {
           "aaxis": {
            "gridcolor": "white",
            "linecolor": "white",
            "ticks": ""
           },
           "baxis": {
            "gridcolor": "white",
            "linecolor": "white",
            "ticks": ""
           },
           "bgcolor": "#E5ECF6",
           "caxis": {
            "gridcolor": "white",
            "linecolor": "white",
            "ticks": ""
           }
          },
          "title": {
           "x": 0.05
          },
          "xaxis": {
           "automargin": true,
           "gridcolor": "white",
           "linecolor": "white",
           "ticks": "",
           "title": {
            "standoff": 15
           },
           "zerolinecolor": "white",
           "zerolinewidth": 2
          },
          "yaxis": {
           "automargin": true,
           "gridcolor": "white",
           "linecolor": "white",
           "ticks": "",
           "title": {
            "standoff": 15
           },
           "zerolinecolor": "white",
           "zerolinewidth": 2
          }
         }
        },
        "title": {
         "text": "Isolation Forest Outlier Detection for Selected Features"
        },
        "width": 1000
       }
      }
     },
     "metadata": {},
     "output_type": "display_data"
    }
   ],
   "source": [
    "# Define columns to use for outlier detection\n",
    "columns = ['mpg', 'displayments', 'weight', 'cylinders', 'horsepower', 'acceleration']\n",
    "\n",
    "# Fit Isolation Forest\n",
    "iso_forest = IsolationForest(n_estimators=600, contamination=0.05\n",
    "                             , random_state=42)\n",
    "df_scaled[\"anomaly_score\"] = iso_forest.fit_predict(df_scaled[columns])\n",
    "\n",
    "# Mark outliers\n",
    "df_scaled[\"multivariate_outlier\"] = df_scaled[\"anomaly_score\"].map({1: \"Normal\", -1: \"multivariate_outlier\"})\n",
    "\n",
    "# Count outliers\n",
    "outlier_count = df_scaled[\"multivariate_outlier\"].value_counts()\n",
    "print(\"multivariate outlier count:\\n\", outlier_count)\n",
    "\n",
    "# Interactive 3D Scatter Plot (Coloring Outliers in Green)\n",
    "fig = px.scatter_3d(\n",
    "    df_scaled,\n",
    "    x=\"weight\",\n",
    "    y=\"displayments\",\n",
    "    z=\"mpg\",\n",
    "    color=\"multivariate_outlier\",  # Highlighting outliers\n",
    "    color_discrete_map={\"Multivariate_outlier\": \"green\", \"Normal\": \"blue\"},\n",
    "    title=\"Isolation Forest Outlier Detection for Selected Features\",\n",
    "    labels={\"weight\": \"Weight\", \"displayments\": \"Displacement\", \"mpg\": \"Miles Per Gallon\"}\n",
    ")\n",
    "# Adjust the size of the plot\n",
    "fig.update_layout(\n",
    "    width=1000,  # Set the width in pixels\n",
    "    height=800   # Set the height in pixels\n",
    ")\n",
    "fig.show()"
   ]
  },
  {
   "cell_type": "markdown",
   "id": "e4736285-27f3-4dc4-ac81-4951be4645b9",
   "metadata": {},
   "source": [
    "### Visualise mutlivariate outliers by projecting dataset in a 2dimensional space using PCA"
   ]
  },
  {
   "cell_type": "code",
   "execution_count": 29,
   "id": "f6d1c7d9-7935-4581-a499-5cf52e456995",
   "metadata": {},
   "outputs": [
    {
     "data": {
      "text/plain": [
       "<Axes: >"
      ]
     },
     "execution_count": 29,
     "metadata": {},
     "output_type": "execute_result"
    },
    {
     "data": {
      "image/png": "[encoded data removed]",
      "text/plain": [
       "<Figure size 640x480 with 1 Axes>"
      ]
     },
     "metadata": {},
     "output_type": "display_data"
    }
   ],
   "source": [
    "from sklearn.decomposition import PCA\n",
    "pca = PCA(n_components=2)\n",
    "pca_result = pca.fit_transform(df_scaled[columns])\n",
    "sns.scatterplot(x=pca_result[:, 0], y=pca_result[:, 1], hue=df_scaled['multivariate_outlier'])"
   ]
  },
  {
   "cell_type": "code",
   "execution_count": 30,
   "id": "47c029df-2ba1-40fc-98fa-e3bf5aa3bb3d",
   "metadata": {},
   "outputs": [
    {
     "data": {
      "text/html": [
       "<div>\n",
       "<style scoped>\n",
       "    .dataframe tbody tr th:only-of-type {\n",
       "        vertical-align: middle;\n",
       "    }\n",
       "\n",
       "    .dataframe tbody tr th {\n",
       "        vertical-align: top;\n",
       "    }\n",
       "\n",
       "    .dataframe thead th {\n",
       "        text-align: right;\n",
       "    }\n",
       "</style>\n",
       "<table border=\"1\" class=\"dataframe\">\n",
       "  <thead>\n",
       "    <tr style=\"text-align: right;\">\n",
       "      <th></th>\n",
       "      <th>mpg</th>\n",
       "      <th>cylinders</th>\n",
       "      <th>displayments</th>\n",
       "      <th>horsepower</th>\n",
       "      <th>weight</th>\n",
       "      <th>acceleration</th>\n",
       "      <th>model year</th>\n",
       "      <th>origin</th>\n",
       "      <th>car name</th>\n",
       "      <th>outlier</th>\n",
       "      <th>car brand</th>\n",
       "      <th>model</th>\n",
       "      <th>anomaly_score</th>\n",
       "      <th>multivariate_outlier</th>\n",
       "    </tr>\n",
       "  </thead>\n",
       "  <tbody>\n",
       "    <tr>\n",
       "      <th>0</th>\n",
       "      <td>-0.706439</td>\n",
       "      <td>1.498191</td>\n",
       "      <td>1.090604</td>\n",
       "      <td>0.664133</td>\n",
       "      <td>0.630870</td>\n",
       "      <td>-1.295498</td>\n",
       "      <td>70</td>\n",
       "      <td>1</td>\n",
       "      <td>chevrolet chevelle malibu</td>\n",
       "      <td>Normal</td>\n",
       "      <td>chevrolet</td>\n",
       "      <td>chevelle malibu</td>\n",
       "      <td>1</td>\n",
       "      <td>Normal</td>\n",
       "    </tr>\n",
       "    <tr>\n",
       "      <th>1</th>\n",
       "      <td>-1.090751</td>\n",
       "      <td>1.498191</td>\n",
       "      <td>1.503514</td>\n",
       "      <td>1.574594</td>\n",
       "      <td>0.854333</td>\n",
       "      <td>-1.477038</td>\n",
       "      <td>70</td>\n",
       "      <td>1</td>\n",
       "      <td>buick skylark 320</td>\n",
       "      <td>Normal</td>\n",
       "      <td>buick</td>\n",
       "      <td>skylark 320</td>\n",
       "      <td>1</td>\n",
       "      <td>Normal</td>\n",
       "    </tr>\n",
       "    <tr>\n",
       "      <th>2</th>\n",
       "      <td>-0.706439</td>\n",
       "      <td>1.498191</td>\n",
       "      <td>1.196232</td>\n",
       "      <td>1.184397</td>\n",
       "      <td>0.550470</td>\n",
       "      <td>-1.658577</td>\n",
       "      <td>70</td>\n",
       "      <td>1</td>\n",
       "      <td>plymouth satellite</td>\n",
       "      <td>Normal</td>\n",
       "      <td>plymouth</td>\n",
       "      <td>satellite</td>\n",
       "      <td>1</td>\n",
       "      <td>Normal</td>\n",
       "    </tr>\n",
       "    <tr>\n",
       "      <th>3</th>\n",
       "      <td>-0.962647</td>\n",
       "      <td>1.498191</td>\n",
       "      <td>1.061796</td>\n",
       "      <td>1.184397</td>\n",
       "      <td>0.546923</td>\n",
       "      <td>-1.295498</td>\n",
       "      <td>70</td>\n",
       "      <td>1</td>\n",
       "      <td>amc rebel sst</td>\n",
       "      <td>Normal</td>\n",
       "      <td>amc</td>\n",
       "      <td>rebel sst</td>\n",
       "      <td>1</td>\n",
       "      <td>Normal</td>\n",
       "    </tr>\n",
       "    <tr>\n",
       "      <th>4</th>\n",
       "      <td>-0.834543</td>\n",
       "      <td>1.498191</td>\n",
       "      <td>1.042591</td>\n",
       "      <td>0.924265</td>\n",
       "      <td>0.565841</td>\n",
       "      <td>-1.840117</td>\n",
       "      <td>70</td>\n",
       "      <td>1</td>\n",
       "      <td>ford torino</td>\n",
       "      <td>Normal</td>\n",
       "      <td>ford</td>\n",
       "      <td>torino</td>\n",
       "      <td>1</td>\n",
       "      <td>Normal</td>\n",
       "    </tr>\n",
       "    <tr>\n",
       "      <th>...</th>\n",
       "      <td>...</td>\n",
       "      <td>...</td>\n",
       "      <td>...</td>\n",
       "      <td>...</td>\n",
       "      <td>...</td>\n",
       "      <td>...</td>\n",
       "      <td>...</td>\n",
       "      <td>...</td>\n",
       "      <td>...</td>\n",
       "      <td>...</td>\n",
       "      <td>...</td>\n",
       "      <td>...</td>\n",
       "      <td>...</td>\n",
       "      <td>...</td>\n",
       "    </tr>\n",
       "    <tr>\n",
       "      <th>401</th>\n",
       "      <td>0.446497</td>\n",
       "      <td>-0.856321</td>\n",
       "      <td>-0.513026</td>\n",
       "      <td>-0.480448</td>\n",
       "      <td>-0.213324</td>\n",
       "      <td>0.011586</td>\n",
       "      <td>82</td>\n",
       "      <td>1</td>\n",
       "      <td>ford mustang gl</td>\n",
       "      <td>Normal</td>\n",
       "      <td>ford</td>\n",
       "      <td>mustang gl</td>\n",
       "      <td>1</td>\n",
       "      <td>Normal</td>\n",
       "    </tr>\n",
       "    <tr>\n",
       "      <th>402</th>\n",
       "      <td>2.624265</td>\n",
       "      <td>-0.856321</td>\n",
       "      <td>-0.925936</td>\n",
       "      <td>-1.364896</td>\n",
       "      <td>-0.993671</td>\n",
       "      <td>3.279296</td>\n",
       "      <td>82</td>\n",
       "      <td>2</td>\n",
       "      <td>vw pickup</td>\n",
       "      <td>Outlier</td>\n",
       "      <td>volkswagen</td>\n",
       "      <td>pickup</td>\n",
       "      <td>-1</td>\n",
       "      <td>multivariate_outlier</td>\n",
       "    </tr>\n",
       "    <tr>\n",
       "      <th>403</th>\n",
       "      <td>1.087017</td>\n",
       "      <td>-0.856321</td>\n",
       "      <td>-0.561039</td>\n",
       "      <td>-0.532474</td>\n",
       "      <td>-0.798585</td>\n",
       "      <td>-1.440730</td>\n",
       "      <td>82</td>\n",
       "      <td>1</td>\n",
       "      <td>dodge rampage</td>\n",
       "      <td>Normal</td>\n",
       "      <td>dodge</td>\n",
       "      <td>rampage</td>\n",
       "      <td>1</td>\n",
       "      <td>Normal</td>\n",
       "    </tr>\n",
       "    <tr>\n",
       "      <th>404</th>\n",
       "      <td>0.574601</td>\n",
       "      <td>-0.856321</td>\n",
       "      <td>-0.705077</td>\n",
       "      <td>-0.662540</td>\n",
       "      <td>-0.408411</td>\n",
       "      <td>1.100822</td>\n",
       "      <td>82</td>\n",
       "      <td>1</td>\n",
       "      <td>ford ranger</td>\n",
       "      <td>Normal</td>\n",
       "      <td>ford</td>\n",
       "      <td>ranger</td>\n",
       "      <td>1</td>\n",
       "      <td>Normal</td>\n",
       "    </tr>\n",
       "    <tr>\n",
       "      <th>405</th>\n",
       "      <td>0.958913</td>\n",
       "      <td>-0.856321</td>\n",
       "      <td>-0.714680</td>\n",
       "      <td>-0.584501</td>\n",
       "      <td>-0.296088</td>\n",
       "      <td>1.391285</td>\n",
       "      <td>82</td>\n",
       "      <td>1</td>\n",
       "      <td>chevy s-10</td>\n",
       "      <td>Normal</td>\n",
       "      <td>chevrolet</td>\n",
       "      <td>s-10</td>\n",
       "      <td>1</td>\n",
       "      <td>Normal</td>\n",
       "    </tr>\n",
       "  </tbody>\n",
       "</table>\n",
       "<p>398 rows × 14 columns</p>\n",
       "</div>"
      ],
      "text/plain": [
       "          mpg  cylinders  displayments  horsepower    weight  acceleration  \\\n",
       "0   -0.706439   1.498191      1.090604    0.664133  0.630870     -1.295498   \n",
       "1   -1.090751   1.498191      1.503514    1.574594  0.854333     -1.477038   \n",
       "2   -0.706439   1.498191      1.196232    1.184397  0.550470     -1.658577   \n",
       "3   -0.962647   1.498191      1.061796    1.184397  0.546923     -1.295498   \n",
       "4   -0.834543   1.498191      1.042591    0.924265  0.565841     -1.840117   \n",
       "..        ...        ...           ...         ...       ...           ...   \n",
       "401  0.446497  -0.856321     -0.513026   -0.480448 -0.213324      0.011586   \n",
       "402  2.624265  -0.856321     -0.925936   -1.364896 -0.993671      3.279296   \n",
       "403  1.087017  -0.856321     -0.561039   -0.532474 -0.798585     -1.440730   \n",
       "404  0.574601  -0.856321     -0.705077   -0.662540 -0.408411      1.100822   \n",
       "405  0.958913  -0.856321     -0.714680   -0.584501 -0.296088      1.391285   \n",
       "\n",
       "     model year  origin                   car name  outlier   car brand  \\\n",
       "0            70       1  chevrolet chevelle malibu   Normal   chevrolet   \n",
       "1            70       1          buick skylark 320   Normal       buick   \n",
       "2            70       1         plymouth satellite   Normal    plymouth   \n",
       "3            70       1              amc rebel sst   Normal         amc   \n",
       "4            70       1                ford torino   Normal        ford   \n",
       "..          ...     ...                        ...      ...         ...   \n",
       "401          82       1            ford mustang gl   Normal        ford   \n",
       "402          82       2                  vw pickup  Outlier  volkswagen   \n",
       "403          82       1              dodge rampage   Normal       dodge   \n",
       "404          82       1                ford ranger   Normal        ford   \n",
       "405          82       1                 chevy s-10   Normal   chevrolet   \n",
       "\n",
       "               model  anomaly_score  multivariate_outlier  \n",
       "0    chevelle malibu              1                Normal  \n",
       "1        skylark 320              1                Normal  \n",
       "2          satellite              1                Normal  \n",
       "3          rebel sst              1                Normal  \n",
       "4             torino              1                Normal  \n",
       "..               ...            ...                   ...  \n",
       "401       mustang gl              1                Normal  \n",
       "402           pickup             -1  multivariate_outlier  \n",
       "403          rampage              1                Normal  \n",
       "404           ranger              1                Normal  \n",
       "405             s-10              1                Normal  \n",
       "\n",
       "[398 rows x 14 columns]"
      ]
     },
     "execution_count": 30,
     "metadata": {},
     "output_type": "execute_result"
    }
   ],
   "source": [
    "df_scaled"
   ]
  },
  {
   "cell_type": "code",
   "execution_count": 31,
   "id": "2e578c81-1a93-4f38-ae71-8a2f020a7cdb",
   "metadata": {},
   "outputs": [
    {
     "name": "stdout",
     "output_type": "stream",
     "text": [
      "Total Multivariate Outliers: 20\n",
      "Total Feature Outliers: 14\n",
      "Total Unique Outliers to Remove: 23\n",
      "Indices of multivariate outliers: [6, 7, 8, 19, 31, 32, 34, 74, 97, 101, 102, 118, 123, 306, 307, 333, 340, 341, 372, 402]\n",
      "Indices of outliers: [6, 7, 8, 16, 19, 31, 66, 101, 102, 123, 306, 329, 333, 402]\n"
     ]
    }
   ],
   "source": [
    "# Get indices of multivariate outliers and compare them to feature outliers\n",
    "multivariate_outliers = df_scaled[df_scaled['anomaly_score'] == -1].index.tolist()\n",
    "outliers=df_scaled[df_scaled['outlier'] == \"Outlier\"].index.tolist()\n",
    "all_outliers = list(set(multivariate_outliers + outliers))\n",
    "\n",
    "# Print the number of outliers found\n",
    "print(f\"Total Multivariate Outliers: {len(multivariate_outliers)}\")\n",
    "print(f\"Total Feature Outliers: {len(outliers)}\")\n",
    "print(f\"Total Unique Outliers to Remove: {len(all_outliers)}\")\n",
    "\n",
    "# Print or use the list of outlier indices if needed\n",
    "print(\"Indices of multivariate outliers:\", multivariate_outliers)\n",
    "print (\"Indices of outliers:\", outliers)"
   ]
  },
  {
   "cell_type": "markdown",
   "id": "5aa2de3a-cd0d-4e7b-a3eb-9ce36b7242f4",
   "metadata": {},
   "source": [
    "### Drop multivariate & feature outliers"
   ]
  },
  {
   "cell_type": "code",
   "execution_count": 32,
   "id": "3cb9a9b0-004f-4b87-9e08-31050e99808d",
   "metadata": {},
   "outputs": [
    {
     "name": "stdout",
     "output_type": "stream",
     "text": [
      "Original Dataset Shape: (398, 14)\n",
      "Cleaned Dataset Shape: (375, 14)\n"
     ]
    }
   ],
   "source": [
    "# Drop the combined outliers from the dataset\n",
    "df_scaled_cleaned = df_scaled.drop(index=all_outliers).reset_index(drop=True)\n",
    "\n",
    "# Print new dataset shape\n",
    "print(f\"Original Dataset Shape: {df_scaled.shape}\")\n",
    "print(f\"Cleaned Dataset Shape: {df_scaled_cleaned.shape}\")"
   ]
  },
  {
   "cell_type": "markdown",
   "id": "17abbc4d-525d-45a3-b783-59210b620694",
   "metadata": {},
   "source": [
    "## Encoding categorical features"
   ]
  },
  {
   "cell_type": "code",
   "execution_count": 33,
   "id": "b06ffcf8-fb86-4219-9a72-67d83e94bab3",
   "metadata": {},
   "outputs": [
    {
     "name": "stdout",
     "output_type": "stream",
     "text": [
      "     car brand  car_name_encoded\n",
      "0    chevrolet                 5\n",
      "1        buick                 3\n",
      "2     plymouth                19\n",
      "3          amc                 0\n",
      "4         ford                10\n",
      "..         ...               ...\n",
      "370  chevrolet                 5\n",
      "371       ford                10\n",
      "372      dodge                 8\n",
      "373       ford                10\n",
      "374  chevrolet                 5\n",
      "\n",
      "[375 rows x 2 columns]\n"
     ]
    }
   ],
   "source": [
    "from sklearn.preprocessing import LabelEncoder\n",
    "label_encoder = LabelEncoder()\n",
    "\n",
    "# label encoding to the 'car brand' column\n",
    "df_scaled_cleaned['car_name_encoded'] = label_encoder.fit_transform(df_scaled_cleaned['car brand'])\n",
    "\n",
    "print(df_scaled_cleaned[['car brand', 'car_name_encoded']])"
   ]
  },
  {
   "cell_type": "code",
   "execution_count": 34,
   "id": "f37ed143-86f1-4e78-9025-92bc6add1455",
   "metadata": {},
   "outputs": [
    {
     "name": "stdout",
     "output_type": "stream",
     "text": [
      "Label Encoding Mapping:\n",
      "0: amc\n",
      "1: audi\n",
      "2: bmw\n",
      "3: buick\n",
      "4: cadillac\n",
      "5: chevrolet\n",
      "6: chrysler\n",
      "7: datsun\n",
      "8: dodge\n",
      "9: fiat\n",
      "10: ford\n",
      "11: honda\n",
      "12: mazda\n",
      "13: mercedes\n",
      "14: mercury\n",
      "15: nissan\n",
      "16: oldsmobile\n",
      "17: opel\n",
      "18: peugeot\n",
      "19: plymouth\n",
      "20: pontiac\n",
      "21: renault\n",
      "22: saab\n",
      "23: subaru\n",
      "24: toyota\n",
      "25: triumph\n",
      "26: volkswagen\n",
      "27: volvo\n"
     ]
    }
   ],
   "source": [
    "# Display the mapping of numbers to car brands\n",
    "mapping = dict(zip(label_encoder.classes_, range(len(label_encoder.classes_))))\n",
    "print(\"Label Encoding Mapping:\")\n",
    "for brand, number in mapping.items():\n",
    "    print(f\"{number}: {brand}\")"
   ]
  },
  {
   "cell_type": "markdown",
   "id": "b3772967-3d27-47d9-a802-bcbd4c0b10fc",
   "metadata": {},
   "source": [
    "Note: we now have 28 car brands instead of 30 since one was dropped as an outlier (hi) and an other as a missing mpg value(citroen)"
   ]
  },
  {
   "cell_type": "code",
   "execution_count": 35,
   "id": "35128eba-1d5c-43b7-8afa-e2199bb65cd8",
   "metadata": {},
   "outputs": [],
   "source": [
    "#cleand but not scaled dataset\n",
    "# Define the features that were scaled\n",
    "features_to_unscale = ['mpg', 'cylinders', 'displayments','horsepower' 'weight', 'acceleration', 'model year']\n",
    "\n",
    "# Inverse transform to restore original values\n",
    "df_cleaned = df_scaled_cleaned.copy()\n",
    "df_cleaned[features_to_scale] = scaler.inverse_transform(df_scaled_cleaned[features_to_scale])"
   ]
  },
  {
   "cell_type": "code",
   "execution_count": 36,
   "id": "8f93deed-9822-4d1d-9ac6-c9a68cf4e637",
   "metadata": {},
   "outputs": [
    {
     "data": {
      "text/html": [
       "<div>\n",
       "<style scoped>\n",
       "    .dataframe tbody tr th:only-of-type {\n",
       "        vertical-align: middle;\n",
       "    }\n",
       "\n",
       "    .dataframe tbody tr th {\n",
       "        vertical-align: top;\n",
       "    }\n",
       "\n",
       "    .dataframe thead th {\n",
       "        text-align: right;\n",
       "    }\n",
       "</style>\n",
       "<table border=\"1\" class=\"dataframe\">\n",
       "  <thead>\n",
       "    <tr style=\"text-align: right;\">\n",
       "      <th></th>\n",
       "      <th>mpg</th>\n",
       "      <th>cylinders</th>\n",
       "      <th>displayments</th>\n",
       "      <th>horsepower</th>\n",
       "      <th>weight</th>\n",
       "      <th>acceleration</th>\n",
       "      <th>model year</th>\n",
       "      <th>origin</th>\n",
       "      <th>car name</th>\n",
       "      <th>outlier</th>\n",
       "      <th>car brand</th>\n",
       "      <th>model</th>\n",
       "      <th>anomaly_score</th>\n",
       "      <th>multivariate_outlier</th>\n",
       "      <th>car_name_encoded</th>\n",
       "    </tr>\n",
       "  </thead>\n",
       "  <tbody>\n",
       "    <tr>\n",
       "      <th>0</th>\n",
       "      <td>18.0</td>\n",
       "      <td>8.0</td>\n",
       "      <td>307.0</td>\n",
       "      <td>130.0</td>\n",
       "      <td>3504.0</td>\n",
       "      <td>12.0</td>\n",
       "      <td>70</td>\n",
       "      <td>1</td>\n",
       "      <td>chevrolet chevelle malibu</td>\n",
       "      <td>Normal</td>\n",
       "      <td>chevrolet</td>\n",
       "      <td>chevelle malibu</td>\n",
       "      <td>1</td>\n",
       "      <td>Normal</td>\n",
       "      <td>5</td>\n",
       "    </tr>\n",
       "    <tr>\n",
       "      <th>1</th>\n",
       "      <td>15.0</td>\n",
       "      <td>8.0</td>\n",
       "      <td>350.0</td>\n",
       "      <td>165.0</td>\n",
       "      <td>3693.0</td>\n",
       "      <td>11.5</td>\n",
       "      <td>70</td>\n",
       "      <td>1</td>\n",
       "      <td>buick skylark 320</td>\n",
       "      <td>Normal</td>\n",
       "      <td>buick</td>\n",
       "      <td>skylark 320</td>\n",
       "      <td>1</td>\n",
       "      <td>Normal</td>\n",
       "      <td>3</td>\n",
       "    </tr>\n",
       "    <tr>\n",
       "      <th>2</th>\n",
       "      <td>18.0</td>\n",
       "      <td>8.0</td>\n",
       "      <td>318.0</td>\n",
       "      <td>150.0</td>\n",
       "      <td>3436.0</td>\n",
       "      <td>11.0</td>\n",
       "      <td>70</td>\n",
       "      <td>1</td>\n",
       "      <td>plymouth satellite</td>\n",
       "      <td>Normal</td>\n",
       "      <td>plymouth</td>\n",
       "      <td>satellite</td>\n",
       "      <td>1</td>\n",
       "      <td>Normal</td>\n",
       "      <td>19</td>\n",
       "    </tr>\n",
       "    <tr>\n",
       "      <th>3</th>\n",
       "      <td>16.0</td>\n",
       "      <td>8.0</td>\n",
       "      <td>304.0</td>\n",
       "      <td>150.0</td>\n",
       "      <td>3433.0</td>\n",
       "      <td>12.0</td>\n",
       "      <td>70</td>\n",
       "      <td>1</td>\n",
       "      <td>amc rebel sst</td>\n",
       "      <td>Normal</td>\n",
       "      <td>amc</td>\n",
       "      <td>rebel sst</td>\n",
       "      <td>1</td>\n",
       "      <td>Normal</td>\n",
       "      <td>0</td>\n",
       "    </tr>\n",
       "    <tr>\n",
       "      <th>4</th>\n",
       "      <td>17.0</td>\n",
       "      <td>8.0</td>\n",
       "      <td>302.0</td>\n",
       "      <td>140.0</td>\n",
       "      <td>3449.0</td>\n",
       "      <td>10.5</td>\n",
       "      <td>70</td>\n",
       "      <td>1</td>\n",
       "      <td>ford torino</td>\n",
       "      <td>Normal</td>\n",
       "      <td>ford</td>\n",
       "      <td>torino</td>\n",
       "      <td>1</td>\n",
       "      <td>Normal</td>\n",
       "      <td>10</td>\n",
       "    </tr>\n",
       "    <tr>\n",
       "      <th>...</th>\n",
       "      <td>...</td>\n",
       "      <td>...</td>\n",
       "      <td>...</td>\n",
       "      <td>...</td>\n",
       "      <td>...</td>\n",
       "      <td>...</td>\n",
       "      <td>...</td>\n",
       "      <td>...</td>\n",
       "      <td>...</td>\n",
       "      <td>...</td>\n",
       "      <td>...</td>\n",
       "      <td>...</td>\n",
       "      <td>...</td>\n",
       "      <td>...</td>\n",
       "      <td>...</td>\n",
       "    </tr>\n",
       "    <tr>\n",
       "      <th>370</th>\n",
       "      <td>27.0</td>\n",
       "      <td>4.0</td>\n",
       "      <td>151.0</td>\n",
       "      <td>90.0</td>\n",
       "      <td>2950.0</td>\n",
       "      <td>17.3</td>\n",
       "      <td>82</td>\n",
       "      <td>1</td>\n",
       "      <td>chevrolet camaro</td>\n",
       "      <td>Normal</td>\n",
       "      <td>chevrolet</td>\n",
       "      <td>camaro</td>\n",
       "      <td>1</td>\n",
       "      <td>Normal</td>\n",
       "      <td>5</td>\n",
       "    </tr>\n",
       "    <tr>\n",
       "      <th>371</th>\n",
       "      <td>27.0</td>\n",
       "      <td>4.0</td>\n",
       "      <td>140.0</td>\n",
       "      <td>86.0</td>\n",
       "      <td>2790.0</td>\n",
       "      <td>15.6</td>\n",
       "      <td>82</td>\n",
       "      <td>1</td>\n",
       "      <td>ford mustang gl</td>\n",
       "      <td>Normal</td>\n",
       "      <td>ford</td>\n",
       "      <td>mustang gl</td>\n",
       "      <td>1</td>\n",
       "      <td>Normal</td>\n",
       "      <td>10</td>\n",
       "    </tr>\n",
       "    <tr>\n",
       "      <th>372</th>\n",
       "      <td>32.0</td>\n",
       "      <td>4.0</td>\n",
       "      <td>135.0</td>\n",
       "      <td>84.0</td>\n",
       "      <td>2295.0</td>\n",
       "      <td>11.6</td>\n",
       "      <td>82</td>\n",
       "      <td>1</td>\n",
       "      <td>dodge rampage</td>\n",
       "      <td>Normal</td>\n",
       "      <td>dodge</td>\n",
       "      <td>rampage</td>\n",
       "      <td>1</td>\n",
       "      <td>Normal</td>\n",
       "      <td>8</td>\n",
       "    </tr>\n",
       "    <tr>\n",
       "      <th>373</th>\n",
       "      <td>28.0</td>\n",
       "      <td>4.0</td>\n",
       "      <td>120.0</td>\n",
       "      <td>79.0</td>\n",
       "      <td>2625.0</td>\n",
       "      <td>18.6</td>\n",
       "      <td>82</td>\n",
       "      <td>1</td>\n",
       "      <td>ford ranger</td>\n",
       "      <td>Normal</td>\n",
       "      <td>ford</td>\n",
       "      <td>ranger</td>\n",
       "      <td>1</td>\n",
       "      <td>Normal</td>\n",
       "      <td>10</td>\n",
       "    </tr>\n",
       "    <tr>\n",
       "      <th>374</th>\n",
       "      <td>31.0</td>\n",
       "      <td>4.0</td>\n",
       "      <td>119.0</td>\n",
       "      <td>82.0</td>\n",
       "      <td>2720.0</td>\n",
       "      <td>19.4</td>\n",
       "      <td>82</td>\n",
       "      <td>1</td>\n",
       "      <td>chevy s-10</td>\n",
       "      <td>Normal</td>\n",
       "      <td>chevrolet</td>\n",
       "      <td>s-10</td>\n",
       "      <td>1</td>\n",
       "      <td>Normal</td>\n",
       "      <td>5</td>\n",
       "    </tr>\n",
       "  </tbody>\n",
       "</table>\n",
       "<p>375 rows × 15 columns</p>\n",
       "</div>"
      ],
      "text/plain": [
       "      mpg  cylinders  displayments  horsepower  weight  acceleration  \\\n",
       "0    18.0        8.0         307.0       130.0  3504.0          12.0   \n",
       "1    15.0        8.0         350.0       165.0  3693.0          11.5   \n",
       "2    18.0        8.0         318.0       150.0  3436.0          11.0   \n",
       "3    16.0        8.0         304.0       150.0  3433.0          12.0   \n",
       "4    17.0        8.0         302.0       140.0  3449.0          10.5   \n",
       "..    ...        ...           ...         ...     ...           ...   \n",
       "370  27.0        4.0         151.0        90.0  2950.0          17.3   \n",
       "371  27.0        4.0         140.0        86.0  2790.0          15.6   \n",
       "372  32.0        4.0         135.0        84.0  2295.0          11.6   \n",
       "373  28.0        4.0         120.0        79.0  2625.0          18.6   \n",
       "374  31.0        4.0         119.0        82.0  2720.0          19.4   \n",
       "\n",
       "     model year  origin                   car name outlier  car brand  \\\n",
       "0            70       1  chevrolet chevelle malibu  Normal  chevrolet   \n",
       "1            70       1          buick skylark 320  Normal      buick   \n",
       "2            70       1         plymouth satellite  Normal   plymouth   \n",
       "3            70       1              amc rebel sst  Normal        amc   \n",
       "4            70       1                ford torino  Normal       ford   \n",
       "..          ...     ...                        ...     ...        ...   \n",
       "370          82       1           chevrolet camaro  Normal  chevrolet   \n",
       "371          82       1            ford mustang gl  Normal       ford   \n",
       "372          82       1              dodge rampage  Normal      dodge   \n",
       "373          82       1                ford ranger  Normal       ford   \n",
       "374          82       1                 chevy s-10  Normal  chevrolet   \n",
       "\n",
       "               model  anomaly_score multivariate_outlier  car_name_encoded  \n",
       "0    chevelle malibu              1               Normal                 5  \n",
       "1        skylark 320              1               Normal                 3  \n",
       "2          satellite              1               Normal                19  \n",
       "3          rebel sst              1               Normal                 0  \n",
       "4             torino              1               Normal                10  \n",
       "..               ...            ...                  ...               ...  \n",
       "370           camaro              1               Normal                 5  \n",
       "371       mustang gl              1               Normal                10  \n",
       "372          rampage              1               Normal                 8  \n",
       "373           ranger              1               Normal                10  \n",
       "374             s-10              1               Normal                 5  \n",
       "\n",
       "[375 rows x 15 columns]"
      ]
     },
     "execution_count": 36,
     "metadata": {},
     "output_type": "execute_result"
    }
   ],
   "source": [
    "df_cleaned"
   ]
  },
  {
   "cell_type": "code",
   "execution_count": 37,
   "id": "92c73423-f54a-45ad-8a93-c47cd2df1e0b",
   "metadata": {},
   "outputs": [
    {
     "name": "stdout",
     "output_type": "stream",
     "text": [
      "Quantile thresholds:\n",
      "q1: 19.0\n",
      "q2: 27.0\n",
      "\n",
      "Label distribution:\n",
      "mpg_classes\n",
      "0    129\n",
      "1    127\n",
      "2    119\n",
      "Name: count, dtype: int64\n"
     ]
    }
   ],
   "source": [
    "#sorting by mpg values\n",
    "df_cleaned= df_cleaned.sort_values(by='mpg')\n",
    " \n",
    "#calculating 33.3rd and 66.6th percentiles\n",
    "q1 = df_cleaned['mpg'].quantile(0.333)\n",
    "q2 = df_cleaned['mpg'].quantile(0.666)\n",
    "df_cleaned['mpg_classes'] = pd.qcut(df_cleaned['mpg'], q=[0, 0.333, 0.666, 1], labels=[0, 1, 2])\n",
    " \n",
    "#distribution\n",
    "distribution = df_cleaned['mpg_classes'].value_counts()\n",
    " \n",
    "#results\n",
    "print(\"Quantile thresholds:\")\n",
    "print(f\"q1: {q1}\")\n",
    "print(f\"q2: {q2}\")\n",
    "print(\"\\nLabel distribution:\")\n",
    "print(distribution)"
   ]
  },
  {
   "cell_type": "code",
   "execution_count": 38,
   "id": "89218379-dc8c-4a29-80ac-f063581aaa36",
   "metadata": {},
   "outputs": [],
   "source": [
    "# Save the reverted dataset\n",
    "df_cleaned.to_csv(os.path.join(nb_path, '../../data/df_cleaned.csv'))"
   ]
  },
  {
   "cell_type": "code",
   "execution_count": 39,
   "id": "d6971850-eafb-4ba5-ac3c-ab9e784fa3ab",
   "metadata": {},
   "outputs": [
    {
     "name": "stdout",
     "output_type": "stream",
     "text": [
      "[NbConvertApp] Converting notebook D2.ipynb to script\n",
      "[NbConvertApp] Writing 8850 bytes to D2.py\n"
     ]
    }
   ],
   "source": [
    "!jupyter nbconvert --to script D2.ipynb"
   ]
  }
 ],
 "metadata": {
  "kernelspec": {
   "display_name": "venv",
   "language": "python",
   "name": "python3"
  },
  "language_info": {
   "codemirror_mode": {
    "name": "ipython",
    "version": 3
   },
   "file_extension": ".py",
   "mimetype": "text/x-python",
   "name": "python",
   "nbconvert_exporter": "python",
   "pygments_lexer": "ipython3",
   "version": "3.11.11"
  }
 },
 "nbformat": 4,
 "nbformat_minor": 5
}
