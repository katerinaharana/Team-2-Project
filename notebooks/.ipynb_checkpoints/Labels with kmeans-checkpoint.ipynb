{
 "cells": [
  {
   "cell_type": "code",
   "execution_count": 121,
   "id": "6a3900ec-9525-487f-9cb3-e3f2e7b33070",
   "metadata": {},
   "outputs": [],
   "source": [
    "import pandas as pd\n",
    "import numpy as np\n",
    "from sklearn.impute import SimpleImputer\n",
    "from sklearn.preprocessing import StandardScaler\n",
    "from sklearn.decomposition import PCA\n",
    "from sklearn.cluster import KMeans\n",
    "import matplotlib.pyplot as plt\n",
    "import seaborn as sns"
   ]
  },
  {
   "cell_type": "code",
   "execution_count": 122,
   "id": "20c6eb21-724d-4294-add2-4e513c941087",
   "metadata": {},
   "outputs": [],
   "source": [
    "file_path = 'C:/Users/Katerina/Team2 Project/df_cleaned.csv'\n",
    "df = pd.read_csv(file_path)"
   ]
  },
  {
   "cell_type": "code",
   "execution_count": 123,
   "id": "d24422ee-3937-4c2c-a175-a680cb48698f",
   "metadata": {},
   "outputs": [
    {
     "data": {
      "text/html": [
       "<div>\n",
       "<style scoped>\n",
       "    .dataframe tbody tr th:only-of-type {\n",
       "        vertical-align: middle;\n",
       "    }\n",
       "\n",
       "    .dataframe tbody tr th {\n",
       "        vertical-align: top;\n",
       "    }\n",
       "\n",
       "    .dataframe thead th {\n",
       "        text-align: right;\n",
       "    }\n",
       "</style>\n",
       "<table border=\"1\" class=\"dataframe\">\n",
       "  <thead>\n",
       "    <tr style=\"text-align: right;\">\n",
       "      <th></th>\n",
       "      <th>mpg</th>\n",
       "      <th>cylinders</th>\n",
       "      <th>displayments</th>\n",
       "      <th>horsepower</th>\n",
       "      <th>weight</th>\n",
       "      <th>acceleration</th>\n",
       "      <th>model year</th>\n",
       "      <th>origin</th>\n",
       "      <th>car name</th>\n",
       "      <th>outlier</th>\n",
       "      <th>car brand</th>\n",
       "      <th>model</th>\n",
       "      <th>anomaly_score</th>\n",
       "      <th>multivariate_outlier</th>\n",
       "      <th>car_name_encoded</th>\n",
       "    </tr>\n",
       "  </thead>\n",
       "  <tbody>\n",
       "    <tr>\n",
       "      <th>0</th>\n",
       "      <td>18.0</td>\n",
       "      <td>8.0</td>\n",
       "      <td>307.0</td>\n",
       "      <td>130.0</td>\n",
       "      <td>3504.0</td>\n",
       "      <td>12.0</td>\n",
       "      <td>70.0</td>\n",
       "      <td>1</td>\n",
       "      <td>chevrolet chevelle malibu</td>\n",
       "      <td>Normal</td>\n",
       "      <td>chevrolet</td>\n",
       "      <td>chevelle malibu</td>\n",
       "      <td>1</td>\n",
       "      <td>Normal</td>\n",
       "      <td>5</td>\n",
       "    </tr>\n",
       "    <tr>\n",
       "      <th>1</th>\n",
       "      <td>15.0</td>\n",
       "      <td>8.0</td>\n",
       "      <td>350.0</td>\n",
       "      <td>165.0</td>\n",
       "      <td>3693.0</td>\n",
       "      <td>11.5</td>\n",
       "      <td>70.0</td>\n",
       "      <td>1</td>\n",
       "      <td>buick skylark 320</td>\n",
       "      <td>Normal</td>\n",
       "      <td>buick</td>\n",
       "      <td>skylark 320</td>\n",
       "      <td>1</td>\n",
       "      <td>Normal</td>\n",
       "      <td>3</td>\n",
       "    </tr>\n",
       "    <tr>\n",
       "      <th>2</th>\n",
       "      <td>18.0</td>\n",
       "      <td>8.0</td>\n",
       "      <td>318.0</td>\n",
       "      <td>150.0</td>\n",
       "      <td>3436.0</td>\n",
       "      <td>11.0</td>\n",
       "      <td>70.0</td>\n",
       "      <td>1</td>\n",
       "      <td>plymouth satellite</td>\n",
       "      <td>Normal</td>\n",
       "      <td>plymouth</td>\n",
       "      <td>satellite</td>\n",
       "      <td>1</td>\n",
       "      <td>Normal</td>\n",
       "      <td>19</td>\n",
       "    </tr>\n",
       "    <tr>\n",
       "      <th>3</th>\n",
       "      <td>16.0</td>\n",
       "      <td>8.0</td>\n",
       "      <td>304.0</td>\n",
       "      <td>150.0</td>\n",
       "      <td>3433.0</td>\n",
       "      <td>12.0</td>\n",
       "      <td>70.0</td>\n",
       "      <td>1</td>\n",
       "      <td>amc rebel sst</td>\n",
       "      <td>Normal</td>\n",
       "      <td>amc</td>\n",
       "      <td>rebel sst</td>\n",
       "      <td>1</td>\n",
       "      <td>Normal</td>\n",
       "      <td>0</td>\n",
       "    </tr>\n",
       "    <tr>\n",
       "      <th>4</th>\n",
       "      <td>17.0</td>\n",
       "      <td>8.0</td>\n",
       "      <td>302.0</td>\n",
       "      <td>140.0</td>\n",
       "      <td>3449.0</td>\n",
       "      <td>10.5</td>\n",
       "      <td>70.0</td>\n",
       "      <td>1</td>\n",
       "      <td>ford torino</td>\n",
       "      <td>Normal</td>\n",
       "      <td>ford</td>\n",
       "      <td>torino</td>\n",
       "      <td>1</td>\n",
       "      <td>Normal</td>\n",
       "      <td>10</td>\n",
       "    </tr>\n",
       "    <tr>\n",
       "      <th>...</th>\n",
       "      <td>...</td>\n",
       "      <td>...</td>\n",
       "      <td>...</td>\n",
       "      <td>...</td>\n",
       "      <td>...</td>\n",
       "      <td>...</td>\n",
       "      <td>...</td>\n",
       "      <td>...</td>\n",
       "      <td>...</td>\n",
       "      <td>...</td>\n",
       "      <td>...</td>\n",
       "      <td>...</td>\n",
       "      <td>...</td>\n",
       "      <td>...</td>\n",
       "      <td>...</td>\n",
       "    </tr>\n",
       "    <tr>\n",
       "      <th>371</th>\n",
       "      <td>27.0</td>\n",
       "      <td>4.0</td>\n",
       "      <td>151.0</td>\n",
       "      <td>90.0</td>\n",
       "      <td>2950.0</td>\n",
       "      <td>17.3</td>\n",
       "      <td>82.0</td>\n",
       "      <td>1</td>\n",
       "      <td>chevrolet camaro</td>\n",
       "      <td>Normal</td>\n",
       "      <td>chevrolet</td>\n",
       "      <td>camaro</td>\n",
       "      <td>1</td>\n",
       "      <td>Normal</td>\n",
       "      <td>5</td>\n",
       "    </tr>\n",
       "    <tr>\n",
       "      <th>372</th>\n",
       "      <td>27.0</td>\n",
       "      <td>4.0</td>\n",
       "      <td>140.0</td>\n",
       "      <td>86.0</td>\n",
       "      <td>2790.0</td>\n",
       "      <td>15.6</td>\n",
       "      <td>82.0</td>\n",
       "      <td>1</td>\n",
       "      <td>ford mustang gl</td>\n",
       "      <td>Normal</td>\n",
       "      <td>ford</td>\n",
       "      <td>mustang gl</td>\n",
       "      <td>1</td>\n",
       "      <td>Normal</td>\n",
       "      <td>10</td>\n",
       "    </tr>\n",
       "    <tr>\n",
       "      <th>373</th>\n",
       "      <td>32.0</td>\n",
       "      <td>4.0</td>\n",
       "      <td>135.0</td>\n",
       "      <td>84.0</td>\n",
       "      <td>2295.0</td>\n",
       "      <td>11.6</td>\n",
       "      <td>82.0</td>\n",
       "      <td>1</td>\n",
       "      <td>dodge rampage</td>\n",
       "      <td>Normal</td>\n",
       "      <td>dodge</td>\n",
       "      <td>rampage</td>\n",
       "      <td>1</td>\n",
       "      <td>Normal</td>\n",
       "      <td>8</td>\n",
       "    </tr>\n",
       "    <tr>\n",
       "      <th>374</th>\n",
       "      <td>28.0</td>\n",
       "      <td>4.0</td>\n",
       "      <td>120.0</td>\n",
       "      <td>79.0</td>\n",
       "      <td>2625.0</td>\n",
       "      <td>18.6</td>\n",
       "      <td>82.0</td>\n",
       "      <td>1</td>\n",
       "      <td>ford ranger</td>\n",
       "      <td>Normal</td>\n",
       "      <td>ford</td>\n",
       "      <td>ranger</td>\n",
       "      <td>1</td>\n",
       "      <td>Normal</td>\n",
       "      <td>10</td>\n",
       "    </tr>\n",
       "    <tr>\n",
       "      <th>375</th>\n",
       "      <td>31.0</td>\n",
       "      <td>4.0</td>\n",
       "      <td>119.0</td>\n",
       "      <td>82.0</td>\n",
       "      <td>2720.0</td>\n",
       "      <td>19.4</td>\n",
       "      <td>82.0</td>\n",
       "      <td>1</td>\n",
       "      <td>chevy s-10</td>\n",
       "      <td>Normal</td>\n",
       "      <td>chevrolet</td>\n",
       "      <td>s-10</td>\n",
       "      <td>1</td>\n",
       "      <td>Normal</td>\n",
       "      <td>5</td>\n",
       "    </tr>\n",
       "  </tbody>\n",
       "</table>\n",
       "<p>376 rows × 15 columns</p>\n",
       "</div>"
      ],
      "text/plain": [
       "      mpg  cylinders  displayments  horsepower  weight  acceleration  \\\n",
       "0    18.0        8.0         307.0       130.0  3504.0          12.0   \n",
       "1    15.0        8.0         350.0       165.0  3693.0          11.5   \n",
       "2    18.0        8.0         318.0       150.0  3436.0          11.0   \n",
       "3    16.0        8.0         304.0       150.0  3433.0          12.0   \n",
       "4    17.0        8.0         302.0       140.0  3449.0          10.5   \n",
       "..    ...        ...           ...         ...     ...           ...   \n",
       "371  27.0        4.0         151.0        90.0  2950.0          17.3   \n",
       "372  27.0        4.0         140.0        86.0  2790.0          15.6   \n",
       "373  32.0        4.0         135.0        84.0  2295.0          11.6   \n",
       "374  28.0        4.0         120.0        79.0  2625.0          18.6   \n",
       "375  31.0        4.0         119.0        82.0  2720.0          19.4   \n",
       "\n",
       "     model year  origin                   car name outlier  car brand  \\\n",
       "0          70.0       1  chevrolet chevelle malibu  Normal  chevrolet   \n",
       "1          70.0       1          buick skylark 320  Normal      buick   \n",
       "2          70.0       1         plymouth satellite  Normal   plymouth   \n",
       "3          70.0       1              amc rebel sst  Normal        amc   \n",
       "4          70.0       1                ford torino  Normal       ford   \n",
       "..          ...     ...                        ...     ...        ...   \n",
       "371        82.0       1           chevrolet camaro  Normal  chevrolet   \n",
       "372        82.0       1            ford mustang gl  Normal       ford   \n",
       "373        82.0       1              dodge rampage  Normal      dodge   \n",
       "374        82.0       1                ford ranger  Normal       ford   \n",
       "375        82.0       1                 chevy s-10  Normal  chevrolet   \n",
       "\n",
       "               model  anomaly_score multivariate_outlier  car_name_encoded  \n",
       "0    chevelle malibu              1               Normal                 5  \n",
       "1        skylark 320              1               Normal                 3  \n",
       "2          satellite              1               Normal                19  \n",
       "3          rebel sst              1               Normal                 0  \n",
       "4             torino              1               Normal                10  \n",
       "..               ...            ...                  ...               ...  \n",
       "371           camaro              1               Normal                 5  \n",
       "372       mustang gl              1               Normal                10  \n",
       "373          rampage              1               Normal                 8  \n",
       "374           ranger              1               Normal                10  \n",
       "375             s-10              1               Normal                 5  \n",
       "\n",
       "[376 rows x 15 columns]"
      ]
     },
     "execution_count": 123,
     "metadata": {},
     "output_type": "execute_result"
    }
   ],
   "source": [
    "df"
   ]
  },
  {
   "cell_type": "code",
   "execution_count": 124,
   "id": "57617fcf-aebb-47db-9b64-25d1147bc92e",
   "metadata": {},
   "outputs": [
    {
     "data": {
      "image/png": "[encoded data removed]",
      "text/plain": [
       "<Figure size 800x600 with 1 Axes>"
      ]
     },
     "metadata": {},
     "output_type": "display_data"
    },
    {
     "name": "stdout",
     "output_type": "stream",
     "text": [
      "Component 1: 80.16% cumulative explained variance\n",
      "Component 2: 92.70% cumulative explained variance\n",
      "Component 3: 96.58% cumulative explained variance\n",
      "Component 4: 98.53% cumulative explained variance\n",
      "Component 5: 99.49% cumulative explained variance\n",
      "Component 6: 100.00% cumulative explained variance\n"
     ]
    }
   ],
   "source": [
    "from sklearn.decomposition import PCA\n",
    "import matplotlib.pyplot as plt\n",
    "\n",
    "\n",
    "# Selecting numerical features excluding categorical/text columns\n",
    "numerical_features = ['cylinders', 'displayments', 'horsepower', 'weight','acceleration','mpg']\n",
    "\n",
    "\n",
    "# Extract the numerical columns from the dataframe\n",
    "X = df[numerical_features]\n",
    "\n",
    "# Step 4: Scale the features using StandardScaler\n",
    "scaler = StandardScaler()\n",
    "X_scaled = scaler.fit_transform(X)\n",
    "\n",
    "# Perform PCA\n",
    "pca = PCA()\n",
    "pca_result = pca.fit_transform(X_scaled)\n",
    "\n",
    "# Calculate explained variance ratio for each component\n",
    "explained_variance_ratio = pca.explained_variance_ratio_\n",
    "\n",
    "# Elbow Method: Plot cumulative explained variance\n",
    "cumulative_variance = explained_variance_ratio.cumsum()\n",
    "plt.figure(figsize=(8, 6))\n",
    "plt.plot(range(1, len(cumulative_variance) + 1), cumulative_variance, marker='o', linestyle='--')\n",
    "plt.title('Explained Variance by Components (Elbow Method)')\n",
    "plt.xlabel('Number of Principal Components')\n",
    "plt.ylabel('Cumulative Explained Variance')\n",
    "plt.grid()\n",
    "plt.show()\n",
    "\n",
    "# Display explained variance ratios for the components\n",
    "for i, var in enumerate(cumulative_variance, 1):\n",
    "    print(f\"Component {i}: {var:.2%} cumulative explained variance\")\n"
   ]
  },
  {
   "cell_type": "code",
   "execution_count": 125,
   "id": "72f47e90-b60d-44ef-a2c3-4665bd2c100c",
   "metadata": {},
   "outputs": [
    {
     "data": {
      "application/vnd.plotly.v1+json": {
       "config": {
        "plotlyServerURL": "https://plot.ly"
       },
       "data": [
        {
         "hovertemplate": "PC1=%{x}<br>PC2=%{y}<br>PC3=%{z}<extra></extra>",
         "legendgroup": "",
         "marker": {
          "color": "#636efa",
          "opacity": 0.7,
          "size": 3,
          "symbol": "circle"
         },
         "mode": "markers",
         "name": "",
         "scene": "scene",
         "showlegend": false,
         "type": "scatter3d",
         "x": [
          2.6094300089322586,
          3.572337825823646,
          2.996146102570465,
          2.9232208167803835,
          2.9098381151418953,
          4.869380855562328,
          4.499979722545976,
          3.8879320503600723,
          3.866312250176728,
          3.866150184817678,
          -1.0206784715334016,
          0.17881705071173815,
          0.38858598605225897,
          -0.07539726791426166,
          -1.4126483292696264,
          -2.739069001414088,
          -1.3154688782713282,
          -1.0256768813252866,
          -1.3951856591067333,
          -0.645903427127411,
          0.13017769654873962,
          4.358366880691867,
          -1.4126483292696264,
          -1.2870044696329987,
          -1.035989672678606,
          -2.2195102287777324,
          0.7334609812930579,
          1.0655099044588843,
          1.0033724668550879,
          0.7282300762036584,
          0.8476518865802104,
          3.8400529786869297,
          4.38717552172807,
          3.490234320746925,
          3.327798504151617,
          4.738739458729247,
          4.466791208619029,
          4.739130926428618,
          1.1497820352505823,
          -1.52512471662442,
          0.9300008453052283,
          0.8080867589218855,
          -1.0110726928614386,
          -1.3003361714512924,
          -2.480524660464959,
          -1.8011576410454717,
          -2.736183765407593,
          -2.8612271726587535,
          -2.44083043783438,
          -2.39156071338558,
          -1.1267149856842367,
          -1.693881478233605,
          -2.59614296218373,
          -1.242865517474579,
          -1.1854691006306493,
          3.9268612878803713,
          4.289036531186978,
          3.239200992455954,
          3.5336171475937954,
          3.053014352274185,
          3.7474713528384886,
          3.840736084980156,
          4.499251723093437,
          3.160925379926643,
          2.958919013515093,
          2.9430757445347826,
          3.2047042418530562,
          -0.09635425615477877,
          -1.3919646144432283,
          -1.1243669162744572,
          -1.9759598256075932,
          -1.0925306753156503,
          -1.612855140318835,
          -0.7833237172523901,
          -1.6031848434885592,
          -1.6546248412748845,
          3.851955476935116,
          3.2107714729278447,
          3.403598714687069,
          2.888508880999672,
          3.1638041613629637,
          4.058725374114545,
          3.774302320450673,
          3.232399127493877,
          3.9765476186113404,
          0.6798202577703315,
          0.746379762484299,
          0.6105164805076344,
          0.5197781084061324,
          0.10706758938352762,
          -2.735066686602498,
          4.218340662030763,
          4.508132942548206,
          4.124043867292993,
          4.236058775695614,
          0.6414729673591885,
          -1.4750079423222882,
          -1.53276988695419,
          -1.1170895728836496,
          -1.2752326389648165,
          0.1719173734263517,
          -1.3715859416229692,
          3.3479184488723552,
          -2.859331867203088,
          -1.435896180393988,
          -0.6340675975909887,
          -0.29625329774110576,
          3.1344226649867575,
          -0.5250173000271163,
          0.656651228375767,
          4.018651766893778,
          0.3125266554893576,
          0.09294064832058055,
          0.5347647043678339,
          0.942593293052746,
          -2.580790054923145,
          -1.4078124980996563,
          -2.9817813379169955,
          -1.347210302982404,
          1.124300786590581,
          1.0988012078202427,
          0.9388590321699161,
          2.9309453478475116,
          3.6732033328599063,
          3.4613202061629993,
          3.0716065791003455,
          3.0664119641362957,
          -1.7575102037971853,
          -1.9151994366635017,
          -1.400353550128635,
          -2.6648258755002674,
          -2.6652270491663246,
          -1.6683148291631211,
          -1.580013260775503,
          -1.325099357063271,
          -0.9014053170910954,
          -1.2210032686732473,
          -2.215192779045343,
          0.6292734468411211,
          1.027584696052195,
          0.17734516768572944,
          0.20271983500374485,
          4.324512331391147,
          3.423315279965346,
          3.264644624534306,
          3.6901665147999942,
          0.7294087733167901,
          1.0806369682435952,
          1.089893336562234,
          0.6168942765921056,
          0.7406069739187386,
          1.722159388352792,
          2.660348588522849,
          -1.8346043310116127,
          -1.0871312802804334,
          0.4890235179450583,
          -1.346411050507285,
          -0.5691775403311224,
          -1.7370604971731707,
          -1.1026331553369926,
          0.48538912409284607,
          -1.8282355634203427,
          0.4550932645889915,
          -0.7894983346200201,
          -0.9454149141569074,
          -0.4820937382541126,
          -0.4503680257410876,
          -2.72528224828117,
          -1.3831278658692283,
          -1.536288097849249,
          -0.873271185692745,
          -1.768426383479866,
          -1.5119890531048215,
          3.0177100211978063,
          3.272118238336903,
          2.6237720253511663,
          3.56224195646056,
          0.5879473144900502,
          0.9310688002611243,
          -0.24225486958206974,
          0.13684965273547903,
          -2.960267874384699,
          -2.4816714600234198,
          -1.8508537098989197,
          -2.713973175041881,
          0.6530877016803698,
          0.17222898773003342,
          1.141501086552487,
          0.6167123100125181,
          -1.6652404240872671,
          -2.320012605847406,
          -1.8356789422679403,
          -1.0684096955680118,
          -0.3120057481332008,
          3.275631819016261,
          -1.1244216826871885,
          0.3661004906255291,
          1.0405632534330278,
          3.9820057003683145,
          3.5519650525368087,
          2.7031336142382667,
          3.0877564419151176,
          -2.4014615026483446,
          -1.6315806241037492,
          -2.9811115689252072,
          -1.1402567374228645,
          -2.3999655905248893,
          2.962775457770306,
          1.690591378210893,
          3.1280244027446873,
          2.8330344426511798,
          1.1056559502106014,
          0.6903589457116032,
          0.6946168755112823,
          0.6059114125896748,
          4.263672114524618,
          3.8707608862009115,
          4.350644022923579,
          3.315350481347575,
          -1.7476512374161368,
          -0.8850092739469287,
          -1.8761556736679097,
          -0.9439347688459452,
          -2.2409787853908925,
          -2.00210767199548,
          -2.134192579870662,
          -1.6496681112900884,
          0.07280599047232178,
          -0.2894342483832442,
          -0.7526980043087451,
          -3.6781540775934456,
          -2.3346358761963977,
          -2.901477819767243,
          -2.8479718827030855,
          -2.6704082893967382,
          1.5679917977026765,
          2.7013542769679737,
          2.532182239527552,
          0.5565268532960036,
          0.130945063606605,
          0.18830703903749235,
          -0.9090713677564363,
          0.5669833665843161,
          0.41091433378261033,
          0.7858076098260914,
          0.1102566210213674,
          0.7270916054530427,
          1.329247193198501,
          2.554658027229328,
          2.0227236917670344,
          2.6313843213099744,
          2.9263647968762805,
          -2.0384863043976247,
          -0.9201338701397149,
          -1.139791618489735,
          -1.6975737898125998,
          -0.6751323563435365,
          -0.6498730197411626,
          -1.0075356285445225,
          -0.9335942669810825,
          -0.2398385228179002,
          1.0490763897448148,
          -0.4550900384240763,
          1.0883377252200137,
          -2.025127748435332,
          -2.034032555674295,
          0.8424352494201114,
          -0.048913896602039625,
          -0.8871985124490782,
          0.28471262245114126,
          0.7225203204734434,
          2.4453508313329175,
          2.552862186638354,
          3.0932291670498304,
          2.5233952123117143,
          3.30929684713312,
          3.1254572022547773,
          2.01411506067736,
          3.199307964962856,
          -1.9786029743444444,
          -2.295144431664676,
          -2.071339238985628,
          -1.201023006049616,
          -0.7163417066601748,
          2.0742178941610376,
          -1.8047818153006874,
          -2.039136851133104,
          -2.607398126175684,
          -2.2506947973873523,
          -1.1009894019113582,
          0.3172387959010733,
          0.2967477031097665,
          -1.1125436357565495,
          -2.3416131763200805,
          -2.96760611968598,
          -2.0282938724875716,
          -2.570702932623006,
          -1.1322884727621165,
          -1.2038025280697127,
          -1.1737349823592178,
          0.315372485187546,
          -2.042801045667262,
          -1.1734953080738488,
          -1.8256548546148939,
          -1.683405652422841,
          -1.8130797815386335,
          -3.1867330326946908,
          -0.6079595710258663,
          -3.0332843464782018,
          -3.7112249149351966,
          -1.856865425148646,
          -2.7061684782703352,
          -3.059315795189929,
          -2.4307231860233176,
          -2.1741276437048542,
          -1.5931213013289096,
          -0.3877366785654848,
          -2.0574670220725295,
          -1.2490947200920317,
          -1.1478766947581105,
          -0.7610349238020762,
          0.4524721972359032,
          -1.1349633139369046,
          -2.988728125378219,
          -2.754153051200804,
          -2.650260041785316,
          -2.3713466051365426,
          -2.9271545192831683,
          -2.707803370212102,
          -2.3187608352271187,
          -2.1062887269255843,
          -2.3327902267061074,
          -2.4286848142093342,
          -1.808116237043677,
          -1.9702285944689264,
          -1.8349738041233823,
          -1.9597894609556152,
          -1.2460523665701688,
          -1.8959181257462243,
          -1.4630728422966033,
          -1.056911823379451,
          0.4999225387788109,
          0.3953598782468622,
          0.7744789901836242,
          0.1302455950513121,
          0.6110696180936718,
          -1.7239515996685002,
          -1.53984760530166,
          -1.9690859996836096,
          -1.5519341360020311,
          -1.3592486571126916,
          -1.219328274749867,
          -0.836056616220532,
          -1.1337618059989998,
          -2.2008384938659185,
          -2.6989989334973554,
          -2.344587839323365,
          -2.304588554824493,
          -2.434308939774609,
          -1.765924027138252,
          -1.9698625110670573,
          -2.1754164281387194,
          -2.434264010695714,
          -2.1979132820634146,
          -2.55417784234769,
          0.09592289291768953,
          -0.5762137242834506,
          -0.8012886935076765,
          0.6450318663268397,
          -1.0092754305703884,
          -1.4696841520932558,
          -1.0269669236685246,
          -1.0207064862009927,
          -1.14050191725372,
          -1.6809037187592009,
          -1.8447073788057653
         ],
         "y": [
          -0.720584331540947,
          -0.8317943198642569,
          -1.1765436413165822,
          -0.7582525281127848,
          -1.2788411085826512,
          -1.2225555386015357,
          -1.9140178255736089,
          -1.3917545787458456,
          -2.041160509798157,
          -1.394076302286679,
          -0.5383092303598785,
          0.07067464636647804,
          0.20531269699820912,
          0.2567584684610204,
          -0.8985092404603368,
          1.3592373922051582,
          0.43423402992716065,
          -0.679250129766995,
          0.29523160980441465,
          -1.6211090744378385,
          -0.1007646796731473,
          0.016209740466960203,
          -0.8985092404603368,
          -0.5070615489245163,
          -0.9781524663488794,
          0.8744462640812106,
          -0.7420599213339321,
          0.4906792425879926,
          0.46409054271118416,
          0.43001148563529,
          0.39157350921144496,
          -0.4485905745446344,
          -0.536875103344715,
          0.11976135800332742,
          -0.0960754610576064,
          -0.3386949792370328,
          -0.20591705113773515,
          -0.1021218650314157,
          -0.43850017817398507,
          1.1008884245457542,
          0.19152668019393917,
          0.06497588442396525,
          -0.848717557532404,
          -1.107089601777254,
          0.791456028204058,
          -0.9947173243499526,
          0.49229272898095594,
          -0.09156868603787079,
          0.7241672206058706,
          1.28052042894723,
          -0.39210249561398663,
          0.10114758740287937,
          2.637545999241448,
          1.2749860380899103,
          0.11660499492391933,
          -0.38718402448061556,
          -0.3858356036306662,
          0.05251722120394179,
          -0.06478531215661161,
          -0.8982071033684943,
          0.2620410694556254,
          0.2645397183646709,
          -0.22639447413269395,
          -0.39341328967215944,
          0.37908425139347496,
          1.0966756061080027,
          0.25078716040874854,
          -0.3615883430421812,
          0.742683199015777,
          1.4114394231492655,
          0.48331448207043376,
          -0.04590248351652409,
          -0.024124727578521344,
          -0.6330944021619573,
          -0.713447947041822,
          -0.202206522877943,
          -0.13655085513310514,
          -0.7768133977624814,
          -0.03376285788501856,
          0.4594316647029589,
          -0.4158088931287644,
          -0.20419127097665032,
          0.027924949491368405,
          0.4788287152821024,
          -0.9219402491791083,
          0.6602796119517386,
          1.3705840197531722,
          0.4575563454859272,
          0.7329263808598366,
          0.22957722722676152,
          1.5727806521740406,
          0.7544303621479194,
          0.07647633650532264,
          0.07555298662853986,
          -0.16717224071507306,
          0.05431146605773813,
          1.0211767615544816,
          1.3155897646422954,
          0.07374632980620892,
          0.935194951413105,
          -0.6352081833275067,
          -0.4697770114204312,
          -0.08440666782190871,
          0.850924179750917,
          -0.33504236923267544,
          -0.6422131899231501,
          -0.07001076934684612,
          -1.0670707559653572,
          -0.8595659623981015,
          -0.7316934187001224,
          -0.9252077743795176,
          0.5912554922921266,
          0.6562407988277728,
          0.4029156663773284,
          1.0767511557393639,
          0.5484358049533099,
          0.014548155238321269,
          1.1780940208305868,
          0.30281190756887155,
          1.17965861459269,
          1.4467210177248053,
          0.8187943029072949,
          0.2200194503080781,
          0.7016409468540541,
          0.1967251443890541,
          1.1670424475090702,
          0.8236009310330659,
          -0.22060345595591818,
          -0.48049738922200474,
          -0.7569824548379973,
          -0.3647061515317282,
          0.5570088471930313,
          -0.8877343829524408,
          -0.3783691186823142,
          -0.9170954707958595,
          -0.5025440424481963,
          -0.43260076804184794,
          -0.4944073497642281,
          0.5356862216810427,
          0.6188565587222759,
          2.6492318127604024,
          2.0314771203696997,
          -0.5289331964578423,
          0.3839194465107974,
          0.4819896886573626,
          0.3049655169928092,
          2.5255451504732545,
          1.7233627422615267,
          1.8717437744781238,
          1.8029611980551028,
          -0.03387386571491768,
          -0.31774095560464616,
          -0.6267982926818622,
          -0.376574489296765,
          0.3779602201419873,
          0.366639494147727,
          0.9154391826047357,
          -0.9441102828286727,
          -0.010282013056604557,
          0.22041969943025594,
          -0.1093239064721445,
          -1.1421162272444156,
          0.9020678135931516,
          -0.3920076507986804,
          0.4363328333154526,
          -0.4547731721152979,
          -1.096124005560411,
          -0.0345389177437981,
          -0.458653660575347,
          0.11087173556139983,
          -0.5074837197175317,
          0.35448618639738466,
          -0.5655919164629171,
          -0.16667940118057814,
          -0.14671927099449658,
          0.2419577448516617,
          -0.1232774806139277,
          0.1693688871612825,
          -0.10662944016641669,
          0.8555840539469167,
          0.9316370722425621,
          1.8620170965068958,
          2.026947083085714,
          -1.0715194024925452,
          -0.0698373301197341,
          1.1968345593244525,
          2.5458137537175456,
          0.7060019444210168,
          1.2434247399403575,
          -1.8311058701363176,
          -0.1927159329584253,
          -0.20007122055705395,
          -0.9367334621637319,
          0.10668980274464833,
          -0.035274823439233126,
          2.4286570095465176,
          0.11917530318652067,
          0.8876746091324673,
          -0.5287963840418813,
          -0.36516063145327055,
          0.653376206696625,
          0.18750837429431147,
          0.3975796177656524,
          -0.8542648014007048,
          0.2063080640746687,
          -0.4409189275160987,
          -0.3385079054177739,
          -0.4742486544063763,
          2.0132844281873212,
          0.1276381237348059,
          0.6740769980144686,
          0.7767902963069151,
          0.8045368459333788,
          1.23053325690437,
          1.711244428139415,
          -0.8607563071250994,
          -0.7583994525671243,
          -0.46470301272626097,
          0.46864806095359113,
          -0.9943625196797832,
          -0.014810469290253089,
          0.5516696157136117,
          -0.13718329575589774,
          -0.066353452960168,
          -0.660879032314859,
          -0.2987389893085348,
          -1.1157069391839114,
          -0.35180203728913817,
          -1.2013165494436107,
          -1.0155131513287277,
          1.052019070219266,
          -1.305469289900576,
          0.6964591756695976,
          0.09839560439188148,
          -0.5790543112294366,
          0.43657463608581915,
          -0.3140049691823224,
          -0.5528508510946271,
          1.7044445461089852,
          1.1902656443456006,
          0.34031897573498165,
          -0.26883848135974925,
          0.9289074759795907,
          0.9561566265996766,
          0.39770955804008484,
          0.6675553007742975,
          1.5501904839845344,
          0.22027566258852246,
          -0.4425434049856713,
          -0.5889083933885254,
          -1.1502471360772104,
          0.05052336718211196,
          -0.21225150051689637,
          -0.8797684730245731,
          -0.7998655656759068,
          -0.9555498541071763,
          -0.42350305504727076,
          0.213032921705426,
          0.6292277890230215,
          -0.5619063099803209,
          0.11549366361064943,
          -0.47427338534315006,
          -0.1420285431995846,
          0.384620406557553,
          -0.9141920839113504,
          -0.16316449049750129,
          0.13031203135990418,
          1.211721308451828,
          0.5699034819877508,
          1.294489233747337,
          0.6442267609044914,
          0.6261865366868304,
          -0.13962304652829233,
          -0.08197366120187861,
          0.4942737124343966,
          0.5526568503990159,
          0.36015333994609844,
          0.30362348781586374,
          -0.28445999123766,
          -1.2690056042375855,
          -0.8937034460389763,
          -1.317039497490944,
          -0.5020668860031301,
          1.791978071526453,
          1.17895114171868,
          -1.5344823807066554,
          -0.9626579574368785,
          0.6247530233461451,
          -1.1630257672663828,
          -0.20443336591904754,
          -1.8824500765547112,
          -1.2029169866919691,
          -1.4358872257334558,
          -1.3535421937084084,
          0.23921175998961355,
          -0.6707458459490705,
          -0.5813865494140373,
          -0.009178001975551676,
          0.6799423633761401,
          1.5159936547822788,
          1.545537906120001,
          -0.670043657889713,
          -0.44216234536529647,
          0.20344062391506382,
          -1.0242049594215947,
          -0.7466479704150724,
          -0.40295853386702624,
          -0.7712938968405985,
          0.2895684963370497,
          1.1062768458497798,
          2.0662330391873365,
          -1.8570562655404563,
          -0.4413448701952841,
          0.16381974126582596,
          -0.7092636032199564,
          -0.8650564072384759,
          -0.6155145607461675,
          -0.09847441702871691,
          -0.3087390229622892,
          0.026094583824666503,
          -0.6841333375186899,
          -1.1440790989822893,
          -1.444224716164526,
          -0.5417580119605145,
          -0.6959882283938321,
          -0.6678406349507522,
          0.12814502282012355,
          0.47043579680978836,
          -0.256917659232267,
          -0.6167474270135397,
          -0.9174052730684108,
          -0.5177438513989752,
          1.3607070148826481,
          -1.154678970329489,
          -0.6324677553128685,
          -1.108499088630181,
          -0.16258061795428183,
          -0.9076143938544601,
          0.5082807832426427,
          1.5770819735613715,
          1.3036928633462654,
          -1.197588190646543,
          -0.7573308024060297,
          0.3130043458782339,
          0.8159185838527716,
          0.9151770232406551,
          1.0299852023226532,
          0.7287420986910036,
          0.15476448354145936,
          -0.2873327897671126,
          -0.2644035576057237,
          0.5791272590778144,
          0.15685704350150723,
          1.7201011419806942,
          -0.9554488493544129,
          0.05535776975297927,
          0.06863456849281695,
          -1.1505317637958394,
          -0.19157531881399717,
          -1.228947779017075,
          -1.1678801055415746,
          -0.20270942962137786,
          -1.1293579666067979,
          -0.6394816687632245,
          -0.6961114881592589,
          0.21581889687089797,
          0.1246431685363784,
          -0.6682042904421889,
          -0.25417062291320097,
          -1.128085719981991,
          -1.6565464799687741,
          0.40130800365652025,
          -0.24331325748404256,
          -2.013029803931305,
          0.7334811833949497,
          0.9101481958390059
         ],
         "z": [
          0.28171682105751605,
          0.05851576602373041,
          0.22120394651748806,
          0.018250884298406246,
          0.046110531432716685,
          0.30731983162189136,
          0.008868925787500849,
          0.04273745035496255,
          -0.3002185453787578,
          0.12785508642379093,
          -0.6955378199766514,
          -0.017865903055385955,
          -0.4635002846736026,
          -0.12708283851747565,
          -0.4884956518137041,
          -0.25079819021387617,
          -0.3805100565193571,
          -0.7272245079069006,
          -0.466205947166887,
          -0.6483545147022892,
          -0.1834179775896627,
          -0.27604384014609207,
          -0.4884956518137041,
          -0.1608674537828466,
          -0.6740983603195757,
          -0.4203334074151257,
          -0.429545366846681,
          -0.4788621167137719,
          -0.30687127876189285,
          -0.08097938972401743,
          -0.26289194590275294,
          0.07964996157698188,
          0.24600551241557242,
          0.17476495522263066,
          0.033045378109517,
          0.06450408108317295,
          0.2273587191299344,
          0.2982161012019837,
          -0.3741840559028086,
          -0.5573371260057824,
          -0.1281466649699872,
          -0.28076251512429473,
          -0.8545698815381972,
          -0.35305503323030346,
          0.08729777366101664,
          -0.18963001101590685,
          0.08833584086595446,
          0.4315883268435866,
          -0.24713422470233123,
          -0.27363958704422486,
          -0.6841162419443637,
          -0.5477624218911405,
          -0.32671070415866865,
          -0.7655960808625123,
          -0.9225419848690237,
          -0.01649138535250485,
          0.26034050231346884,
          0.1790653396973266,
          0.14023030972318026,
          0.1437584193141271,
          0.12816582470426804,
          0.004796993704670328,
          0.1714350368311288,
          0.028314114762344335,
          -0.028026891239591144,
          0.10163675609797028,
          0.08871297452661751,
          -1.2628690917285872,
          -0.6612045376566644,
          -0.6056623213561416,
          -0.35966721190073037,
          -0.8106303718928101,
          -0.2051813755433409,
          -0.7881257085876584,
          -0.3312207898768759,
          -0.37560663931784516,
          -0.0022655174092409895,
          -0.18253997572724615,
          0.009990424915186293,
          0.07582163302465837,
          0.05017399172459345,
          0.19525952111491615,
          0.0712451668816123,
          0.1494683268165464,
          -0.1436022181947945,
          -0.2637362667902232,
          -0.27714821550157476,
          -0.29983300483957,
          -0.18496551890667376,
          0.1343693371790555,
          -0.19878307352077368,
          0.1999663289390405,
          0.18274888149816923,
          0.1425733265670259,
          -0.06888208878588233,
          -0.3894904063554389,
          -0.9538080508676066,
          -0.6377838908334219,
          -0.83732426478131,
          -1.0039096583025326,
          -0.43513375458345593,
          -0.5107935934818033,
          0.24578006930058302,
          -0.07259230520952333,
          -0.6752800129682539,
          -1.141481050067629,
          -1.1073698266855623,
          -0.11228086445905351,
          -0.6907080621508459,
          -0.5223604961683898,
          -0.42886502482219924,
          -0.12379306217951348,
          -0.023123885113463104,
          -0.19961288129823132,
          -0.43400707274855055,
          0.14570168328777053,
          -0.32820826496507627,
          0.328054138609045,
          -0.32712902961747814,
          -0.2388097223883672,
          -0.1944732910889461,
          -0.16817635759825714,
          0.27950251388305847,
          0.2314547882507407,
          0.13284044939860282,
          0.2772171332297215,
          0.16851475948564662,
          -0.1261362126109762,
          -0.6033567315617074,
          -0.5529066431547165,
          -0.0536214468146903,
          0.28419119220097844,
          -0.3880612604330969,
          -0.7670697358224129,
          -0.5296926104994079,
          -0.6529824846314547,
          -0.458153279427609,
          -0.022660698167481418,
          -0.14553809518518504,
          -0.14884485478733026,
          -0.14618744127270547,
          -0.28844264185479884,
          0.5088284134133731,
          0.3746714172733162,
          0.41769395663905384,
          0.278129602713983,
          0.060543936218638274,
          -0.13291069638862565,
          -0.22484721380055553,
          0.024962032940448055,
          -0.029128479030651265,
          0.41393385347771144,
          -0.34183068649470216,
          -0.15922577122850726,
          -0.534890407604161,
          -0.0883217926675793,
          -0.44931398468148787,
          -0.655319231458614,
          -0.5720749393803983,
          -0.526546770386957,
          -0.5704625058657842,
          -0.3398206135937646,
          -0.0687079787662331,
          -0.7354489910470065,
          -0.5419315046015523,
          -0.8096027739733709,
          -0.6151526237569841,
          0.29784519044486746,
          -0.22166374049779977,
          -0.47817257706852145,
          -0.46522583722435307,
          -0.3696783284269576,
          -0.4087292656466072,
          0.4071372040030963,
          0.26883502249491387,
          0.21340360558867297,
          0.20057900055644626,
          0.13345626153453408,
          0.17659468424722505,
          0.38126948404282446,
          0.3231155733123787,
          0.17056995827421953,
          -0.26778808709393087,
          -0.3279490299710569,
          0.2919093986335136,
          0.13363428715638595,
          0.2008893692455692,
          -0.052132134455452304,
          -0.1114568223306296,
          -0.3930709055747459,
          0.15906129297578483,
          -0.24735637498686566,
          -0.3579285803967907,
          -0.8922117592520796,
          -0.09414865335056379,
          -0.6253490383046778,
          -0.47264975278288135,
          -0.4761945945531709,
          0.3737092690635998,
          -0.03635425353196633,
          -0.02873713155422799,
          -0.08259439853557417,
          0.24770408397000285,
          -0.0862689822736349,
          0.6517135675075301,
          -0.48941595107937874,
          0.30159867127693785,
          0.3067238103497927,
          0.5707471258488105,
          0.2519593627134058,
          0.2654060095209142,
          -0.1733051147266085,
          0.10990853448444664,
          0.020789378864076037,
          0.10436650837264048,
          0.3867348725858979,
          0.1929701638258203,
          0.40670292720060863,
          0.4913448955537816,
          -0.2965301328879527,
          -0.38242493547715767,
          -0.33667936539561516,
          -0.3184760785627494,
          0.05673467613008785,
          0.29972787517311705,
          -0.05377360141281209,
          -0.10856723818586923,
          -0.24714390985109036,
          -1.045506540550671,
          -1.3639065951362332,
          1.6732293864864425,
          0.45934239280216904,
          0.3858696977573981,
          1.0744415330094133,
          0.5627620952474817,
          0.5434281112182169,
          0.5734744331035928,
          0.5553205341068177,
          0.12640079530878653,
          0.048106238940583336,
          -0.15254934847120974,
          -0.39139001224717995,
          0.11541412578654396,
          -0.013524169929049888,
          0.04675120213077447,
          -0.013473660101489558,
          0.023362097199145705,
          -0.19265734522946762,
          0.4448032836292496,
          -0.4665236336393518,
          0.1610459665330499,
          0.4635062148764928,
          -0.012795929429962792,
          -0.2595338796390432,
          -0.36260408780890585,
          -0.004892701287741462,
          -0.9287626071226758,
          -0.4847869319224796,
          -0.3378514592767194,
          -0.6892668556724477,
          -0.6540132622219461,
          -0.759348280441368,
          -0.8302858468650576,
          -0.6724015303783638,
          -0.008479609699057498,
          -0.06512775261298266,
          0.0833403740780795,
          -0.04874111122821997,
          -0.5501364687265071,
          0.14352916370275318,
          0.06574359351774665,
          0.4337143175243544,
          0.34958507107958714,
          0.40722635369979077,
          0.5857907560609151,
          0.6078745246225772,
          0.3784478612455575,
          0.4893207583403386,
          0.6247815910649943,
          -0.031020068080029904,
          0.28653760091355995,
          0.4223010362254215,
          -0.22559360415903998,
          0.47958801433386933,
          1.3644075101995201,
          0.276711652243559,
          0.40053857965534867,
          0.27939054648530137,
          0.6462652282381158,
          0.025899761531277467,
          0.3246199659475034,
          0.22245425462750995,
          0.3922629322050789,
          1.1199646522327824,
          0.9490698557473377,
          0.14718977345986414,
          0.7034881189983436,
          0.013626087577521574,
          -0.06059354349994497,
          -0.11199617067657894,
          0.05399774570576841,
          0.4052640680774705,
          0.10279009915201019,
          0.32463936674248517,
          0.7528060936910194,
          0.19432235243863813,
          1.832601332616313,
          -0.09942681451156739,
          1.275766202803073,
          1.8350430738964238,
          0.6671430114950028,
          1.3347194695510867,
          1.1283857514563524,
          0.485586761187748,
          -0.1875990224016795,
          0.5680338022043745,
          -0.6031728433165799,
          0.32801959996635843,
          -0.20109578461606184,
          -0.14613218575035694,
          -0.34805921913985605,
          -0.14375743264477447,
          -0.08314666968794794,
          0.8743841928844266,
          0.8724320493662447,
          0.3968508936828279,
          0.2950277834277738,
          0.8481057792495629,
          0.830185882930999,
          0.34834956629362157,
          0.4428521215128607,
          0.4300035959409563,
          0.2727328332217463,
          0.19907334875178992,
          0.46212589767347245,
          0.296145845680411,
          0.3275575816615064,
          0.32107936200007636,
          0.42395234155714845,
          0.3429800144301353,
          1.0895050237541,
          0.07430184105841328,
          -0.05314669201441651,
          0.24365996391074532,
          -0.06033338820018543,
          -0.21181973714133287,
          0.06260679886950841,
          -0.09871928990473379,
          0.5794431538520717,
          0.18466239035239826,
          0.019288588862577206,
          0.0049677981566841126,
          -0.4280464466262799,
          -0.223433695969127,
          0.5498776875995333,
          0.8021278663250224,
          0.10323381520025475,
          0.7724283012420109,
          0.6791930769065543,
          0.5688341281678763,
          0.5512726030682812,
          0.492793537366938,
          0.7104286598326447,
          0.09938241242937483,
          0.7874849853001079,
          0.31293677131642755,
          2.0601539661419843,
          -0.3271681620121646,
          0.023097440951808247,
          0.2629351694371398,
          0.5724725003405438,
          0.005176158884265848,
          -0.15699956188625283,
          0.03973982893171555,
          0.042591132099882946,
          0.42826966874132666
         ]
        }
       ],
       "layout": {
        "height": 900,
        "legend": {
         "tracegroupgap": 0
        },
        "scene": {
         "aspectmode": "auto",
         "aspectratio": {
          "x": 1.661224892547956,
          "y": 0.9080706759469633,
          "z": 0.6629059521117341
         },
         "domain": {
          "x": [
           0,
           1
          ],
          "y": [
           0,
           1
          ]
         },
         "xaxis": {
          "title": {
           "text": "PC1"
          },
          "type": "linear"
         },
         "yaxis": {
          "title": {
           "text": "PC2"
          },
          "type": "linear"
         },
         "zaxis": {
          "title": {
           "text": "PC3"
          },
          "type": "linear"
         }
        },
        "template": {
         "data": {
          "bar": [
           {
            "error_x": {
             "color": "#2a3f5f"
            },
            "error_y": {
             "color": "#2a3f5f"
            },
            "marker": {
             "line": {
              "color": "#E5ECF6",
              "width": 0.5
             },
             "pattern": {
              "fillmode": "overlay",
              "size": 10,
              "solidity": 0.2
             }
            },
            "type": "bar"
           }
          ],
          "barpolar": [
           {
            "marker": {
             "line": {
              "color": "#E5ECF6",
              "width": 0.5
             },
             "pattern": {
              "fillmode": "overlay",
              "size": 10,
              "solidity": 0.2
             }
            },
            "type": "barpolar"
           }
          ],
          "carpet": [
           {
            "aaxis": {
             "endlinecolor": "#2a3f5f",
             "gridcolor": "white",
             "linecolor": "white",
             "minorgridcolor": "white",
             "startlinecolor": "#2a3f5f"
            },
            "baxis": {
             "endlinecolor": "#2a3f5f",
             "gridcolor": "white",
             "linecolor": "white",
             "minorgridcolor": "white",
             "startlinecolor": "#2a3f5f"
            },
            "type": "carpet"
           }
          ],
          "choropleth": [
           {
            "colorbar": {
             "outlinewidth": 0,
             "ticks": ""
            },
            "type": "choropleth"
           }
          ],
          "contour": [
           {
            "colorbar": {
             "outlinewidth": 0,
             "ticks": ""
            },
            "colorscale": [
             [
              0,
              "#0d0887"
             ],
             [
              0.1111111111111111,
              "#46039f"
             ],
             [
              0.2222222222222222,
              "#7201a8"
             ],
             [
              0.3333333333333333,
              "#9c179e"
             ],
             [
              0.4444444444444444,
              "#bd3786"
             ],
             [
              0.5555555555555556,
              "#d8576b"
             ],
             [
              0.6666666666666666,
              "#ed7953"
             ],
             [
              0.7777777777777778,
              "#fb9f3a"
             ],
             [
              0.8888888888888888,
              "#fdca26"
             ],
             [
              1,
              "#f0f921"
             ]
            ],
            "type": "contour"
           }
          ],
          "contourcarpet": [
           {
            "colorbar": {
             "outlinewidth": 0,
             "ticks": ""
            },
            "type": "contourcarpet"
           }
          ],
          "heatmap": [
           {
            "colorbar": {
             "outlinewidth": 0,
             "ticks": ""
            },
            "colorscale": [
             [
              0,
              "#0d0887"
             ],
             [
              0.1111111111111111,
              "#46039f"
             ],
             [
              0.2222222222222222,
              "#7201a8"
             ],
             [
              0.3333333333333333,
              "#9c179e"
             ],
             [
              0.4444444444444444,
              "#bd3786"
             ],
             [
              0.5555555555555556,
              "#d8576b"
             ],
             [
              0.6666666666666666,
              "#ed7953"
             ],
             [
              0.7777777777777778,
              "#fb9f3a"
             ],
             [
              0.8888888888888888,
              "#fdca26"
             ],
             [
              1,
              "#f0f921"
             ]
            ],
            "type": "heatmap"
           }
          ],
          "heatmapgl": [
           {
            "colorbar": {
             "outlinewidth": 0,
             "ticks": ""
            },
            "colorscale": [
             [
              0,
              "#0d0887"
             ],
             [
              0.1111111111111111,
              "#46039f"
             ],
             [
              0.2222222222222222,
              "#7201a8"
             ],
             [
              0.3333333333333333,
              "#9c179e"
             ],
             [
              0.4444444444444444,
              "#bd3786"
             ],
             [
              0.5555555555555556,
              "#d8576b"
             ],
             [
              0.6666666666666666,
              "#ed7953"
             ],
             [
              0.7777777777777778,
              "#fb9f3a"
             ],
             [
              0.8888888888888888,
              "#fdca26"
             ],
             [
              1,
              "#f0f921"
             ]
            ],
            "type": "heatmapgl"
           }
          ],
          "histogram": [
           {
            "marker": {
             "pattern": {
              "fillmode": "overlay",
              "size": 10,
              "solidity": 0.2
             }
            },
            "type": "histogram"
           }
          ],
          "histogram2d": [
           {
            "colorbar": {
             "outlinewidth": 0,
             "ticks": ""
            },
            "colorscale": [
             [
              0,
              "#0d0887"
             ],
             [
              0.1111111111111111,
              "#46039f"
             ],
             [
              0.2222222222222222,
              "#7201a8"
             ],
             [
              0.3333333333333333,
              "#9c179e"
             ],
             [
              0.4444444444444444,
              "#bd3786"
             ],
             [
              0.5555555555555556,
              "#d8576b"
             ],
             [
              0.6666666666666666,
              "#ed7953"
             ],
             [
              0.7777777777777778,
              "#fb9f3a"
             ],
             [
              0.8888888888888888,
              "#fdca26"
             ],
             [
              1,
              "#f0f921"
             ]
            ],
            "type": "histogram2d"
           }
          ],
          "histogram2dcontour": [
           {
            "colorbar": {
             "outlinewidth": 0,
             "ticks": ""
            },
            "colorscale": [
             [
              0,
              "#0d0887"
             ],
             [
              0.1111111111111111,
              "#46039f"
             ],
             [
              0.2222222222222222,
              "#7201a8"
             ],
             [
              0.3333333333333333,
              "#9c179e"
             ],
             [
              0.4444444444444444,
              "#bd3786"
             ],
             [
              0.5555555555555556,
              "#d8576b"
             ],
             [
              0.6666666666666666,
              "#ed7953"
             ],
             [
              0.7777777777777778,
              "#fb9f3a"
             ],
             [
              0.8888888888888888,
              "#fdca26"
             ],
             [
              1,
              "#f0f921"
             ]
            ],
            "type": "histogram2dcontour"
           }
          ],
          "mesh3d": [
           {
            "colorbar": {
             "outlinewidth": 0,
             "ticks": ""
            },
            "type": "mesh3d"
           }
          ],
          "parcoords": [
           {
            "line": {
             "colorbar": {
              "outlinewidth": 0,
              "ticks": ""
             }
            },
            "type": "parcoords"
           }
          ],
          "pie": [
           {
            "automargin": true,
            "type": "pie"
           }
          ],
          "scatter": [
           {
            "fillpattern": {
             "fillmode": "overlay",
             "size": 10,
             "solidity": 0.2
            },
            "type": "scatter"
           }
          ],
          "scatter3d": [
           {
            "line": {
             "colorbar": {
              "outlinewidth": 0,
              "ticks": ""
             }
            },
            "marker": {
             "colorbar": {
              "outlinewidth": 0,
              "ticks": ""
             }
            },
            "type": "scatter3d"
           }
          ],
          "scattercarpet": [
           {
            "marker": {
             "colorbar": {
              "outlinewidth": 0,
              "ticks": ""
             }
            },
            "type": "scattercarpet"
           }
          ],
          "scattergeo": [
           {
            "marker": {
             "colorbar": {
              "outlinewidth": 0,
              "ticks": ""
             }
            },
            "type": "scattergeo"
           }
          ],
          "scattergl": [
           {
            "marker": {
             "colorbar": {
              "outlinewidth": 0,
              "ticks": ""
             }
            },
            "type": "scattergl"
           }
          ],
          "scattermapbox": [
           {
            "marker": {
             "colorbar": {
              "outlinewidth": 0,
              "ticks": ""
             }
            },
            "type": "scattermapbox"
           }
          ],
          "scatterpolar": [
           {
            "marker": {
             "colorbar": {
              "outlinewidth": 0,
              "ticks": ""
             }
            },
            "type": "scatterpolar"
           }
          ],
          "scatterpolargl": [
           {
            "marker": {
             "colorbar": {
              "outlinewidth": 0,
              "ticks": ""
             }
            },
            "type": "scatterpolargl"
           }
          ],
          "scatterternary": [
           {
            "marker": {
             "colorbar": {
              "outlinewidth": 0,
              "ticks": ""
             }
            },
            "type": "scatterternary"
           }
          ],
          "surface": [
           {
            "colorbar": {
             "outlinewidth": 0,
             "ticks": ""
            },
            "colorscale": [
             [
              0,
              "#0d0887"
             ],
             [
              0.1111111111111111,
              "#46039f"
             ],
             [
              0.2222222222222222,
              "#7201a8"
             ],
             [
              0.3333333333333333,
              "#9c179e"
             ],
             [
              0.4444444444444444,
              "#bd3786"
             ],
             [
              0.5555555555555556,
              "#d8576b"
             ],
             [
              0.6666666666666666,
              "#ed7953"
             ],
             [
              0.7777777777777778,
              "#fb9f3a"
             ],
             [
              0.8888888888888888,
              "#fdca26"
             ],
             [
              1,
              "#f0f921"
             ]
            ],
            "type": "surface"
           }
          ],
          "table": [
           {
            "cells": {
             "fill": {
              "color": "#EBF0F8"
             },
             "line": {
              "color": "white"
             }
            },
            "header": {
             "fill": {
              "color": "#C8D4E3"
             },
             "line": {
              "color": "white"
             }
            },
            "type": "table"
           }
          ]
         },
         "layout": {
          "annotationdefaults": {
           "arrowcolor": "#2a3f5f",
           "arrowhead": 0,
           "arrowwidth": 1
          },
          "autotypenumbers": "strict",
          "coloraxis": {
           "colorbar": {
            "outlinewidth": 0,
            "ticks": ""
           }
          },
          "colorscale": {
           "diverging": [
            [
             0,
             "#8e0152"
            ],
            [
             0.1,
             "#c51b7d"
            ],
            [
             0.2,
             "#de77ae"
            ],
            [
             0.3,
             "#f1b6da"
            ],
            [
             0.4,
             "#fde0ef"
            ],
            [
             0.5,
             "#f7f7f7"
            ],
            [
             0.6,
             "#e6f5d0"
            ],
            [
             0.7,
             "#b8e186"
            ],
            [
             0.8,
             "#7fbc41"
            ],
            [
             0.9,
             "#4d9221"
            ],
            [
             1,
             "#276419"
            ]
           ],
           "sequential": [
            [
             0,
             "#0d0887"
            ],
            [
             0.1111111111111111,
             "#46039f"
            ],
            [
             0.2222222222222222,
             "#7201a8"
            ],
            [
             0.3333333333333333,
             "#9c179e"
            ],
            [
             0.4444444444444444,
             "#bd3786"
            ],
            [
             0.5555555555555556,
             "#d8576b"
            ],
            [
             0.6666666666666666,
             "#ed7953"
            ],
            [
             0.7777777777777778,
             "#fb9f3a"
            ],
            [
             0.8888888888888888,
             "#fdca26"
            ],
            [
             1,
             "#f0f921"
            ]
           ],
           "sequentialminus": [
            [
             0,
             "#0d0887"
            ],
            [
             0.1111111111111111,
             "#46039f"
            ],
            [
             0.2222222222222222,
             "#7201a8"
            ],
            [
             0.3333333333333333,
             "#9c179e"
            ],
            [
             0.4444444444444444,
             "#bd3786"
            ],
            [
             0.5555555555555556,
             "#d8576b"
            ],
            [
             0.6666666666666666,
             "#ed7953"
            ],
            [
             0.7777777777777778,
             "#fb9f3a"
            ],
            [
             0.8888888888888888,
             "#fdca26"
            ],
            [
             1,
             "#f0f921"
            ]
           ]
          },
          "colorway": [
           "#636efa",
           "#EF553B",
           "#00cc96",
           "#ab63fa",
           "#FFA15A",
           "#19d3f3",
           "#FF6692",
           "#B6E880",
           "#FF97FF",
           "#FECB52"
          ],
          "font": {
           "color": "#2a3f5f"
          },
          "geo": {
           "bgcolor": "white",
           "lakecolor": "white",
           "landcolor": "#E5ECF6",
           "showlakes": true,
           "showland": true,
           "subunitcolor": "white"
          },
          "hoverlabel": {
           "align": "left"
          },
          "hovermode": "closest",
          "mapbox": {
           "style": "light"
          },
          "paper_bgcolor": "white",
          "plot_bgcolor": "#E5ECF6",
          "polar": {
           "angularaxis": {
            "gridcolor": "white",
            "linecolor": "white",
            "ticks": ""
           },
           "bgcolor": "#E5ECF6",
           "radialaxis": {
            "gridcolor": "white",
            "linecolor": "white",
            "ticks": ""
           }
          },
          "scene": {
           "xaxis": {
            "backgroundcolor": "#E5ECF6",
            "gridcolor": "white",
            "gridwidth": 2,
            "linecolor": "white",
            "showbackground": true,
            "ticks": "",
            "zerolinecolor": "white"
           },
           "yaxis": {
            "backgroundcolor": "#E5ECF6",
            "gridcolor": "white",
            "gridwidth": 2,
            "linecolor": "white",
            "showbackground": true,
            "ticks": "",
            "zerolinecolor": "white"
           },
           "zaxis": {
            "backgroundcolor": "#E5ECF6",
            "gridcolor": "white",
            "gridwidth": 2,
            "linecolor": "white",
            "showbackground": true,
            "ticks": "",
            "zerolinecolor": "white"
           }
          },
          "shapedefaults": {
           "line": {
            "color": "#2a3f5f"
           }
          },
          "ternary": {
           "aaxis": {
            "gridcolor": "white",
            "linecolor": "white",
            "ticks": ""
           },
           "baxis": {
            "gridcolor": "white",
            "linecolor": "white",
            "ticks": ""
           },
           "bgcolor": "#E5ECF6",
           "caxis": {
            "gridcolor": "white",
            "linecolor": "white",
            "ticks": ""
           }
          },
          "title": {
           "x": 0.05
          },
          "xaxis": {
           "automargin": true,
           "gridcolor": "white",
           "linecolor": "white",
           "ticks": "",
           "title": {
            "standoff": 15
           },
           "zerolinecolor": "white",
           "zerolinewidth": 2
          },
          "yaxis": {
           "automargin": true,
           "gridcolor": "white",
           "linecolor": "white",
           "ticks": "",
           "title": {
            "standoff": 15
           },
           "zerolinecolor": "white",
           "zerolinewidth": 2
          }
         }
        },
        "title": {
         "font": {
          "size": 20
         },
         "text": "Interactive 3D Projection of the First Three Principal Components"
        },
        "width": 1200
       }
      },
      "text/html": [
       "<div>                            <div id=\"67bb0b73-c09f-40f1-891e-be857b4c8d78\" class=\"plotly-graph-div\" style=\"height:900px; width:1200px;\"></div>            <script type=\"text/javascript\">                require([\"plotly\"], function(Plotly) {                    window.PLOTLYENV=window.PLOTLYENV || {};                                    if (document.getElementById(\"67bb0b73-c09f-40f1-891e-be857b4c8d78\")) {                    Plotly.newPlot(                        \"67bb0b73-c09f-40f1-891e-be857b4c8d78\",                        [{\"hovertemplate\":\"PC1=%{x}\\u003cbr\\u003ePC2=%{y}\\u003cbr\\u003ePC3=%{z}\\u003cextra\\u003e\\u003c\\u002fextra\\u003e\",\"legendgroup\":\"\",\"marker\":{\"color\":\"#636efa\",\"opacity\":0.7,\"symbol\":\"circle\",\"size\":3},\"mode\":\"markers\",\"name\":\"\",\"scene\":\"scene\",\"showlegend\":false,\"x\":[2.6094300089322586,3.572337825823646,2.996146102570465,2.9232208167803835,2.9098381151418953,4.869380855562328,4.499979722545976,3.8879320503600723,3.866312250176728,3.866150184817678,-1.0206784715334016,0.17881705071173815,0.38858598605225897,-0.07539726791426166,-1.4126483292696264,-2.739069001414088,-1.3154688782713282,-1.0256768813252866,-1.3951856591067333,-0.645903427127411,0.13017769654873962,4.358366880691867,-1.4126483292696264,-1.2870044696329987,-1.035989672678606,-2.2195102287777324,0.7334609812930579,1.0655099044588843,1.0033724668550879,0.7282300762036584,0.8476518865802104,3.8400529786869297,4.38717552172807,3.490234320746925,3.327798504151617,4.738739458729247,4.466791208619029,4.739130926428618,1.1497820352505823,-1.52512471662442,0.9300008453052283,0.8080867589218855,-1.0110726928614386,-1.3003361714512924,-2.480524660464959,-1.8011576410454717,-2.736183765407593,-2.8612271726587535,-2.44083043783438,-2.39156071338558,-1.1267149856842367,-1.693881478233605,-2.59614296218373,-1.242865517474579,-1.1854691006306493,3.9268612878803713,4.289036531186978,3.239200992455954,3.5336171475937954,3.053014352274185,3.7474713528384886,3.840736084980156,4.499251723093437,3.160925379926643,2.958919013515093,2.9430757445347826,3.2047042418530562,-0.09635425615477877,-1.3919646144432283,-1.1243669162744572,-1.9759598256075932,-1.0925306753156503,-1.612855140318835,-0.7833237172523901,-1.6031848434885592,-1.6546248412748845,3.851955476935116,3.2107714729278447,3.403598714687069,2.888508880999672,3.1638041613629637,4.058725374114545,3.774302320450673,3.232399127493877,3.9765476186113404,0.6798202577703315,0.746379762484299,0.6105164805076344,0.5197781084061324,0.10706758938352762,-2.735066686602498,4.218340662030763,4.508132942548206,4.124043867292993,4.236058775695614,0.6414729673591885,-1.4750079423222882,-1.53276988695419,-1.1170895728836496,-1.2752326389648165,0.1719173734263517,-1.3715859416229692,3.3479184488723552,-2.859331867203088,-1.435896180393988,-0.6340675975909887,-0.29625329774110576,3.1344226649867575,-0.5250173000271163,0.656651228375767,4.018651766893778,0.3125266554893576,0.09294064832058055,0.5347647043678339,0.942593293052746,-2.580790054923145,-1.4078124980996563,-2.9817813379169955,-1.347210302982404,1.124300786590581,1.0988012078202427,0.9388590321699161,2.9309453478475116,3.6732033328599063,3.4613202061629993,3.0716065791003455,3.0664119641362957,-1.7575102037971853,-1.9151994366635017,-1.400353550128635,-2.6648258755002674,-2.6652270491663246,-1.6683148291631211,-1.580013260775503,-1.325099357063271,-0.9014053170910954,-1.2210032686732473,-2.215192779045343,0.6292734468411211,1.027584696052195,0.17734516768572944,0.20271983500374485,4.324512331391147,3.423315279965346,3.264644624534306,3.6901665147999942,0.7294087733167901,1.0806369682435952,1.089893336562234,0.6168942765921056,0.7406069739187386,1.722159388352792,2.660348588522849,-1.8346043310116127,-1.0871312802804334,0.4890235179450583,-1.346411050507285,-0.5691775403311224,-1.7370604971731707,-1.1026331553369926,0.48538912409284607,-1.8282355634203427,0.4550932645889915,-0.7894983346200201,-0.9454149141569074,-0.4820937382541126,-0.4503680257410876,-2.72528224828117,-1.3831278658692283,-1.536288097849249,-0.873271185692745,-1.768426383479866,-1.5119890531048215,3.0177100211978063,3.272118238336903,2.6237720253511663,3.56224195646056,0.5879473144900502,0.9310688002611243,-0.24225486958206974,0.13684965273547903,-2.960267874384699,-2.4816714600234198,-1.8508537098989197,-2.713973175041881,0.6530877016803698,0.17222898773003342,1.141501086552487,0.6167123100125181,-1.6652404240872671,-2.320012605847406,-1.8356789422679403,-1.0684096955680118,-0.3120057481332008,3.275631819016261,-1.1244216826871885,0.3661004906255291,1.0405632534330278,3.9820057003683145,3.5519650525368087,2.7031336142382667,3.0877564419151176,-2.4014615026483446,-1.6315806241037492,-2.9811115689252072,-1.1402567374228645,-2.3999655905248893,2.962775457770306,1.690591378210893,3.1280244027446873,2.8330344426511798,1.1056559502106014,0.6903589457116032,0.6946168755112823,0.6059114125896748,4.263672114524618,3.8707608862009115,4.350644022923579,3.315350481347575,-1.7476512374161368,-0.8850092739469287,-1.8761556736679097,-0.9439347688459452,-2.2409787853908925,-2.00210767199548,-2.134192579870662,-1.6496681112900884,0.07280599047232178,-0.2894342483832442,-0.7526980043087451,-3.6781540775934456,-2.3346358761963977,-2.901477819767243,-2.8479718827030855,-2.6704082893967382,1.5679917977026765,2.7013542769679737,2.532182239527552,0.5565268532960036,0.130945063606605,0.18830703903749235,-0.9090713677564363,0.5669833665843161,0.41091433378261033,0.7858076098260914,0.1102566210213674,0.7270916054530427,1.329247193198501,2.554658027229328,2.0227236917670344,2.6313843213099744,2.9263647968762805,-2.0384863043976247,-0.9201338701397149,-1.139791618489735,-1.6975737898125998,-0.6751323563435365,-0.6498730197411626,-1.0075356285445225,-0.9335942669810825,-0.2398385228179002,1.0490763897448148,-0.4550900384240763,1.0883377252200137,-2.025127748435332,-2.034032555674295,0.8424352494201114,-0.048913896602039625,-0.8871985124490782,0.28471262245114126,0.7225203204734434,2.4453508313329175,2.552862186638354,3.0932291670498304,2.5233952123117143,3.30929684713312,3.1254572022547773,2.01411506067736,3.199307964962856,-1.9786029743444444,-2.295144431664676,-2.071339238985628,-1.201023006049616,-0.7163417066601748,2.0742178941610376,-1.8047818153006874,-2.039136851133104,-2.607398126175684,-2.2506947973873523,-1.1009894019113582,0.3172387959010733,0.2967477031097665,-1.1125436357565495,-2.3416131763200805,-2.96760611968598,-2.0282938724875716,-2.570702932623006,-1.1322884727621165,-1.2038025280697127,-1.1737349823592178,0.315372485187546,-2.042801045667262,-1.1734953080738488,-1.8256548546148939,-1.683405652422841,-1.8130797815386335,-3.1867330326946908,-0.6079595710258663,-3.0332843464782018,-3.7112249149351966,-1.856865425148646,-2.7061684782703352,-3.059315795189929,-2.4307231860233176,-2.1741276437048542,-1.5931213013289096,-0.3877366785654848,-2.0574670220725295,-1.2490947200920317,-1.1478766947581105,-0.7610349238020762,0.4524721972359032,-1.1349633139369046,-2.988728125378219,-2.754153051200804,-2.650260041785316,-2.3713466051365426,-2.9271545192831683,-2.707803370212102,-2.3187608352271187,-2.1062887269255843,-2.3327902267061074,-2.4286848142093342,-1.808116237043677,-1.9702285944689264,-1.8349738041233823,-1.9597894609556152,-1.2460523665701688,-1.8959181257462243,-1.4630728422966033,-1.056911823379451,0.4999225387788109,0.3953598782468622,0.7744789901836242,0.1302455950513121,0.6110696180936718,-1.7239515996685002,-1.53984760530166,-1.9690859996836096,-1.5519341360020311,-1.3592486571126916,-1.219328274749867,-0.836056616220532,-1.1337618059989998,-2.2008384938659185,-2.6989989334973554,-2.344587839323365,-2.304588554824493,-2.434308939774609,-1.765924027138252,-1.9698625110670573,-2.1754164281387194,-2.434264010695714,-2.1979132820634146,-2.55417784234769,0.09592289291768953,-0.5762137242834506,-0.8012886935076765,0.6450318663268397,-1.0092754305703884,-1.4696841520932558,-1.0269669236685246,-1.0207064862009927,-1.14050191725372,-1.6809037187592009,-1.8447073788057653],\"y\":[-0.720584331540947,-0.8317943198642569,-1.1765436413165822,-0.7582525281127848,-1.2788411085826512,-1.2225555386015357,-1.9140178255736089,-1.3917545787458456,-2.041160509798157,-1.394076302286679,-0.5383092303598785,0.07067464636647804,0.20531269699820912,0.2567584684610204,-0.8985092404603368,1.3592373922051582,0.43423402992716065,-0.679250129766995,0.29523160980441465,-1.6211090744378385,-0.1007646796731473,0.016209740466960203,-0.8985092404603368,-0.5070615489245163,-0.9781524663488794,0.8744462640812106,-0.7420599213339321,0.4906792425879926,0.46409054271118416,0.43001148563529,0.39157350921144496,-0.4485905745446344,-0.536875103344715,0.11976135800332742,-0.0960754610576064,-0.3386949792370328,-0.20591705113773515,-0.1021218650314157,-0.43850017817398507,1.1008884245457542,0.19152668019393917,0.06497588442396525,-0.848717557532404,-1.107089601777254,0.791456028204058,-0.9947173243499526,0.49229272898095594,-0.09156868603787079,0.7241672206058706,1.28052042894723,-0.39210249561398663,0.10114758740287937,2.637545999241448,1.2749860380899103,0.11660499492391933,-0.38718402448061556,-0.3858356036306662,0.05251722120394179,-0.06478531215661161,-0.8982071033684943,0.2620410694556254,0.2645397183646709,-0.22639447413269395,-0.39341328967215944,0.37908425139347496,1.0966756061080027,0.25078716040874854,-0.3615883430421812,0.742683199015777,1.4114394231492655,0.48331448207043376,-0.04590248351652409,-0.024124727578521344,-0.6330944021619573,-0.713447947041822,-0.202206522877943,-0.13655085513310514,-0.7768133977624814,-0.03376285788501856,0.4594316647029589,-0.4158088931287644,-0.20419127097665032,0.027924949491368405,0.4788287152821024,-0.9219402491791083,0.6602796119517386,1.3705840197531722,0.4575563454859272,0.7329263808598366,0.22957722722676152,1.5727806521740406,0.7544303621479194,0.07647633650532264,0.07555298662853986,-0.16717224071507306,0.05431146605773813,1.0211767615544816,1.3155897646422954,0.07374632980620892,0.935194951413105,-0.6352081833275067,-0.4697770114204312,-0.08440666782190871,0.850924179750917,-0.33504236923267544,-0.6422131899231501,-0.07001076934684612,-1.0670707559653572,-0.8595659623981015,-0.7316934187001224,-0.9252077743795176,0.5912554922921266,0.6562407988277728,0.4029156663773284,1.0767511557393639,0.5484358049533099,0.014548155238321269,1.1780940208305868,0.30281190756887155,1.17965861459269,1.4467210177248053,0.8187943029072949,0.2200194503080781,0.7016409468540541,0.1967251443890541,1.1670424475090702,0.8236009310330659,-0.22060345595591818,-0.48049738922200474,-0.7569824548379973,-0.3647061515317282,0.5570088471930313,-0.8877343829524408,-0.3783691186823142,-0.9170954707958595,-0.5025440424481963,-0.43260076804184794,-0.4944073497642281,0.5356862216810427,0.6188565587222759,2.6492318127604024,2.0314771203696997,-0.5289331964578423,0.3839194465107974,0.4819896886573626,0.3049655169928092,2.5255451504732545,1.7233627422615267,1.8717437744781238,1.8029611980551028,-0.03387386571491768,-0.31774095560464616,-0.6267982926818622,-0.376574489296765,0.3779602201419873,0.366639494147727,0.9154391826047357,-0.9441102828286727,-0.010282013056604557,0.22041969943025594,-0.1093239064721445,-1.1421162272444156,0.9020678135931516,-0.3920076507986804,0.4363328333154526,-0.4547731721152979,-1.096124005560411,-0.0345389177437981,-0.458653660575347,0.11087173556139983,-0.5074837197175317,0.35448618639738466,-0.5655919164629171,-0.16667940118057814,-0.14671927099449658,0.2419577448516617,-0.1232774806139277,0.1693688871612825,-0.10662944016641669,0.8555840539469167,0.9316370722425621,1.8620170965068958,2.026947083085714,-1.0715194024925452,-0.0698373301197341,1.1968345593244525,2.5458137537175456,0.7060019444210168,1.2434247399403575,-1.8311058701363176,-0.1927159329584253,-0.20007122055705395,-0.9367334621637319,0.10668980274464833,-0.035274823439233126,2.4286570095465176,0.11917530318652067,0.8876746091324673,-0.5287963840418813,-0.36516063145327055,0.653376206696625,0.18750837429431147,0.3975796177656524,-0.8542648014007048,0.2063080640746687,-0.4409189275160987,-0.3385079054177739,-0.4742486544063763,2.0132844281873212,0.1276381237348059,0.6740769980144686,0.7767902963069151,0.8045368459333788,1.23053325690437,1.711244428139415,-0.8607563071250994,-0.7583994525671243,-0.46470301272626097,0.46864806095359113,-0.9943625196797832,-0.014810469290253089,0.5516696157136117,-0.13718329575589774,-0.066353452960168,-0.660879032314859,-0.2987389893085348,-1.1157069391839114,-0.35180203728913817,-1.2013165494436107,-1.0155131513287277,1.052019070219266,-1.305469289900576,0.6964591756695976,0.09839560439188148,-0.5790543112294366,0.43657463608581915,-0.3140049691823224,-0.5528508510946271,1.7044445461089852,1.1902656443456006,0.34031897573498165,-0.26883848135974925,0.9289074759795907,0.9561566265996766,0.39770955804008484,0.6675553007742975,1.5501904839845344,0.22027566258852246,-0.4425434049856713,-0.5889083933885254,-1.1502471360772104,0.05052336718211196,-0.21225150051689637,-0.8797684730245731,-0.7998655656759068,-0.9555498541071763,-0.42350305504727076,0.213032921705426,0.6292277890230215,-0.5619063099803209,0.11549366361064943,-0.47427338534315006,-0.1420285431995846,0.384620406557553,-0.9141920839113504,-0.16316449049750129,0.13031203135990418,1.211721308451828,0.5699034819877508,1.294489233747337,0.6442267609044914,0.6261865366868304,-0.13962304652829233,-0.08197366120187861,0.4942737124343966,0.5526568503990159,0.36015333994609844,0.30362348781586374,-0.28445999123766,-1.2690056042375855,-0.8937034460389763,-1.317039497490944,-0.5020668860031301,1.791978071526453,1.17895114171868,-1.5344823807066554,-0.9626579574368785,0.6247530233461451,-1.1630257672663828,-0.20443336591904754,-1.8824500765547112,-1.2029169866919691,-1.4358872257334558,-1.3535421937084084,0.23921175998961355,-0.6707458459490705,-0.5813865494140373,-0.009178001975551676,0.6799423633761401,1.5159936547822788,1.545537906120001,-0.670043657889713,-0.44216234536529647,0.20344062391506382,-1.0242049594215947,-0.7466479704150724,-0.40295853386702624,-0.7712938968405985,0.2895684963370497,1.1062768458497798,2.0662330391873365,-1.8570562655404563,-0.4413448701952841,0.16381974126582596,-0.7092636032199564,-0.8650564072384759,-0.6155145607461675,-0.09847441702871691,-0.3087390229622892,0.026094583824666503,-0.6841333375186899,-1.1440790989822893,-1.444224716164526,-0.5417580119605145,-0.6959882283938321,-0.6678406349507522,0.12814502282012355,0.47043579680978836,-0.256917659232267,-0.6167474270135397,-0.9174052730684108,-0.5177438513989752,1.3607070148826481,-1.154678970329489,-0.6324677553128685,-1.108499088630181,-0.16258061795428183,-0.9076143938544601,0.5082807832426427,1.5770819735613715,1.3036928633462654,-1.197588190646543,-0.7573308024060297,0.3130043458782339,0.8159185838527716,0.9151770232406551,1.0299852023226532,0.7287420986910036,0.15476448354145936,-0.2873327897671126,-0.2644035576057237,0.5791272590778144,0.15685704350150723,1.7201011419806942,-0.9554488493544129,0.05535776975297927,0.06863456849281695,-1.1505317637958394,-0.19157531881399717,-1.228947779017075,-1.1678801055415746,-0.20270942962137786,-1.1293579666067979,-0.6394816687632245,-0.6961114881592589,0.21581889687089797,0.1246431685363784,-0.6682042904421889,-0.25417062291320097,-1.128085719981991,-1.6565464799687741,0.40130800365652025,-0.24331325748404256,-2.013029803931305,0.7334811833949497,0.9101481958390059],\"z\":[0.28171682105751605,0.05851576602373041,0.22120394651748806,0.018250884298406246,0.046110531432716685,0.30731983162189136,0.008868925787500849,0.04273745035496255,-0.3002185453787578,0.12785508642379093,-0.6955378199766514,-0.017865903055385955,-0.4635002846736026,-0.12708283851747565,-0.4884956518137041,-0.25079819021387617,-0.3805100565193571,-0.7272245079069006,-0.466205947166887,-0.6483545147022892,-0.1834179775896627,-0.27604384014609207,-0.4884956518137041,-0.1608674537828466,-0.6740983603195757,-0.4203334074151257,-0.429545366846681,-0.4788621167137719,-0.30687127876189285,-0.08097938972401743,-0.26289194590275294,0.07964996157698188,0.24600551241557242,0.17476495522263066,0.033045378109517,0.06450408108317295,0.2273587191299344,0.2982161012019837,-0.3741840559028086,-0.5573371260057824,-0.1281466649699872,-0.28076251512429473,-0.8545698815381972,-0.35305503323030346,0.08729777366101664,-0.18963001101590685,0.08833584086595446,0.4315883268435866,-0.24713422470233123,-0.27363958704422486,-0.6841162419443637,-0.5477624218911405,-0.32671070415866865,-0.7655960808625123,-0.9225419848690237,-0.01649138535250485,0.26034050231346884,0.1790653396973266,0.14023030972318026,0.1437584193141271,0.12816582470426804,0.004796993704670328,0.1714350368311288,0.028314114762344335,-0.028026891239591144,0.10163675609797028,0.08871297452661751,-1.2628690917285872,-0.6612045376566644,-0.6056623213561416,-0.35966721190073037,-0.8106303718928101,-0.2051813755433409,-0.7881257085876584,-0.3312207898768759,-0.37560663931784516,-0.0022655174092409895,-0.18253997572724615,0.009990424915186293,0.07582163302465837,0.05017399172459345,0.19525952111491615,0.0712451668816123,0.1494683268165464,-0.1436022181947945,-0.2637362667902232,-0.27714821550157476,-0.29983300483957,-0.18496551890667376,0.1343693371790555,-0.19878307352077368,0.1999663289390405,0.18274888149816923,0.1425733265670259,-0.06888208878588233,-0.3894904063554389,-0.9538080508676066,-0.6377838908334219,-0.83732426478131,-1.0039096583025326,-0.43513375458345593,-0.5107935934818033,0.24578006930058302,-0.07259230520952333,-0.6752800129682539,-1.141481050067629,-1.1073698266855623,-0.11228086445905351,-0.6907080621508459,-0.5223604961683898,-0.42886502482219924,-0.12379306217951348,-0.023123885113463104,-0.19961288129823132,-0.43400707274855055,0.14570168328777053,-0.32820826496507627,0.328054138609045,-0.32712902961747814,-0.2388097223883672,-0.1944732910889461,-0.16817635759825714,0.27950251388305847,0.2314547882507407,0.13284044939860282,0.2772171332297215,0.16851475948564662,-0.1261362126109762,-0.6033567315617074,-0.5529066431547165,-0.0536214468146903,0.28419119220097844,-0.3880612604330969,-0.7670697358224129,-0.5296926104994079,-0.6529824846314547,-0.458153279427609,-0.022660698167481418,-0.14553809518518504,-0.14884485478733026,-0.14618744127270547,-0.28844264185479884,0.5088284134133731,0.3746714172733162,0.41769395663905384,0.278129602713983,0.060543936218638274,-0.13291069638862565,-0.22484721380055553,0.024962032940448055,-0.029128479030651265,0.41393385347771144,-0.34183068649470216,-0.15922577122850726,-0.534890407604161,-0.0883217926675793,-0.44931398468148787,-0.655319231458614,-0.5720749393803983,-0.526546770386957,-0.5704625058657842,-0.3398206135937646,-0.0687079787662331,-0.7354489910470065,-0.5419315046015523,-0.8096027739733709,-0.6151526237569841,0.29784519044486746,-0.22166374049779977,-0.47817257706852145,-0.46522583722435307,-0.3696783284269576,-0.4087292656466072,0.4071372040030963,0.26883502249491387,0.21340360558867297,0.20057900055644626,0.13345626153453408,0.17659468424722505,0.38126948404282446,0.3231155733123787,0.17056995827421953,-0.26778808709393087,-0.3279490299710569,0.2919093986335136,0.13363428715638595,0.2008893692455692,-0.052132134455452304,-0.1114568223306296,-0.3930709055747459,0.15906129297578483,-0.24735637498686566,-0.3579285803967907,-0.8922117592520796,-0.09414865335056379,-0.6253490383046778,-0.47264975278288135,-0.4761945945531709,0.3737092690635998,-0.03635425353196633,-0.02873713155422799,-0.08259439853557417,0.24770408397000285,-0.0862689822736349,0.6517135675075301,-0.48941595107937874,0.30159867127693785,0.3067238103497927,0.5707471258488105,0.2519593627134058,0.2654060095209142,-0.1733051147266085,0.10990853448444664,0.020789378864076037,0.10436650837264048,0.3867348725858979,0.1929701638258203,0.40670292720060863,0.4913448955537816,-0.2965301328879527,-0.38242493547715767,-0.33667936539561516,-0.3184760785627494,0.05673467613008785,0.29972787517311705,-0.05377360141281209,-0.10856723818586923,-0.24714390985109036,-1.045506540550671,-1.3639065951362332,1.6732293864864425,0.45934239280216904,0.3858696977573981,1.0744415330094133,0.5627620952474817,0.5434281112182169,0.5734744331035928,0.5553205341068177,0.12640079530878653,0.048106238940583336,-0.15254934847120974,-0.39139001224717995,0.11541412578654396,-0.013524169929049888,0.04675120213077447,-0.013473660101489558,0.023362097199145705,-0.19265734522946762,0.4448032836292496,-0.4665236336393518,0.1610459665330499,0.4635062148764928,-0.012795929429962792,-0.2595338796390432,-0.36260408780890585,-0.004892701287741462,-0.9287626071226758,-0.4847869319224796,-0.3378514592767194,-0.6892668556724477,-0.6540132622219461,-0.759348280441368,-0.8302858468650576,-0.6724015303783638,-0.008479609699057498,-0.06512775261298266,0.0833403740780795,-0.04874111122821997,-0.5501364687265071,0.14352916370275318,0.06574359351774665,0.4337143175243544,0.34958507107958714,0.40722635369979077,0.5857907560609151,0.6078745246225772,0.3784478612455575,0.4893207583403386,0.6247815910649943,-0.031020068080029904,0.28653760091355995,0.4223010362254215,-0.22559360415903998,0.47958801433386933,1.3644075101995201,0.276711652243559,0.40053857965534867,0.27939054648530137,0.6462652282381158,0.025899761531277467,0.3246199659475034,0.22245425462750995,0.3922629322050789,1.1199646522327824,0.9490698557473377,0.14718977345986414,0.7034881189983436,0.013626087577521574,-0.06059354349994497,-0.11199617067657894,0.05399774570576841,0.4052640680774705,0.10279009915201019,0.32463936674248517,0.7528060936910194,0.19432235243863813,1.832601332616313,-0.09942681451156739,1.275766202803073,1.8350430738964238,0.6671430114950028,1.3347194695510867,1.1283857514563524,0.485586761187748,-0.1875990224016795,0.5680338022043745,-0.6031728433165799,0.32801959996635843,-0.20109578461606184,-0.14613218575035694,-0.34805921913985605,-0.14375743264477447,-0.08314666968794794,0.8743841928844266,0.8724320493662447,0.3968508936828279,0.2950277834277738,0.8481057792495629,0.830185882930999,0.34834956629362157,0.4428521215128607,0.4300035959409563,0.2727328332217463,0.19907334875178992,0.46212589767347245,0.296145845680411,0.3275575816615064,0.32107936200007636,0.42395234155714845,0.3429800144301353,1.0895050237541,0.07430184105841328,-0.05314669201441651,0.24365996391074532,-0.06033338820018543,-0.21181973714133287,0.06260679886950841,-0.09871928990473379,0.5794431538520717,0.18466239035239826,0.019288588862577206,0.0049677981566841126,-0.4280464466262799,-0.223433695969127,0.5498776875995333,0.8021278663250224,0.10323381520025475,0.7724283012420109,0.6791930769065543,0.5688341281678763,0.5512726030682812,0.492793537366938,0.7104286598326447,0.09938241242937483,0.7874849853001079,0.31293677131642755,2.0601539661419843,-0.3271681620121646,0.023097440951808247,0.2629351694371398,0.5724725003405438,0.005176158884265848,-0.15699956188625283,0.03973982893171555,0.042591132099882946,0.42826966874132666],\"type\":\"scatter3d\"}],                        {\"template\":{\"data\":{\"histogram2dcontour\":[{\"type\":\"histogram2dcontour\",\"colorbar\":{\"outlinewidth\":0,\"ticks\":\"\"},\"colorscale\":[[0.0,\"#0d0887\"],[0.1111111111111111,\"#46039f\"],[0.2222222222222222,\"#7201a8\"],[0.3333333333333333,\"#9c179e\"],[0.4444444444444444,\"#bd3786\"],[0.5555555555555556,\"#d8576b\"],[0.6666666666666666,\"#ed7953\"],[0.7777777777777778,\"#fb9f3a\"],[0.8888888888888888,\"#fdca26\"],[1.0,\"#f0f921\"]]}],\"choropleth\":[{\"type\":\"choropleth\",\"colorbar\":{\"outlinewidth\":0,\"ticks\":\"\"}}],\"histogram2d\":[{\"type\":\"histogram2d\",\"colorbar\":{\"outlinewidth\":0,\"ticks\":\"\"},\"colorscale\":[[0.0,\"#0d0887\"],[0.1111111111111111,\"#46039f\"],[0.2222222222222222,\"#7201a8\"],[0.3333333333333333,\"#9c179e\"],[0.4444444444444444,\"#bd3786\"],[0.5555555555555556,\"#d8576b\"],[0.6666666666666666,\"#ed7953\"],[0.7777777777777778,\"#fb9f3a\"],[0.8888888888888888,\"#fdca26\"],[1.0,\"#f0f921\"]]}],\"heatmap\":[{\"type\":\"heatmap\",\"colorbar\":{\"outlinewidth\":0,\"ticks\":\"\"},\"colorscale\":[[0.0,\"#0d0887\"],[0.1111111111111111,\"#46039f\"],[0.2222222222222222,\"#7201a8\"],[0.3333333333333333,\"#9c179e\"],[0.4444444444444444,\"#bd3786\"],[0.5555555555555556,\"#d8576b\"],[0.6666666666666666,\"#ed7953\"],[0.7777777777777778,\"#fb9f3a\"],[0.8888888888888888,\"#fdca26\"],[1.0,\"#f0f921\"]]}],\"heatmapgl\":[{\"type\":\"heatmapgl\",\"colorbar\":{\"outlinewidth\":0,\"ticks\":\"\"},\"colorscale\":[[0.0,\"#0d0887\"],[0.1111111111111111,\"#46039f\"],[0.2222222222222222,\"#7201a8\"],[0.3333333333333333,\"#9c179e\"],[0.4444444444444444,\"#bd3786\"],[0.5555555555555556,\"#d8576b\"],[0.6666666666666666,\"#ed7953\"],[0.7777777777777778,\"#fb9f3a\"],[0.8888888888888888,\"#fdca26\"],[1.0,\"#f0f921\"]]}],\"contourcarpet\":[{\"type\":\"contourcarpet\",\"colorbar\":{\"outlinewidth\":0,\"ticks\":\"\"}}],\"contour\":[{\"type\":\"contour\",\"colorbar\":{\"outlinewidth\":0,\"ticks\":\"\"},\"colorscale\":[[0.0,\"#0d0887\"],[0.1111111111111111,\"#46039f\"],[0.2222222222222222,\"#7201a8\"],[0.3333333333333333,\"#9c179e\"],[0.4444444444444444,\"#bd3786\"],[0.5555555555555556,\"#d8576b\"],[0.6666666666666666,\"#ed7953\"],[0.7777777777777778,\"#fb9f3a\"],[0.8888888888888888,\"#fdca26\"],[1.0,\"#f0f921\"]]}],\"surface\":[{\"type\":\"surface\",\"colorbar\":{\"outlinewidth\":0,\"ticks\":\"\"},\"colorscale\":[[0.0,\"#0d0887\"],[0.1111111111111111,\"#46039f\"],[0.2222222222222222,\"#7201a8\"],[0.3333333333333333,\"#9c179e\"],[0.4444444444444444,\"#bd3786\"],[0.5555555555555556,\"#d8576b\"],[0.6666666666666666,\"#ed7953\"],[0.7777777777777778,\"#fb9f3a\"],[0.8888888888888888,\"#fdca26\"],[1.0,\"#f0f921\"]]}],\"mesh3d\":[{\"type\":\"mesh3d\",\"colorbar\":{\"outlinewidth\":0,\"ticks\":\"\"}}],\"scatter\":[{\"fillpattern\":{\"fillmode\":\"overlay\",\"size\":10,\"solidity\":0.2},\"type\":\"scatter\"}],\"parcoords\":[{\"type\":\"parcoords\",\"line\":{\"colorbar\":{\"outlinewidth\":0,\"ticks\":\"\"}}}],\"scatterpolargl\":[{\"type\":\"scatterpolargl\",\"marker\":{\"colorbar\":{\"outlinewidth\":0,\"ticks\":\"\"}}}],\"bar\":[{\"error_x\":{\"color\":\"#2a3f5f\"},\"error_y\":{\"color\":\"#2a3f5f\"},\"marker\":{\"line\":{\"color\":\"#E5ECF6\",\"width\":0.5},\"pattern\":{\"fillmode\":\"overlay\",\"size\":10,\"solidity\":0.2}},\"type\":\"bar\"}],\"scattergeo\":[{\"type\":\"scattergeo\",\"marker\":{\"colorbar\":{\"outlinewidth\":0,\"ticks\":\"\"}}}],\"scatterpolar\":[{\"type\":\"scatterpolar\",\"marker\":{\"colorbar\":{\"outlinewidth\":0,\"ticks\":\"\"}}}],\"histogram\":[{\"marker\":{\"pattern\":{\"fillmode\":\"overlay\",\"size\":10,\"solidity\":0.2}},\"type\":\"histogram\"}],\"scattergl\":[{\"type\":\"scattergl\",\"marker\":{\"colorbar\":{\"outlinewidth\":0,\"ticks\":\"\"}}}],\"scatter3d\":[{\"type\":\"scatter3d\",\"line\":{\"colorbar\":{\"outlinewidth\":0,\"ticks\":\"\"}},\"marker\":{\"colorbar\":{\"outlinewidth\":0,\"ticks\":\"\"}}}],\"scattermapbox\":[{\"type\":\"scattermapbox\",\"marker\":{\"colorbar\":{\"outlinewidth\":0,\"ticks\":\"\"}}}],\"scatterternary\":[{\"type\":\"scatterternary\",\"marker\":{\"colorbar\":{\"outlinewidth\":0,\"ticks\":\"\"}}}],\"scattercarpet\":[{\"type\":\"scattercarpet\",\"marker\":{\"colorbar\":{\"outlinewidth\":0,\"ticks\":\"\"}}}],\"carpet\":[{\"aaxis\":{\"endlinecolor\":\"#2a3f5f\",\"gridcolor\":\"white\",\"linecolor\":\"white\",\"minorgridcolor\":\"white\",\"startlinecolor\":\"#2a3f5f\"},\"baxis\":{\"endlinecolor\":\"#2a3f5f\",\"gridcolor\":\"white\",\"linecolor\":\"white\",\"minorgridcolor\":\"white\",\"startlinecolor\":\"#2a3f5f\"},\"type\":\"carpet\"}],\"table\":[{\"cells\":{\"fill\":{\"color\":\"#EBF0F8\"},\"line\":{\"color\":\"white\"}},\"header\":{\"fill\":{\"color\":\"#C8D4E3\"},\"line\":{\"color\":\"white\"}},\"type\":\"table\"}],\"barpolar\":[{\"marker\":{\"line\":{\"color\":\"#E5ECF6\",\"width\":0.5},\"pattern\":{\"fillmode\":\"overlay\",\"size\":10,\"solidity\":0.2}},\"type\":\"barpolar\"}],\"pie\":[{\"automargin\":true,\"type\":\"pie\"}]},\"layout\":{\"autotypenumbers\":\"strict\",\"colorway\":[\"#636efa\",\"#EF553B\",\"#00cc96\",\"#ab63fa\",\"#FFA15A\",\"#19d3f3\",\"#FF6692\",\"#B6E880\",\"#FF97FF\",\"#FECB52\"],\"font\":{\"color\":\"#2a3f5f\"},\"hovermode\":\"closest\",\"hoverlabel\":{\"align\":\"left\"},\"paper_bgcolor\":\"white\",\"plot_bgcolor\":\"#E5ECF6\",\"polar\":{\"bgcolor\":\"#E5ECF6\",\"angularaxis\":{\"gridcolor\":\"white\",\"linecolor\":\"white\",\"ticks\":\"\"},\"radialaxis\":{\"gridcolor\":\"white\",\"linecolor\":\"white\",\"ticks\":\"\"}},\"ternary\":{\"bgcolor\":\"#E5ECF6\",\"aaxis\":{\"gridcolor\":\"white\",\"linecolor\":\"white\",\"ticks\":\"\"},\"baxis\":{\"gridcolor\":\"white\",\"linecolor\":\"white\",\"ticks\":\"\"},\"caxis\":{\"gridcolor\":\"white\",\"linecolor\":\"white\",\"ticks\":\"\"}},\"coloraxis\":{\"colorbar\":{\"outlinewidth\":0,\"ticks\":\"\"}},\"colorscale\":{\"sequential\":[[0.0,\"#0d0887\"],[0.1111111111111111,\"#46039f\"],[0.2222222222222222,\"#7201a8\"],[0.3333333333333333,\"#9c179e\"],[0.4444444444444444,\"#bd3786\"],[0.5555555555555556,\"#d8576b\"],[0.6666666666666666,\"#ed7953\"],[0.7777777777777778,\"#fb9f3a\"],[0.8888888888888888,\"#fdca26\"],[1.0,\"#f0f921\"]],\"sequentialminus\":[[0.0,\"#0d0887\"],[0.1111111111111111,\"#46039f\"],[0.2222222222222222,\"#7201a8\"],[0.3333333333333333,\"#9c179e\"],[0.4444444444444444,\"#bd3786\"],[0.5555555555555556,\"#d8576b\"],[0.6666666666666666,\"#ed7953\"],[0.7777777777777778,\"#fb9f3a\"],[0.8888888888888888,\"#fdca26\"],[1.0,\"#f0f921\"]],\"diverging\":[[0,\"#8e0152\"],[0.1,\"#c51b7d\"],[0.2,\"#de77ae\"],[0.3,\"#f1b6da\"],[0.4,\"#fde0ef\"],[0.5,\"#f7f7f7\"],[0.6,\"#e6f5d0\"],[0.7,\"#b8e186\"],[0.8,\"#7fbc41\"],[0.9,\"#4d9221\"],[1,\"#276419\"]]},\"xaxis\":{\"gridcolor\":\"white\",\"linecolor\":\"white\",\"ticks\":\"\",\"title\":{\"standoff\":15},\"zerolinecolor\":\"white\",\"automargin\":true,\"zerolinewidth\":2},\"yaxis\":{\"gridcolor\":\"white\",\"linecolor\":\"white\",\"ticks\":\"\",\"title\":{\"standoff\":15},\"zerolinecolor\":\"white\",\"automargin\":true,\"zerolinewidth\":2},\"scene\":{\"xaxis\":{\"backgroundcolor\":\"#E5ECF6\",\"gridcolor\":\"white\",\"linecolor\":\"white\",\"showbackground\":true,\"ticks\":\"\",\"zerolinecolor\":\"white\",\"gridwidth\":2},\"yaxis\":{\"backgroundcolor\":\"#E5ECF6\",\"gridcolor\":\"white\",\"linecolor\":\"white\",\"showbackground\":true,\"ticks\":\"\",\"zerolinecolor\":\"white\",\"gridwidth\":2},\"zaxis\":{\"backgroundcolor\":\"#E5ECF6\",\"gridcolor\":\"white\",\"linecolor\":\"white\",\"showbackground\":true,\"ticks\":\"\",\"zerolinecolor\":\"white\",\"gridwidth\":2}},\"shapedefaults\":{\"line\":{\"color\":\"#2a3f5f\"}},\"annotationdefaults\":{\"arrowcolor\":\"#2a3f5f\",\"arrowhead\":0,\"arrowwidth\":1},\"geo\":{\"bgcolor\":\"white\",\"landcolor\":\"#E5ECF6\",\"subunitcolor\":\"white\",\"showland\":true,\"showlakes\":true,\"lakecolor\":\"white\"},\"title\":{\"x\":0.05},\"mapbox\":{\"style\":\"light\"}}},\"scene\":{\"domain\":{\"x\":[0.0,1.0],\"y\":[0.0,1.0]},\"xaxis\":{\"title\":{\"text\":\"PC1\"}},\"yaxis\":{\"title\":{\"text\":\"PC2\"}},\"zaxis\":{\"title\":{\"text\":\"PC3\"}}},\"legend\":{\"tracegroupgap\":0},\"title\":{\"text\":\"Interactive 3D Projection of the First Three Principal Components\",\"font\":{\"size\":20}},\"width\":1200,\"height\":900},                        {\"responsive\": true}                    ).then(function(){\n",
       "                            \n",
       "var gd = document.getElementById('67bb0b73-c09f-40f1-891e-be857b4c8d78');\n",
       "var x = new MutationObserver(function (mutations, observer) {{\n",
       "        var display = window.getComputedStyle(gd).display;\n",
       "        if (!display || display === 'none') {{\n",
       "            console.log([gd, 'removed!']);\n",
       "            Plotly.purge(gd);\n",
       "            observer.disconnect();\n",
       "        }}\n",
       "}});\n",
       "\n",
       "// Listen for the removal of the full notebook cells\n",
       "var notebookContainer = gd.closest('#notebook-container');\n",
       "if (notebookContainer) {{\n",
       "    x.observe(notebookContainer, {childList: true});\n",
       "}}\n",
       "\n",
       "// Listen for the clearing of the current output cell\n",
       "var outputEl = gd.closest('.output');\n",
       "if (outputEl) {{\n",
       "    x.observe(outputEl, {childList: true});\n",
       "}}\n",
       "\n",
       "                        })                };                });            </script>        </div>"
      ]
     },
     "metadata": {},
     "output_type": "display_data"
    }
   ],
   "source": [
    "import plotly.express as px\n",
    "import pandas as pd\n",
    "\n",
    "# Create a DataFrame for the first three principal components\n",
    "projected_3d_df = pd.DataFrame(pca_result[:, :3], columns=['PC1', 'PC2', 'PC3'])\n",
    "\n",
    "# Create an interactive 3D scatter plot\n",
    "fig = px.scatter_3d(\n",
    "    projected_3d_df,\n",
    "    x='PC1',\n",
    "    y='PC2',\n",
    "    z='PC3',\n",
    "    title='Interactive 3D Projection of the First Three Principal Components',\n",
    "    opacity=0.7\n",
    ")\n",
    "# Customize the layout for a larger figure\n",
    "fig.update_layout(\n",
    "    width=1200,  # Increase width\n",
    "    height=900,  # Increase height\n",
    "    title_font=dict(size=20),\n",
    ")\n",
    "\n",
    "# Reduce marker size for smaller data points\n",
    "fig.update_traces(marker=dict(size=3))  # Adjust the size of the data points\n",
    "\n",
    "# Show the interactive plot\n",
    "fig.show()\n"
   ]
  },
  {
   "cell_type": "code",
   "execution_count": 126,
   "id": "8b30f190-4cc7-424b-830a-49f2c91db2ed",
   "metadata": {},
   "outputs": [
    {
     "name": "stderr",
     "output_type": "stream",
     "text": [
      "C:\\Users\\Katerina\\anaconda3\\Lib\\site-packages\\sklearn\\cluster\\_kmeans.py:1429: UserWarning:\n",
      "\n",
      "KMeans is known to have a memory leak on Windows with MKL, when there are less chunks than available threads. You can avoid it by setting the environment variable OMP_NUM_THREADS=2.\n",
      "\n"
     ]
    },
    {
     "data": {
      "image/png": "[encoded data removed]",
      "text/plain": [
       "<Figure size 800x600 with 2 Axes>"
      ]
     },
     "metadata": {},
     "output_type": "display_data"
    },
    {
     "name": "stdout",
     "output_type": "stream",
     "text": [
      "Cluster Centers (in PCA space):\n",
      "Cluster 1: [ 0.56568386  0.58928491 -0.11160994 -0.1861031  -0.06333248 -0.0381496 ]\n",
      "Cluster 2: [-1.73402157e+00 -1.80947351e-01 -2.33027962e-02  7.82441188e-02\n",
      " -7.60052261e-04  1.88203978e-02]\n",
      "Cluster 3: [ 3.44061357 -0.19588571  0.17099365  0.01279599  0.06804574 -0.00384436]\n",
      "\n",
      "Cluster Sizes:\n",
      "Cluster 0: 90 samples\n",
      "Cluster 1: 200 samples\n",
      "Cluster 2: 86 samples\n"
     ]
    },
    {
     "data": {
      "application/vnd.plotly.v1+json": {
       "config": {
        "plotlyServerURL": "https://plot.ly"
       },
       "data": [
        {
         "hovertemplate": "color=2<br>Principal Component 1=%{x}<br>Principal Component 2=%{y}<br>Principal Component 3=%{z}<extra></extra>",
         "legendgroup": "2",
         "marker": {
          "color": "#636efa",
          "symbol": "circle"
         },
         "mode": "markers",
         "name": "2",
         "scene": "scene",
         "showlegend": true,
         "type": "scatter3d",
         "x": [
          2.6094300089322586,
          3.572337825823646,
          2.996146102570465,
          2.9232208167803835,
          2.9098381151418953,
          4.869380855562328,
          4.499979722545976,
          3.8879320503600723,
          3.866312250176728,
          3.866150184817678,
          4.358366880691867,
          3.8400529786869297,
          4.38717552172807,
          3.490234320746925,
          3.327798504151617,
          4.738739458729247,
          4.466791208619029,
          4.739130926428618,
          3.9268612878803713,
          4.289036531186978,
          3.239200992455954,
          3.5336171475937954,
          3.053014352274185,
          3.7474713528384886,
          3.840736084980156,
          4.499251723093437,
          3.160925379926643,
          2.958919013515093,
          2.9430757445347826,
          3.2047042418530562,
          3.851955476935116,
          3.2107714729278447,
          3.403598714687069,
          2.888508880999672,
          3.1638041613629637,
          4.058725374114545,
          3.774302320450673,
          3.232399127493877,
          3.9765476186113404,
          4.218340662030763,
          4.508132942548206,
          4.124043867292993,
          4.236058775695614,
          3.3479184488723552,
          3.1344226649867575,
          4.018651766893778,
          2.9309453478475116,
          3.6732033328599063,
          3.4613202061629993,
          3.0716065791003455,
          3.0664119641362957,
          4.324512331391147,
          3.423315279965346,
          3.264644624534306,
          3.6901665147999942,
          2.660348588522849,
          3.0177100211978063,
          3.272118238336903,
          2.6237720253511663,
          3.56224195646056,
          3.275631819016261,
          3.9820057003683145,
          3.5519650525368087,
          2.7031336142382667,
          3.0877564419151176,
          2.962775457770306,
          3.1280244027446873,
          2.8330344426511798,
          4.263672114524618,
          3.8707608862009115,
          4.350644022923579,
          3.315350481347575,
          2.7013542769679737,
          2.532182239527552,
          2.554658027229328,
          2.0227236917670344,
          2.6313843213099744,
          2.9263647968762805,
          2.4453508313329175,
          2.552862186638354,
          3.0932291670498304,
          2.5233952123117143,
          3.30929684713312,
          3.1254572022547773,
          2.01411506067736,
          3.199307964962856
         ],
         "y": [
          -0.720584331540947,
          -0.8317943198642569,
          -1.1765436413165822,
          -0.7582525281127848,
          -1.2788411085826512,
          -1.2225555386015357,
          -1.9140178255736089,
          -1.3917545787458456,
          -2.041160509798157,
          -1.394076302286679,
          0.016209740466960203,
          -0.4485905745446344,
          -0.536875103344715,
          0.11976135800332742,
          -0.0960754610576064,
          -0.3386949792370328,
          -0.20591705113773515,
          -0.1021218650314157,
          -0.38718402448061556,
          -0.3858356036306662,
          0.05251722120394179,
          -0.06478531215661161,
          -0.8982071033684943,
          0.2620410694556254,
          0.2645397183646709,
          -0.22639447413269395,
          -0.39341328967215944,
          0.37908425139347496,
          1.0966756061080027,
          0.25078716040874854,
          -0.13655085513310514,
          -0.7768133977624814,
          -0.03376285788501856,
          0.4594316647029589,
          -0.4158088931287644,
          -0.20419127097665032,
          0.027924949491368405,
          0.4788287152821024,
          -0.9219402491791083,
          0.7544303621479194,
          0.07647633650532264,
          0.07555298662853986,
          -0.16717224071507306,
          -0.08440666782190871,
          -1.0670707559653572,
          -0.9252077743795176,
          0.2200194503080781,
          0.7016409468540541,
          0.1967251443890541,
          1.1670424475090702,
          0.8236009310330659,
          -0.5289331964578423,
          0.3839194465107974,
          0.4819896886573626,
          0.3049655169928092,
          -0.6267982926818622,
          -0.16667940118057814,
          -0.14671927099449658,
          0.2419577448516617,
          -0.1232774806139277,
          -0.035274823439233126,
          -0.5287963840418813,
          -0.36516063145327055,
          0.653376206696625,
          0.18750837429431147,
          -0.4742486544063763,
          0.1276381237348059,
          0.6740769980144686,
          -0.8607563071250994,
          -0.7583994525671243,
          -0.46470301272626097,
          0.46864806095359113,
          -0.3140049691823224,
          -0.5528508510946271,
          -0.4425434049856713,
          -0.5889083933885254,
          -1.1502471360772104,
          0.05052336718211196,
          0.6261865366868304,
          -0.13962304652829233,
          -0.08197366120187861,
          0.4942737124343966,
          0.5526568503990159,
          0.36015333994609844,
          0.30362348781586374,
          -0.28445999123766
         ],
         "z": [
          0.28171682105751605,
          0.05851576602373041,
          0.22120394651748806,
          0.018250884298406246,
          0.046110531432716685,
          0.30731983162189136,
          0.008868925787500849,
          0.04273745035496255,
          -0.3002185453787578,
          0.12785508642379093,
          -0.27604384014609207,
          0.07964996157698188,
          0.24600551241557242,
          0.17476495522263066,
          0.033045378109517,
          0.06450408108317295,
          0.2273587191299344,
          0.2982161012019837,
          -0.01649138535250485,
          0.26034050231346884,
          0.1790653396973266,
          0.14023030972318026,
          0.1437584193141271,
          0.12816582470426804,
          0.004796993704670328,
          0.1714350368311288,
          0.028314114762344335,
          -0.028026891239591144,
          0.10163675609797028,
          0.08871297452661751,
          -0.0022655174092409895,
          -0.18253997572724615,
          0.009990424915186293,
          0.07582163302465837,
          0.05017399172459345,
          0.19525952111491615,
          0.0712451668816123,
          0.1494683268165464,
          -0.1436022181947945,
          0.1999663289390405,
          0.18274888149816923,
          0.1425733265670259,
          -0.06888208878588233,
          0.24578006930058302,
          -0.11228086445905351,
          -0.42886502482219924,
          0.27950251388305847,
          0.2314547882507407,
          0.13284044939860282,
          0.2772171332297215,
          0.16851475948564662,
          0.5088284134133731,
          0.3746714172733162,
          0.41769395663905384,
          0.278129602713983,
          -0.34183068649470216,
          0.4071372040030963,
          0.26883502249491387,
          0.21340360558867297,
          0.20057900055644626,
          -0.09414865335056379,
          0.3737092690635998,
          -0.03635425353196633,
          -0.02873713155422799,
          -0.08259439853557417,
          0.3067238103497927,
          0.2519593627134058,
          0.2654060095209142,
          0.3867348725858979,
          0.1929701638258203,
          0.40670292720060863,
          0.4913448955537816,
          0.5734744331035928,
          0.5553205341068177,
          0.4448032836292496,
          -0.4665236336393518,
          0.1610459665330499,
          0.4635062148764928,
          0.4337143175243544,
          0.34958507107958714,
          0.40722635369979077,
          0.5857907560609151,
          0.6078745246225772,
          0.3784478612455575,
          0.4893207583403386,
          0.6247815910649943
         ]
        },
        {
         "hovertemplate": "color=1<br>Principal Component 1=%{x}<br>Principal Component 2=%{y}<br>Principal Component 3=%{z}<extra></extra>",
         "legendgroup": "1",
         "marker": {
          "color": "#EF553B",
          "symbol": "circle"
         },
         "mode": "markers",
         "name": "1",
         "scene": "scene",
         "showlegend": true,
         "type": "scatter3d",
         "x": [
          -1.0206784715334016,
          -1.4126483292696264,
          -2.739069001414088,
          -1.3154688782713282,
          -1.0256768813252866,
          -1.3951856591067333,
          -0.645903427127411,
          -1.4126483292696264,
          -1.2870044696329987,
          -1.035989672678606,
          -2.2195102287777324,
          -1.52512471662442,
          -1.0110726928614386,
          -1.3003361714512924,
          -2.480524660464959,
          -1.8011576410454717,
          -2.736183765407593,
          -2.8612271726587535,
          -2.44083043783438,
          -2.39156071338558,
          -1.1267149856842367,
          -1.693881478233605,
          -2.59614296218373,
          -1.242865517474579,
          -1.1854691006306493,
          -1.3919646144432283,
          -1.1243669162744572,
          -1.9759598256075932,
          -1.0925306753156503,
          -1.612855140318835,
          -0.7833237172523901,
          -1.6031848434885592,
          -1.6546248412748845,
          -2.735066686602498,
          -1.4750079423222882,
          -1.53276988695419,
          -1.1170895728836496,
          -1.2752326389648165,
          -1.3715859416229692,
          -2.859331867203088,
          -1.435896180393988,
          -0.6340675975909887,
          -0.5250173000271163,
          -2.580790054923145,
          -1.4078124980996563,
          -2.9817813379169955,
          -1.347210302982404,
          -1.7575102037971853,
          -1.9151994366635017,
          -1.400353550128635,
          -2.6648258755002674,
          -2.6652270491663246,
          -1.6683148291631211,
          -1.580013260775503,
          -1.325099357063271,
          -0.9014053170910954,
          -1.2210032686732473,
          -2.215192779045343,
          -1.8346043310116127,
          -1.0871312802804334,
          -1.346411050507285,
          -0.5691775403311224,
          -1.7370604971731707,
          -1.1026331553369926,
          -1.8282355634203427,
          -0.7894983346200201,
          -0.9454149141569074,
          -0.4820937382541126,
          -0.4503680257410876,
          -2.72528224828117,
          -1.3831278658692283,
          -1.536288097849249,
          -0.873271185692745,
          -1.768426383479866,
          -1.5119890531048215,
          -2.960267874384699,
          -2.4816714600234198,
          -1.8508537098989197,
          -2.713973175041881,
          -1.6652404240872671,
          -2.320012605847406,
          -1.8356789422679403,
          -1.0684096955680118,
          -2.4014615026483446,
          -1.6315806241037492,
          -2.9811115689252072,
          -1.1402567374228645,
          -2.3999655905248893,
          -1.7476512374161368,
          -0.8850092739469287,
          -1.8761556736679097,
          -0.9439347688459452,
          -2.2409787853908925,
          -2.00210767199548,
          -2.134192579870662,
          -1.6496681112900884,
          -0.2894342483832442,
          -0.7526980043087451,
          -3.6781540775934456,
          -2.3346358761963977,
          -2.901477819767243,
          -2.8479718827030855,
          -2.6704082893967382,
          -0.9090713677564363,
          -2.0384863043976247,
          -0.9201338701397149,
          -1.139791618489735,
          -1.6975737898125998,
          -0.6751323563435365,
          -0.6498730197411626,
          -1.0075356285445225,
          -0.9335942669810825,
          -0.4550900384240763,
          -2.025127748435332,
          -2.034032555674295,
          -0.8871985124490782,
          -1.9786029743444444,
          -2.295144431664676,
          -2.071339238985628,
          -1.201023006049616,
          -1.8047818153006874,
          -2.039136851133104,
          -2.607398126175684,
          -2.2506947973873523,
          -1.1009894019113582,
          -1.1125436357565495,
          -2.3416131763200805,
          -2.96760611968598,
          -2.0282938724875716,
          -2.570702932623006,
          -1.1322884727621165,
          -1.2038025280697127,
          -1.1737349823592178,
          -2.042801045667262,
          -1.1734953080738488,
          -1.8256548546148939,
          -1.683405652422841,
          -1.8130797815386335,
          -3.1867330326946908,
          -0.6079595710258663,
          -3.0332843464782018,
          -3.7112249149351966,
          -1.856865425148646,
          -2.7061684782703352,
          -3.059315795189929,
          -2.4307231860233176,
          -2.1741276437048542,
          -1.5931213013289096,
          -0.3877366785654848,
          -2.0574670220725295,
          -1.2490947200920317,
          -1.1478766947581105,
          -0.7610349238020762,
          -1.1349633139369046,
          -2.988728125378219,
          -2.754153051200804,
          -2.650260041785316,
          -2.3713466051365426,
          -2.9271545192831683,
          -2.707803370212102,
          -2.3187608352271187,
          -2.1062887269255843,
          -2.3327902267061074,
          -2.4286848142093342,
          -1.808116237043677,
          -1.9702285944689264,
          -1.8349738041233823,
          -1.9597894609556152,
          -1.2460523665701688,
          -1.8959181257462243,
          -1.4630728422966033,
          -1.056911823379451,
          -1.7239515996685002,
          -1.53984760530166,
          -1.9690859996836096,
          -1.5519341360020311,
          -1.3592486571126916,
          -1.219328274749867,
          -0.836056616220532,
          -1.1337618059989998,
          -2.2008384938659185,
          -2.6989989334973554,
          -2.344587839323365,
          -2.304588554824493,
          -2.434308939774609,
          -1.765924027138252,
          -1.9698625110670573,
          -2.1754164281387194,
          -2.434264010695714,
          -2.1979132820634146,
          -2.55417784234769,
          -0.5762137242834506,
          -0.8012886935076765,
          -1.0092754305703884,
          -1.4696841520932558,
          -1.0269669236685246,
          -1.0207064862009927,
          -1.14050191725372,
          -1.6809037187592009,
          -1.8447073788057653
         ],
         "y": [
          -0.5383092303598785,
          -0.8985092404603368,
          1.3592373922051582,
          0.43423402992716065,
          -0.679250129766995,
          0.29523160980441465,
          -1.6211090744378385,
          -0.8985092404603368,
          -0.5070615489245163,
          -0.9781524663488794,
          0.8744462640812106,
          1.1008884245457542,
          -0.848717557532404,
          -1.107089601777254,
          0.791456028204058,
          -0.9947173243499526,
          0.49229272898095594,
          -0.09156868603787079,
          0.7241672206058706,
          1.28052042894723,
          -0.39210249561398663,
          0.10114758740287937,
          2.637545999241448,
          1.2749860380899103,
          0.11660499492391933,
          0.742683199015777,
          1.4114394231492655,
          0.48331448207043376,
          -0.04590248351652409,
          -0.024124727578521344,
          -0.6330944021619573,
          -0.713447947041822,
          -0.202206522877943,
          1.5727806521740406,
          1.0211767615544816,
          1.3155897646422954,
          0.07374632980620892,
          0.935194951413105,
          -0.4697770114204312,
          0.850924179750917,
          -0.33504236923267544,
          -0.6422131899231501,
          -0.8595659623981015,
          0.5484358049533099,
          0.014548155238321269,
          1.1780940208305868,
          0.30281190756887155,
          -0.22060345595591818,
          -0.48049738922200474,
          -0.7569824548379973,
          -0.3647061515317282,
          0.5570088471930313,
          -0.8877343829524408,
          -0.3783691186823142,
          -0.9170954707958595,
          -0.5025440424481963,
          -0.43260076804184794,
          -0.4944073497642281,
          -0.376574489296765,
          0.3779602201419873,
          0.9154391826047357,
          -0.9441102828286727,
          -0.010282013056604557,
          0.22041969943025594,
          -1.1421162272444156,
          -0.3920076507986804,
          0.4363328333154526,
          -0.4547731721152979,
          -1.096124005560411,
          -0.0345389177437981,
          -0.458653660575347,
          0.11087173556139983,
          -0.5074837197175317,
          0.35448618639738466,
          -0.5655919164629171,
          1.8620170965068958,
          2.026947083085714,
          -1.0715194024925452,
          -0.0698373301197341,
          -1.8311058701363176,
          -0.1927159329584253,
          -0.20007122055705395,
          -0.9367334621637319,
          0.3975796177656524,
          -0.8542648014007048,
          0.2063080640746687,
          -0.4409189275160987,
          -0.3385079054177739,
          -0.9943625196797832,
          -0.014810469290253089,
          0.5516696157136117,
          -0.13718329575589774,
          -0.066353452960168,
          -0.660879032314859,
          -0.2987389893085348,
          -1.1157069391839114,
          -1.2013165494436107,
          -1.0155131513287277,
          1.052019070219266,
          -1.305469289900576,
          0.6964591756695976,
          0.09839560439188148,
          -0.5790543112294366,
          -0.26883848135974925,
          -0.21225150051689637,
          -0.8797684730245731,
          -0.7998655656759068,
          -0.9555498541071763,
          -0.42350305504727076,
          0.213032921705426,
          0.6292277890230215,
          -0.5619063099803209,
          -0.1420285431995846,
          -0.9141920839113504,
          -0.16316449049750129,
          0.5699034819877508,
          -1.2690056042375855,
          -0.8937034460389763,
          -1.317039497490944,
          -0.5020668860031301,
          -1.5344823807066554,
          -0.9626579574368785,
          0.6247530233461451,
          -1.1630257672663828,
          -0.20443336591904754,
          -1.4358872257334558,
          -1.3535421937084084,
          0.23921175998961355,
          -0.6707458459490705,
          -0.5813865494140373,
          -0.009178001975551676,
          0.6799423633761401,
          1.5159936547822788,
          -0.670043657889713,
          -0.44216234536529647,
          0.20344062391506382,
          -1.0242049594215947,
          -0.7466479704150724,
          -0.40295853386702624,
          -0.7712938968405985,
          0.2895684963370497,
          1.1062768458497798,
          2.0662330391873365,
          -1.8570562655404563,
          -0.4413448701952841,
          0.16381974126582596,
          -0.7092636032199564,
          -0.8650564072384759,
          -0.6155145607461675,
          -0.09847441702871691,
          -0.3087390229622892,
          0.026094583824666503,
          -0.6841333375186899,
          -1.444224716164526,
          -0.5417580119605145,
          -0.6959882283938321,
          -0.6678406349507522,
          0.12814502282012355,
          0.47043579680978836,
          -0.256917659232267,
          -0.6167474270135397,
          -0.9174052730684108,
          -0.5177438513989752,
          1.3607070148826481,
          -1.154678970329489,
          -0.6324677553128685,
          -1.108499088630181,
          -0.16258061795428183,
          -0.9076143938544601,
          0.5082807832426427,
          1.5770819735613715,
          1.3036928633462654,
          1.0299852023226532,
          0.7287420986910036,
          0.15476448354145936,
          -0.2873327897671126,
          -0.2644035576057237,
          0.5791272590778144,
          0.15685704350150723,
          1.7201011419806942,
          -0.9554488493544129,
          0.05535776975297927,
          0.06863456849281695,
          -1.1505317637958394,
          -0.19157531881399717,
          -1.228947779017075,
          -1.1678801055415746,
          -0.20270942962137786,
          -1.1293579666067979,
          -0.6394816687632245,
          -0.6961114881592589,
          0.1246431685363784,
          -0.6682042904421889,
          -1.128085719981991,
          -1.6565464799687741,
          0.40130800365652025,
          -0.24331325748404256,
          -2.013029803931305,
          0.7334811833949497,
          0.9101481958390059
         ],
         "z": [
          -0.6955378199766514,
          -0.4884956518137041,
          -0.25079819021387617,
          -0.3805100565193571,
          -0.7272245079069006,
          -0.466205947166887,
          -0.6483545147022892,
          -0.4884956518137041,
          -0.1608674537828466,
          -0.6740983603195757,
          -0.4203334074151257,
          -0.5573371260057824,
          -0.8545698815381972,
          -0.35305503323030346,
          0.08729777366101664,
          -0.18963001101590685,
          0.08833584086595446,
          0.4315883268435866,
          -0.24713422470233123,
          -0.27363958704422486,
          -0.6841162419443637,
          -0.5477624218911405,
          -0.32671070415866865,
          -0.7655960808625123,
          -0.9225419848690237,
          -0.6612045376566644,
          -0.6056623213561416,
          -0.35966721190073037,
          -0.8106303718928101,
          -0.2051813755433409,
          -0.7881257085876584,
          -0.3312207898768759,
          -0.37560663931784516,
          -0.19878307352077368,
          -0.9538080508676066,
          -0.6377838908334219,
          -0.83732426478131,
          -1.0039096583025326,
          -0.5107935934818033,
          -0.07259230520952333,
          -0.6752800129682539,
          -1.141481050067629,
          -0.6907080621508459,
          0.14570168328777053,
          -0.32820826496507627,
          0.328054138609045,
          -0.32712902961747814,
          -0.1261362126109762,
          -0.6033567315617074,
          -0.5529066431547165,
          -0.0536214468146903,
          0.28419119220097844,
          -0.3880612604330969,
          -0.7670697358224129,
          -0.5296926104994079,
          -0.6529824846314547,
          -0.458153279427609,
          -0.022660698167481418,
          -0.15922577122850726,
          -0.534890407604161,
          -0.44931398468148787,
          -0.655319231458614,
          -0.5720749393803983,
          -0.526546770386957,
          -0.3398206135937646,
          -0.7354489910470065,
          -0.5419315046015523,
          -0.8096027739733709,
          -0.6151526237569841,
          0.29784519044486746,
          -0.22166374049779977,
          -0.47817257706852145,
          -0.46522583722435307,
          -0.3696783284269576,
          -0.4087292656466072,
          0.17056995827421953,
          -0.26778808709393087,
          -0.3279490299710569,
          0.2919093986335136,
          -0.3930709055747459,
          0.15906129297578483,
          -0.24735637498686566,
          -0.3579285803967907,
          0.24770408397000285,
          -0.0862689822736349,
          0.6517135675075301,
          -0.48941595107937874,
          0.30159867127693785,
          -0.2965301328879527,
          -0.38242493547715767,
          -0.33667936539561516,
          -0.3184760785627494,
          0.05673467613008785,
          0.29972787517311705,
          -0.05377360141281209,
          -0.10856723818586923,
          -1.045506540550671,
          -1.3639065951362332,
          1.6732293864864425,
          0.45934239280216904,
          0.3858696977573981,
          1.0744415330094133,
          0.5627620952474817,
          -0.39139001224717995,
          -0.012795929429962792,
          -0.2595338796390432,
          -0.36260408780890585,
          -0.004892701287741462,
          -0.9287626071226758,
          -0.4847869319224796,
          -0.3378514592767194,
          -0.6892668556724477,
          -0.8302858468650576,
          -0.008479609699057498,
          -0.06512775261298266,
          -0.5501364687265071,
          -0.031020068080029904,
          0.28653760091355995,
          0.4223010362254215,
          -0.22559360415903998,
          0.276711652243559,
          0.40053857965534867,
          0.27939054648530137,
          0.6462652282381158,
          0.025899761531277467,
          0.3922629322050789,
          1.1199646522327824,
          0.9490698557473377,
          0.14718977345986414,
          0.7034881189983436,
          0.013626087577521574,
          -0.06059354349994497,
          -0.11199617067657894,
          0.4052640680774705,
          0.10279009915201019,
          0.32463936674248517,
          0.7528060936910194,
          0.19432235243863813,
          1.832601332616313,
          -0.09942681451156739,
          1.275766202803073,
          1.8350430738964238,
          0.6671430114950028,
          1.3347194695510867,
          1.1283857514563524,
          0.485586761187748,
          -0.1875990224016795,
          0.5680338022043745,
          -0.6031728433165799,
          0.32801959996635843,
          -0.20109578461606184,
          -0.14613218575035694,
          -0.34805921913985605,
          -0.08314666968794794,
          0.8743841928844266,
          0.8724320493662447,
          0.3968508936828279,
          0.2950277834277738,
          0.8481057792495629,
          0.830185882930999,
          0.34834956629362157,
          0.4428521215128607,
          0.4300035959409563,
          0.2727328332217463,
          0.19907334875178992,
          0.46212589767347245,
          0.296145845680411,
          0.3275575816615064,
          0.32107936200007636,
          0.42395234155714845,
          0.3429800144301353,
          1.0895050237541,
          0.06260679886950841,
          -0.09871928990473379,
          0.5794431538520717,
          0.18466239035239826,
          0.019288588862577206,
          0.0049677981566841126,
          -0.4280464466262799,
          -0.223433695969127,
          0.5498776875995333,
          0.8021278663250224,
          0.10323381520025475,
          0.7724283012420109,
          0.6791930769065543,
          0.5688341281678763,
          0.5512726030682812,
          0.492793537366938,
          0.7104286598326447,
          0.09938241242937483,
          0.7874849853001079,
          2.0601539661419843,
          -0.3271681620121646,
          0.2629351694371398,
          0.5724725003405438,
          0.005176158884265848,
          -0.15699956188625283,
          0.03973982893171555,
          0.042591132099882946,
          0.42826966874132666
         ]
        },
        {
         "hovertemplate": "color=0<br>Principal Component 1=%{x}<br>Principal Component 2=%{y}<br>Principal Component 3=%{z}<extra></extra>",
         "legendgroup": "0",
         "marker": {
          "color": "#00cc96",
          "symbol": "circle"
         },
         "mode": "markers",
         "name": "0",
         "scene": "scene",
         "showlegend": true,
         "type": "scatter3d",
         "x": [
          0.17881705071173815,
          0.38858598605225897,
          -0.07539726791426166,
          0.13017769654873962,
          0.7334609812930579,
          1.0655099044588843,
          1.0033724668550879,
          0.7282300762036584,
          0.8476518865802104,
          1.1497820352505823,
          0.9300008453052283,
          0.8080867589218855,
          -0.09635425615477877,
          0.6798202577703315,
          0.746379762484299,
          0.6105164805076344,
          0.5197781084061324,
          0.10706758938352762,
          0.6414729673591885,
          0.1719173734263517,
          -0.29625329774110576,
          0.656651228375767,
          0.3125266554893576,
          0.09294064832058055,
          0.5347647043678339,
          0.942593293052746,
          1.124300786590581,
          1.0988012078202427,
          0.9388590321699161,
          0.6292734468411211,
          1.027584696052195,
          0.17734516768572944,
          0.20271983500374485,
          0.7294087733167901,
          1.0806369682435952,
          1.089893336562234,
          0.6168942765921056,
          0.7406069739187386,
          1.722159388352792,
          0.4890235179450583,
          0.48538912409284607,
          0.4550932645889915,
          0.5879473144900502,
          0.9310688002611243,
          -0.24225486958206974,
          0.13684965273547903,
          0.6530877016803698,
          0.17222898773003342,
          1.141501086552487,
          0.6167123100125181,
          -0.3120057481332008,
          -1.1244216826871885,
          0.3661004906255291,
          1.0405632534330278,
          1.690591378210893,
          1.1056559502106014,
          0.6903589457116032,
          0.6946168755112823,
          0.6059114125896748,
          0.07280599047232178,
          1.5679917977026765,
          0.5565268532960036,
          0.130945063606605,
          0.18830703903749235,
          0.5669833665843161,
          0.41091433378261033,
          0.7858076098260914,
          0.1102566210213674,
          0.7270916054530427,
          1.329247193198501,
          -0.2398385228179002,
          1.0490763897448148,
          1.0883377252200137,
          0.8424352494201114,
          -0.048913896602039625,
          0.28471262245114126,
          0.7225203204734434,
          -0.7163417066601748,
          2.0742178941610376,
          0.3172387959010733,
          0.2967477031097665,
          0.315372485187546,
          0.4524721972359032,
          0.4999225387788109,
          0.3953598782468622,
          0.7744789901836242,
          0.1302455950513121,
          0.6110696180936718,
          0.09592289291768953,
          0.6450318663268397
         ],
         "y": [
          0.07067464636647804,
          0.20531269699820912,
          0.2567584684610204,
          -0.1007646796731473,
          -0.7420599213339321,
          0.4906792425879926,
          0.46409054271118416,
          0.43001148563529,
          0.39157350921144496,
          -0.43850017817398507,
          0.19152668019393917,
          0.06497588442396525,
          -0.3615883430421812,
          0.6602796119517386,
          1.3705840197531722,
          0.4575563454859272,
          0.7329263808598366,
          0.22957722722676152,
          0.05431146605773813,
          -0.6352081833275067,
          -0.07001076934684612,
          -0.7316934187001224,
          0.5912554922921266,
          0.6562407988277728,
          0.4029156663773284,
          1.0767511557393639,
          1.17965861459269,
          1.4467210177248053,
          0.8187943029072949,
          0.5356862216810427,
          0.6188565587222759,
          2.6492318127604024,
          2.0314771203696997,
          2.5255451504732545,
          1.7233627422615267,
          1.8717437744781238,
          1.8029611980551028,
          -0.03387386571491768,
          -0.31774095560464616,
          0.366639494147727,
          -0.1093239064721445,
          0.9020678135931516,
          0.1693688871612825,
          -0.10662944016641669,
          0.8555840539469167,
          0.9316370722425621,
          1.1968345593244525,
          2.5458137537175456,
          0.7060019444210168,
          1.2434247399403575,
          0.10668980274464833,
          2.4286570095465176,
          0.11917530318652067,
          0.8876746091324673,
          2.0132844281873212,
          0.7767902963069151,
          0.8045368459333788,
          1.23053325690437,
          1.711244428139415,
          -0.35180203728913817,
          0.43657463608581915,
          1.7044445461089852,
          1.1902656443456006,
          0.34031897573498165,
          0.9289074759795907,
          0.9561566265996766,
          0.39770955804008484,
          0.6675553007742975,
          1.5501904839845344,
          0.22027566258852246,
          0.11549366361064943,
          -0.47427338534315006,
          0.384620406557553,
          0.13031203135990418,
          1.211721308451828,
          1.294489233747337,
          0.6442267609044914,
          1.791978071526453,
          1.17895114171868,
          -1.8824500765547112,
          -1.2029169866919691,
          1.545537906120001,
          -1.1440790989822893,
          -1.197588190646543,
          -0.7573308024060297,
          0.3130043458782339,
          0.8159185838527716,
          0.9151770232406551,
          0.21581889687089797,
          -0.25417062291320097
         ],
         "z": [
          -0.017865903055385955,
          -0.4635002846736026,
          -0.12708283851747565,
          -0.1834179775896627,
          -0.429545366846681,
          -0.4788621167137719,
          -0.30687127876189285,
          -0.08097938972401743,
          -0.26289194590275294,
          -0.3741840559028086,
          -0.1281466649699872,
          -0.28076251512429473,
          -1.2628690917285872,
          -0.2637362667902232,
          -0.27714821550157476,
          -0.29983300483957,
          -0.18496551890667376,
          0.1343693371790555,
          -0.3894904063554389,
          -0.43513375458345593,
          -1.1073698266855623,
          -0.5223604961683898,
          -0.12379306217951348,
          -0.023123885113463104,
          -0.19961288129823132,
          -0.43400707274855055,
          -0.2388097223883672,
          -0.1944732910889461,
          -0.16817635759825714,
          -0.14553809518518504,
          -0.14884485478733026,
          -0.14618744127270547,
          -0.28844264185479884,
          0.060543936218638274,
          -0.13291069638862565,
          -0.22484721380055553,
          0.024962032940448055,
          -0.029128479030651265,
          0.41393385347771144,
          -0.0883217926675793,
          -0.5704625058657842,
          -0.0687079787662331,
          0.13345626153453408,
          0.17659468424722505,
          0.38126948404282446,
          0.3231155733123787,
          0.13363428715638595,
          0.2008893692455692,
          -0.052132134455452304,
          -0.1114568223306296,
          -0.8922117592520796,
          -0.6253490383046778,
          -0.47264975278288135,
          -0.4761945945531709,
          0.5707471258488105,
          -0.1733051147266085,
          0.10990853448444664,
          0.020789378864076037,
          0.10436650837264048,
          -0.24714390985109036,
          0.5434281112182169,
          0.12640079530878653,
          0.048106238940583336,
          -0.15254934847120974,
          0.11541412578654396,
          -0.013524169929049888,
          0.04675120213077447,
          -0.013473660101489558,
          0.023362097199145705,
          -0.19265734522946762,
          -0.6540132622219461,
          -0.759348280441368,
          -0.6724015303783638,
          0.0833403740780795,
          -0.04874111122821997,
          0.14352916370275318,
          0.06574359351774665,
          0.47958801433386933,
          1.3644075101995201,
          0.3246199659475034,
          0.22245425462750995,
          0.05399774570576841,
          -0.14375743264477447,
          0.07430184105841328,
          -0.05314669201441651,
          0.24365996391074532,
          -0.06033338820018543,
          -0.21181973714133287,
          0.31293677131642755,
          0.023097440951808247
         ]
        }
       ],
       "layout": {
        "height": 900,
        "legend": {
         "title": {
          "text": "color"
         },
         "tracegroupgap": 0
        },
        "scene": {
         "aspectmode": "auto",
         "aspectratio": {
          "x": 1.661224892547956,
          "y": 0.9080706759469633,
          "z": 0.6629059521117341
         },
         "camera": {
          "center": {
           "x": 0,
           "y": 0,
           "z": 0
          },
          "eye": {
           "x": -0.0002502313869238318,
           "y": 0.18991757555393804,
           "z": 1.4072097883135124
          },
          "projection": {
           "type": "perspective"
          },
          "up": {
           "x": 0,
           "y": 0,
           "z": 1
          }
         },
         "domain": {
          "x": [
           0,
           1
          ],
          "y": [
           0,
           1
          ]
         },
         "xaxis": {
          "title": {
           "text": "Principal Component 1"
          },
          "type": "linear"
         },
         "yaxis": {
          "title": {
           "text": "Principal Component 2"
          },
          "type": "linear"
         },
         "zaxis": {
          "title": {
           "text": "Principal Component 3"
          },
          "type": "linear"
         }
        },
        "template": {
         "data": {
          "bar": [
           {
            "error_x": {
             "color": "#2a3f5f"
            },
            "error_y": {
             "color": "#2a3f5f"
            },
            "marker": {
             "line": {
              "color": "#E5ECF6",
              "width": 0.5
             },
             "pattern": {
              "fillmode": "overlay",
              "size": 10,
              "solidity": 0.2
             }
            },
            "type": "bar"
           }
          ],
          "barpolar": [
           {
            "marker": {
             "line": {
              "color": "#E5ECF6",
              "width": 0.5
             },
             "pattern": {
              "fillmode": "overlay",
              "size": 10,
              "solidity": 0.2
             }
            },
            "type": "barpolar"
           }
          ],
          "carpet": [
           {
            "aaxis": {
             "endlinecolor": "#2a3f5f",
             "gridcolor": "white",
             "linecolor": "white",
             "minorgridcolor": "white",
             "startlinecolor": "#2a3f5f"
            },
            "baxis": {
             "endlinecolor": "#2a3f5f",
             "gridcolor": "white",
             "linecolor": "white",
             "minorgridcolor": "white",
             "startlinecolor": "#2a3f5f"
            },
            "type": "carpet"
           }
          ],
          "choropleth": [
           {
            "colorbar": {
             "outlinewidth": 0,
             "ticks": ""
            },
            "type": "choropleth"
           }
          ],
          "contour": [
           {
            "colorbar": {
             "outlinewidth": 0,
             "ticks": ""
            },
            "colorscale": [
             [
              0,
              "#0d0887"
             ],
             [
              0.1111111111111111,
              "#46039f"
             ],
             [
              0.2222222222222222,
              "#7201a8"
             ],
             [
              0.3333333333333333,
              "#9c179e"
             ],
             [
              0.4444444444444444,
              "#bd3786"
             ],
             [
              0.5555555555555556,
              "#d8576b"
             ],
             [
              0.6666666666666666,
              "#ed7953"
             ],
             [
              0.7777777777777778,
              "#fb9f3a"
             ],
             [
              0.8888888888888888,
              "#fdca26"
             ],
             [
              1,
              "#f0f921"
             ]
            ],
            "type": "contour"
           }
          ],
          "contourcarpet": [
           {
            "colorbar": {
             "outlinewidth": 0,
             "ticks": ""
            },
            "type": "contourcarpet"
           }
          ],
          "heatmap": [
           {
            "colorbar": {
             "outlinewidth": 0,
             "ticks": ""
            },
            "colorscale": [
             [
              0,
              "#0d0887"
             ],
             [
              0.1111111111111111,
              "#46039f"
             ],
             [
              0.2222222222222222,
              "#7201a8"
             ],
             [
              0.3333333333333333,
              "#9c179e"
             ],
             [
              0.4444444444444444,
              "#bd3786"
             ],
             [
              0.5555555555555556,
              "#d8576b"
             ],
             [
              0.6666666666666666,
              "#ed7953"
             ],
             [
              0.7777777777777778,
              "#fb9f3a"
             ],
             [
              0.8888888888888888,
              "#fdca26"
             ],
             [
              1,
              "#f0f921"
             ]
            ],
            "type": "heatmap"
           }
          ],
          "heatmapgl": [
           {
            "colorbar": {
             "outlinewidth": 0,
             "ticks": ""
            },
            "colorscale": [
             [
              0,
              "#0d0887"
             ],
             [
              0.1111111111111111,
              "#46039f"
             ],
             [
              0.2222222222222222,
              "#7201a8"
             ],
             [
              0.3333333333333333,
              "#9c179e"
             ],
             [
              0.4444444444444444,
              "#bd3786"
             ],
             [
              0.5555555555555556,
              "#d8576b"
             ],
             [
              0.6666666666666666,
              "#ed7953"
             ],
             [
              0.7777777777777778,
              "#fb9f3a"
             ],
             [
              0.8888888888888888,
              "#fdca26"
             ],
             [
              1,
              "#f0f921"
             ]
            ],
            "type": "heatmapgl"
           }
          ],
          "histogram": [
           {
            "marker": {
             "pattern": {
              "fillmode": "overlay",
              "size": 10,
              "solidity": 0.2
             }
            },
            "type": "histogram"
           }
          ],
          "histogram2d": [
           {
            "colorbar": {
             "outlinewidth": 0,
             "ticks": ""
            },
            "colorscale": [
             [
              0,
              "#0d0887"
             ],
             [
              0.1111111111111111,
              "#46039f"
             ],
             [
              0.2222222222222222,
              "#7201a8"
             ],
             [
              0.3333333333333333,
              "#9c179e"
             ],
             [
              0.4444444444444444,
              "#bd3786"
             ],
             [
              0.5555555555555556,
              "#d8576b"
             ],
             [
              0.6666666666666666,
              "#ed7953"
             ],
             [
              0.7777777777777778,
              "#fb9f3a"
             ],
             [
              0.8888888888888888,
              "#fdca26"
             ],
             [
              1,
              "#f0f921"
             ]
            ],
            "type": "histogram2d"
           }
          ],
          "histogram2dcontour": [
           {
            "colorbar": {
             "outlinewidth": 0,
             "ticks": ""
            },
            "colorscale": [
             [
              0,
              "#0d0887"
             ],
             [
              0.1111111111111111,
              "#46039f"
             ],
             [
              0.2222222222222222,
              "#7201a8"
             ],
             [
              0.3333333333333333,
              "#9c179e"
             ],
             [
              0.4444444444444444,
              "#bd3786"
             ],
             [
              0.5555555555555556,
              "#d8576b"
             ],
             [
              0.6666666666666666,
              "#ed7953"
             ],
             [
              0.7777777777777778,
              "#fb9f3a"
             ],
             [
              0.8888888888888888,
              "#fdca26"
             ],
             [
              1,
              "#f0f921"
             ]
            ],
            "type": "histogram2dcontour"
           }
          ],
          "mesh3d": [
           {
            "colorbar": {
             "outlinewidth": 0,
             "ticks": ""
            },
            "type": "mesh3d"
           }
          ],
          "parcoords": [
           {
            "line": {
             "colorbar": {
              "outlinewidth": 0,
              "ticks": ""
             }
            },
            "type": "parcoords"
           }
          ],
          "pie": [
           {
            "automargin": true,
            "type": "pie"
           }
          ],
          "scatter": [
           {
            "fillpattern": {
             "fillmode": "overlay",
             "size": 10,
             "solidity": 0.2
            },
            "type": "scatter"
           }
          ],
          "scatter3d": [
           {
            "line": {
             "colorbar": {
              "outlinewidth": 0,
              "ticks": ""
             }
            },
            "marker": {
             "colorbar": {
              "outlinewidth": 0,
              "ticks": ""
             }
            },
            "type": "scatter3d"
           }
          ],
          "scattercarpet": [
           {
            "marker": {
             "colorbar": {
              "outlinewidth": 0,
              "ticks": ""
             }
            },
            "type": "scattercarpet"
           }
          ],
          "scattergeo": [
           {
            "marker": {
             "colorbar": {
              "outlinewidth": 0,
              "ticks": ""
             }
            },
            "type": "scattergeo"
           }
          ],
          "scattergl": [
           {
            "marker": {
             "colorbar": {
              "outlinewidth": 0,
              "ticks": ""
             }
            },
            "type": "scattergl"
           }
          ],
          "scattermapbox": [
           {
            "marker": {
             "colorbar": {
              "outlinewidth": 0,
              "ticks": ""
             }
            },
            "type": "scattermapbox"
           }
          ],
          "scatterpolar": [
           {
            "marker": {
             "colorbar": {
              "outlinewidth": 0,
              "ticks": ""
             }
            },
            "type": "scatterpolar"
           }
          ],
          "scatterpolargl": [
           {
            "marker": {
             "colorbar": {
              "outlinewidth": 0,
              "ticks": ""
             }
            },
            "type": "scatterpolargl"
           }
          ],
          "scatterternary": [
           {
            "marker": {
             "colorbar": {
              "outlinewidth": 0,
              "ticks": ""
             }
            },
            "type": "scatterternary"
           }
          ],
          "surface": [
           {
            "colorbar": {
             "outlinewidth": 0,
             "ticks": ""
            },
            "colorscale": [
             [
              0,
              "#0d0887"
             ],
             [
              0.1111111111111111,
              "#46039f"
             ],
             [
              0.2222222222222222,
              "#7201a8"
             ],
             [
              0.3333333333333333,
              "#9c179e"
             ],
             [
              0.4444444444444444,
              "#bd3786"
             ],
             [
              0.5555555555555556,
              "#d8576b"
             ],
             [
              0.6666666666666666,
              "#ed7953"
             ],
             [
              0.7777777777777778,
              "#fb9f3a"
             ],
             [
              0.8888888888888888,
              "#fdca26"
             ],
             [
              1,
              "#f0f921"
             ]
            ],
            "type": "surface"
           }
          ],
          "table": [
           {
            "cells": {
             "fill": {
              "color": "#EBF0F8"
             },
             "line": {
              "color": "white"
             }
            },
            "header": {
             "fill": {
              "color": "#C8D4E3"
             },
             "line": {
              "color": "white"
             }
            },
            "type": "table"
           }
          ]
         },
         "layout": {
          "annotationdefaults": {
           "arrowcolor": "#2a3f5f",
           "arrowhead": 0,
           "arrowwidth": 1
          },
          "autotypenumbers": "strict",
          "coloraxis": {
           "colorbar": {
            "outlinewidth": 0,
            "ticks": ""
           }
          },
          "colorscale": {
           "diverging": [
            [
             0,
             "#8e0152"
            ],
            [
             0.1,
             "#c51b7d"
            ],
            [
             0.2,
             "#de77ae"
            ],
            [
             0.3,
             "#f1b6da"
            ],
            [
             0.4,
             "#fde0ef"
            ],
            [
             0.5,
             "#f7f7f7"
            ],
            [
             0.6,
             "#e6f5d0"
            ],
            [
             0.7,
             "#b8e186"
            ],
            [
             0.8,
             "#7fbc41"
            ],
            [
             0.9,
             "#4d9221"
            ],
            [
             1,
             "#276419"
            ]
           ],
           "sequential": [
            [
             0,
             "#0d0887"
            ],
            [
             0.1111111111111111,
             "#46039f"
            ],
            [
             0.2222222222222222,
             "#7201a8"
            ],
            [
             0.3333333333333333,
             "#9c179e"
            ],
            [
             0.4444444444444444,
             "#bd3786"
            ],
            [
             0.5555555555555556,
             "#d8576b"
            ],
            [
             0.6666666666666666,
             "#ed7953"
            ],
            [
             0.7777777777777778,
             "#fb9f3a"
            ],
            [
             0.8888888888888888,
             "#fdca26"
            ],
            [
             1,
             "#f0f921"
            ]
           ],
           "sequentialminus": [
            [
             0,
             "#0d0887"
            ],
            [
             0.1111111111111111,
             "#46039f"
            ],
            [
             0.2222222222222222,
             "#7201a8"
            ],
            [
             0.3333333333333333,
             "#9c179e"
            ],
            [
             0.4444444444444444,
             "#bd3786"
            ],
            [
             0.5555555555555556,
             "#d8576b"
            ],
            [
             0.6666666666666666,
             "#ed7953"
            ],
            [
             0.7777777777777778,
             "#fb9f3a"
            ],
            [
             0.8888888888888888,
             "#fdca26"
            ],
            [
             1,
             "#f0f921"
            ]
           ]
          },
          "colorway": [
           "#636efa",
           "#EF553B",
           "#00cc96",
           "#ab63fa",
           "#FFA15A",
           "#19d3f3",
           "#FF6692",
           "#B6E880",
           "#FF97FF",
           "#FECB52"
          ],
          "font": {
           "color": "#2a3f5f"
          },
          "geo": {
           "bgcolor": "white",
           "lakecolor": "white",
           "landcolor": "#E5ECF6",
           "showlakes": true,
           "showland": true,
           "subunitcolor": "white"
          },
          "hoverlabel": {
           "align": "left"
          },
          "hovermode": "closest",
          "mapbox": {
           "style": "light"
          },
          "paper_bgcolor": "white",
          "plot_bgcolor": "#E5ECF6",
          "polar": {
           "angularaxis": {
            "gridcolor": "white",
            "linecolor": "white",
            "ticks": ""
           },
           "bgcolor": "#E5ECF6",
           "radialaxis": {
            "gridcolor": "white",
            "linecolor": "white",
            "ticks": ""
           }
          },
          "scene": {
           "xaxis": {
            "backgroundcolor": "#E5ECF6",
            "gridcolor": "white",
            "gridwidth": 2,
            "linecolor": "white",
            "showbackground": true,
            "ticks": "",
            "zerolinecolor": "white"
           },
           "yaxis": {
            "backgroundcolor": "#E5ECF6",
            "gridcolor": "white",
            "gridwidth": 2,
            "linecolor": "white",
            "showbackground": true,
            "ticks": "",
            "zerolinecolor": "white"
           },
           "zaxis": {
            "backgroundcolor": "#E5ECF6",
            "gridcolor": "white",
            "gridwidth": 2,
            "linecolor": "white",
            "showbackground": true,
            "ticks": "",
            "zerolinecolor": "white"
           }
          },
          "shapedefaults": {
           "line": {
            "color": "#2a3f5f"
           }
          },
          "ternary": {
           "aaxis": {
            "gridcolor": "white",
            "linecolor": "white",
            "ticks": ""
           },
           "baxis": {
            "gridcolor": "white",
            "linecolor": "white",
            "ticks": ""
           },
           "bgcolor": "#E5ECF6",
           "caxis": {
            "gridcolor": "white",
            "linecolor": "white",
            "ticks": ""
           }
          },
          "title": {
           "x": 0.05
          },
          "xaxis": {
           "automargin": true,
           "gridcolor": "white",
           "linecolor": "white",
           "ticks": "",
           "title": {
            "standoff": 15
           },
           "zerolinecolor": "white",
           "zerolinewidth": 2
          },
          "yaxis": {
           "automargin": true,
           "gridcolor": "white",
           "linecolor": "white",
           "ticks": "",
           "title": {
            "standoff": 15
           },
           "zerolinecolor": "white",
           "zerolinewidth": 2
          }
         }
        },
        "title": {
         "font": {
          "size": 20
         },
         "text": "Interactive 3D Scatter Plot of KMeans Clusters on PCA Data"
        },
        "width": 1200
       }
      },
      "text/html": [
       "<div>                            <div id=\"fd036d1b-09ca-4ea3-9f13-6d5d05880048\" class=\"plotly-graph-div\" style=\"height:900px; width:1200px;\"></div>            <script type=\"text/javascript\">                require([\"plotly\"], function(Plotly) {                    window.PLOTLYENV=window.PLOTLYENV || {};                                    if (document.getElementById(\"fd036d1b-09ca-4ea3-9f13-6d5d05880048\")) {                    Plotly.newPlot(                        \"fd036d1b-09ca-4ea3-9f13-6d5d05880048\",                        [{\"hovertemplate\":\"color=2\\u003cbr\\u003ePrincipal Component 1=%{x}\\u003cbr\\u003ePrincipal Component 2=%{y}\\u003cbr\\u003ePrincipal Component 3=%{z}\\u003cextra\\u003e\\u003c\\u002fextra\\u003e\",\"legendgroup\":\"2\",\"marker\":{\"color\":\"#636efa\",\"symbol\":\"circle\"},\"mode\":\"markers\",\"name\":\"2\",\"scene\":\"scene\",\"showlegend\":true,\"x\":[2.6094300089322586,3.572337825823646,2.996146102570465,2.9232208167803835,2.9098381151418953,4.869380855562328,4.499979722545976,3.8879320503600723,3.866312250176728,3.866150184817678,4.358366880691867,3.8400529786869297,4.38717552172807,3.490234320746925,3.327798504151617,4.738739458729247,4.466791208619029,4.739130926428618,3.9268612878803713,4.289036531186978,3.239200992455954,3.5336171475937954,3.053014352274185,3.7474713528384886,3.840736084980156,4.499251723093437,3.160925379926643,2.958919013515093,2.9430757445347826,3.2047042418530562,3.851955476935116,3.2107714729278447,3.403598714687069,2.888508880999672,3.1638041613629637,4.058725374114545,3.774302320450673,3.232399127493877,3.9765476186113404,4.218340662030763,4.508132942548206,4.124043867292993,4.236058775695614,3.3479184488723552,3.1344226649867575,4.018651766893778,2.9309453478475116,3.6732033328599063,3.4613202061629993,3.0716065791003455,3.0664119641362957,4.324512331391147,3.423315279965346,3.264644624534306,3.6901665147999942,2.660348588522849,3.0177100211978063,3.272118238336903,2.6237720253511663,3.56224195646056,3.275631819016261,3.9820057003683145,3.5519650525368087,2.7031336142382667,3.0877564419151176,2.962775457770306,3.1280244027446873,2.8330344426511798,4.263672114524618,3.8707608862009115,4.350644022923579,3.315350481347575,2.7013542769679737,2.532182239527552,2.554658027229328,2.0227236917670344,2.6313843213099744,2.9263647968762805,2.4453508313329175,2.552862186638354,3.0932291670498304,2.5233952123117143,3.30929684713312,3.1254572022547773,2.01411506067736,3.199307964962856],\"y\":[-0.720584331540947,-0.8317943198642569,-1.1765436413165822,-0.7582525281127848,-1.2788411085826512,-1.2225555386015357,-1.9140178255736089,-1.3917545787458456,-2.041160509798157,-1.394076302286679,0.016209740466960203,-0.4485905745446344,-0.536875103344715,0.11976135800332742,-0.0960754610576064,-0.3386949792370328,-0.20591705113773515,-0.1021218650314157,-0.38718402448061556,-0.3858356036306662,0.05251722120394179,-0.06478531215661161,-0.8982071033684943,0.2620410694556254,0.2645397183646709,-0.22639447413269395,-0.39341328967215944,0.37908425139347496,1.0966756061080027,0.25078716040874854,-0.13655085513310514,-0.7768133977624814,-0.03376285788501856,0.4594316647029589,-0.4158088931287644,-0.20419127097665032,0.027924949491368405,0.4788287152821024,-0.9219402491791083,0.7544303621479194,0.07647633650532264,0.07555298662853986,-0.16717224071507306,-0.08440666782190871,-1.0670707559653572,-0.9252077743795176,0.2200194503080781,0.7016409468540541,0.1967251443890541,1.1670424475090702,0.8236009310330659,-0.5289331964578423,0.3839194465107974,0.4819896886573626,0.3049655169928092,-0.6267982926818622,-0.16667940118057814,-0.14671927099449658,0.2419577448516617,-0.1232774806139277,-0.035274823439233126,-0.5287963840418813,-0.36516063145327055,0.653376206696625,0.18750837429431147,-0.4742486544063763,0.1276381237348059,0.6740769980144686,-0.8607563071250994,-0.7583994525671243,-0.46470301272626097,0.46864806095359113,-0.3140049691823224,-0.5528508510946271,-0.4425434049856713,-0.5889083933885254,-1.1502471360772104,0.05052336718211196,0.6261865366868304,-0.13962304652829233,-0.08197366120187861,0.4942737124343966,0.5526568503990159,0.36015333994609844,0.30362348781586374,-0.28445999123766],\"z\":[0.28171682105751605,0.05851576602373041,0.22120394651748806,0.018250884298406246,0.046110531432716685,0.30731983162189136,0.008868925787500849,0.04273745035496255,-0.3002185453787578,0.12785508642379093,-0.27604384014609207,0.07964996157698188,0.24600551241557242,0.17476495522263066,0.033045378109517,0.06450408108317295,0.2273587191299344,0.2982161012019837,-0.01649138535250485,0.26034050231346884,0.1790653396973266,0.14023030972318026,0.1437584193141271,0.12816582470426804,0.004796993704670328,0.1714350368311288,0.028314114762344335,-0.028026891239591144,0.10163675609797028,0.08871297452661751,-0.0022655174092409895,-0.18253997572724615,0.009990424915186293,0.07582163302465837,0.05017399172459345,0.19525952111491615,0.0712451668816123,0.1494683268165464,-0.1436022181947945,0.1999663289390405,0.18274888149816923,0.1425733265670259,-0.06888208878588233,0.24578006930058302,-0.11228086445905351,-0.42886502482219924,0.27950251388305847,0.2314547882507407,0.13284044939860282,0.2772171332297215,0.16851475948564662,0.5088284134133731,0.3746714172733162,0.41769395663905384,0.278129602713983,-0.34183068649470216,0.4071372040030963,0.26883502249491387,0.21340360558867297,0.20057900055644626,-0.09414865335056379,0.3737092690635998,-0.03635425353196633,-0.02873713155422799,-0.08259439853557417,0.3067238103497927,0.2519593627134058,0.2654060095209142,0.3867348725858979,0.1929701638258203,0.40670292720060863,0.4913448955537816,0.5734744331035928,0.5553205341068177,0.4448032836292496,-0.4665236336393518,0.1610459665330499,0.4635062148764928,0.4337143175243544,0.34958507107958714,0.40722635369979077,0.5857907560609151,0.6078745246225772,0.3784478612455575,0.4893207583403386,0.6247815910649943],\"type\":\"scatter3d\"},{\"hovertemplate\":\"color=1\\u003cbr\\u003ePrincipal Component 1=%{x}\\u003cbr\\u003ePrincipal Component 2=%{y}\\u003cbr\\u003ePrincipal Component 3=%{z}\\u003cextra\\u003e\\u003c\\u002fextra\\u003e\",\"legendgroup\":\"1\",\"marker\":{\"color\":\"#EF553B\",\"symbol\":\"circle\"},\"mode\":\"markers\",\"name\":\"1\",\"scene\":\"scene\",\"showlegend\":true,\"x\":[-1.0206784715334016,-1.4126483292696264,-2.739069001414088,-1.3154688782713282,-1.0256768813252866,-1.3951856591067333,-0.645903427127411,-1.4126483292696264,-1.2870044696329987,-1.035989672678606,-2.2195102287777324,-1.52512471662442,-1.0110726928614386,-1.3003361714512924,-2.480524660464959,-1.8011576410454717,-2.736183765407593,-2.8612271726587535,-2.44083043783438,-2.39156071338558,-1.1267149856842367,-1.693881478233605,-2.59614296218373,-1.242865517474579,-1.1854691006306493,-1.3919646144432283,-1.1243669162744572,-1.9759598256075932,-1.0925306753156503,-1.612855140318835,-0.7833237172523901,-1.6031848434885592,-1.6546248412748845,-2.735066686602498,-1.4750079423222882,-1.53276988695419,-1.1170895728836496,-1.2752326389648165,-1.3715859416229692,-2.859331867203088,-1.435896180393988,-0.6340675975909887,-0.5250173000271163,-2.580790054923145,-1.4078124980996563,-2.9817813379169955,-1.347210302982404,-1.7575102037971853,-1.9151994366635017,-1.400353550128635,-2.6648258755002674,-2.6652270491663246,-1.6683148291631211,-1.580013260775503,-1.325099357063271,-0.9014053170910954,-1.2210032686732473,-2.215192779045343,-1.8346043310116127,-1.0871312802804334,-1.346411050507285,-0.5691775403311224,-1.7370604971731707,-1.1026331553369926,-1.8282355634203427,-0.7894983346200201,-0.9454149141569074,-0.4820937382541126,-0.4503680257410876,-2.72528224828117,-1.3831278658692283,-1.536288097849249,-0.873271185692745,-1.768426383479866,-1.5119890531048215,-2.960267874384699,-2.4816714600234198,-1.8508537098989197,-2.713973175041881,-1.6652404240872671,-2.320012605847406,-1.8356789422679403,-1.0684096955680118,-2.4014615026483446,-1.6315806241037492,-2.9811115689252072,-1.1402567374228645,-2.3999655905248893,-1.7476512374161368,-0.8850092739469287,-1.8761556736679097,-0.9439347688459452,-2.2409787853908925,-2.00210767199548,-2.134192579870662,-1.6496681112900884,-0.2894342483832442,-0.7526980043087451,-3.6781540775934456,-2.3346358761963977,-2.901477819767243,-2.8479718827030855,-2.6704082893967382,-0.9090713677564363,-2.0384863043976247,-0.9201338701397149,-1.139791618489735,-1.6975737898125998,-0.6751323563435365,-0.6498730197411626,-1.0075356285445225,-0.9335942669810825,-0.4550900384240763,-2.025127748435332,-2.034032555674295,-0.8871985124490782,-1.9786029743444444,-2.295144431664676,-2.071339238985628,-1.201023006049616,-1.8047818153006874,-2.039136851133104,-2.607398126175684,-2.2506947973873523,-1.1009894019113582,-1.1125436357565495,-2.3416131763200805,-2.96760611968598,-2.0282938724875716,-2.570702932623006,-1.1322884727621165,-1.2038025280697127,-1.1737349823592178,-2.042801045667262,-1.1734953080738488,-1.8256548546148939,-1.683405652422841,-1.8130797815386335,-3.1867330326946908,-0.6079595710258663,-3.0332843464782018,-3.7112249149351966,-1.856865425148646,-2.7061684782703352,-3.059315795189929,-2.4307231860233176,-2.1741276437048542,-1.5931213013289096,-0.3877366785654848,-2.0574670220725295,-1.2490947200920317,-1.1478766947581105,-0.7610349238020762,-1.1349633139369046,-2.988728125378219,-2.754153051200804,-2.650260041785316,-2.3713466051365426,-2.9271545192831683,-2.707803370212102,-2.3187608352271187,-2.1062887269255843,-2.3327902267061074,-2.4286848142093342,-1.808116237043677,-1.9702285944689264,-1.8349738041233823,-1.9597894609556152,-1.2460523665701688,-1.8959181257462243,-1.4630728422966033,-1.056911823379451,-1.7239515996685002,-1.53984760530166,-1.9690859996836096,-1.5519341360020311,-1.3592486571126916,-1.219328274749867,-0.836056616220532,-1.1337618059989998,-2.2008384938659185,-2.6989989334973554,-2.344587839323365,-2.304588554824493,-2.434308939774609,-1.765924027138252,-1.9698625110670573,-2.1754164281387194,-2.434264010695714,-2.1979132820634146,-2.55417784234769,-0.5762137242834506,-0.8012886935076765,-1.0092754305703884,-1.4696841520932558,-1.0269669236685246,-1.0207064862009927,-1.14050191725372,-1.6809037187592009,-1.8447073788057653],\"y\":[-0.5383092303598785,-0.8985092404603368,1.3592373922051582,0.43423402992716065,-0.679250129766995,0.29523160980441465,-1.6211090744378385,-0.8985092404603368,-0.5070615489245163,-0.9781524663488794,0.8744462640812106,1.1008884245457542,-0.848717557532404,-1.107089601777254,0.791456028204058,-0.9947173243499526,0.49229272898095594,-0.09156868603787079,0.7241672206058706,1.28052042894723,-0.39210249561398663,0.10114758740287937,2.637545999241448,1.2749860380899103,0.11660499492391933,0.742683199015777,1.4114394231492655,0.48331448207043376,-0.04590248351652409,-0.024124727578521344,-0.6330944021619573,-0.713447947041822,-0.202206522877943,1.5727806521740406,1.0211767615544816,1.3155897646422954,0.07374632980620892,0.935194951413105,-0.4697770114204312,0.850924179750917,-0.33504236923267544,-0.6422131899231501,-0.8595659623981015,0.5484358049533099,0.014548155238321269,1.1780940208305868,0.30281190756887155,-0.22060345595591818,-0.48049738922200474,-0.7569824548379973,-0.3647061515317282,0.5570088471930313,-0.8877343829524408,-0.3783691186823142,-0.9170954707958595,-0.5025440424481963,-0.43260076804184794,-0.4944073497642281,-0.376574489296765,0.3779602201419873,0.9154391826047357,-0.9441102828286727,-0.010282013056604557,0.22041969943025594,-1.1421162272444156,-0.3920076507986804,0.4363328333154526,-0.4547731721152979,-1.096124005560411,-0.0345389177437981,-0.458653660575347,0.11087173556139983,-0.5074837197175317,0.35448618639738466,-0.5655919164629171,1.8620170965068958,2.026947083085714,-1.0715194024925452,-0.0698373301197341,-1.8311058701363176,-0.1927159329584253,-0.20007122055705395,-0.9367334621637319,0.3975796177656524,-0.8542648014007048,0.2063080640746687,-0.4409189275160987,-0.3385079054177739,-0.9943625196797832,-0.014810469290253089,0.5516696157136117,-0.13718329575589774,-0.066353452960168,-0.660879032314859,-0.2987389893085348,-1.1157069391839114,-1.2013165494436107,-1.0155131513287277,1.052019070219266,-1.305469289900576,0.6964591756695976,0.09839560439188148,-0.5790543112294366,-0.26883848135974925,-0.21225150051689637,-0.8797684730245731,-0.7998655656759068,-0.9555498541071763,-0.42350305504727076,0.213032921705426,0.6292277890230215,-0.5619063099803209,-0.1420285431995846,-0.9141920839113504,-0.16316449049750129,0.5699034819877508,-1.2690056042375855,-0.8937034460389763,-1.317039497490944,-0.5020668860031301,-1.5344823807066554,-0.9626579574368785,0.6247530233461451,-1.1630257672663828,-0.20443336591904754,-1.4358872257334558,-1.3535421937084084,0.23921175998961355,-0.6707458459490705,-0.5813865494140373,-0.009178001975551676,0.6799423633761401,1.5159936547822788,-0.670043657889713,-0.44216234536529647,0.20344062391506382,-1.0242049594215947,-0.7466479704150724,-0.40295853386702624,-0.7712938968405985,0.2895684963370497,1.1062768458497798,2.0662330391873365,-1.8570562655404563,-0.4413448701952841,0.16381974126582596,-0.7092636032199564,-0.8650564072384759,-0.6155145607461675,-0.09847441702871691,-0.3087390229622892,0.026094583824666503,-0.6841333375186899,-1.444224716164526,-0.5417580119605145,-0.6959882283938321,-0.6678406349507522,0.12814502282012355,0.47043579680978836,-0.256917659232267,-0.6167474270135397,-0.9174052730684108,-0.5177438513989752,1.3607070148826481,-1.154678970329489,-0.6324677553128685,-1.108499088630181,-0.16258061795428183,-0.9076143938544601,0.5082807832426427,1.5770819735613715,1.3036928633462654,1.0299852023226532,0.7287420986910036,0.15476448354145936,-0.2873327897671126,-0.2644035576057237,0.5791272590778144,0.15685704350150723,1.7201011419806942,-0.9554488493544129,0.05535776975297927,0.06863456849281695,-1.1505317637958394,-0.19157531881399717,-1.228947779017075,-1.1678801055415746,-0.20270942962137786,-1.1293579666067979,-0.6394816687632245,-0.6961114881592589,0.1246431685363784,-0.6682042904421889,-1.128085719981991,-1.6565464799687741,0.40130800365652025,-0.24331325748404256,-2.013029803931305,0.7334811833949497,0.9101481958390059],\"z\":[-0.6955378199766514,-0.4884956518137041,-0.25079819021387617,-0.3805100565193571,-0.7272245079069006,-0.466205947166887,-0.6483545147022892,-0.4884956518137041,-0.1608674537828466,-0.6740983603195757,-0.4203334074151257,-0.5573371260057824,-0.8545698815381972,-0.35305503323030346,0.08729777366101664,-0.18963001101590685,0.08833584086595446,0.4315883268435866,-0.24713422470233123,-0.27363958704422486,-0.6841162419443637,-0.5477624218911405,-0.32671070415866865,-0.7655960808625123,-0.9225419848690237,-0.6612045376566644,-0.6056623213561416,-0.35966721190073037,-0.8106303718928101,-0.2051813755433409,-0.7881257085876584,-0.3312207898768759,-0.37560663931784516,-0.19878307352077368,-0.9538080508676066,-0.6377838908334219,-0.83732426478131,-1.0039096583025326,-0.5107935934818033,-0.07259230520952333,-0.6752800129682539,-1.141481050067629,-0.6907080621508459,0.14570168328777053,-0.32820826496507627,0.328054138609045,-0.32712902961747814,-0.1261362126109762,-0.6033567315617074,-0.5529066431547165,-0.0536214468146903,0.28419119220097844,-0.3880612604330969,-0.7670697358224129,-0.5296926104994079,-0.6529824846314547,-0.458153279427609,-0.022660698167481418,-0.15922577122850726,-0.534890407604161,-0.44931398468148787,-0.655319231458614,-0.5720749393803983,-0.526546770386957,-0.3398206135937646,-0.7354489910470065,-0.5419315046015523,-0.8096027739733709,-0.6151526237569841,0.29784519044486746,-0.22166374049779977,-0.47817257706852145,-0.46522583722435307,-0.3696783284269576,-0.4087292656466072,0.17056995827421953,-0.26778808709393087,-0.3279490299710569,0.2919093986335136,-0.3930709055747459,0.15906129297578483,-0.24735637498686566,-0.3579285803967907,0.24770408397000285,-0.0862689822736349,0.6517135675075301,-0.48941595107937874,0.30159867127693785,-0.2965301328879527,-0.38242493547715767,-0.33667936539561516,-0.3184760785627494,0.05673467613008785,0.29972787517311705,-0.05377360141281209,-0.10856723818586923,-1.045506540550671,-1.3639065951362332,1.6732293864864425,0.45934239280216904,0.3858696977573981,1.0744415330094133,0.5627620952474817,-0.39139001224717995,-0.012795929429962792,-0.2595338796390432,-0.36260408780890585,-0.004892701287741462,-0.9287626071226758,-0.4847869319224796,-0.3378514592767194,-0.6892668556724477,-0.8302858468650576,-0.008479609699057498,-0.06512775261298266,-0.5501364687265071,-0.031020068080029904,0.28653760091355995,0.4223010362254215,-0.22559360415903998,0.276711652243559,0.40053857965534867,0.27939054648530137,0.6462652282381158,0.025899761531277467,0.3922629322050789,1.1199646522327824,0.9490698557473377,0.14718977345986414,0.7034881189983436,0.013626087577521574,-0.06059354349994497,-0.11199617067657894,0.4052640680774705,0.10279009915201019,0.32463936674248517,0.7528060936910194,0.19432235243863813,1.832601332616313,-0.09942681451156739,1.275766202803073,1.8350430738964238,0.6671430114950028,1.3347194695510867,1.1283857514563524,0.485586761187748,-0.1875990224016795,0.5680338022043745,-0.6031728433165799,0.32801959996635843,-0.20109578461606184,-0.14613218575035694,-0.34805921913985605,-0.08314666968794794,0.8743841928844266,0.8724320493662447,0.3968508936828279,0.2950277834277738,0.8481057792495629,0.830185882930999,0.34834956629362157,0.4428521215128607,0.4300035959409563,0.2727328332217463,0.19907334875178992,0.46212589767347245,0.296145845680411,0.3275575816615064,0.32107936200007636,0.42395234155714845,0.3429800144301353,1.0895050237541,0.06260679886950841,-0.09871928990473379,0.5794431538520717,0.18466239035239826,0.019288588862577206,0.0049677981566841126,-0.4280464466262799,-0.223433695969127,0.5498776875995333,0.8021278663250224,0.10323381520025475,0.7724283012420109,0.6791930769065543,0.5688341281678763,0.5512726030682812,0.492793537366938,0.7104286598326447,0.09938241242937483,0.7874849853001079,2.0601539661419843,-0.3271681620121646,0.2629351694371398,0.5724725003405438,0.005176158884265848,-0.15699956188625283,0.03973982893171555,0.042591132099882946,0.42826966874132666],\"type\":\"scatter3d\"},{\"hovertemplate\":\"color=0\\u003cbr\\u003ePrincipal Component 1=%{x}\\u003cbr\\u003ePrincipal Component 2=%{y}\\u003cbr\\u003ePrincipal Component 3=%{z}\\u003cextra\\u003e\\u003c\\u002fextra\\u003e\",\"legendgroup\":\"0\",\"marker\":{\"color\":\"#00cc96\",\"symbol\":\"circle\"},\"mode\":\"markers\",\"name\":\"0\",\"scene\":\"scene\",\"showlegend\":true,\"x\":[0.17881705071173815,0.38858598605225897,-0.07539726791426166,0.13017769654873962,0.7334609812930579,1.0655099044588843,1.0033724668550879,0.7282300762036584,0.8476518865802104,1.1497820352505823,0.9300008453052283,0.8080867589218855,-0.09635425615477877,0.6798202577703315,0.746379762484299,0.6105164805076344,0.5197781084061324,0.10706758938352762,0.6414729673591885,0.1719173734263517,-0.29625329774110576,0.656651228375767,0.3125266554893576,0.09294064832058055,0.5347647043678339,0.942593293052746,1.124300786590581,1.0988012078202427,0.9388590321699161,0.6292734468411211,1.027584696052195,0.17734516768572944,0.20271983500374485,0.7294087733167901,1.0806369682435952,1.089893336562234,0.6168942765921056,0.7406069739187386,1.722159388352792,0.4890235179450583,0.48538912409284607,0.4550932645889915,0.5879473144900502,0.9310688002611243,-0.24225486958206974,0.13684965273547903,0.6530877016803698,0.17222898773003342,1.141501086552487,0.6167123100125181,-0.3120057481332008,-1.1244216826871885,0.3661004906255291,1.0405632534330278,1.690591378210893,1.1056559502106014,0.6903589457116032,0.6946168755112823,0.6059114125896748,0.07280599047232178,1.5679917977026765,0.5565268532960036,0.130945063606605,0.18830703903749235,0.5669833665843161,0.41091433378261033,0.7858076098260914,0.1102566210213674,0.7270916054530427,1.329247193198501,-0.2398385228179002,1.0490763897448148,1.0883377252200137,0.8424352494201114,-0.048913896602039625,0.28471262245114126,0.7225203204734434,-0.7163417066601748,2.0742178941610376,0.3172387959010733,0.2967477031097665,0.315372485187546,0.4524721972359032,0.4999225387788109,0.3953598782468622,0.7744789901836242,0.1302455950513121,0.6110696180936718,0.09592289291768953,0.6450318663268397],\"y\":[0.07067464636647804,0.20531269699820912,0.2567584684610204,-0.1007646796731473,-0.7420599213339321,0.4906792425879926,0.46409054271118416,0.43001148563529,0.39157350921144496,-0.43850017817398507,0.19152668019393917,0.06497588442396525,-0.3615883430421812,0.6602796119517386,1.3705840197531722,0.4575563454859272,0.7329263808598366,0.22957722722676152,0.05431146605773813,-0.6352081833275067,-0.07001076934684612,-0.7316934187001224,0.5912554922921266,0.6562407988277728,0.4029156663773284,1.0767511557393639,1.17965861459269,1.4467210177248053,0.8187943029072949,0.5356862216810427,0.6188565587222759,2.6492318127604024,2.0314771203696997,2.5255451504732545,1.7233627422615267,1.8717437744781238,1.8029611980551028,-0.03387386571491768,-0.31774095560464616,0.366639494147727,-0.1093239064721445,0.9020678135931516,0.1693688871612825,-0.10662944016641669,0.8555840539469167,0.9316370722425621,1.1968345593244525,2.5458137537175456,0.7060019444210168,1.2434247399403575,0.10668980274464833,2.4286570095465176,0.11917530318652067,0.8876746091324673,2.0132844281873212,0.7767902963069151,0.8045368459333788,1.23053325690437,1.711244428139415,-0.35180203728913817,0.43657463608581915,1.7044445461089852,1.1902656443456006,0.34031897573498165,0.9289074759795907,0.9561566265996766,0.39770955804008484,0.6675553007742975,1.5501904839845344,0.22027566258852246,0.11549366361064943,-0.47427338534315006,0.384620406557553,0.13031203135990418,1.211721308451828,1.294489233747337,0.6442267609044914,1.791978071526453,1.17895114171868,-1.8824500765547112,-1.2029169866919691,1.545537906120001,-1.1440790989822893,-1.197588190646543,-0.7573308024060297,0.3130043458782339,0.8159185838527716,0.9151770232406551,0.21581889687089797,-0.25417062291320097],\"z\":[-0.017865903055385955,-0.4635002846736026,-0.12708283851747565,-0.1834179775896627,-0.429545366846681,-0.4788621167137719,-0.30687127876189285,-0.08097938972401743,-0.26289194590275294,-0.3741840559028086,-0.1281466649699872,-0.28076251512429473,-1.2628690917285872,-0.2637362667902232,-0.27714821550157476,-0.29983300483957,-0.18496551890667376,0.1343693371790555,-0.3894904063554389,-0.43513375458345593,-1.1073698266855623,-0.5223604961683898,-0.12379306217951348,-0.023123885113463104,-0.19961288129823132,-0.43400707274855055,-0.2388097223883672,-0.1944732910889461,-0.16817635759825714,-0.14553809518518504,-0.14884485478733026,-0.14618744127270547,-0.28844264185479884,0.060543936218638274,-0.13291069638862565,-0.22484721380055553,0.024962032940448055,-0.029128479030651265,0.41393385347771144,-0.0883217926675793,-0.5704625058657842,-0.0687079787662331,0.13345626153453408,0.17659468424722505,0.38126948404282446,0.3231155733123787,0.13363428715638595,0.2008893692455692,-0.052132134455452304,-0.1114568223306296,-0.8922117592520796,-0.6253490383046778,-0.47264975278288135,-0.4761945945531709,0.5707471258488105,-0.1733051147266085,0.10990853448444664,0.020789378864076037,0.10436650837264048,-0.24714390985109036,0.5434281112182169,0.12640079530878653,0.048106238940583336,-0.15254934847120974,0.11541412578654396,-0.013524169929049888,0.04675120213077447,-0.013473660101489558,0.023362097199145705,-0.19265734522946762,-0.6540132622219461,-0.759348280441368,-0.6724015303783638,0.0833403740780795,-0.04874111122821997,0.14352916370275318,0.06574359351774665,0.47958801433386933,1.3644075101995201,0.3246199659475034,0.22245425462750995,0.05399774570576841,-0.14375743264477447,0.07430184105841328,-0.05314669201441651,0.24365996391074532,-0.06033338820018543,-0.21181973714133287,0.31293677131642755,0.023097440951808247],\"type\":\"scatter3d\"}],                        {\"template\":{\"data\":{\"histogram2dcontour\":[{\"type\":\"histogram2dcontour\",\"colorbar\":{\"outlinewidth\":0,\"ticks\":\"\"},\"colorscale\":[[0.0,\"#0d0887\"],[0.1111111111111111,\"#46039f\"],[0.2222222222222222,\"#7201a8\"],[0.3333333333333333,\"#9c179e\"],[0.4444444444444444,\"#bd3786\"],[0.5555555555555556,\"#d8576b\"],[0.6666666666666666,\"#ed7953\"],[0.7777777777777778,\"#fb9f3a\"],[0.8888888888888888,\"#fdca26\"],[1.0,\"#f0f921\"]]}],\"choropleth\":[{\"type\":\"choropleth\",\"colorbar\":{\"outlinewidth\":0,\"ticks\":\"\"}}],\"histogram2d\":[{\"type\":\"histogram2d\",\"colorbar\":{\"outlinewidth\":0,\"ticks\":\"\"},\"colorscale\":[[0.0,\"#0d0887\"],[0.1111111111111111,\"#46039f\"],[0.2222222222222222,\"#7201a8\"],[0.3333333333333333,\"#9c179e\"],[0.4444444444444444,\"#bd3786\"],[0.5555555555555556,\"#d8576b\"],[0.6666666666666666,\"#ed7953\"],[0.7777777777777778,\"#fb9f3a\"],[0.8888888888888888,\"#fdca26\"],[1.0,\"#f0f921\"]]}],\"heatmap\":[{\"type\":\"heatmap\",\"colorbar\":{\"outlinewidth\":0,\"ticks\":\"\"},\"colorscale\":[[0.0,\"#0d0887\"],[0.1111111111111111,\"#46039f\"],[0.2222222222222222,\"#7201a8\"],[0.3333333333333333,\"#9c179e\"],[0.4444444444444444,\"#bd3786\"],[0.5555555555555556,\"#d8576b\"],[0.6666666666666666,\"#ed7953\"],[0.7777777777777778,\"#fb9f3a\"],[0.8888888888888888,\"#fdca26\"],[1.0,\"#f0f921\"]]}],\"heatmapgl\":[{\"type\":\"heatmapgl\",\"colorbar\":{\"outlinewidth\":0,\"ticks\":\"\"},\"colorscale\":[[0.0,\"#0d0887\"],[0.1111111111111111,\"#46039f\"],[0.2222222222222222,\"#7201a8\"],[0.3333333333333333,\"#9c179e\"],[0.4444444444444444,\"#bd3786\"],[0.5555555555555556,\"#d8576b\"],[0.6666666666666666,\"#ed7953\"],[0.7777777777777778,\"#fb9f3a\"],[0.8888888888888888,\"#fdca26\"],[1.0,\"#f0f921\"]]}],\"contourcarpet\":[{\"type\":\"contourcarpet\",\"colorbar\":{\"outlinewidth\":0,\"ticks\":\"\"}}],\"contour\":[{\"type\":\"contour\",\"colorbar\":{\"outlinewidth\":0,\"ticks\":\"\"},\"colorscale\":[[0.0,\"#0d0887\"],[0.1111111111111111,\"#46039f\"],[0.2222222222222222,\"#7201a8\"],[0.3333333333333333,\"#9c179e\"],[0.4444444444444444,\"#bd3786\"],[0.5555555555555556,\"#d8576b\"],[0.6666666666666666,\"#ed7953\"],[0.7777777777777778,\"#fb9f3a\"],[0.8888888888888888,\"#fdca26\"],[1.0,\"#f0f921\"]]}],\"surface\":[{\"type\":\"surface\",\"colorbar\":{\"outlinewidth\":0,\"ticks\":\"\"},\"colorscale\":[[0.0,\"#0d0887\"],[0.1111111111111111,\"#46039f\"],[0.2222222222222222,\"#7201a8\"],[0.3333333333333333,\"#9c179e\"],[0.4444444444444444,\"#bd3786\"],[0.5555555555555556,\"#d8576b\"],[0.6666666666666666,\"#ed7953\"],[0.7777777777777778,\"#fb9f3a\"],[0.8888888888888888,\"#fdca26\"],[1.0,\"#f0f921\"]]}],\"mesh3d\":[{\"type\":\"mesh3d\",\"colorbar\":{\"outlinewidth\":0,\"ticks\":\"\"}}],\"scatter\":[{\"fillpattern\":{\"fillmode\":\"overlay\",\"size\":10,\"solidity\":0.2},\"type\":\"scatter\"}],\"parcoords\":[{\"type\":\"parcoords\",\"line\":{\"colorbar\":{\"outlinewidth\":0,\"ticks\":\"\"}}}],\"scatterpolargl\":[{\"type\":\"scatterpolargl\",\"marker\":{\"colorbar\":{\"outlinewidth\":0,\"ticks\":\"\"}}}],\"bar\":[{\"error_x\":{\"color\":\"#2a3f5f\"},\"error_y\":{\"color\":\"#2a3f5f\"},\"marker\":{\"line\":{\"color\":\"#E5ECF6\",\"width\":0.5},\"pattern\":{\"fillmode\":\"overlay\",\"size\":10,\"solidity\":0.2}},\"type\":\"bar\"}],\"scattergeo\":[{\"type\":\"scattergeo\",\"marker\":{\"colorbar\":{\"outlinewidth\":0,\"ticks\":\"\"}}}],\"scatterpolar\":[{\"type\":\"scatterpolar\",\"marker\":{\"colorbar\":{\"outlinewidth\":0,\"ticks\":\"\"}}}],\"histogram\":[{\"marker\":{\"pattern\":{\"fillmode\":\"overlay\",\"size\":10,\"solidity\":0.2}},\"type\":\"histogram\"}],\"scattergl\":[{\"type\":\"scattergl\",\"marker\":{\"colorbar\":{\"outlinewidth\":0,\"ticks\":\"\"}}}],\"scatter3d\":[{\"type\":\"scatter3d\",\"line\":{\"colorbar\":{\"outlinewidth\":0,\"ticks\":\"\"}},\"marker\":{\"colorbar\":{\"outlinewidth\":0,\"ticks\":\"\"}}}],\"scattermapbox\":[{\"type\":\"scattermapbox\",\"marker\":{\"colorbar\":{\"outlinewidth\":0,\"ticks\":\"\"}}}],\"scatterternary\":[{\"type\":\"scatterternary\",\"marker\":{\"colorbar\":{\"outlinewidth\":0,\"ticks\":\"\"}}}],\"scattercarpet\":[{\"type\":\"scattercarpet\",\"marker\":{\"colorbar\":{\"outlinewidth\":0,\"ticks\":\"\"}}}],\"carpet\":[{\"aaxis\":{\"endlinecolor\":\"#2a3f5f\",\"gridcolor\":\"white\",\"linecolor\":\"white\",\"minorgridcolor\":\"white\",\"startlinecolor\":\"#2a3f5f\"},\"baxis\":{\"endlinecolor\":\"#2a3f5f\",\"gridcolor\":\"white\",\"linecolor\":\"white\",\"minorgridcolor\":\"white\",\"startlinecolor\":\"#2a3f5f\"},\"type\":\"carpet\"}],\"table\":[{\"cells\":{\"fill\":{\"color\":\"#EBF0F8\"},\"line\":{\"color\":\"white\"}},\"header\":{\"fill\":{\"color\":\"#C8D4E3\"},\"line\":{\"color\":\"white\"}},\"type\":\"table\"}],\"barpolar\":[{\"marker\":{\"line\":{\"color\":\"#E5ECF6\",\"width\":0.5},\"pattern\":{\"fillmode\":\"overlay\",\"size\":10,\"solidity\":0.2}},\"type\":\"barpolar\"}],\"pie\":[{\"automargin\":true,\"type\":\"pie\"}]},\"layout\":{\"autotypenumbers\":\"strict\",\"colorway\":[\"#636efa\",\"#EF553B\",\"#00cc96\",\"#ab63fa\",\"#FFA15A\",\"#19d3f3\",\"#FF6692\",\"#B6E880\",\"#FF97FF\",\"#FECB52\"],\"font\":{\"color\":\"#2a3f5f\"},\"hovermode\":\"closest\",\"hoverlabel\":{\"align\":\"left\"},\"paper_bgcolor\":\"white\",\"plot_bgcolor\":\"#E5ECF6\",\"polar\":{\"bgcolor\":\"#E5ECF6\",\"angularaxis\":{\"gridcolor\":\"white\",\"linecolor\":\"white\",\"ticks\":\"\"},\"radialaxis\":{\"gridcolor\":\"white\",\"linecolor\":\"white\",\"ticks\":\"\"}},\"ternary\":{\"bgcolor\":\"#E5ECF6\",\"aaxis\":{\"gridcolor\":\"white\",\"linecolor\":\"white\",\"ticks\":\"\"},\"baxis\":{\"gridcolor\":\"white\",\"linecolor\":\"white\",\"ticks\":\"\"},\"caxis\":{\"gridcolor\":\"white\",\"linecolor\":\"white\",\"ticks\":\"\"}},\"coloraxis\":{\"colorbar\":{\"outlinewidth\":0,\"ticks\":\"\"}},\"colorscale\":{\"sequential\":[[0.0,\"#0d0887\"],[0.1111111111111111,\"#46039f\"],[0.2222222222222222,\"#7201a8\"],[0.3333333333333333,\"#9c179e\"],[0.4444444444444444,\"#bd3786\"],[0.5555555555555556,\"#d8576b\"],[0.6666666666666666,\"#ed7953\"],[0.7777777777777778,\"#fb9f3a\"],[0.8888888888888888,\"#fdca26\"],[1.0,\"#f0f921\"]],\"sequentialminus\":[[0.0,\"#0d0887\"],[0.1111111111111111,\"#46039f\"],[0.2222222222222222,\"#7201a8\"],[0.3333333333333333,\"#9c179e\"],[0.4444444444444444,\"#bd3786\"],[0.5555555555555556,\"#d8576b\"],[0.6666666666666666,\"#ed7953\"],[0.7777777777777778,\"#fb9f3a\"],[0.8888888888888888,\"#fdca26\"],[1.0,\"#f0f921\"]],\"diverging\":[[0,\"#8e0152\"],[0.1,\"#c51b7d\"],[0.2,\"#de77ae\"],[0.3,\"#f1b6da\"],[0.4,\"#fde0ef\"],[0.5,\"#f7f7f7\"],[0.6,\"#e6f5d0\"],[0.7,\"#b8e186\"],[0.8,\"#7fbc41\"],[0.9,\"#4d9221\"],[1,\"#276419\"]]},\"xaxis\":{\"gridcolor\":\"white\",\"linecolor\":\"white\",\"ticks\":\"\",\"title\":{\"standoff\":15},\"zerolinecolor\":\"white\",\"automargin\":true,\"zerolinewidth\":2},\"yaxis\":{\"gridcolor\":\"white\",\"linecolor\":\"white\",\"ticks\":\"\",\"title\":{\"standoff\":15},\"zerolinecolor\":\"white\",\"automargin\":true,\"zerolinewidth\":2},\"scene\":{\"xaxis\":{\"backgroundcolor\":\"#E5ECF6\",\"gridcolor\":\"white\",\"linecolor\":\"white\",\"showbackground\":true,\"ticks\":\"\",\"zerolinecolor\":\"white\",\"gridwidth\":2},\"yaxis\":{\"backgroundcolor\":\"#E5ECF6\",\"gridcolor\":\"white\",\"linecolor\":\"white\",\"showbackground\":true,\"ticks\":\"\",\"zerolinecolor\":\"white\",\"gridwidth\":2},\"zaxis\":{\"backgroundcolor\":\"#E5ECF6\",\"gridcolor\":\"white\",\"linecolor\":\"white\",\"showbackground\":true,\"ticks\":\"\",\"zerolinecolor\":\"white\",\"gridwidth\":2}},\"shapedefaults\":{\"line\":{\"color\":\"#2a3f5f\"}},\"annotationdefaults\":{\"arrowcolor\":\"#2a3f5f\",\"arrowhead\":0,\"arrowwidth\":1},\"geo\":{\"bgcolor\":\"white\",\"landcolor\":\"#E5ECF6\",\"subunitcolor\":\"white\",\"showland\":true,\"showlakes\":true,\"lakecolor\":\"white\"},\"title\":{\"x\":0.05},\"mapbox\":{\"style\":\"light\"}}},\"scene\":{\"domain\":{\"x\":[0.0,1.0],\"y\":[0.0,1.0]},\"xaxis\":{\"title\":{\"text\":\"Principal Component 1\"}},\"yaxis\":{\"title\":{\"text\":\"Principal Component 2\"}},\"zaxis\":{\"title\":{\"text\":\"Principal Component 3\"}}},\"legend\":{\"title\":{\"text\":\"color\"},\"tracegroupgap\":0},\"title\":{\"text\":\"Interactive 3D Scatter Plot of KMeans Clusters on PCA Data\",\"font\":{\"size\":20}},\"width\":1200,\"height\":900},                        {\"responsive\": true}                    ).then(function(){\n",
       "                            \n",
       "var gd = document.getElementById('fd036d1b-09ca-4ea3-9f13-6d5d05880048');\n",
       "var x = new MutationObserver(function (mutations, observer) {{\n",
       "        var display = window.getComputedStyle(gd).display;\n",
       "        if (!display || display === 'none') {{\n",
       "            console.log([gd, 'removed!']);\n",
       "            Plotly.purge(gd);\n",
       "            observer.disconnect();\n",
       "        }}\n",
       "}});\n",
       "\n",
       "// Listen for the removal of the full notebook cells\n",
       "var notebookContainer = gd.closest('#notebook-container');\n",
       "if (notebookContainer) {{\n",
       "    x.observe(notebookContainer, {childList: true});\n",
       "}}\n",
       "\n",
       "// Listen for the clearing of the current output cell\n",
       "var outputEl = gd.closest('.output');\n",
       "if (outputEl) {{\n",
       "    x.observe(outputEl, {childList: true});\n",
       "}}\n",
       "\n",
       "                        })                };                });            </script>        </div>"
      ]
     },
     "metadata": {},
     "output_type": "display_data"
    }
   ],
   "source": [
    "from sklearn.decomposition import PCA\n",
    "from sklearn.cluster import KMeans\n",
    "import plotly.express as px\n",
    "\n",
    "\n",
    "\n",
    "# KMeans clustering after PCA\n",
    "kmeans = KMeans(n_clusters=3, random_state=42)  # You can change the number of clusters\n",
    "kmeans_result = kmeans.fit(pca_result)  # Fit KMeans on PCA results\n",
    "\n",
    "\n",
    "\n",
    "# Plot the clusters in the first two principal components (for visualization)\n",
    "plt.figure(figsize=(8, 6))\n",
    "plt.scatter(pca_result[:, 0], pca_result[:, 1], c=kmeans.labels_, cmap='viridis', marker='o')\n",
    "plt.title('KMeans Clusters on PCA Transformed Data')\n",
    "plt.xlabel('Principal Component 1')\n",
    "plt.ylabel('Principal Component 2')\n",
    "plt.colorbar(label='Cluster Label')\n",
    "plt.grid()\n",
    "plt.show()\n",
    "\n",
    "# Display the cluster centers in the principal component space\n",
    "cluster_centers = kmeans.cluster_centers_\n",
    "print(\"Cluster Centers (in PCA space):\")\n",
    "for i, center in enumerate(cluster_centers, 1):\n",
    "    print(f\"Cluster {i}: {center}\")\n",
    "\n",
    "# Display the number of samples in each cluster\n",
    "unique, counts = np.unique(kmeans.labels_, return_counts=True)\n",
    "print(\"\\nCluster Sizes:\")\n",
    "for label, count in zip(unique, counts):\n",
    "    print(f\"Cluster {label}: {count} samples\")\n",
    "\n",
    "# Interactive 3D scatter plot for the first three principal components\n",
    "fig = px.scatter_3d(\n",
    "    x=pca_result[:, 0], \n",
    "    y=pca_result[:, 1], \n",
    "    z=pca_result[:, 2], \n",
    "    color=kmeans.labels_.astype(str),  # Cluster labels for color\n",
    "    labels={'x': 'Principal Component 1', 'y': 'Principal Component 2', 'z': 'Principal Component 3'},\n",
    "    title='Interactive 3D Scatter Plot of KMeans Clusters on PCA Data'\n",
    ")\n",
    "# Customize the layout for a larger figure\n",
    "fig.update_layout(\n",
    "    width=1200,  # Increase width\n",
    "    height=900,  # Increase height\n",
    "    title_font=dict(size=20),\n",
    ")\n",
    "\n",
    "fig.show()\n"
   ]
  },
  {
   "cell_type": "code",
   "execution_count": 127,
   "id": "828de326-bea7-47d3-9c36-d4ecc65c5297",
   "metadata": {},
   "outputs": [],
   "source": [
    "df['assigned_cluster'] = kmeans.labels_\n"
   ]
  },
  {
   "cell_type": "code",
   "execution_count": 128,
   "id": "5c28f2ef-f962-4f56-90ec-203bf5826ba2",
   "metadata": {},
   "outputs": [
    {
     "data": {
      "image/png": "[encoded data removed]",
      "text/plain": [
       "<Figure size 800x600 with 1 Axes>"
      ]
     },
     "metadata": {},
     "output_type": "display_data"
    }
   ],
   "source": [
    "import matplotlib.pyplot as plt\n",
    "import seaborn as sns\n",
    "\n",
    "# Scatter plot of mpg values for each cluster\n",
    "plt.figure(figsize=(8, 6))\n",
    "sns.scatterplot(data=df, x='assigned_cluster', y='mpg', hue='assigned_cluster', palette='viridis')\n",
    "plt.title('Scatter Plot of MPG Values per Cluster')\n",
    "plt.xlabel('Cluster')\n",
    "plt.ylabel('MPG')\n",
    "plt.legend(title='Cluster', loc='upper right')\n",
    "plt.grid(True)\n",
    "plt.show()\n"
   ]
  },
  {
   "cell_type": "code",
   "execution_count": 129,
   "id": "3416e60b-67e8-49de-80be-f4926a2bd604",
   "metadata": {},
   "outputs": [
    {
     "data": {
      "text/html": [
       "<div>\n",
       "<style scoped>\n",
       "    .dataframe tbody tr th:only-of-type {\n",
       "        vertical-align: middle;\n",
       "    }\n",
       "\n",
       "    .dataframe tbody tr th {\n",
       "        vertical-align: top;\n",
       "    }\n",
       "\n",
       "    .dataframe thead th {\n",
       "        text-align: right;\n",
       "    }\n",
       "</style>\n",
       "<table border=\"1\" class=\"dataframe\">\n",
       "  <thead>\n",
       "    <tr style=\"text-align: right;\">\n",
       "      <th></th>\n",
       "      <th>count</th>\n",
       "      <th>mean</th>\n",
       "      <th>std</th>\n",
       "      <th>min</th>\n",
       "      <th>25%</th>\n",
       "      <th>50%</th>\n",
       "      <th>75%</th>\n",
       "      <th>max</th>\n",
       "    </tr>\n",
       "    <tr>\n",
       "      <th>assigned_cluster</th>\n",
       "      <th></th>\n",
       "      <th></th>\n",
       "      <th></th>\n",
       "      <th></th>\n",
       "      <th></th>\n",
       "      <th></th>\n",
       "      <th></th>\n",
       "      <th></th>\n",
       "    </tr>\n",
       "  </thead>\n",
       "  <tbody>\n",
       "    <tr>\n",
       "      <th>0</th>\n",
       "      <td>90.0</td>\n",
       "      <td>19.570000</td>\n",
       "      <td>2.670498</td>\n",
       "      <td>15.0</td>\n",
       "      <td>18.0</td>\n",
       "      <td>19.0</td>\n",
       "      <td>20.95</td>\n",
       "      <td>28.8</td>\n",
       "    </tr>\n",
       "    <tr>\n",
       "      <th>1</th>\n",
       "      <td>200.0</td>\n",
       "      <td>29.370500</td>\n",
       "      <td>5.450027</td>\n",
       "      <td>19.0</td>\n",
       "      <td>25.0</td>\n",
       "      <td>29.0</td>\n",
       "      <td>33.00</td>\n",
       "      <td>46.6</td>\n",
       "    </tr>\n",
       "    <tr>\n",
       "      <th>2</th>\n",
       "      <td>86.0</td>\n",
       "      <td>14.877907</td>\n",
       "      <td>2.077634</td>\n",
       "      <td>11.0</td>\n",
       "      <td>13.0</td>\n",
       "      <td>15.0</td>\n",
       "      <td>16.00</td>\n",
       "      <td>20.2</td>\n",
       "    </tr>\n",
       "  </tbody>\n",
       "</table>\n",
       "</div>"
      ],
      "text/plain": [
       "                  count       mean       std   min   25%   50%    75%   max\n",
       "assigned_cluster                                                           \n",
       "0                  90.0  19.570000  2.670498  15.0  18.0  19.0  20.95  28.8\n",
       "1                 200.0  29.370500  5.450027  19.0  25.0  29.0  33.00  46.6\n",
       "2                  86.0  14.877907  2.077634  11.0  13.0  15.0  16.00  20.2"
      ]
     },
     "execution_count": 129,
     "metadata": {},
     "output_type": "execute_result"
    }
   ],
   "source": [
    "# Step 4: Assign the cluster labels to the DataFrame\n",
    "# Step 2: Analyze the MPG values within each cluster and their frequency\n",
    "cluster_summary = df.groupby('assigned_cluster')['mpg'].describe()\n",
    "cluster_summary"
   ]
  },
  {
   "cell_type": "code",
   "execution_count": 156,
   "id": "6489164a-b3ea-4087-962f-6961ff53f968",
   "metadata": {},
   "outputs": [
    {
     "name": "stdout",
     "output_type": "stream",
     "text": [
      "mpg_label\n",
      "High      191\n",
      "Low        87\n",
      "Medium     98\n",
      "dtype: int64\n"
     ]
    },
    {
     "data": {
      "text/html": [
       "<div>\n",
       "<style scoped>\n",
       "    .dataframe tbody tr th:only-of-type {\n",
       "        vertical-align: middle;\n",
       "    }\n",
       "\n",
       "    .dataframe tbody tr th {\n",
       "        vertical-align: top;\n",
       "    }\n",
       "\n",
       "    .dataframe thead th {\n",
       "        text-align: right;\n",
       "    }\n",
       "</style>\n",
       "<table border=\"1\" class=\"dataframe\">\n",
       "  <thead>\n",
       "    <tr style=\"text-align: right;\">\n",
       "      <th></th>\n",
       "      <th>mpg</th>\n",
       "      <th>cylinders</th>\n",
       "      <th>displayments</th>\n",
       "      <th>horsepower</th>\n",
       "      <th>weight</th>\n",
       "      <th>acceleration</th>\n",
       "      <th>model year</th>\n",
       "      <th>origin</th>\n",
       "      <th>car name</th>\n",
       "      <th>outlier</th>\n",
       "      <th>car brand</th>\n",
       "      <th>model</th>\n",
       "      <th>anomaly_score</th>\n",
       "      <th>multivariate_outlier</th>\n",
       "      <th>car_name_encoded</th>\n",
       "      <th>assigned_cluster</th>\n",
       "      <th>mpg_label</th>\n",
       "    </tr>\n",
       "  </thead>\n",
       "  <tbody>\n",
       "    <tr>\n",
       "      <th>0</th>\n",
       "      <td>18.0</td>\n",
       "      <td>8.0</td>\n",
       "      <td>307.0</td>\n",
       "      <td>130.0</td>\n",
       "      <td>3504.0</td>\n",
       "      <td>12.0</td>\n",
       "      <td>70.0</td>\n",
       "      <td>1</td>\n",
       "      <td>chevrolet chevelle malibu</td>\n",
       "      <td>Normal</td>\n",
       "      <td>chevrolet</td>\n",
       "      <td>chevelle malibu</td>\n",
       "      <td>1</td>\n",
       "      <td>Normal</td>\n",
       "      <td>5</td>\n",
       "      <td>2</td>\n",
       "      <td>High</td>\n",
       "    </tr>\n",
       "    <tr>\n",
       "      <th>1</th>\n",
       "      <td>15.0</td>\n",
       "      <td>8.0</td>\n",
       "      <td>350.0</td>\n",
       "      <td>165.0</td>\n",
       "      <td>3693.0</td>\n",
       "      <td>11.5</td>\n",
       "      <td>70.0</td>\n",
       "      <td>1</td>\n",
       "      <td>buick skylark 320</td>\n",
       "      <td>Normal</td>\n",
       "      <td>buick</td>\n",
       "      <td>skylark 320</td>\n",
       "      <td>1</td>\n",
       "      <td>Normal</td>\n",
       "      <td>3</td>\n",
       "      <td>2</td>\n",
       "      <td>Low</td>\n",
       "    </tr>\n",
       "    <tr>\n",
       "      <th>2</th>\n",
       "      <td>18.0</td>\n",
       "      <td>8.0</td>\n",
       "      <td>318.0</td>\n",
       "      <td>150.0</td>\n",
       "      <td>3436.0</td>\n",
       "      <td>11.0</td>\n",
       "      <td>70.0</td>\n",
       "      <td>1</td>\n",
       "      <td>plymouth satellite</td>\n",
       "      <td>Normal</td>\n",
       "      <td>plymouth</td>\n",
       "      <td>satellite</td>\n",
       "      <td>1</td>\n",
       "      <td>Normal</td>\n",
       "      <td>19</td>\n",
       "      <td>2</td>\n",
       "      <td>High</td>\n",
       "    </tr>\n",
       "    <tr>\n",
       "      <th>3</th>\n",
       "      <td>16.0</td>\n",
       "      <td>8.0</td>\n",
       "      <td>304.0</td>\n",
       "      <td>150.0</td>\n",
       "      <td>3433.0</td>\n",
       "      <td>12.0</td>\n",
       "      <td>70.0</td>\n",
       "      <td>1</td>\n",
       "      <td>amc rebel sst</td>\n",
       "      <td>Normal</td>\n",
       "      <td>amc</td>\n",
       "      <td>rebel sst</td>\n",
       "      <td>1</td>\n",
       "      <td>Normal</td>\n",
       "      <td>0</td>\n",
       "      <td>2</td>\n",
       "      <td>Low</td>\n",
       "    </tr>\n",
       "    <tr>\n",
       "      <th>4</th>\n",
       "      <td>17.0</td>\n",
       "      <td>8.0</td>\n",
       "      <td>302.0</td>\n",
       "      <td>140.0</td>\n",
       "      <td>3449.0</td>\n",
       "      <td>10.5</td>\n",
       "      <td>70.0</td>\n",
       "      <td>1</td>\n",
       "      <td>ford torino</td>\n",
       "      <td>Normal</td>\n",
       "      <td>ford</td>\n",
       "      <td>torino</td>\n",
       "      <td>1</td>\n",
       "      <td>Normal</td>\n",
       "      <td>10</td>\n",
       "      <td>2</td>\n",
       "      <td>Low</td>\n",
       "    </tr>\n",
       "    <tr>\n",
       "      <th>...</th>\n",
       "      <td>...</td>\n",
       "      <td>...</td>\n",
       "      <td>...</td>\n",
       "      <td>...</td>\n",
       "      <td>...</td>\n",
       "      <td>...</td>\n",
       "      <td>...</td>\n",
       "      <td>...</td>\n",
       "      <td>...</td>\n",
       "      <td>...</td>\n",
       "      <td>...</td>\n",
       "      <td>...</td>\n",
       "      <td>...</td>\n",
       "      <td>...</td>\n",
       "      <td>...</td>\n",
       "      <td>...</td>\n",
       "      <td>...</td>\n",
       "    </tr>\n",
       "    <tr>\n",
       "      <th>371</th>\n",
       "      <td>27.0</td>\n",
       "      <td>4.0</td>\n",
       "      <td>151.0</td>\n",
       "      <td>90.0</td>\n",
       "      <td>2950.0</td>\n",
       "      <td>17.3</td>\n",
       "      <td>82.0</td>\n",
       "      <td>1</td>\n",
       "      <td>chevrolet camaro</td>\n",
       "      <td>Normal</td>\n",
       "      <td>chevrolet</td>\n",
       "      <td>camaro</td>\n",
       "      <td>1</td>\n",
       "      <td>Normal</td>\n",
       "      <td>5</td>\n",
       "      <td>1</td>\n",
       "      <td>High</td>\n",
       "    </tr>\n",
       "    <tr>\n",
       "      <th>372</th>\n",
       "      <td>27.0</td>\n",
       "      <td>4.0</td>\n",
       "      <td>140.0</td>\n",
       "      <td>86.0</td>\n",
       "      <td>2790.0</td>\n",
       "      <td>15.6</td>\n",
       "      <td>82.0</td>\n",
       "      <td>1</td>\n",
       "      <td>ford mustang gl</td>\n",
       "      <td>Normal</td>\n",
       "      <td>ford</td>\n",
       "      <td>mustang gl</td>\n",
       "      <td>1</td>\n",
       "      <td>Normal</td>\n",
       "      <td>10</td>\n",
       "      <td>1</td>\n",
       "      <td>High</td>\n",
       "    </tr>\n",
       "    <tr>\n",
       "      <th>373</th>\n",
       "      <td>32.0</td>\n",
       "      <td>4.0</td>\n",
       "      <td>135.0</td>\n",
       "      <td>84.0</td>\n",
       "      <td>2295.0</td>\n",
       "      <td>11.6</td>\n",
       "      <td>82.0</td>\n",
       "      <td>1</td>\n",
       "      <td>dodge rampage</td>\n",
       "      <td>Normal</td>\n",
       "      <td>dodge</td>\n",
       "      <td>rampage</td>\n",
       "      <td>1</td>\n",
       "      <td>Normal</td>\n",
       "      <td>8</td>\n",
       "      <td>1</td>\n",
       "      <td>High</td>\n",
       "    </tr>\n",
       "    <tr>\n",
       "      <th>374</th>\n",
       "      <td>28.0</td>\n",
       "      <td>4.0</td>\n",
       "      <td>120.0</td>\n",
       "      <td>79.0</td>\n",
       "      <td>2625.0</td>\n",
       "      <td>18.6</td>\n",
       "      <td>82.0</td>\n",
       "      <td>1</td>\n",
       "      <td>ford ranger</td>\n",
       "      <td>Normal</td>\n",
       "      <td>ford</td>\n",
       "      <td>ranger</td>\n",
       "      <td>1</td>\n",
       "      <td>Normal</td>\n",
       "      <td>10</td>\n",
       "      <td>1</td>\n",
       "      <td>High</td>\n",
       "    </tr>\n",
       "    <tr>\n",
       "      <th>375</th>\n",
       "      <td>31.0</td>\n",
       "      <td>4.0</td>\n",
       "      <td>119.0</td>\n",
       "      <td>82.0</td>\n",
       "      <td>2720.0</td>\n",
       "      <td>19.4</td>\n",
       "      <td>82.0</td>\n",
       "      <td>1</td>\n",
       "      <td>chevy s-10</td>\n",
       "      <td>Normal</td>\n",
       "      <td>chevrolet</td>\n",
       "      <td>s-10</td>\n",
       "      <td>1</td>\n",
       "      <td>Normal</td>\n",
       "      <td>5</td>\n",
       "      <td>1</td>\n",
       "      <td>High</td>\n",
       "    </tr>\n",
       "  </tbody>\n",
       "</table>\n",
       "<p>376 rows × 17 columns</p>\n",
       "</div>"
      ],
      "text/plain": [
       "      mpg  cylinders  displayments  horsepower  weight  acceleration  \\\n",
       "0    18.0        8.0         307.0       130.0  3504.0          12.0   \n",
       "1    15.0        8.0         350.0       165.0  3693.0          11.5   \n",
       "2    18.0        8.0         318.0       150.0  3436.0          11.0   \n",
       "3    16.0        8.0         304.0       150.0  3433.0          12.0   \n",
       "4    17.0        8.0         302.0       140.0  3449.0          10.5   \n",
       "..    ...        ...           ...         ...     ...           ...   \n",
       "371  27.0        4.0         151.0        90.0  2950.0          17.3   \n",
       "372  27.0        4.0         140.0        86.0  2790.0          15.6   \n",
       "373  32.0        4.0         135.0        84.0  2295.0          11.6   \n",
       "374  28.0        4.0         120.0        79.0  2625.0          18.6   \n",
       "375  31.0        4.0         119.0        82.0  2720.0          19.4   \n",
       "\n",
       "     model year  origin                   car name outlier  car brand  \\\n",
       "0          70.0       1  chevrolet chevelle malibu  Normal  chevrolet   \n",
       "1          70.0       1          buick skylark 320  Normal      buick   \n",
       "2          70.0       1         plymouth satellite  Normal   plymouth   \n",
       "3          70.0       1              amc rebel sst  Normal        amc   \n",
       "4          70.0       1                ford torino  Normal       ford   \n",
       "..          ...     ...                        ...     ...        ...   \n",
       "371        82.0       1           chevrolet camaro  Normal  chevrolet   \n",
       "372        82.0       1            ford mustang gl  Normal       ford   \n",
       "373        82.0       1              dodge rampage  Normal      dodge   \n",
       "374        82.0       1                ford ranger  Normal       ford   \n",
       "375        82.0       1                 chevy s-10  Normal  chevrolet   \n",
       "\n",
       "               model  anomaly_score multivariate_outlier  car_name_encoded  \\\n",
       "0    chevelle malibu              1               Normal                 5   \n",
       "1        skylark 320              1               Normal                 3   \n",
       "2          satellite              1               Normal                19   \n",
       "3          rebel sst              1               Normal                 0   \n",
       "4             torino              1               Normal                10   \n",
       "..               ...            ...                  ...               ...   \n",
       "371           camaro              1               Normal                 5   \n",
       "372       mustang gl              1               Normal                10   \n",
       "373          rampage              1               Normal                 8   \n",
       "374           ranger              1               Normal                10   \n",
       "375             s-10              1               Normal                 5   \n",
       "\n",
       "     assigned_cluster mpg_label  \n",
       "0                   2      High  \n",
       "1                   2       Low  \n",
       "2                   2      High  \n",
       "3                   2       Low  \n",
       "4                   2       Low  \n",
       "..                ...       ...  \n",
       "371                 1      High  \n",
       "372                 1      High  \n",
       "373                 1      High  \n",
       "374                 1      High  \n",
       "375                 1      High  \n",
       "\n",
       "[376 rows x 17 columns]"
      ]
     },
     "execution_count": 156,
     "metadata": {},
     "output_type": "execute_result"
    }
   ],
   "source": [
    "import pandas as pd\n",
    "\n",
    "# Assuming 'df' is your dataframe and it has the 'mpg' and 'pca_kmeans_clusters' columns\n",
    "\n",
    "# Step 1: Define a function to assign labels based on the new ranges\n",
    "def assign_mpg_label(mpg):\n",
    "    if 11.0 <= mpg <= 18.0:  # Low range\n",
    "        return 'Low'\n",
    "    elif 18.0 < mpg <= 24:  # Medium range\n",
    "        return 'Medium'\n",
    "    else :                   # High range\n",
    "        return 'High'\n",
    "  \n",
    "\n",
    "# Step 2: Apply the label function to assign 'Low', 'Medium', or 'High'\n",
    "df['mpg_label'] = df['mpg'].apply(assign_mpg_label)\n",
    "\n",
    "instances_per_cluster = df.groupby('mpg_label').size()\n",
    "\n",
    "print(instances_per_cluster)\n",
    "\n",
    "# Step 3: Verify the assignment\n",
    "df"
   ]
  },
  {
   "cell_type": "code",
   "execution_count": 160,
   "id": "9463ff36-5897-48ed-a6c7-8a4f2983fd4f",
   "metadata": {},
   "outputs": [
    {
     "data": {
      "image/png": "[encoded data removed]",
      "text/plain": [
       "<Figure size 800x600 with 1 Axes>"
      ]
     },
     "metadata": {},
     "output_type": "display_data"
    }
   ],
   "source": [
    "import matplotlib.pyplot as plt\n",
    "\n",
    "# Assuming 'df' is your dataframe and it contains 'mpg' and 'pca_kmeans_clusters' columns\n",
    "\n",
    "# Scatter plot of mpg values for each cluster\n",
    "plt.figure(figsize=(8, 6))\n",
    "sns.scatterplot(data=df, x='assigned_cluster', y='mpg', hue='assigned_cluster', palette='viridis')\n",
    "\n",
    "\n",
    "# Step 2: Add the range values for Low, Medium, and High categories\n",
    "plt.axhline(y=18, color='r', linestyle='--', label='Low to Medium Range (11.0 to 18.0 MPG)')\n",
    "plt.axhline(y=24, color='g', linestyle='--', label='Medium to High Range (18.0 to 24.0 MPG)')\n",
    "plt.axhline(y=46.6, color='b', linestyle='--', label='High Range (24 to 46.6 MPG)')\n",
    "\n",
    "# Step 3: Labeling and Titles\n",
    "plt.title('Scatter Plot of MPG Values per Cluster with Range Annotations')\n",
    "plt.xlabel('Index of Data Points')\n",
    "plt.ylabel('MPG')\n",
    "plt.legend()\n",
    "\n",
    "# Step 4: Show the plot\n",
    "plt.show()\n"
   ]
  },
  {
   "cell_type": "markdown",
   "id": "76ab9c3b-ef49-44b7-95c9-b783e2324ef5",
   "metadata": {},
   "source": [
    "\n",
    "df.drop(columns=['assigned_cluster'], inplace=True)"
   ]
  }
 ],
 "metadata": {
  "kernelspec": {
   "display_name": "Python [conda env:base] *",
   "language": "python",
   "name": "conda-base-py"
  },
  "language_info": {
   "codemirror_mode": {
    "name": "ipython",
    "version": 3
   },
   "file_extension": ".py",
   "mimetype": "text/x-python",
   "name": "python",
   "nbconvert_exporter": "python",
   "pygments_lexer": "ipython3",
   "version": "3.12.7"
  }
 },
 "nbformat": 4,
 "nbformat_minor": 5
}
